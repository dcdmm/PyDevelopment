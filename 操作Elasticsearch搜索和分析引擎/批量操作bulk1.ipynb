{
 "cells": [
  {
   "cell_type": "code",
   "execution_count": 16,
   "metadata": {
    "collapsed": true
   },
   "outputs": [],
   "source": [
    "from elasticsearch import helpers\n",
    "from elasticsearch import Elasticsearch"
   ]
  },
  {
   "cell_type": "code",
   "execution_count": 17,
   "outputs": [
    {
     "data": {
      "text/plain": "(5, [])"
     },
     "execution_count": 17,
     "metadata": {},
     "output_type": "execute_result"
    }
   ],
   "source": [
    "es = Elasticsearch([{'host': 'localhost', 'port': 9200}])\n",
    "es.indices.create('test')\n",
    "\n",
    "\n",
    "'''\n",
    "POST _bulk\n",
    "{ \"index\" : { \"_index\" : \"test\", \"_id\" : \"1\" } }\n",
    "{ \"field1\" : \"value1\" }\n",
    "{ \"index\" : { \"_index\" : \"test\", \"_id\" : \"2\" } }\n",
    "{ \"field2\" : \"value2\" }\n",
    "{ \"delete\" : { \"_index\" : \"test\", \"_id\" : \"2\" } }\n",
    "{ \"create\" : { \"_index\" : \"test\", \"_id\" : \"3\" } }\n",
    "{ \"field3\" : \"value3\" }\n",
    "{ \"update\" : {\"_index\" : \"test\", \"_id\" : \"1\"} }\n",
    "{ \"doc\" : {\"field11\" : \"value11\"} }\n",
    "'''\n",
    "def gendata():\n",
    "    mywords = [{\"_op_type\": \"index\", \"_index\": \"test\", \"_id\": \"1\", \"_source\": { \"field1\" : \"value1\" }},\n",
    "               {\"_op_type\": \"index\", \"_index\": \"test\", \"_id\": \"2\", \"_source\": { \"field2\" : \"value2\" }},\n",
    "               {\"_op_type\": \"delete\", \"_index\": \"test\", \"_id\": \"2\"},\n",
    "               {\"_op_type\": \"create\", \"_index\": \"test\", \"_id\": \"3\", \"_source\": { \"field3\" : \"value3\" }},\n",
    "               {\"_op_type\": \"update\", \"_index\": \"test\", \"_id\": \"1\", \"_source\": { \"doc\" : {\"field11\" : \"value11\"} }}\n",
    "               ]\n",
    "    for word in mywords:\n",
    "        yield word\n",
    "\n",
    "helpers.bulk(es, gendata())"
   ],
   "metadata": {
    "collapsed": false,
    "pycharm": {
     "name": "#%%\n"
    }
   }
  },
  {
   "cell_type": "code",
   "execution_count": 18,
   "outputs": [
    {
     "data": {
      "text/plain": "{'acknowledged': True}"
     },
     "execution_count": 18,
     "metadata": {},
     "output_type": "execute_result"
    }
   ],
   "source": [
    "es.indices.delete('test')"
   ],
   "metadata": {
    "collapsed": false,
    "pycharm": {
     "name": "#%%\n"
    }
   }
  }
 ],
 "metadata": {
  "kernelspec": {
   "display_name": "Python 3",
   "language": "python",
   "name": "python3"
  },
  "language_info": {
   "codemirror_mode": {
    "name": "ipython",
    "version": 2
   },
   "file_extension": ".py",
   "mimetype": "text/x-python",
   "name": "python",
   "nbconvert_exporter": "python",
   "pygments_lexer": "ipython2",
   "version": "2.7.6"
  }
 },
 "nbformat": 4,
 "nbformat_minor": 0
}