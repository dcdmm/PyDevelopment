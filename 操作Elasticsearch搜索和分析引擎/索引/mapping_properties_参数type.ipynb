{
 "cells": [
  {
   "cell_type": "code",
   "execution_count": null,
   "metadata": {
    "collapsed": true
   },
   "outputs": [],
   "source": [
    "'''\n",
    "text:https://www.elastic.co/guide/en/elasticsearch/reference/7.11/text.html\n",
    "keyword:https://www.elastic.co/guide/en/elasticsearch/reference/7.11/keyword.html\n",
    "\n",
    "number:https://www.elastic.co/guide/en/elasticsearch/reference/7.11/number.html\n",
    "\n",
    "boolean:https://www.elastic.co/guide/en/elasticsearch/reference/7.11/boolean.html\n",
    "\n",
    "date:https://www.elastic.co/guide/en/elasticsearch/reference/7.11/date.html\n",
    "\n",
    "array:https://www.elastic.co/guide/en/elasticsearch/reference/7.11/array.html\n",
    "\n",
    "object:https://www.elastic.co/guide/en/elasticsearch/reference/7.11/object.html\n",
    "nested:https://www.elastic.co/guide/en/elasticsearch/reference/7.11/nested.html\n",
    "\n",
    "join:https://www.elastic.co/guide/en/elasticsearch/reference/7.11/parent-join.html\n",
    "\n",
    "range:https://www.elastic.co/guide/en/elasticsearch/reference/7.11/range.html\n",
    "\n",
    "ip:https://www.elastic.co/guide/en/elasticsearch/reference/7.11/ip.html\n",
    "\n",
    "token-count:https://www.elastic.co/guide/en/elasticsearch/reference/7.11/token-count.html\n",
    "'''"
   ]
  },
  {
   "cell_type": "code",
   "execution_count": 4,
   "outputs": [],
   "source": [
    "from elasticsearch import Elasticsearch"
   ],
   "metadata": {
    "collapsed": false,
    "pycharm": {
     "name": "#%%\n"
    }
   }
  },
  {
   "cell_type": "code",
   "execution_count": 5,
   "outputs": [],
   "source": [
    "es = Elasticsearch([{'host': 'localhost', 'port': 9200}])"
   ],
   "metadata": {
    "collapsed": false,
    "pycharm": {
     "name": "#%%\n"
    }
   }
  },
  {
   "cell_type": "code",
   "execution_count": 6,
   "outputs": [
    {
     "data": {
      "text/plain": "{'acknowledged': True, 'shards_acknowledged': True, 'index': 'es0'}"
     },
     "execution_count": 6,
     "metadata": {},
     "output_type": "execute_result"
    }
   ],
   "source": [
    "body = {\n",
    "    \"mappings\": {\n",
    "        \"properties\": {\n",
    "            \"name\": {\n",
    "                \"type\": \"keyword\"\n",
    "            },\n",
    "            \"information\": {\n",
    "                \"type\": \"text\"\n",
    "            },\n",
    "            \"age\": {\n",
    "                \"type\": \"long\"\n",
    "            },\n",
    "            \"date\": {\n",
    "                \"type\": \"date\"\n",
    "            },\n",
    "            \"play\": {\n",
    "                \"type\": \"boolean\"\n",
    "            },\n",
    "            \"manager\": {\n",
    "                \"type\": \"object\"\n",
    "            },\n",
    "            # If you need to index arrays of objects and to maintain the independence of each object in the array, use the nested data type instead of the object data type.\n",
    "            \"user\": {\n",
    "                \"type\": \"nested\"\n",
    "            }\n",
    "        }\n",
    "    }\n",
    "}\n",
    "'''\n",
    "PUT es0\n",
    "`body`\n",
    "'''\n",
    "es.indices.create(index='es0', body=body)"
   ],
   "metadata": {
    "collapsed": false,
    "pycharm": {
     "name": "#%%\n"
    }
   }
  },
  {
   "cell_type": "code",
   "execution_count": 7,
   "outputs": [
    {
     "data": {
      "text/plain": "{'es0': {'aliases': {},\n  'mappings': {'properties': {'age': {'type': 'long'},\n    'date': {'type': 'date'},\n    'information': {'type': 'text'},\n    'manager': {'type': 'object'},\n    'name': {'type': 'keyword'},\n    'play': {'type': 'boolean'},\n    'user': {'type': 'nested'}}},\n  'settings': {'index': {'routing': {'allocation': {'include': {'_tier_preference': 'data_content'}}},\n    'number_of_shards': '1',\n    'provided_name': 'es0',\n    'creation_date': '1675735126490',\n    'number_of_replicas': '1',\n    'uuid': 'Oo0BjrByRQCD3oW_lOB4Ng',\n    'version': {'created': '7110299'}}}}}"
     },
     "execution_count": 7,
     "metadata": {},
     "output_type": "execute_result"
    }
   ],
   "source": [
    "es.indices.get('es0')"
   ],
   "metadata": {
    "collapsed": false,
    "pycharm": {
     "name": "#%%\n"
    }
   }
  },
  {
   "cell_type": "code",
   "execution_count": 8,
   "outputs": [
    {
     "data": {
      "text/plain": "{'_index': 'es0',\n '_type': '_doc',\n '_id': '0',\n '_version': 1,\n 'result': 'created',\n '_shards': {'total': 2, 'successful': 1, 'failed': 0},\n '_seq_no': 0,\n '_primary_term': 1}"
     },
     "execution_count": 8,
     "metadata": {},
     "output_type": "execute_result"
    }
   ],
   "source": [
    "es.index(index='es0', id=0, body={\n",
    "    \"name\": \"dcdmm\",\n",
    "    \"information\": \"love your life\",\n",
    "    \"age\": 12,\n",
    "    \"date\": \"2015-01-01\",\n",
    "    \"play\": True,\n",
    "    \"love\": [\"football\", \"game\", \"swim\", \"run\"],\n",
    "    \"score\": [1, 2, 3, 1],\n",
    "    \"manager\": {\n",
    "        \"age\": 30,\n",
    "        \"name\": {\n",
    "            \"first\": \"John\",\n",
    "            \"last\": \"Smith\"\n",
    "        }\n",
    "    },\n",
    "    \"user\": [\n",
    "        {\n",
    "            \"first\": \"John\",\n",
    "            \"last\": \"Smith\"\n",
    "        },\n",
    "        {\n",
    "            \"first\": \"Alice\",\n",
    "            \"last\": \"White\"\n",
    "        }\n",
    "    ]\n",
    "})"
   ],
   "metadata": {
    "collapsed": false,
    "pycharm": {
     "name": "#%%\n"
    }
   }
  },
  {
   "cell_type": "code",
   "execution_count": 9,
   "outputs": [
    {
     "data": {
      "text/plain": "{'es0': {'aliases': {},\n  'mappings': {'properties': {'age': {'type': 'long'},\n    'date': {'type': 'date'},\n    'information': {'type': 'text'},\n    'love': {'type': 'text',\n     'fields': {'keyword': {'type': 'keyword', 'ignore_above': 256}}},\n    'manager': {'properties': {'age': {'type': 'long'},\n      'name': {'properties': {'first': {'type': 'text',\n         'fields': {'keyword': {'type': 'keyword', 'ignore_above': 256}}},\n        'last': {'type': 'text',\n         'fields': {'keyword': {'type': 'keyword', 'ignore_above': 256}}}}}}},\n    'name': {'type': 'keyword'},\n    'play': {'type': 'boolean'},\n    'score': {'type': 'long'},\n    'user': {'type': 'nested',\n     'properties': {'first': {'type': 'text',\n       'fields': {'keyword': {'type': 'keyword', 'ignore_above': 256}}},\n      'last': {'type': 'text',\n       'fields': {'keyword': {'type': 'keyword', 'ignore_above': 256}}}}}}},\n  'settings': {'index': {'routing': {'allocation': {'include': {'_tier_preference': 'data_content'}}},\n    'number_of_shards': '1',\n    'provided_name': 'es0',\n    'creation_date': '1675735126490',\n    'number_of_replicas': '1',\n    'uuid': 'Oo0BjrByRQCD3oW_lOB4Ng',\n    'version': {'created': '7110299'}}}}}"
     },
     "execution_count": 9,
     "metadata": {},
     "output_type": "execute_result"
    }
   ],
   "source": [
    "es.indices.get('es0')"
   ],
   "metadata": {
    "collapsed": false,
    "pycharm": {
     "name": "#%%\n"
    }
   }
  },
  {
   "cell_type": "code",
   "execution_count": 10,
   "outputs": [
    {
     "data": {
      "text/plain": "{'_index': 'es0',\n '_type': '_doc',\n '_id': '0',\n '_version': 1,\n '_seq_no': 0,\n '_primary_term': 1,\n 'found': True,\n '_source': {'name': 'dcdmm',\n  'information': 'love your life',\n  'age': 12,\n  'date': '2015-01-01',\n  'play': True,\n  'love': ['football', 'game', 'swim', 'run'],\n  'score': [1, 2, 3, 1],\n  'manager': {'age': 30, 'name': {'first': 'John', 'last': 'Smith'}},\n  'user': [{'first': 'John', 'last': 'Smith'},\n   {'first': 'Alice', 'last': 'White'}]}}"
     },
     "execution_count": 10,
     "metadata": {},
     "output_type": "execute_result"
    }
   ],
   "source": [
    "es.get('es0', id=0)"
   ],
   "metadata": {
    "collapsed": false,
    "pycharm": {
     "name": "#%%\n"
    }
   }
  },
  {
   "cell_type": "code",
   "execution_count": 11,
   "outputs": [
    {
     "data": {
      "text/plain": "{'acknowledged': True}"
     },
     "execution_count": 11,
     "metadata": {},
     "output_type": "execute_result"
    }
   ],
   "source": [
    "es.indices.delete('es0')"
   ],
   "metadata": {
    "collapsed": false,
    "pycharm": {
     "name": "#%%\n"
    }
   }
  },
  {
   "cell_type": "code",
   "execution_count": null,
   "outputs": [],
   "source": [],
   "metadata": {
    "collapsed": false,
    "pycharm": {
     "name": "#%%\n"
    }
   }
  }
 ],
 "metadata": {
  "kernelspec": {
   "display_name": "Python 3",
   "language": "python",
   "name": "python3"
  },
  "language_info": {
   "codemirror_mode": {
    "name": "ipython",
    "version": 2
   },
   "file_extension": ".py",
   "mimetype": "text/x-python",
   "name": "python",
   "nbconvert_exporter": "python",
   "pygments_lexer": "ipython2",
   "version": "2.7.6"
  }
 },
 "nbformat": 4,
 "nbformat_minor": 0
}