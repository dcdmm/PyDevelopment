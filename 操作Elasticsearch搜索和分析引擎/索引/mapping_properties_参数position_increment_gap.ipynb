{
 "cells": [
  {
   "cell_type": "code",
   "execution_count": 11,
   "metadata": {
    "collapsed": true
   },
   "outputs": [],
   "source": [
    "from elasticsearch import Elasticsearch"
   ]
  },
  {
   "cell_type": "code",
   "execution_count": 12,
   "outputs": [],
   "source": [
    "es = Elasticsearch([{'host': 'localhost', 'port': 9200}])"
   ],
   "metadata": {
    "collapsed": false,
    "pycharm": {
     "name": "#%%\n"
    }
   }
  },
  {
   "cell_type": "code",
   "execution_count": 13,
   "outputs": [
    {
     "data": {
      "text/plain": "{'acknowledged': True, 'shards_acknowledged': True, 'index': 'es0'}"
     },
     "execution_count": 13,
     "metadata": {},
     "output_type": "execute_result"
    }
   ],
   "source": [
    "if es.indices.exists('es0'):\n",
    "    es.indices.delete('es0')\n",
    "es.indices.create('es0')"
   ],
   "metadata": {
    "collapsed": false,
    "pycharm": {
     "name": "#%%\n"
    }
   }
  },
  {
   "cell_type": "code",
   "execution_count": 14,
   "outputs": [
    {
     "data": {
      "text/plain": "{'_index': 'es0',\n '_type': '_doc',\n '_id': '0',\n '_version': 1,\n 'result': 'created',\n '_shards': {'total': 2, 'successful': 1, 'failed': 0},\n '_seq_no': 0,\n '_primary_term': 1}"
     },
     "execution_count": 14,
     "metadata": {},
     "output_type": "execute_result"
    }
   ],
   "source": [
    "'''\n",
    "Analyzed text fields take term positions into account, in order to be able to support proximity or phrase queries.\n",
    "When indexing text fields with multiple values a \"fake\" gap is added between the values to prevent most phrase queries from matching across the values.\n",
    "The size of this gap is configured using position_increment_gap and defaults to 100.\n",
    "'''\n",
    "es.index(index='es0', id=0, body={\n",
    "    \"names\": [\"John Abraham\", \"Lincoln Smith\"]\n",
    "})"
   ],
   "metadata": {
    "collapsed": false,
    "pycharm": {
     "name": "#%%\n"
    }
   }
  },
  {
   "cell_type": "code",
   "execution_count": 15,
   "outputs": [
    {
     "data": {
      "text/plain": "{'took': 2,\n 'timed_out': False,\n '_shards': {'total': 1, 'successful': 1, 'skipped': 0, 'failed': 0},\n 'hits': {'total': {'value': 0, 'relation': 'eq'},\n  'max_score': None,\n  'hits': []}}"
     },
     "execution_count": 15,
     "metadata": {},
     "output_type": "execute_result"
    }
   ],
   "source": [
    "# Abraham Lincoln不在查询中\n",
    "es.search(body={\n",
    "    \"query\": {\n",
    "        \"match_phrase\": {\n",
    "            \"names\": {\n",
    "                \"query\": \"Abraham Lincoln\"\n",
    "            }\n",
    "        }\n",
    "    }\n",
    "}, index='es0')"
   ],
   "metadata": {
    "collapsed": false,
    "pycharm": {
     "name": "#%%\n"
    }
   }
  },
  {
   "cell_type": "code",
   "execution_count": 16,
   "outputs": [
    {
     "data": {
      "text/plain": "{'took': 3,\n 'timed_out': False,\n '_shards': {'total': 1, 'successful': 1, 'skipped': 0, 'failed': 0},\n 'hits': {'total': {'value': 1, 'relation': 'eq'},\n  'max_score': 0.010358453,\n  'hits': [{'_index': 'es0',\n    '_type': '_doc',\n    '_id': '0',\n    '_score': 0.010358453,\n    '_source': {'names': ['John Abraham', 'Lincoln Smith']}}]}}"
     },
     "execution_count": 16,
     "metadata": {},
     "output_type": "execute_result"
    }
   ],
   "source": [
    "# This phrase query matches our document, even though Abraham and Lincoln are in separate strings, because slop > position_increment_gap.\n",
    "es.search(body={\n",
    "    \"query\": {\n",
    "        \"match_phrase\": {\n",
    "            \"names\": {\n",
    "                \"query\": \"Abraham Lincoln\",\n",
    "                \"slop\": 101\n",
    "            }\n",
    "        }\n",
    "    }\n",
    "}, index='es0')"
   ],
   "metadata": {
    "collapsed": false,
    "pycharm": {
     "name": "#%%\n"
    }
   }
  },
  {
   "cell_type": "code",
   "execution_count": 17,
   "outputs": [
    {
     "data": {
      "text/plain": "{'acknowledged': True, 'shards_acknowledged': True, 'index': 'es1'}"
     },
     "execution_count": 17,
     "metadata": {},
     "output_type": "execute_result"
    }
   ],
   "source": [
    "if es.indices.exists('es1'):\n",
    "    es.indices.delete('es1')\n",
    "es.indices.create('es1', body={\n",
    "    \"mappings\": {\n",
    "        \"properties\": {\n",
    "            \"names\": {\n",
    "                \"type\": \"text\",\n",
    "                \"position_increment_gap\": 0\n",
    "            }\n",
    "        }\n",
    "    }\n",
    "})"
   ],
   "metadata": {
    "collapsed": false,
    "pycharm": {
     "name": "#%%\n"
    }
   }
  },
  {
   "cell_type": "code",
   "execution_count": 19,
   "outputs": [
    {
     "data": {
      "text/plain": "{'took': 1,\n 'timed_out': False,\n '_shards': {'total': 1, 'successful': 1, 'skipped': 0, 'failed': 0},\n 'hits': {'total': {'value': 1, 'relation': 'eq'},\n  'max_score': 0.5753642,\n  'hits': [{'_index': 'es1',\n    '_type': '_doc',\n    '_id': '0',\n    '_score': 0.5753642,\n    '_source': {'names': ['John Abraham', 'Lincoln Smith']}}]}}"
     },
     "execution_count": 19,
     "metadata": {},
     "output_type": "execute_result"
    }
   ],
   "source": [
    "# The first term in the next array element will be 0 terms apart from the last term in the previous array element.\n",
    "es.index(index='es1', id=0, body={\n",
    "    \"names\": [\"John Abraham\", \"Lincoln Smith\"]\n",
    "})\n",
    "\n",
    "# The phrase query matches our document which is weird, but its what we asked for in the mapping.\n",
    "es.search(body={\n",
    "    \"query\": {\n",
    "        \"match_phrase\": {\n",
    "            \"names\": {\n",
    "                \"query\": \"Abraham Lincoln\"\n",
    "            }\n",
    "        }\n",
    "    }\n",
    "}, index='es1')"
   ],
   "metadata": {
    "collapsed": false,
    "pycharm": {
     "name": "#%%\n"
    }
   }
  },
  {
   "cell_type": "code",
   "execution_count": null,
   "outputs": [],
   "source": [],
   "metadata": {
    "collapsed": false,
    "pycharm": {
     "name": "#%%\n"
    }
   }
  }
 ],
 "metadata": {
  "kernelspec": {
   "display_name": "Python 3",
   "language": "python",
   "name": "python3"
  },
  "language_info": {
   "codemirror_mode": {
    "name": "ipython",
    "version": 2
   },
   "file_extension": ".py",
   "mimetype": "text/x-python",
   "name": "python",
   "nbconvert_exporter": "python",
   "pygments_lexer": "ipython2",
   "version": "2.7.6"
  }
 },
 "nbformat": 4,
 "nbformat_minor": 0
}