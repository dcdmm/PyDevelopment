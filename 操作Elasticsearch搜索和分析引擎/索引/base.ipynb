{
 "cells": [
  {
   "cell_type": "code",
   "execution_count": 17,
   "metadata": {
    "collapsed": true
   },
   "outputs": [],
   "source": [
    "from elasticsearch import Elasticsearch"
   ]
  },
  {
   "cell_type": "code",
   "execution_count": 18,
   "outputs": [],
   "source": [
    "es = Elasticsearch([{'host': 'localhost', 'port': 9200}])"
   ],
   "metadata": {
    "collapsed": false,
    "pycharm": {
     "name": "#%%\n"
    }
   }
  },
  {
   "cell_type": "code",
   "execution_count": 19,
   "outputs": [
    {
     "data": {
      "text/plain": "{'acknowledged': True, 'shards_acknowledged': True, 'index': 'es0'}"
     },
     "execution_count": 19,
     "metadata": {},
     "output_type": "execute_result"
    }
   ],
   "source": [
    "# Creates an index with optional settings and mappings.\n",
    "'''\n",
    "# 索引名必须为小写\n",
    "PUT es0\n",
    "'''\n",
    "es.indices.create('es0')"
   ],
   "metadata": {
    "collapsed": false,
    "pycharm": {
     "name": "#%%\n"
    }
   }
  },
  {
   "cell_type": "code",
   "execution_count": 20,
   "outputs": [
    {
     "data": {
      "text/plain": "{'es0': {'aliases': {},\n  'mappings': {},\n  'settings': {'index': {'routing': {'allocation': {'include': {'_tier_preference': 'data_content'}}},\n    'number_of_shards': '1',\n    'provided_name': 'es0',\n    'creation_date': '1678760984121',\n    'number_of_replicas': '1',\n    'uuid': 'iBvf0_FVTAinfAXVxq3A0g',\n    'version': {'created': '7110299'}}}}}"
     },
     "execution_count": 20,
     "metadata": {},
     "output_type": "execute_result"
    }
   ],
   "source": [
    "# Returns information about one or more indices.\n",
    "'''\n",
    "GET es0\n",
    "'''\n",
    "es.indices.get('es0')"
   ],
   "metadata": {
    "collapsed": false,
    "pycharm": {
     "name": "#%%\n"
    }
   }
  },
  {
   "cell_type": "code",
   "execution_count": 21,
   "outputs": [
    {
     "data": {
      "text/plain": "True"
     },
     "execution_count": 21,
     "metadata": {},
     "output_type": "execute_result"
    }
   ],
   "source": [
    "# Returns information about whether a particular index exists.\n",
    "'''\n",
    "HEAD es0\n",
    "'''\n",
    "es.indices.exists('es0')"
   ],
   "metadata": {
    "collapsed": false,
    "pycharm": {
     "name": "#%%\n"
    }
   }
  },
  {
   "cell_type": "code",
   "execution_count": 22,
   "outputs": [
    {
     "name": "stdout",
     "output_type": "stream",
     "text": [
      "yellow open es0                             iBvf0_FVTAinfAXVxq3A0g 1 1  0   0    208b    208b\n",
      "green  open .apm-custom-link                OU_WnrQDRnyz489YhGIWOw 1 0  0   0    208b    208b\n",
      "green  open .kibana-event-log-7.11.2-000001 BF4u1pIyQqGFpJOyFwkLPA 1 0  1   0   5.6kb   5.6kb\n",
      "green  open .kibana_task_manager_1          JQbY1XblTqaiGDZRdlQ7GQ 1 0  8 165 124.6kb 124.6kb\n",
      "green  open .apm-agent-configuration        DbBwXqCPRLa8VeScjPC_6g 1 0  0   0    208b    208b\n",
      "green  open .kibana_1                       f6K2EATnRYWCSZ0JkH1rmw 1 0 22  13   4.2mb   4.2mb\n",
      "\n"
     ]
    }
   ],
   "source": [
    "# Returns information about indices: number of primaries and replicas, document counts, disk size, ...\n",
    "'''\n",
    "GET _cat/indices\n",
    "'''\n",
    "print(es.cat.indices())"
   ],
   "metadata": {
    "collapsed": false,
    "pycharm": {
     "name": "#%%\n"
    }
   }
  },
  {
   "cell_type": "code",
   "execution_count": 23,
   "outputs": [
    {
     "data": {
      "text/plain": "{'acknowledged': True}"
     },
     "execution_count": 23,
     "metadata": {},
     "output_type": "execute_result"
    }
   ],
   "source": [
    "# Deletes an index.\n",
    "'''\n",
    "DELETE es0\n",
    "'''\n",
    "es.indices.delete('es0')"
   ],
   "metadata": {
    "collapsed": false,
    "pycharm": {
     "name": "#%%\n"
    }
   }
  },
  {
   "cell_type": "code",
   "execution_count": 23,
   "outputs": [],
   "source": [],
   "metadata": {
    "collapsed": false,
    "pycharm": {
     "name": "#%%\n"
    }
   }
  }
 ],
 "metadata": {
  "kernelspec": {
   "display_name": "Python 3",
   "language": "python",
   "name": "python3"
  },
  "language_info": {
   "codemirror_mode": {
    "name": "ipython",
    "version": 2
   },
   "file_extension": ".py",
   "mimetype": "text/x-python",
   "name": "python",
   "nbconvert_exporter": "python",
   "pygments_lexer": "ipython2",
   "version": "2.7.6"
  }
 },
 "nbformat": 4,
 "nbformat_minor": 0
}