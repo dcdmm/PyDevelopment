{
 "cells": [
  {
   "cell_type": "code",
   "execution_count": 24,
   "metadata": {
    "collapsed": true
   },
   "outputs": [],
   "source": [
    "from elasticsearch import Elasticsearch"
   ]
  },
  {
   "cell_type": "code",
   "execution_count": 25,
   "outputs": [
    {
     "data": {
      "text/plain": "{'acknowledged': True, 'shards_acknowledged': True, 'index': 'es0'}"
     },
     "execution_count": 25,
     "metadata": {},
     "output_type": "execute_result"
    }
   ],
   "source": [
    "es = Elasticsearch([{'host': 'localhost', 'port': 9200}])\n",
    "# To use the nested query, your index must include a nested field mapping. For example:\n",
    "body = {\n",
    "    \"mappings\": {\n",
    "        \"properties\": {\n",
    "            \"driver\": {\n",
    "                \"type\": \"nested\",\n",
    "                \"properties\": {\n",
    "                    \"last_name\": {\n",
    "                        \"type\": \"text\"\n",
    "                    },\n",
    "                    \"vehicle\": {\n",
    "                        \"type\": \"nested\",\n",
    "                        \"properties\": {\n",
    "                            \"make\": {\n",
    "                                \"type\": \"text\"\n",
    "                            },\n",
    "                            \"model\": {\n",
    "                                \"type\": \"text\"\n",
    "                            }\n",
    "                        }\n",
    "                    }\n",
    "                }\n",
    "            }\n",
    "        }\n",
    "    }\n",
    "}\n",
    "es.indices.create(index='es0', body=body)"
   ],
   "metadata": {
    "collapsed": false,
    "pycharm": {
     "name": "#%%\n"
    }
   }
  },
  {
   "cell_type": "code",
   "execution_count": 26,
   "outputs": [
    {
     "data": {
      "text/plain": "{'_index': 'es0',\n '_type': '_doc',\n '_id': '1',\n '_version': 1,\n 'result': 'created',\n '_shards': {'total': 2, 'successful': 1, 'failed': 0},\n '_seq_no': 1,\n '_primary_term': 1}"
     },
     "execution_count": 26,
     "metadata": {},
     "output_type": "execute_result"
    }
   ],
   "source": [
    "es.index(index='es0', id=0, body={\n",
    "    \"driver\": {\n",
    "        \"last_name\": \"McQueen\",\n",
    "        \"vehicle\": [\n",
    "            {\n",
    "                \"make\": \"Powell Motors\",\n",
    "                \"model\": \"Canyonero\"\n",
    "            },\n",
    "            {\n",
    "                \"make\": \"Miller-Meteor\",\n",
    "                \"model\": \"Ecto-1\"\n",
    "            }\n",
    "        ]\n",
    "    }\n",
    "})\n",
    "es.index(index='es0', id=1, body={\n",
    "    \"driver\": {\n",
    "        \"last_name\": \"Hudson\",\n",
    "        \"vehicle\": [\n",
    "            {\n",
    "                \"make\": \"Mifune\",\n",
    "                \"model\": \"Mach Five\"\n",
    "            },\n",
    "            {\n",
    "                \"make\": \"Miller-Meteor\",\n",
    "                \"model\": \"Ecto-1\"\n",
    "            }\n",
    "        ]\n",
    "    }\n",
    "})"
   ],
   "metadata": {
    "collapsed": false,
    "pycharm": {
     "name": "#%%\n"
    }
   }
  },
  {
   "cell_type": "code",
   "execution_count": 27,
   "outputs": [
    {
     "data": {
      "text/plain": "{'took': 2,\n 'timed_out': False,\n '_shards': {'total': 1, 'successful': 1, 'skipped': 0, 'failed': 0},\n 'hits': {'total': {'value': 1, 'relation': 'eq'},\n  'max_score': 3.7349272,\n  'hits': [{'_index': 'es0',\n    '_type': '_doc',\n    '_id': '0',\n    '_score': 3.7349272,\n    '_source': {'driver': {'last_name': 'McQueen',\n      'vehicle': [{'make': 'Powell Motors', 'model': 'Canyonero'},\n       {'make': 'Miller-Meteor', 'model': 'Ecto-1'}]}}}]}}"
     },
     "execution_count": 27,
     "metadata": {},
     "output_type": "execute_result"
    }
   ],
   "source": [
    "body = {\n",
    "    \"query\": {\n",
    "        \"nested\": {\n",
    "            \"path\": \"driver\",\n",
    "            \"query\": {\n",
    "                \"nested\": {\n",
    "                    \"path\": \"driver.vehicle\",\n",
    "                    \"query\": {\n",
    "                        \"bool\": {\n",
    "                            \"must\": [\n",
    "                                # You can now use a multi-level nested query to match documents based on the make and model fields.\n",
    "                                {\"match\": {\"driver.vehicle.make\": \"Powell Motors\"}},\n",
    "                                {\"match\": {\"driver.vehicle.model\": \"Canyonero\"}}\n",
    "                            ]\n",
    "                        }\n",
    "                    }\n",
    "                }\n",
    "            }\n",
    "        }\n",
    "    }\n",
    "}\n",
    "# The nested query searches nested field objects as if they were indexed as separate documents. If an object matches the search, the nested query returns the root parent document.\n",
    "'''\n",
    "GET test/_search\n",
    "`body`\n",
    "'''\n",
    "es.search(index='es0', body=body)"
   ],
   "metadata": {
    "collapsed": false,
    "pycharm": {
     "name": "#%%\n"
    }
   }
  },
  {
   "cell_type": "code",
   "execution_count": 28,
   "outputs": [
    {
     "data": {
      "text/plain": "{'acknowledged': True}"
     },
     "execution_count": 28,
     "metadata": {},
     "output_type": "execute_result"
    }
   ],
   "source": [
    "es.indices.delete('es0')"
   ],
   "metadata": {
    "collapsed": false,
    "pycharm": {
     "name": "#%%\n"
    }
   }
  },
  {
   "cell_type": "code",
   "execution_count": null,
   "outputs": [],
   "source": [],
   "metadata": {
    "collapsed": false,
    "pycharm": {
     "name": "#%%\n"
    }
   }
  }
 ],
 "metadata": {
  "kernelspec": {
   "display_name": "Python 3",
   "language": "python",
   "name": "python3"
  },
  "language_info": {
   "codemirror_mode": {
    "name": "ipython",
    "version": 2
   },
   "file_extension": ".py",
   "mimetype": "text/x-python",
   "name": "python",
   "nbconvert_exporter": "python",
   "pygments_lexer": "ipython2",
   "version": "2.7.6"
  }
 },
 "nbformat": 4,
 "nbformat_minor": 0
}