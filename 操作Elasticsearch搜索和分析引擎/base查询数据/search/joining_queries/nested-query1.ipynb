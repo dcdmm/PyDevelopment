{
 "cells": [
  {
   "cell_type": "code",
   "execution_count": 20,
   "metadata": {
    "collapsed": true
   },
   "outputs": [],
   "source": [
    "from elasticsearch import Elasticsearch"
   ]
  },
  {
   "cell_type": "code",
   "execution_count": 21,
   "outputs": [],
   "source": [
    "es = Elasticsearch([{'host': 'localhost', 'port': 9200}])"
   ],
   "metadata": {
    "collapsed": false,
    "pycharm": {
     "name": "#%%\n"
    }
   }
  },
  {
   "cell_type": "code",
   "execution_count": 22,
   "outputs": [
    {
     "data": {
      "text/plain": "{'acknowledged': True, 'shards_acknowledged': True, 'index': 'es0'}"
     },
     "execution_count": 22,
     "metadata": {},
     "output_type": "execute_result"
    }
   ],
   "source": [
    "if es.indices.exists('es0'):\n",
    "    es.indices.delete('es0')\n",
    "es.indices.create('es0', body={\n",
    "    \"mappings\": {\n",
    "        \"properties\": {\n",
    "            \"my_nested_field\": {\n",
    "                \"type\": \"nested\",\n",
    "                \"properties\": {\n",
    "                    \"my_text_field\": {\n",
    "                        \"type\": \"text\",\n",
    "                        \"analyzer\": \"ik_max_word\"\n",
    "                    }\n",
    "                }\n",
    "            }\n",
    "        }\n",
    "    }\n",
    "})"
   ],
   "metadata": {
    "collapsed": false,
    "pycharm": {
     "name": "#%%\n"
    }
   }
  },
  {
   "cell_type": "code",
   "execution_count": 23,
   "outputs": [
    {
     "data": {
      "text/plain": "{'_index': 'es0',\n '_type': '_doc',\n '_id': '6',\n '_version': 1,\n 'result': 'created',\n '_shards': {'total': 2, 'successful': 1, 'failed': 0},\n '_seq_no': 6,\n '_primary_term': 1}"
     },
     "execution_count": 23,
     "metadata": {},
     "output_type": "execute_result"
    }
   ],
   "source": [
    "'''\n",
    "若my_nested_field字段为数组类型,即\n",
    "    * \"my_nested_field\": [\"轻度脂肪肝\", \"脂肪肝 甲状腺结节 双眼屈光不正\"]\n",
    "    * \"my_nested_field\":[\"脂肪肝]\n",
    "    * \"my_nested_field\":[\"轻度脂肪肝\"]\n",
    "    * ......\n",
    "则计算的score为query与数组所有元素组合的BM25分数\n",
    "\n",
    "解析:若query=a,s=['A', 'B', 'C'] ======> score=BM25(a, 'A' + 'B' + 'C');注意:数组元素之间的position_increment_gap默认为100,数组不会跨元素分词\n",
    "\n",
    "解析:若query=a,s=[{\"q\": \"A\"}, {\"q\": \"B\"}, {\"q\": \"C\"}]\n",
    "1. \"score_mode\"=\"min\" ======> score=min(BM25(a, A), BM25(a, B), BM25(a, C))\n",
    "2. \"score_mode\"=\"max\" ======> score=max(BM25(a, A), BM25(a, B), BM25(a, C))\n",
    "3. \"score_mode\"=\"avg\" ======> score=sum(BM25(a, A), BM25(a, B), BM25(a, C)) / len(s)\n",
    "4. \"score_mode\"=\"sum\" ======> score=sum(BM25(a, A), BM25(a, B), BM25(a, C))\n",
    "'''\n",
    "es.index(index='es0', id=0, body={\n",
    "    \"my_nested_field\": [\n",
    "        {\n",
    "            \"my_text_field\": \"轻度脂肪肝\"\n",
    "        },\n",
    "        {\n",
    "            \"my_text_field\": \"脂肪肝 甲状腺结节 双眼屈光不正\"\n",
    "        }\n",
    "    ]\n",
    "})\n",
    "es.index(index='es0', id=1, body={\n",
    "    \"my_nested_field\": [\n",
    "        {\n",
    "            \"my_text_field\": \"脂肪肝\"\n",
    "        }\n",
    "    ]\n",
    "})\n",
    "es.index(index='es0', id=2, body={\n",
    "    \"my_nested_field\": [\n",
    "        {\n",
    "            \"my_text_field\": \"轻度脂肪肝\"\n",
    "        }\n",
    "    ]\n",
    "})\n",
    "es.index(index='es0', id=3, body={\n",
    "    \"my_nested_field\": [\n",
    "        {\n",
    "            \"my_text_field\": \"轻－中度脂肪肝\"\n",
    "        }\n",
    "    ]\n",
    "})\n",
    "es.index(index='es0', id=5, body={\n",
    "    \"my_nested_field\": [\n",
    "        {\n",
    "            \"my_text_field\": \"脂肪肝 甲状腺结节 双眼屈光不正\"\n",
    "        }\n",
    "    ]\n",
    "})\n",
    "\n",
    "es.index(index='es0', id=5, body={\n",
    "    \"my_nested_field\": [\n",
    "        {\n",
    "            \"my_text_field\": \"脂肪肝 甲状腺结节 双眼屈光不正\"\n",
    "        }\n",
    "    ]\n",
    "})\n",
    "es.index(index='es0', id=6, body={\n",
    "    \"my_nested_field\": [\n",
    "        {\n",
    "            \"my_text_field\": \"非均匀性脂肪肝\"\n",
    "        }\n",
    "    ]\n",
    "})"
   ],
   "metadata": {
    "collapsed": false,
    "pycharm": {
     "name": "#%%\n"
    }
   }
  },
  {
   "cell_type": "code",
   "execution_count": 24,
   "outputs": [
    {
     "data": {
      "text/plain": "{'took': 0,\n 'timed_out': False,\n '_shards': {'total': 1, 'successful': 1, 'skipped': 0, 'failed': 0},\n 'hits': {'total': {'value': 0, 'relation': 'eq'},\n  'max_score': None,\n  'hits': []}}"
     },
     "execution_count": 24,
     "metadata": {},
     "output_type": "execute_result"
    }
   ],
   "source": [
    "es.search(index='es0', body={\n",
    "    \"query\": {\n",
    "        \"nested\": {\n",
    "            \"path\": \"my_nested_field\",\n",
    "            \"query\": {\n",
    "                \"match\": {\n",
    "                    \"my_nested_field.my_text_field\": \"脂肪肝\"\n",
    "                }\n",
    "            },\n",
    "            # min: Uses the lowest relevance score of all matching child objects.\n",
    "            \"score_mode\": \"min\"\n",
    "        }\n",
    "    }\n",
    "})"
   ],
   "metadata": {
    "collapsed": false,
    "pycharm": {
     "name": "#%%\n"
    }
   }
  },
  {
   "cell_type": "code",
   "execution_count": 25,
   "outputs": [
    {
     "data": {
      "text/plain": "{'took': 1,\n 'timed_out': False,\n '_shards': {'total': 1, 'successful': 1, 'skipped': 0, 'failed': 0},\n 'hits': {'total': {'value': 6, 'relation': 'eq'},\n  'max_score': 0.2167061,\n  'hits': [{'_index': 'es0',\n    '_type': '_doc',\n    '_id': '1',\n    '_score': 0.2167061,\n    '_source': {'my_nested_field': [{'my_text_field': '脂肪肝'}]}},\n   {'_index': 'es0',\n    '_type': '_doc',\n    '_id': '0',\n    '_score': 0.19983816,\n    '_source': {'my_nested_field': [{'my_text_field': '轻度脂肪肝'},\n      {'my_text_field': '脂肪肝 甲状腺结节 双眼屈光不正'}]}},\n   {'_index': 'es0',\n    '_type': '_doc',\n    '_id': '2',\n    '_score': 0.19983816,\n    '_source': {'my_nested_field': [{'my_text_field': '轻度脂肪肝'}]}},\n   {'_index': 'es0',\n    '_type': '_doc',\n    '_id': '3',\n    '_score': 0.1854065,\n    '_source': {'my_nested_field': [{'my_text_field': '轻－中度脂肪肝'}]}},\n   {'_index': 'es0',\n    '_type': '_doc',\n    '_id': '6',\n    '_score': 0.17291892,\n    '_source': {'my_nested_field': [{'my_text_field': '非均匀性脂肪肝'}]}},\n   {'_index': 'es0',\n    '_type': '_doc',\n    '_id': '5',\n    '_score': 0.14385238,\n    '_source': {'my_nested_field': [{'my_text_field': '脂肪肝 甲状腺结节 双眼屈光不正'}]}}]}}"
     },
     "execution_count": 25,
     "metadata": {},
     "output_type": "execute_result"
    }
   ],
   "source": [
    "es.search(index='es0', body={\n",
    "    \"query\": {\n",
    "        \"nested\": {\n",
    "            \"path\": \"my_nested_field\",\n",
    "            \"query\": {\n",
    "                \"match\": {\n",
    "                    \"my_nested_field.my_text_field\": \"脂肪肝\"\n",
    "                }\n",
    "            },\n",
    "            # max: Uses the highest relevance score of all matching child objects.\n",
    "            \"score_mode\": \"max\"\n",
    "        }\n",
    "    }\n",
    "})"
   ],
   "metadata": {
    "collapsed": false,
    "pycharm": {
     "name": "#%%\n"
    }
   }
  },
  {
   "cell_type": "code",
   "execution_count": 26,
   "outputs": [
    {
     "data": {
      "text/plain": "{'took': 2,\n 'timed_out': False,\n '_shards': {'total': 1, 'successful': 1, 'skipped': 0, 'failed': 0},\n 'hits': {'total': {'value': 6, 'relation': 'eq'},\n  'max_score': 0.34369054,\n  'hits': [{'_index': 'es0',\n    '_type': '_doc',\n    '_id': '0',\n    '_score': 0.34369054,\n    '_source': {'my_nested_field': [{'my_text_field': '轻度脂肪肝'},\n      {'my_text_field': '脂肪肝 甲状腺结节 双眼屈光不正'}]}},\n   {'_index': 'es0',\n    '_type': '_doc',\n    '_id': '1',\n    '_score': 0.2167061,\n    '_source': {'my_nested_field': [{'my_text_field': '脂肪肝'}]}},\n   {'_index': 'es0',\n    '_type': '_doc',\n    '_id': '2',\n    '_score': 0.19983816,\n    '_source': {'my_nested_field': [{'my_text_field': '轻度脂肪肝'}]}},\n   {'_index': 'es0',\n    '_type': '_doc',\n    '_id': '3',\n    '_score': 0.1854065,\n    '_source': {'my_nested_field': [{'my_text_field': '轻－中度脂肪肝'}]}},\n   {'_index': 'es0',\n    '_type': '_doc',\n    '_id': '6',\n    '_score': 0.17291892,\n    '_source': {'my_nested_field': [{'my_text_field': '非均匀性脂肪肝'}]}},\n   {'_index': 'es0',\n    '_type': '_doc',\n    '_id': '5',\n    '_score': 0.14385238,\n    '_source': {'my_nested_field': [{'my_text_field': '脂肪肝 甲状腺结节 双眼屈光不正'}]}}]}}"
     },
     "execution_count": 26,
     "metadata": {},
     "output_type": "execute_result"
    }
   ],
   "source": [
    "es.search(index='es0', body={\n",
    "    \"query\": {\n",
    "        \"nested\": {\n",
    "            \"path\": \"my_nested_field\",\n",
    "            \"query\": {\n",
    "                \"match\": {\n",
    "                    \"my_nested_field.my_text_field\": \"脂肪肝\"\n",
    "                }\n",
    "            },\n",
    "            # max: Add together the relevance scores of all matching child objects.\n",
    "            \"score_mode\": \"sum\"\n",
    "        }\n",
    "    }\n",
    "})"
   ],
   "metadata": {
    "collapsed": false,
    "pycharm": {
     "name": "#%%\n"
    }
   }
  },
  {
   "cell_type": "code",
   "execution_count": 27,
   "outputs": [
    {
     "data": {
      "text/plain": "{'took': 1,\n 'timed_out': False,\n '_shards': {'total': 1, 'successful': 1, 'skipped': 0, 'failed': 0},\n 'hits': {'total': {'value': 6, 'relation': 'eq'},\n  'max_score': 0.2167061,\n  'hits': [{'_index': 'es0',\n    '_type': '_doc',\n    '_id': '1',\n    '_score': 0.2167061,\n    '_source': {'my_nested_field': [{'my_text_field': '脂肪肝'}]}},\n   {'_index': 'es0',\n    '_type': '_doc',\n    '_id': '2',\n    '_score': 0.19983816,\n    '_source': {'my_nested_field': [{'my_text_field': '轻度脂肪肝'}]}},\n   {'_index': 'es0',\n    '_type': '_doc',\n    '_id': '3',\n    '_score': 0.1854065,\n    '_source': {'my_nested_field': [{'my_text_field': '轻－中度脂肪肝'}]}},\n   {'_index': 'es0',\n    '_type': '_doc',\n    '_id': '6',\n    '_score': 0.17291892,\n    '_source': {'my_nested_field': [{'my_text_field': '非均匀性脂肪肝'}]}},\n   {'_index': 'es0',\n    '_type': '_doc',\n    '_id': '0',\n    '_score': 0.17184527,\n    '_source': {'my_nested_field': [{'my_text_field': '轻度脂肪肝'},\n      {'my_text_field': '脂肪肝 甲状腺结节 双眼屈光不正'}]}},\n   {'_index': 'es0',\n    '_type': '_doc',\n    '_id': '5',\n    '_score': 0.14385238,\n    '_source': {'my_nested_field': [{'my_text_field': '脂肪肝 甲状腺结节 双眼屈光不正'}]}}]}}"
     },
     "execution_count": 27,
     "metadata": {},
     "output_type": "execute_result"
    }
   ],
   "source": [
    "es.search(index='es0', body={\n",
    "    \"query\": {\n",
    "        \"nested\": {\n",
    "            \"path\": \"my_nested_field\",\n",
    "            \"query\": {\n",
    "                \"match\": {\n",
    "                    \"my_nested_field.my_text_field\": \"脂肪肝\"\n",
    "                }\n",
    "            },\n",
    "            # avg (Default): Use the mean relevance score of all matching child objects.\n",
    "            \"score_mode\": \"avg\"\n",
    "        }\n",
    "    }\n",
    "})"
   ],
   "metadata": {
    "collapsed": false,
    "pycharm": {
     "name": "#%%\n"
    }
   }
  },
  {
   "cell_type": "code",
   "execution_count": null,
   "outputs": [],
   "source": [],
   "metadata": {
    "collapsed": false,
    "pycharm": {
     "name": "#%%\n"
    }
   }
  }
 ],
 "metadata": {
  "kernelspec": {
   "display_name": "Python 3",
   "language": "python",
   "name": "python3"
  },
  "language_info": {
   "codemirror_mode": {
    "name": "ipython",
    "version": 2
   },
   "file_extension": ".py",
   "mimetype": "text/x-python",
   "name": "python",
   "nbconvert_exporter": "python",
   "pygments_lexer": "ipython2",
   "version": "2.7.6"
  }
 },
 "nbformat": 4,
 "nbformat_minor": 0
}