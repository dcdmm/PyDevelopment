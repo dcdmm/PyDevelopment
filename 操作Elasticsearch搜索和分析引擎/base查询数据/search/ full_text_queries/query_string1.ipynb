{
 "cells": [
  {
   "cell_type": "code",
   "execution_count": 224,
   "metadata": {
    "collapsed": true,
    "pycharm": {
     "name": "#%%\n"
    }
   },
   "outputs": [
    {
     "data": {
      "text/plain": "{'acknowledged': True, 'shards_acknowledged': True, 'index': 'es0'}"
     },
     "execution_count": 224,
     "metadata": {},
     "output_type": "execute_result"
    }
   ],
   "source": [
    "from elasticsearch import Elasticsearch\n",
    "\n",
    "es = Elasticsearch([{'host': 'localhost', 'port': 9200}])\n",
    "es.indices.create(\"es0\")"
   ]
  },
  {
   "cell_type": "code",
   "execution_count": 225,
   "outputs": [
    {
     "data": {
      "text/plain": "{'_index': 'es0',\n '_type': '_doc',\n '_id': '0MnoNYYBw-CyhYOb1cBF',\n '_version': 1,\n 'result': 'created',\n '_shards': {'total': 2, 'successful': 1, 'failed': 0},\n '_seq_no': 4,\n '_primary_term': 1}"
     },
     "execution_count": 225,
     "metadata": {},
     "output_type": "execute_result"
    }
   ],
   "source": [
    "es.index(index='es0', body={\"content\": \"this\",\n",
    "                            \"name\": \"that\"})\n",
    "\n",
    "es.index(index='es0', body={\"content\": \"this\",\n",
    "                            \"name\": \"this that\"})\n",
    "\n",
    "es.index(index='es0', body={\"content\": \"that\",\n",
    "                            \"name\": \"this\"})\n",
    "\n",
    "es.index(index='es0', body={\"content\": \"fuck\",\n",
    "                            \"name\": \"that this\"})\n",
    "\n",
    "es.index(index='es0', body={\"content\": \"ca\",\n",
    "                            \"name\": \"this that\"})"
   ],
   "metadata": {
    "collapsed": false,
    "pycharm": {
     "name": "#%%\n"
    }
   }
  },
  {
   "cell_type": "code",
   "execution_count": 226,
   "outputs": [
    {
     "data": {
      "text/plain": "{'took': 1,\n 'timed_out': False,\n '_shards': {'total': 1, 'successful': 1, 'skipped': 0, 'failed': 0},\n 'hits': {'total': {'value': 0, 'relation': 'eq'},\n  'max_score': None,\n  'hits': []}}"
     },
     "execution_count": 226,
     "metadata": {},
     "output_type": "execute_result"
    }
   ],
   "source": [
    "es.search(index='es0', body={\n",
    "    \"query\": {\n",
    "        \"query_string\": {\n",
    "            \"fields\": [\"content\", \"name\"],\n",
    "            \"query\": \"this AND that\",\n",
    "            # 参数含义参考`multi_match`\n",
    "            \"type\": \"most_fields\",\n",
    "            # 参数含义参考`multi_match`\n",
    "            \"tie_breaker\" : 0.2\n",
    "        }\n",
    "    }\n",
    "})"
   ],
   "metadata": {
    "collapsed": false,
    "pycharm": {
     "name": "#%%\n"
    }
   }
  },
  {
   "cell_type": "code",
   "execution_count": 227,
   "outputs": [
    {
     "data": {
      "text/plain": "{'took': 2,\n 'timed_out': False,\n '_shards': {'total': 1, 'successful': 1, 'skipped': 0, 'failed': 0},\n 'hits': {'total': {'value': 5, 'relation': 'eq'},\n  'max_score': 5.8849893,\n  'hits': [{'_index': 'es0',\n    '_type': '_doc',\n    '_id': 'zsnoNYYBw-CyhYOb1cA1',\n    '_score': 5.8849893,\n    '_source': {'content': 'that', 'name': 'this'}},\n   {'_index': 'es0',\n    '_type': '_doc',\n    '_id': 'zMnoNYYBw-CyhYOb1MDg',\n    '_score': 3.8416872,\n    '_source': {'content': 'this', 'name': 'that'}},\n   {'_index': 'es0',\n    '_type': '_doc',\n    '_id': 'zcnoNYYBw-CyhYOb1cAu',\n    '_score': 3.7628648,\n    '_source': {'content': 'this', 'name': 'this that'}},\n   {'_index': 'es0',\n    '_type': '_doc',\n    '_id': 'z8noNYYBw-CyhYOb1cA-',\n    '_score': 0.52197987,\n    '_source': {'content': 'fuck', 'name': 'that this'}},\n   {'_index': 'es0',\n    '_type': '_doc',\n    '_id': '0MnoNYYBw-CyhYOb1cBF',\n    '_score': 0.52197987,\n    '_source': {'content': 'ca', 'name': 'this that'}}]}}"
     },
     "execution_count": 227,
     "metadata": {},
     "output_type": "execute_result"
    }
   ],
   "source": [
    "es.search(index='es0', body={\n",
    "    \"query\": {\n",
    "        \"query_string\": {\n",
    "            # the content is boosted by 5 using ^5 notation\n",
    "            \"fields\": [\"content^4\",  # 参考`multi_match`\n",
    "                       \"name\"],\n",
    "            \"query\": \"this OR that\",\n",
    "        }\n",
    "    }\n",
    "})"
   ],
   "metadata": {
    "collapsed": false,
    "pycharm": {
     "name": "#%%\n"
    }
   }
  },
  {
   "cell_type": "code",
   "execution_count": 228,
   "outputs": [
    {
     "data": {
      "text/plain": "{'took': 2,\n 'timed_out': False,\n '_shards': {'total': 1, 'successful': 1, 'skipped': 0, 'failed': 0},\n 'hits': {'total': {'value': 4, 'relation': 'eq'},\n  'max_score': 1.3974485,\n  'hits': [{'_index': 'es0',\n    '_type': '_doc',\n    '_id': 'zcnoNYYBw-CyhYOb1cAu',\n    '_score': 1.3974485,\n    '_source': {'content': 'this', 'name': 'this that'}},\n   {'_index': 'es0',\n    '_type': '_doc',\n    '_id': 'zMnoNYYBw-CyhYOb1MDg',\n    '_score': 1.2152811,\n    '_source': {'content': 'this', 'name': 'that'}},\n   {'_index': 'es0',\n    '_type': '_doc',\n    '_id': 'z8noNYYBw-CyhYOb1cA-',\n    '_score': 0.52197987,\n    '_source': {'content': 'fuck', 'name': 'that this'}},\n   {'_index': 'es0',\n    '_type': '_doc',\n    '_id': '0MnoNYYBw-CyhYOb1cBF',\n    '_score': 0.52197987,\n    '_source': {'content': 'ca', 'name': 'this that'}}]}}"
     },
     "execution_count": 228,
     "metadata": {},
     "output_type": "execute_result"
    }
   ],
   "source": [
    "'''\n",
    "Field names\n",
    "You can specify fields to search in the query syntax:\n",
    "\n",
    "where the status field contains active\n",
    "    status:active\n",
    "\n",
    "where the title field contains quick or brown\n",
    "    title:(quick OR brown)\n",
    "\n",
    "where the author field contains the exact phrase \"john smith\"\n",
    "    author:\"John Smith\"\n",
    "\n",
    "where the first name field contains Alice (note how we need to escape the space with a backslash)\n",
    "    first\\ name:Alice\n",
    "\n",
    "where any of the fields book.title, book.content or book.date contains quick or brown (note how we need to escape the * with a backslash):\n",
    "    book.\\*:(quick OR brown)\n",
    "'''\n",
    "es.search(index='es0', body=\n",
    "{\n",
    "    \"query\": {\n",
    "        \"query_string\": {\n",
    "            # 匹配:{'content': 'this', 'name': 'that'}}\n",
    "            # 匹配:{'content': 'fuck', 'name': 'that this'}\n",
    "            # 不匹配:{'content': 'that', 'name': 'this'}\n",
    "            \"query\": \"(content:this OR name:this) AND (name:that)\"\n",
    "        }\n",
    "    }\n",
    "})"
   ],
   "metadata": {
    "collapsed": false,
    "pycharm": {
     "name": "#%%\n"
    }
   }
  },
  {
   "cell_type": "code",
   "execution_count": 229,
   "outputs": [
    {
     "data": {
      "text/plain": "{'took': 1,\n 'timed_out': False,\n '_shards': {'total': 1, 'successful': 1, 'skipped': 0, 'failed': 0},\n 'hits': {'total': {'value': 1, 'relation': 'eq'},\n  'max_score': 0.52197987,\n  'hits': [{'_index': 'es0',\n    '_type': '_doc',\n    '_id': 'z8noNYYBw-CyhYOb1cA-',\n    '_score': 0.52197987,\n    '_source': {'content': 'fuck', 'name': 'that this'}}]}}"
     },
     "execution_count": 229,
     "metadata": {},
     "output_type": "execute_result"
    }
   ],
   "source": [
    "es.search(index='es0', body=\n",
    "{\n",
    "    \"query\": {\n",
    "        \"query_string\": {\n",
    "            # 匹配:{'content': 'fuck', 'name': 'that this'}\n",
    "            # 不匹配:{'content': 'fuck', 'name': 'this that'}\n",
    "            \"query\": 'name:\"that this\"'\n",
    "        }\n",
    "    }\n",
    "})"
   ],
   "metadata": {
    "collapsed": false,
    "pycharm": {
     "name": "#%%\n"
    }
   }
  },
  {
   "cell_type": "code",
   "execution_count": 230,
   "outputs": [
    {
     "data": {
      "text/plain": "{'took': 2,\n 'timed_out': False,\n '_shards': {'total': 1, 'successful': 1, 'skipped': 0, 'failed': 0},\n 'hits': {'total': {'value': 5, 'relation': 'eq'},\n  'max_score': 4.8068247,\n  'hits': [{'_index': 'es0',\n    '_type': '_doc',\n    '_id': 'zcnoNYYBw-CyhYOb1cAu',\n    '_score': 4.8068247,\n    '_source': {'content': 'this', 'name': 'this that'}},\n   {'_index': 'es0',\n    '_type': '_doc',\n    '_id': 'zMnoNYYBw-CyhYOb1MDg',\n    '_score': 3.8416872,\n    '_source': {'content': 'this', 'name': 'that'}},\n   {'_index': 'es0',\n    '_type': '_doc',\n    '_id': 'zsnoNYYBw-CyhYOb1cA1',\n    '_score': 2.745544,\n    '_source': {'content': 'that', 'name': 'this'}},\n   {'_index': 'es0',\n    '_type': '_doc',\n    '_id': 'z8noNYYBw-CyhYOb1cA-',\n    '_score': 1.3049496,\n    '_source': {'content': 'fuck', 'name': 'that this'}},\n   {'_index': 'es0',\n    '_type': '_doc',\n    '_id': '0MnoNYYBw-CyhYOb1cBF',\n    '_score': 1.3049496,\n    '_source': {'content': 'ca', 'name': 'this that'}}]}}"
     },
     "execution_count": 230,
     "metadata": {},
     "output_type": "execute_result"
    }
   ],
   "source": [
    "'''\n",
    "Use the boost operator ^ to make one term more relevant than another. For instance, if we want to find all documents about foxes, but we are especially interested in quick foxes:\n",
    "\n",
    "quick^2 fox\n",
    "The default boost value is 1, but can be any positive floating point number. Boosts between 0 and 1 reduce relevance.\n",
    "\n",
    "Boosts can also be applied to phrases or to groups:\n",
    "\n",
    "\"john smith\"^2   (foo bar)^4\n",
    "'''\n",
    "es.search(index='es0', body={\n",
    "    \"query\": {\n",
    "        \"query_string\": {\n",
    "            \"fields\": [\"content\", \"name\"],\n",
    "            \"query\": \"this^4 AND that\",\n",
    "            \"type\": \"most_fields\"\n",
    "        }\n",
    "    }\n",
    "})"
   ],
   "metadata": {
    "collapsed": false,
    "pycharm": {
     "name": "#%%\n"
    }
   }
  },
  {
   "cell_type": "code",
   "execution_count": 231,
   "outputs": [
    {
     "data": {
      "text/plain": "{'took': 1,\n 'timed_out': False,\n '_shards': {'total': 1, 'successful': 1, 'skipped': 0, 'failed': 0},\n 'hits': {'total': {'value': 4, 'relation': 'eq'},\n  'max_score': 4.0238547,\n  'hits': [{'_index': 'es0',\n    '_type': '_doc',\n    '_id': 'zcnoNYYBw-CyhYOb1cAu',\n    '_score': 4.0238547,\n    '_source': {'content': 'this', 'name': 'this that'}},\n   {'_index': 'es0',\n    '_type': '_doc',\n    '_id': 'zMnoNYYBw-CyhYOb1MDg',\n    '_score': 3.8416872,\n    '_source': {'content': 'this', 'name': 'that'}},\n   {'_index': 'es0',\n    '_type': '_doc',\n    '_id': 'z8noNYYBw-CyhYOb1cA-',\n    '_score': 0.52197987,\n    '_source': {'content': 'fuck', 'name': 'that this'}},\n   {'_index': 'es0',\n    '_type': '_doc',\n    '_id': '0MnoNYYBw-CyhYOb1cBF',\n    '_score': 0.52197987,\n    '_source': {'content': 'ca', 'name': 'this that'}}]}}"
     },
     "execution_count": 231,
     "metadata": {},
     "output_type": "execute_result"
    }
   ],
   "source": [
    "es.search(index='es0', body=\n",
    "{\n",
    "    \"query\": {\n",
    "        \"query_string\": {\n",
    "            \"query\": \"(content:this^4 OR name:this) AND (name:that)\"\n",
    "        }\n",
    "    }\n",
    "})"
   ],
   "metadata": {
    "collapsed": false,
    "pycharm": {
     "name": "#%%\n"
    }
   }
  },
  {
   "cell_type": "code",
   "execution_count": 232,
   "outputs": [
    {
     "data": {
      "text/plain": "{'acknowledged': True}"
     },
     "execution_count": 232,
     "metadata": {},
     "output_type": "execute_result"
    }
   ],
   "source": [
    "es.indices.delete('es0')"
   ],
   "metadata": {
    "collapsed": false,
    "pycharm": {
     "name": "#%%\n"
    }
   }
  },
  {
   "cell_type": "code",
   "execution_count": null,
   "outputs": [],
   "source": [],
   "metadata": {
    "collapsed": false,
    "pycharm": {
     "name": "#%%\n"
    }
   }
  }
 ],
 "metadata": {
  "kernelspec": {
   "display_name": "Python 3",
   "language": "python",
   "name": "python3"
  },
  "language_info": {
   "codemirror_mode": {
    "name": "ipython",
    "version": 2
   },
   "file_extension": ".py",
   "mimetype": "text/x-python",
   "name": "python",
   "nbconvert_exporter": "python",
   "pygments_lexer": "ipython2",
   "version": "2.7.6"
  }
 },
 "nbformat": 4,
 "nbformat_minor": 0
}