{
 "cells": [
  {
   "cell_type": "code",
   "execution_count": 11,
   "outputs": [],
   "source": [
    "from elasticsearch import Elasticsearch\n",
    "\n",
    "# 数据来源:data/example_book_data.jsonl\n",
    "es = Elasticsearch([{'host': 'localhost', 'port': 9200}])"
   ],
   "metadata": {
    "collapsed": false,
    "pycharm": {
     "name": "#%%\n"
    }
   }
  },
  {
   "cell_type": "code",
   "execution_count": 12,
   "outputs": [
    {
     "data": {
      "text/plain": "{'took': 5,\n 'timed_out': False,\n '_shards': {'total': 1, 'successful': 1, 'skipped': 0, 'failed': 0},\n 'hits': {'total': {'value': 888, 'relation': 'eq'},\n  'max_score': 1.0,\n  'hits': [{'_index': 'test',\n    '_type': '_doc',\n    '_id': '0',\n    '_score': 1.0,\n    '_source': {'publish': '高等教育出版社', 'name': '普通高等教育“十一五”国家级规划教材：简明无机化学'}},\n   {'_index': 'test',\n    '_type': '_doc',\n    '_id': '1',\n    '_score': 1.0,\n    '_source': {'publish': '农村读物出版社', 'name': '测试商品'}},\n   {'_index': 'test',\n    '_type': '_doc',\n    '_id': '2',\n    '_score': 1.0,\n    '_source': {'publish': '高等教育出版社', 'name': '普通高等教育十一五国家级规划教材・经济数学：线性代数'}},\n   {'_index': 'test',\n    '_type': '_doc',\n    '_id': '3',\n    '_score': 1.0,\n    '_source': {'publish': '高等教育出版社',\n     'name': '普通高等教育“十一五”国家级规划教材配套参考书：电子技术基础（数字部分）重点难点题解指导考研指南'}},\n   {'_index': 'test',\n    '_type': '_doc',\n    '_id': '4',\n    '_score': 1.0,\n    '_source': {'publish': '高等教育出版社',\n     'name': '普通高等教育“十一五”国家级规划教材：土木工程概论（第3版）'}},\n   {'_index': 'test',\n    '_type': '_doc',\n    '_id': '5',\n    '_score': 1.0,\n    '_source': {'publish': '高等教育出版社',\n     'name': '全国高职高专教育“十一五”规划教材：新编秘书实务（知识+技能+案例+实训）'}},\n   {'_index': 'test',\n    '_type': '_doc',\n    '_id': '6',\n    '_score': 1.0,\n    '_source': {'publish': '高等教育出版社', 'name': '普通高等教育“十一五”国家级规划教材：体育游戏'}},\n   {'_index': 'test',\n    '_type': '_doc',\n    '_id': '7',\n    '_score': 1.0,\n    '_source': {'publish': '高等教育出版社',\n     'name': '普通高等教育“十一五”国家级规划教材配套参考书：电工电子学学习辅导与习题解答（第3版）'}},\n   {'_index': 'test',\n    '_type': '_doc',\n    '_id': '8',\n    '_score': 1.0,\n    '_source': {'publish': '高等教育出版社', 'name': '普通高等教育“十一五”国家级规划教材：电子线路（第5版）'}},\n   {'_index': 'test',\n    '_type': '_doc',\n    '_id': '9',\n    '_score': 1.0,\n    '_source': {'publish': '高等教育出版社',\n     'name': '普通高等教育“十一五”国家级规划教材配套参考书：电路基础试题集解与考研指南'}}]}}"
     },
     "execution_count": 12,
     "metadata": {},
     "output_type": "execute_result"
    }
   ],
   "source": [
    "body = {\n",
    "    \"_source\": {\n",
    "        # 指定\"_source\"中的返回字段\n",
    "        \"includes\": [\"name\", \"publish\"],\n",
    "    },\n",
    "    \"query\": {\n",
    "        \"match_all\": {}\n",
    "    }\n",
    "}\n",
    "'''\n",
    "\n",
    "'''\n",
    "result = es.search(body=body, index='test')\n",
    "result"
   ],
   "metadata": {
    "collapsed": false,
    "pycharm": {
     "name": "#%%\n"
    }
   }
  },
  {
   "cell_type": "code",
   "execution_count": 14,
   "metadata": {
    "collapsed": true
   },
   "outputs": [
    {
     "data": {
      "text/plain": "{'took': 5,\n 'timed_out': False,\n '_shards': {'total': 1, 'successful': 1, 'skipped': 0, 'failed': 0},\n 'hits': {'total': {'value': 888, 'relation': 'eq'},\n  'max_score': 1.0,\n  'hits': [{'_index': 'test',\n    '_type': '_doc',\n    '_id': '0',\n    '_score': 1.0,\n    '_source': {'author': ['宋天佑'],\n     'price': 39,\n     'publish': '高等教育出版社',\n     'type': '大学教材'}},\n   {'_index': 'test',\n    '_type': '_doc',\n    '_id': '1',\n    '_score': 1.0,\n    '_source': {'author': [],\n     'price': 5,\n     'publish': '农村读物出版社',\n     'type': '小学通用'}},\n   {'_index': 'test',\n    '_type': '_doc',\n    '_id': '2',\n    '_score': 1.0,\n    '_source': {'author': ['王卫华', '曾祥金'],\n     'price': 18,\n     'publish': '高等教育出版社',\n     'type': '大学教材'}},\n   {'_index': 'test',\n    '_type': '_doc',\n    '_id': '3',\n    '_score': 1.0,\n    '_source': {'author': ['秦臻'],\n     'price': 0,\n     'publish': '高等教育出版社',\n     'type': '大学教材'}},\n   {'_index': 'test',\n    '_type': '_doc',\n    '_id': '4',\n    '_score': 1.0,\n    '_source': {'author': [],\n     'price': 30,\n     'publish': '高等教育出版社',\n     'type': '大学教材'}},\n   {'_index': 'test',\n    '_type': '_doc',\n    '_id': '5',\n    '_score': 1.0,\n    '_source': {'author': ['葛红岩'],\n     'price': 19,\n     'publish': '高等教育出版社',\n     'type': '高职高专教材'}},\n   {'_index': 'test',\n    '_type': '_doc',\n    '_id': '6',\n    '_score': 1.0,\n    '_source': {'author': [],\n     'price': 31,\n     'publish': '高等教育出版社',\n     'type': '体育理论与教学'}},\n   {'_index': 'test',\n    '_type': '_doc',\n    '_id': '7',\n    '_score': 1.0,\n    '_source': {'author': ['张伯尧', '叶挺秀'],\n     'price': 0,\n     'publish': '高等教育出版社',\n     'type': '大学教辅'}},\n   {'_index': 'test',\n    '_type': '_doc',\n    '_id': '8',\n    '_score': 1.0,\n    '_source': {'author': ['梁明理'],\n     'price': 37,\n     'publish': '高等教育出版社',\n     'type': '大学教材'}},\n   {'_index': 'test',\n    '_type': '_doc',\n    '_id': '9',\n    '_score': 1.0,\n    '_source': {'author': ['陈洪亮', '等'],\n     'price': 60,\n     'publish': '高等教育出版社',\n     'type': '大学教材'}}]}}"
     },
     "execution_count": 14,
     "metadata": {},
     "output_type": "execute_result"
    }
   ],
   "source": [
    "body = {\n",
    "    \"_source\": {\n",
    "        # 指定\"_source\"中的不返回字段\n",
    "        \"excludes\": [\"info\", \"name\"]\n",
    "    },\n",
    "    \"query\": {\n",
    "        \"match_all\": {}\n",
    "    }\n",
    "}\n",
    "result = es.search(body=body, index='test')\n",
    "result\n"
   ]
  }
 ],
 "metadata": {
  "kernelspec": {
   "display_name": "Python 3",
   "language": "python",
   "name": "python3"
  },
  "language_info": {
   "codemirror_mode": {
    "name": "ipython",
    "version": 2
   },
   "file_extension": ".py",
   "mimetype": "text/x-python",
   "name": "python",
   "nbconvert_exporter": "python",
   "pygments_lexer": "ipython2",
   "version": "2.7.6"
  }
 },
 "nbformat": 4,
 "nbformat_minor": 0
}