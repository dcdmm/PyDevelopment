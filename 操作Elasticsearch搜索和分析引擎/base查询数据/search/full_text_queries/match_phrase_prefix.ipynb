{
 "cells": [
  {
   "cell_type": "code",
   "execution_count": 3,
   "metadata": {
    "collapsed": true,
    "pycharm": {
     "name": "#%%\n"
    }
   },
   "outputs": [
    {
     "data": {
      "text/plain": "{'acknowledged': True, 'shards_acknowledged': True, 'index': 'es0'}"
     },
     "execution_count": 3,
     "metadata": {},
     "output_type": "execute_result"
    }
   ],
   "source": [
    "from elasticsearch import Elasticsearch\n",
    "\n",
    "es = Elasticsearch([{'host': 'localhost', 'port': 9200}])\n",
    "es.indices.create(\"es0\", body={\n",
    "    \"mappings\": {\n",
    "        \"properties\": {\n",
    "            \"name\": {\n",
    "                \"type\": \"text\",\n",
    "                \"analyzer\": \"ik_max_word\"}}}})"
   ]
  },
  {
   "cell_type": "code",
   "execution_count": 4,
   "outputs": [
    {
     "data": {
      "text/plain": "{'_index': 'es0',\n '_type': '_doc',\n '_id': '7',\n '_version': 1,\n 'result': 'created',\n '_shards': {'total': 2, 'successful': 1, 'failed': 0},\n '_seq_no': 7,\n '_primary_term': 1}"
     },
     "execution_count": 4,
     "metadata": {},
     "output_type": "execute_result"
    }
   ],
   "source": [
    "es.index('es0', body={\"name\": \"规范教材美术\"}, id=0)\n",
    "es.index('es0', body={\"name\": \"规范教育化学\"}, id=1)\n",
    "es.index('es0', body={\"name\": \"规范教育物理\"}, id=2)\n",
    "es.index('es0', body={\"name\": \"规范教育数学\"}, id=3)\n",
    "es.index('es0', body={\"name\": \"规范教授\"}, id=4)\n",
    "es.index('es0', body={\"name\": \"规范教导学生\"}, id=5)\n",
    "es.index('es0', body={\"name\": \"规范指导指引教育\"}, id=6)\n",
    "es.index('es0', body={\"name\": \"规范指导学生\"}, id=7)"
   ],
   "metadata": {
    "collapsed": false,
    "pycharm": {
     "name": "#%%\n"
    }
   }
  },
  {
   "cell_type": "code",
   "execution_count": 5,
   "outputs": [
    {
     "data": {
      "text/plain": "{'took': 15,\n 'timed_out': False,\n '_shards': {'total': 1, 'successful': 1, 'skipped': 0, 'failed': 0},\n 'hits': {'total': {'value': 6, 'relation': 'eq'},\n  'max_score': 9.284731,\n  'hits': [{'_index': 'es0',\n    '_type': '_doc',\n    '_id': '4',\n    '_score': 9.284731,\n    '_source': {'name': '规范教授'}},\n   {'_index': 'es0',\n    '_type': '_doc',\n    '_id': '0',\n    '_score': 8.049055,\n    '_source': {'name': '规范教材美术'}},\n   {'_index': 'es0',\n    '_type': '_doc',\n    '_id': '2',\n    '_score': 8.049055,\n    '_source': {'name': '规范教育物理'}},\n   {'_index': 'es0',\n    '_type': '_doc',\n    '_id': '3',\n    '_score': 8.049055,\n    '_source': {'name': '规范教育数学'}},\n   {'_index': 'es0',\n    '_type': '_doc',\n    '_id': '5',\n    '_score': 8.049055,\n    '_source': {'name': '规范教导学生'}},\n   {'_index': 'es0',\n    '_type': '_doc',\n    '_id': '1',\n    '_score': 7.103652,\n    '_source': {'name': '规范教育化学'}}]}}"
     },
     "execution_count": 5,
     "metadata": {},
     "output_type": "execute_result"
    }
   ],
   "source": [
    "body = {\n",
    "    \"query\": {\n",
    "        \"match_phrase_prefix\": {\n",
    "            \"name\": {\n",
    "                # 查询内容\"规划教\"分词(ik_max_word)为: ['规范', '教.*'](即最后一个词的前缀为\"教\")\n",
    "                # 文档索引条件:text类型字段分词结果包含且顺序为[\"规范\", \"教.*\"]\n",
    "                \"query\": \"规范教\",\n",
    "                \"boost\": 1\n",
    "            }\n",
    "        }\n",
    "    }\n",
    "}\n",
    "# Returns documents that contain the words of a provided text, in the same order as provided. The last term of the provided text is treated as a prefix, matching any words that begin with that term.\n",
    "'''\n",
    "GET test/_search\n",
    "`body`\n",
    "'''\n",
    "es.search(index='es0', body=body)"
   ],
   "metadata": {
    "collapsed": false,
    "pycharm": {
     "name": "#%%\n"
    }
   }
  },
  {
   "cell_type": "code",
   "execution_count": 6,
   "outputs": [
    {
     "data": {
      "text/plain": "{'took': 1,\n 'timed_out': False,\n '_shards': {'total': 1, 'successful': 1, 'skipped': 0, 'failed': 0},\n 'hits': {'total': {'value': 2, 'relation': 'eq'},\n  'max_score': 4.269451,\n  'hits': [{'_index': 'es0',\n    '_type': '_doc',\n    '_id': '4',\n    '_score': 4.269451,\n    '_source': {'name': '规范教授'}},\n   {'_index': 'es0',\n    '_type': '_doc',\n    '_id': '5',\n    '_score': 3.7012434,\n    '_source': {'name': '规范教导学生'}}]}}"
     },
     "execution_count": 6,
     "metadata": {},
     "output_type": "execute_result"
    }
   ],
   "source": [
    "'''\n",
    "max_expansions\n",
    "    (Optional, integer) Maximum number of terms to which the last provided term of the query value will expand. Defaults to 50.\n",
    "'''\n",
    "es.search(index='es0', body={\"query\":\n",
    "                                 {\"match_phrase_prefix\":\n",
    "                                      {\"name\":\n",
    "                                           {\"query\": \"规范教\",\n",
    "                                            # 匹配到的结果数([\"规范\", \"教授\"], [\"规范\", \"教导\"])为2\n",
    "                                            \"max_expansions\": 2}}}})  # 前`max_expansions`个词可能匹配不到我们想要的结果(如\"规范教育化学\")"
   ],
   "metadata": {
    "collapsed": false,
    "pycharm": {
     "name": "#%%\n"
    }
   }
  },
  {
   "cell_type": "code",
   "execution_count": 7,
   "outputs": [
    {
     "data": {
      "text/plain": "{'took': 2,\n 'timed_out': False,\n '_shards': {'total': 1, 'successful': 1, 'skipped': 0, 'failed': 0},\n 'hits': {'total': {'value': 5, 'relation': 'eq'},\n  'max_score': 7.183521,\n  'hits': [{'_index': 'es0',\n    '_type': '_doc',\n    '_id': '4',\n    '_score': 7.183521,\n    '_source': {'name': '规范教授'}},\n   {'_index': 'es0',\n    '_type': '_doc',\n    '_id': '0',\n    '_score': 6.2274885,\n    '_source': {'name': '规范教材美术'}},\n   {'_index': 'es0',\n    '_type': '_doc',\n    '_id': '2',\n    '_score': 6.2274885,\n    '_source': {'name': '规范教育物理'}},\n   {'_index': 'es0',\n    '_type': '_doc',\n    '_id': '3',\n    '_score': 6.2274885,\n    '_source': {'name': '规范教育数学'}},\n   {'_index': 'es0',\n    '_type': '_doc',\n    '_id': '5',\n    '_score': 6.2274885,\n    '_source': {'name': '规范教导学生'}}]}}"
     },
     "execution_count": 7,
     "metadata": {},
     "output_type": "execute_result"
    }
   ],
   "source": [
    "es.search(index='es0', body={\"query\":\n",
    "                                 {\"match_phrase_prefix\":\n",
    "                                      {\"name\":\n",
    "                                           {\"query\": \"规范教\",\n",
    "                                            # 匹配到的结果数([\"规范\", \"教授\"], [\"规范\", \"教材\"], [\"规范\", \"教导\"],  [\"规范\", \"教育\"])为4\n",
    "                                            \"max_expansions\": 4}}}})"
   ],
   "metadata": {
    "collapsed": false,
    "pycharm": {
     "name": "#%%\n"
    }
   }
  },
  {
   "cell_type": "code",
   "execution_count": 8,
   "outputs": [
    {
     "data": {
      "text/plain": "{'took': 2,\n 'timed_out': False,\n '_shards': {'total': 1, 'successful': 1, 'skipped': 0, 'failed': 0},\n 'hits': {'total': {'value': 7, 'relation': 'eq'},\n  'max_score': 9.284731,\n  'hits': [{'_index': 'es0',\n    '_type': '_doc',\n    '_id': '4',\n    '_score': 9.284731,\n    '_source': {'name': '规范教授'}},\n   {'_index': 'es0',\n    '_type': '_doc',\n    '_id': '0',\n    '_score': 8.049055,\n    '_source': {'name': '规范教材美术'}},\n   {'_index': 'es0',\n    '_type': '_doc',\n    '_id': '2',\n    '_score': 8.049055,\n    '_source': {'name': '规范教育物理'}},\n   {'_index': 'es0',\n    '_type': '_doc',\n    '_id': '3',\n    '_score': 8.049055,\n    '_source': {'name': '规范教育数学'}},\n   {'_index': 'es0',\n    '_type': '_doc',\n    '_id': '5',\n    '_score': 8.049055,\n    '_source': {'name': '规范教导学生'}},\n   {'_index': 'es0',\n    '_type': '_doc',\n    '_id': '1',\n    '_score': 7.103652,\n    '_source': {'name': '规范教育化学'}},\n   {'_index': 'es0',\n    '_type': '_doc',\n    '_id': '6',\n    '_score': 3.2520819,\n    '_source': {'name': '规范指导指引教育'}}]}}"
     },
     "execution_count": 8,
     "metadata": {},
     "output_type": "execute_result"
    }
   ],
   "source": [
    "'''\n",
    "分析:\n",
    "\"规范指导教育\"的分词结果为:['规范', '指导', '指引', '教育']\n",
    "[\"规范\", \"教.*\"] no\n",
    "[\"规范\", \"教.*\"] \"slop\": 1 -> [\"规范\", ?, \"教.*\"] no\n",
    "[\"规范\", \"教.*\"] \"slop\": 2 -> [\"规范\", ?, ?, \"教.*\"] yes\n",
    "'''\n",
    "es.search(index='es0', body={\"query\":\n",
    "                                 {\"match_phrase_prefix\":\n",
    "                                      {\"name\":\n",
    "                                           {\"query\": \"规范教\",\n",
    "                                            \"slop\": 2  # 参数含义参考`match_phrase`\n",
    "                                            }}}})"
   ],
   "metadata": {
    "collapsed": false,
    "pycharm": {
     "name": "#%%\n"
    }
   }
  },
  {
   "cell_type": "code",
   "execution_count": 9,
   "outputs": [
    {
     "data": {
      "text/plain": "{'acknowledged': True}"
     },
     "execution_count": 9,
     "metadata": {},
     "output_type": "execute_result"
    }
   ],
   "source": [
    "es.indices.delete('es0')"
   ],
   "metadata": {
    "collapsed": false,
    "pycharm": {
     "name": "#%%\n"
    }
   }
  },
  {
   "cell_type": "code",
   "execution_count": 111,
   "outputs": [],
   "source": [],
   "metadata": {
    "collapsed": false,
    "pycharm": {
     "name": "#%%\n"
    }
   }
  }
 ],
 "metadata": {
  "kernelspec": {
   "display_name": "Python 3",
   "language": "python",
   "name": "python3"
  },
  "language_info": {
   "codemirror_mode": {
    "name": "ipython",
    "version": 2
   },
   "file_extension": ".py",
   "mimetype": "text/x-python",
   "name": "python",
   "nbconvert_exporter": "python",
   "pygments_lexer": "ipython2",
   "version": "2.7.6"
  }
 },
 "nbformat": 4,
 "nbformat_minor": 0
}