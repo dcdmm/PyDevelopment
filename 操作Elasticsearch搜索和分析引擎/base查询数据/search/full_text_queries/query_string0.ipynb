{
 "cells": [
  {
   "cell_type": "code",
   "execution_count": 191,
   "metadata": {
    "collapsed": true
   },
   "outputs": [
    {
     "data": {
      "text/plain": "{'acknowledged': True, 'shards_acknowledged': True, 'index': 'es0'}"
     },
     "execution_count": 191,
     "metadata": {},
     "output_type": "execute_result"
    }
   ],
   "source": [
    "from elasticsearch import Elasticsearch\n",
    "\n",
    "es = Elasticsearch([{'host': 'localhost', 'port': 9200}])\n",
    "es.indices.create(\"es0\")"
   ]
  },
  {
   "cell_type": "code",
   "execution_count": 192,
   "outputs": [
    {
     "data": {
      "text/plain": "{'_index': 'es0',\n '_type': '_doc',\n '_id': '6MmCNoYBw-CyhYObAsCP',\n '_version': 1,\n 'result': 'created',\n '_shards': {'total': 2, 'successful': 1, 'failed': 0},\n '_seq_no': 11,\n '_primary_term': 1}"
     },
     "execution_count": 192,
     "metadata": {},
     "output_type": "execute_result"
    }
   ],
   "source": [
    "es.index(index='es0', body={\"content\": \"quick brother\"})\n",
    "es.index(index='es0', body={\"content\": \"quick brother good\"})\n",
    "es.index(index='es0', body={\"content\": \"quick brother happy\"})\n",
    "es.index(index='es0', body={\"content\": \"brown fox good\"})\n",
    "es.index(index='es0', body={\"content\": \"brown fox happy\"})\n",
    "es.index(index='es0', body={\"content\": \"quiick\"})\n",
    "es.index(index='es0', body={\"content\": \"brodcdmm\"})\n",
    "es.index(index='es0', body={\"content\": \"Come on\"})\n",
    "es.index(index='es0', body={\"content\": \"johnathon\"})\n",
    "es.index(index='es0', body={\"content\": \"jonathon\"})\n",
    "es.index(index='es0', body={\"content\": \"jonhbthon\"})\n",
    "es.index(index='es0', body={\"content\": \"(1+1)=2\"})"
   ],
   "metadata": {
    "collapsed": false,
    "pycharm": {
     "name": "#%%\n"
    }
   }
  },
  {
   "cell_type": "code",
   "execution_count": 193,
   "outputs": [
    {
     "data": {
      "text/plain": "{'took': 2,\n 'timed_out': False,\n '_shards': {'total': 1, 'successful': 1, 'skipped': 0, 'failed': 0},\n 'hits': {'total': {'value': 6, 'relation': 'eq'},\n  'max_score': 2.0,\n  'hits': [{'_index': 'es0',\n    '_type': '_doc',\n    '_id': '3cmCNoYBw-CyhYObAcD4',\n    '_score': 2.0,\n    '_source': {'content': 'quick brother'}},\n   {'_index': 'es0',\n    '_type': '_doc',\n    '_id': '3smCNoYBw-CyhYObAsBD',\n    '_score': 2.0,\n    '_source': {'content': 'quick brother good'}},\n   {'_index': 'es0',\n    '_type': '_doc',\n    '_id': '38mCNoYBw-CyhYObAsBO',\n    '_score': 2.0,\n    '_source': {'content': 'quick brother happy'}},\n   {'_index': 'es0',\n    '_type': '_doc',\n    '_id': '4MmCNoYBw-CyhYObAsBV',\n    '_score': 1.0,\n    '_source': {'content': 'brown fox good'}},\n   {'_index': 'es0',\n    '_type': '_doc',\n    '_id': '4cmCNoYBw-CyhYObAsBd',\n    '_score': 1.0,\n    '_source': {'content': 'brown fox happy'}},\n   {'_index': 'es0',\n    '_type': '_doc',\n    '_id': '48mCNoYBw-CyhYObAsBs',\n    '_score': 1.0,\n    '_source': {'content': 'brodcdmm'}}]}}"
     },
     "execution_count": 193,
     "metadata": {},
     "output_type": "execute_result"
    }
   ],
   "source": [
    "body = {\n",
    "    \"query\": {\n",
    "        \"query_string\": {\n",
    "            # 通配符\n",
    "            # using ? to replace a single character, and * to replace zero or more characters\n",
    "            # qu?ck 匹配quick;不匹配quiick\n",
    "            # bro*  匹配brother, brodcdmm\n",
    "            \"query\": \"qu?ck bro*\",\n",
    "            \"default_field\": \"content\",\n",
    "            \"boost\": 1\n",
    "        }\n",
    "    }\n",
    "}\n",
    "'''\n",
    "default_field\n",
    "    (Optional, string) Default field to search if no field is provided in the query string. Supports wildcards (*).\n",
    "\n",
    "default_operator\n",
    "    (Optional, string) Default boolean logic used to interpret text in the query string if no operators are specified. Valid values are:\n",
    "\n",
    "    OR (Default)\n",
    "        For example, a query string of capital of Hungary is interpreted as capital\n",
    "        OR of OR Hungary.\n",
    "    AND\n",
    "        For example, a query string of capital of Hungary is interpreted as capital\n",
    "        AND of AND Hungary.\n",
    "'''\n",
    "'''\n",
    "GET es0/_search\n",
    "`body`\n",
    "'''\n",
    "# minimum_should_match, fuzziness参数含义参考`match`\n",
    "es.search(index='es0', body=body)"
   ],
   "metadata": {
    "collapsed": false,
    "pycharm": {
     "name": "#%%\n"
    }
   }
  },
  {
   "cell_type": "code",
   "execution_count": 194,
   "outputs": [
    {
     "data": {
      "text/plain": "{'took': 2,\n 'timed_out': False,\n '_shards': {'total': 1, 'successful': 1, 'skipped': 0, 'failed': 0},\n 'hits': {'total': {'value': 2, 'relation': 'eq'},\n  'max_score': 1.0,\n  'hits': [{'_index': 'es0',\n    '_type': '_doc',\n    '_id': '5cmCNoYBw-CyhYObAsB7',\n    '_score': 1.0,\n    '_source': {'content': 'johnathon'}},\n   {'_index': 'es0',\n    '_type': '_doc',\n    '_id': '5smCNoYBw-CyhYObAsCB',\n    '_score': 1.0,\n    '_source': {'content': 'jonathon'}}]}}"
     },
     "execution_count": 194,
     "metadata": {},
     "output_type": "execute_result"
    }
   ],
   "source": [
    "es.search(index='es0', body={\n",
    "    \"query\": {\n",
    "        \"query_string\": {\n",
    "            # 正则表达式:https://www.elastic.co/guide/en/elasticsearch/reference/7.11/regexp-syntax.html\n",
    "            # Regular expression patterns can be embedded in the query string by wrapping them in forward-slashes (\"/\"):\n",
    "            # /joh?n(ath[oa]n)/ 匹配johnathon, jonathon; 不匹配jonhbthon(===> [oa]部分不匹配)\n",
    "            \"query\": \"/joh?n(ath[oa]n)/\",\n",
    "            \"default_field\": \"content\"\n",
    "        }\n",
    "    }\n",
    "})"
   ],
   "metadata": {
    "collapsed": false,
    "pycharm": {
     "name": "#%%\n"
    }
   }
  },
  {
   "cell_type": "code",
   "execution_count": 195,
   "outputs": [
    {
     "data": {
      "text/plain": "{'took': 2,\n 'timed_out': False,\n '_shards': {'total': 1, 'successful': 1, 'skipped': 0, 'failed': 0},\n 'hits': {'total': {'value': 3, 'relation': 'eq'},\n  'max_score': 2.7373953,\n  'hits': [{'_index': 'es0',\n    '_type': '_doc',\n    '_id': '4cmCNoYBw-CyhYObAsBd',\n    '_score': 2.7373953,\n    '_source': {'content': 'brown fox happy'}},\n   {'_index': 'es0',\n    '_type': '_doc',\n    '_id': '3cmCNoYBw-CyhYObAcD4',\n    '_score': 2.0,\n    '_source': {'content': 'quick brother'}},\n   {'_index': 'es0',\n    '_type': '_doc',\n    '_id': '38mCNoYBw-CyhYObAsBO',\n    '_score': 2.0,\n    '_source': {'content': 'quick brother happy'}}]}}"
     },
     "execution_count": 195,
     "metadata": {},
     "output_type": "execute_result"
    }
   ],
   "source": [
    "es.search(index='es0', body={\n",
    "    \"query\": {\n",
    "        \"query_string\": {\n",
    "            # 布尔运算符(多个运算符时使用括号进行分组): AND OR NOT\n",
    "            # 匹配quick brother, 匹配qucik brother happy, brown fox happy\n",
    "            # 不匹配brodcdmm(===> qu?ck AND bro*), quick brother good(===> AND NOT good), brown fox good(===> AND NOT good)\n",
    "            \"query\": \"((qu?ck AND bro*) OR (brown AND fox)) AND NOT good\",\n",
    "            \"default_field\": \"content\"\n",
    "        }\n",
    "    }\n",
    "})"
   ],
   "metadata": {
    "collapsed": false,
    "pycharm": {
     "name": "#%%\n"
    }
   }
  },
  {
   "cell_type": "code",
   "execution_count": 196,
   "outputs": [
    {
     "data": {
      "text/plain": "{'took': 1,\n 'timed_out': False,\n '_shards': {'total': 1, 'successful': 1, 'skipped': 0, 'failed': 0},\n 'hits': {'total': {'value': 1, 'relation': 'eq'},\n  'max_score': 6.9992065,\n  'hits': [{'_index': 'es0',\n    '_type': '_doc',\n    '_id': '6MmCNoYBw-CyhYObAsCP',\n    '_score': 6.9992065,\n    '_source': {'content': '(1+1)=2'}}]}}"
     },
     "execution_count": 196,
     "metadata": {},
     "output_type": "execute_result"
    }
   ],
   "source": [
    "es.search(index='es0', body={\n",
    "    \"query\": {\n",
    "        \"query_string\": {\n",
    "            # 转义字符(使用反斜杠`\\`进行转义)\n",
    "            # The reserved characters are: + - = && || > < ! ( ) { } [ ] ^ \" ~ * ? : \\ /\n",
    "            \"query\": \"\\(1\\+1\\)\\=2\",\n",
    "            \"default_field\": \"content\"\n",
    "        }\n",
    "    }\n",
    "})"
   ],
   "metadata": {
    "collapsed": false,
    "pycharm": {
     "name": "#%%\n"
    }
   }
  },
  {
   "cell_type": "code",
   "execution_count": 197,
   "outputs": [
    {
     "data": {
      "text/plain": "{'acknowledged': True}"
     },
     "execution_count": 197,
     "metadata": {},
     "output_type": "execute_result"
    }
   ],
   "source": [
    "es.indices.delete('es0')"
   ],
   "metadata": {
    "collapsed": false,
    "pycharm": {
     "name": "#%%\n"
    }
   }
  },
  {
   "cell_type": "code",
   "execution_count": 99,
   "outputs": [],
   "source": [],
   "metadata": {
    "collapsed": false,
    "pycharm": {
     "name": "#%%\n"
    }
   }
  }
 ],
 "metadata": {
  "kernelspec": {
   "display_name": "Python 3",
   "language": "python",
   "name": "python3"
  },
  "language_info": {
   "codemirror_mode": {
    "name": "ipython",
    "version": 2
   },
   "file_extension": ".py",
   "mimetype": "text/x-python",
   "name": "python",
   "nbconvert_exporter": "python",
   "pygments_lexer": "ipython2",
   "version": "2.7.6"
  }
 },
 "nbformat": 4,
 "nbformat_minor": 0
}