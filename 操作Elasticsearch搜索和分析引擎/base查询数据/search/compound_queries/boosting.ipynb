{
 "cells": [
  {
   "cell_type": "code",
   "execution_count": 37,
   "metadata": {
    "collapsed": true
   },
   "outputs": [],
   "source": [
    "from elasticsearch import Elasticsearch"
   ]
  },
  {
   "cell_type": "code",
   "execution_count": 38,
   "outputs": [
    {
     "data": {
      "text/plain": "{'acknowledged': True, 'shards_acknowledged': True, 'index': 'es0'}"
     },
     "execution_count": 38,
     "metadata": {},
     "output_type": "execute_result"
    }
   ],
   "source": [
    "es = Elasticsearch([{'host': 'localhost', 'port': 9200}])\n",
    "es.indices.create('es0')"
   ],
   "metadata": {
    "collapsed": false,
    "pycharm": {
     "name": "#%%\n"
    }
   }
  },
  {
   "cell_type": "code",
   "execution_count": 39,
   "outputs": [
    {
     "data": {
      "text/plain": "{'_index': 'es0',\n '_type': '_doc',\n '_id': '2',\n '_version': 1,\n 'result': 'created',\n '_shards': {'total': 2, 'successful': 1, 'failed': 0},\n '_seq_no': 2,\n '_primary_term': 1}"
     },
     "execution_count": 39,
     "metadata": {},
     "output_type": "execute_result"
    }
   ],
   "source": [
    "# 案例:查询苹果公司的产品\n",
    "es.index('es0', id=0, body={\"content\": \"Apple Mac\"})\n",
    "es.index('es0', id=1, body={\"content\": \"Apple iPad\"})\n",
    "es.index('es0', id=2, body={\"content\": \"Apple employee like Apple Pie and Apple juice\"})"
   ],
   "metadata": {
    "collapsed": false,
    "pycharm": {
     "name": "#%%\n"
    }
   }
  },
  {
   "cell_type": "code",
   "execution_count": 40,
   "outputs": [
    {
     "data": {
      "text/plain": "{'took': 1,\n 'timed_out': False,\n '_shards': {'total': 1, 'successful': 1, 'skipped': 0, 'failed': 0},\n 'hits': {'total': {'value': 2, 'relation': 'eq'},\n  'max_score': 0.16786805,\n  'hits': [{'_index': 'es0',\n    '_type': '_doc',\n    '_id': '0',\n    '_score': 0.16786805,\n    '_source': {'content': 'Apple Mac'}},\n   {'_index': 'es0',\n    '_type': '_doc',\n    '_id': '1',\n    '_score': 0.16786805,\n    '_source': {'content': 'Apple iPad'}}]}}"
     },
     "execution_count": 40,
     "metadata": {},
     "output_type": "execute_result"
    }
   ],
   "source": [
    "# 方法一:\n",
    "es.search(index='es0', body={\n",
    "    \"query\": {\n",
    "        \"bool\": {\n",
    "            \"must\":\n",
    "                [\n",
    "                    {\n",
    "                        \"match\":\n",
    "                            {\n",
    "                                \"content\":\n",
    "                                    {\n",
    "                                        \"query\": \"apple\"\n",
    "                                    }\n",
    "                            }\n",
    "                    }\n",
    "                ],\n",
    "            \"must_not\": [\n",
    "                {\n",
    "                    \"match\": {\n",
    "                        \"content\": {\n",
    "                            \"query\": \"pie\"\n",
    "                        }\n",
    "                    }\n",
    "                }\n",
    "            ]\n",
    "        }\n",
    "    }\n",
    "})"
   ],
   "metadata": {
    "collapsed": false,
    "pycharm": {
     "name": "#%%\n"
    }
   }
  },
  {
   "cell_type": "code",
   "execution_count": 41,
   "outputs": [
    {
     "data": {
      "text/plain": "{'took': 1,\n 'timed_out': False,\n '_shards': {'total': 1, 'successful': 1, 'skipped': 0, 'failed': 0},\n 'hits': {'total': {'value': 3, 'relation': 'eq'},\n  'max_score': 0.16786805,\n  'hits': [{'_index': 'es0',\n    '_type': '_doc',\n    '_id': '0',\n    '_score': 0.16786805,\n    '_source': {'content': 'Apple Mac'}},\n   {'_index': 'es0',\n    '_type': '_doc',\n    '_id': '1',\n    '_score': 0.16786805,\n    '_source': {'content': 'Apple iPad'}},\n   {'_index': 'es0',\n    '_type': '_doc',\n    '_id': '2',\n    '_score': 0.086402655,\n    '_source': {'content': 'Apple employee like Apple Pie and Apple juice'}}]}}"
     },
     "execution_count": 41,
     "metadata": {},
     "output_type": "execute_result"
    }
   ],
   "source": [
    "body = {\"query\": {\n",
    "    \"boosting\": {\n",
    "        \"positive\": {\n",
    "            \"match\": {\n",
    "                \"content\": {\n",
    "                    \"query\": \"apple\"\n",
    "                }\n",
    "            }\n",
    "        },\n",
    "        \"negative\": {\n",
    "            \"match\": {\n",
    "                \"content\": {\n",
    "                    \"query\": \"pie\"\n",
    "                }\n",
    "            }\n",
    "        },\n",
    "        # negative_boost:\n",
    "        # (Required, float) Floating point number between 0 and 1.0 used to decrease the relevance scores of documents matching the negative query.\n",
    "        \"negative_boost\": 0.5\n",
    "    }\n",
    "}\n",
    "}\n",
    "# 方法二:\n",
    "'''\n",
    "GET es0/_search\n",
    "`body`\n",
    "'''\n",
    "es.search(index='es0', body=body)"
   ],
   "metadata": {
    "collapsed": false,
    "pycharm": {
     "name": "#%%\n"
    }
   }
  },
  {
   "cell_type": "code",
   "execution_count": 42,
   "outputs": [
    {
     "data": {
      "text/plain": "{'acknowledged': True}"
     },
     "execution_count": 42,
     "metadata": {},
     "output_type": "execute_result"
    }
   ],
   "source": [
    "es.indices.delete('es0')"
   ],
   "metadata": {
    "collapsed": false,
    "pycharm": {
     "name": "#%%\n"
    }
   }
  },
  {
   "cell_type": "code",
   "execution_count": 36,
   "outputs": [],
   "source": [],
   "metadata": {
    "collapsed": false,
    "pycharm": {
     "name": "#%%\n"
    }
   }
  }
 ],
 "metadata": {
  "kernelspec": {
   "display_name": "Python 3",
   "language": "python",
   "name": "python3"
  },
  "language_info": {
   "codemirror_mode": {
    "name": "ipython",
    "version": 2
   },
   "file_extension": ".py",
   "mimetype": "text/x-python",
   "name": "python",
   "nbconvert_exporter": "python",
   "pygments_lexer": "ipython2",
   "version": "2.7.6"
  }
 },
 "nbformat": 4,
 "nbformat_minor": 0
}