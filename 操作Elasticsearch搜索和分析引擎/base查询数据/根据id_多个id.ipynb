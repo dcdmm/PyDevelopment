{
 "cells": [
  {
   "cell_type": "code",
   "execution_count": 1,
   "metadata": {
    "collapsed": true
   },
   "outputs": [],
   "source": [
    "from elasticsearch import Elasticsearch"
   ]
  },
  {
   "cell_type": "code",
   "execution_count": 2,
   "outputs": [
    {
     "data": {
      "text/plain": "{'acknowledged': True, 'shards_acknowledged': True, 'index': 'es0'}"
     },
     "execution_count": 2,
     "metadata": {},
     "output_type": "execute_result"
    }
   ],
   "source": [
    "es = Elasticsearch([{'host': 'localhost', 'port': 9200}])\n",
    "es.indices.create('es0')"
   ],
   "metadata": {
    "collapsed": false,
    "pycharm": {
     "name": "#%%\n"
    }
   }
  },
  {
   "cell_type": "code",
   "execution_count": 3,
   "outputs": [
    {
     "data": {
      "text/plain": "{'_index': 'es0',\n '_type': '_doc',\n '_id': '2',\n '_version': 1,\n 'result': 'created',\n '_shards': {'total': 2, 'successful': 1, 'failed': 0},\n '_seq_no': 2,\n '_primary_term': 1}"
     },
     "execution_count": 3,
     "metadata": {},
     "output_type": "execute_result"
    }
   ],
   "source": [
    "es.index('es0', id=0, body={\"name\": \"dmm\", \"age\": 3})\n",
    "es.index('es0', id=1, body={\"name\": \"xiaoming\", \"age\": 4})\n",
    "es.index('es0', id=2, body={\"name\": \"xiaoli\", \"age\": 3})"
   ],
   "metadata": {
    "collapsed": false,
    "pycharm": {
     "name": "#%%\n"
    }
   }
  },
  {
   "cell_type": "code",
   "execution_count": 6,
   "outputs": [
    {
     "data": {
      "text/plain": "{'docs': [{'_index': 'es0',\n   '_type': '_doc',\n   '_id': '1',\n   '_version': 1,\n   '_seq_no': 1,\n   '_primary_term': 1,\n   'found': True,\n   '_source': {'name': 'xiaoming', 'age': 4}},\n  {'_index': 'es0',\n   '_type': '_doc',\n   '_id': '2',\n   '_version': 1,\n   '_seq_no': 2,\n   '_primary_term': 1,\n   'found': True,\n   '_source': {'name': 'xiaoli', 'age': 3}}]}"
     },
     "execution_count": 6,
     "metadata": {},
     "output_type": "execute_result"
    }
   ],
   "source": [
    "body0 = {\n",
    "    \"docs\": [\n",
    "        {\n",
    "            \"_index\": \"es0\",\n",
    "            \"_id\": \"1\"\n",
    "        },\n",
    "        {\n",
    "            \"_index\": \"es0\",\n",
    "            \"_id\": \"2\"\n",
    "        }\n",
    "    ]\n",
    "}\n",
    "# Allows to get multiple documents in one request.\n",
    "'''\n",
    "[GET | POST] /_mget\n",
    "`body0`\n",
    "'''\n",
    "es.mget(body=body0)"
   ],
   "metadata": {
    "collapsed": false,
    "pycharm": {
     "name": "#%%\n"
    }
   }
  },
  {
   "cell_type": "code",
   "execution_count": 7,
   "outputs": [
    {
     "data": {
      "text/plain": "{'docs': [{'_index': 'es0',\n   '_type': '_doc',\n   '_id': '0',\n   '_version': 1,\n   '_seq_no': 0,\n   '_primary_term': 1,\n   'found': True,\n   '_source': {'name': 'dmm', 'age': 3}},\n  {'_index': 'es0',\n   '_type': '_doc',\n   '_id': '1',\n   '_version': 1,\n   '_seq_no': 1,\n   '_primary_term': 1,\n   'found': True,\n   '_source': {'name': 'xiaoming', 'age': 4}}]}"
     },
     "execution_count": 7,
     "metadata": {},
     "output_type": "execute_result"
    }
   ],
   "source": [
    "body1 = {\n",
    "    \"ids\": [0, 1]\n",
    "}\n",
    "'''\n",
    "[GET | POST] /es0/_mget\n",
    "{\n",
    "  \"ids\": [0, 1]\n",
    "}\n",
    "'''\n",
    "es.mget(body=body1, index='es0')"
   ],
   "metadata": {
    "collapsed": false,
    "pycharm": {
     "name": "#%%\n"
    }
   }
  },
  {
   "cell_type": "code",
   "execution_count": 8,
   "outputs": [
    {
     "data": {
      "text/plain": "{'acknowledged': True}"
     },
     "execution_count": 8,
     "metadata": {},
     "output_type": "execute_result"
    }
   ],
   "source": [
    "es.indices.delete('es0')"
   ],
   "metadata": {
    "collapsed": false,
    "pycharm": {
     "name": "#%%\n"
    }
   }
  }
 ],
 "metadata": {
  "kernelspec": {
   "display_name": "Python 3",
   "language": "python",
   "name": "python3"
  },
  "language_info": {
   "codemirror_mode": {
    "name": "ipython",
    "version": 2
   },
   "file_extension": ".py",
   "mimetype": "text/x-python",
   "name": "python",
   "nbconvert_exporter": "python",
   "pygments_lexer": "ipython2",
   "version": "2.7.6"
  }
 },
 "nbformat": 4,
 "nbformat_minor": 0
}