{
 "cells": [
  {
   "cell_type": "code",
   "execution_count": 8,
   "metadata": {
    "collapsed": true
   },
   "outputs": [],
   "source": [
    "from elasticsearch import Elasticsearch"
   ]
  },
  {
   "cell_type": "code",
   "execution_count": 9,
   "outputs": [
    {
     "data": {
      "text/plain": "{'acknowledged': True, 'shards_acknowledged': True, 'index': 'es0'}"
     },
     "execution_count": 9,
     "metadata": {},
     "output_type": "execute_result"
    }
   ],
   "source": [
    "es = Elasticsearch([{'host': 'localhost', 'port': 9200}])\n",
    "body = {\n",
    "    \"mappings\": {\n",
    "        \"properties\": {\n",
    "            \"name\": {\n",
    "                \"type\": \"keyword\"\n",
    "            },\n",
    "            \"say\": {\n",
    "                \"type\": \"text\",\n",
    "                \"analyzer\": \"ik_smart\"\n",
    "            }\n",
    "        }\n",
    "    }\n",
    "}\n",
    "es.indices.create('es0', body=body)"
   ],
   "metadata": {
    "collapsed": false,
    "pycharm": {
     "name": "#%%\n"
    }
   }
  },
  {
   "cell_type": "code",
   "execution_count": 10,
   "outputs": [
    {
     "data": {
      "text/plain": "{'_index': 'es0',\n '_type': '_doc',\n '_id': '0',\n '_version': 1,\n 'result': 'created',\n '_shards': {'total': 2, 'successful': 1, 'failed': 0},\n '_seq_no': 0,\n '_primary_term': 1}"
     },
     "execution_count": 10,
     "metadata": {},
     "output_type": "execute_result"
    }
   ],
   "source": [
    "es.index(index='es0',\n",
    "         id=0,\n",
    "         body={\n",
    "             \"name\": \"小昭\",\n",
    "             \"say\": \"我热爱我的祖国,我和我的祖国一刻也不能分离\",\n",
    "         })"
   ],
   "metadata": {
    "collapsed": false,
    "pycharm": {
     "name": "#%%\n"
    }
   }
  },
  {
   "cell_type": "code",
   "execution_count": 11,
   "outputs": [
    {
     "data": {
      "text/plain": "{'_index': 'es0',\n '_type': '_doc',\n '_id': '0',\n '_version': 1,\n 'found': True,\n 'took': 14,\n 'term_vectors': {'name': {'field_statistics': {'sum_doc_freq': 1,\n    'doc_count': 1,\n    'sum_ttf': 1},\n   'terms': {'小昭': {'term_freq': 1,\n     'tokens': [{'position': 0, 'start_offset': 0, 'end_offset': 2}]}}},\n  'say': {'field_statistics': {'sum_doc_freq': 10,\n    'doc_count': 1,\n    'sum_ttf': 13},\n   'terms': {'一刻': {'term_freq': 1,\n     'tokens': [{'position': 9, 'start_offset': 14, 'end_offset': 16}]},\n    '不能': {'term_freq': 1,\n     'tokens': [{'position': 11, 'start_offset': 17, 'end_offset': 19}]},\n    '也': {'term_freq': 1,\n     'tokens': [{'position': 10, 'start_offset': 16, 'end_offset': 17}]},\n    '分离': {'term_freq': 1,\n     'tokens': [{'position': 12, 'start_offset': 19, 'end_offset': 21}]},\n    '和我': {'term_freq': 1,\n     'tokens': [{'position': 6, 'start_offset': 9, 'end_offset': 11}]},\n    '我': {'term_freq': 2,\n     'tokens': [{'position': 0, 'start_offset': 0, 'end_offset': 1},\n      {'position': 5, 'start_offset': 8, 'end_offset': 9}]},\n    '热': {'term_freq': 1,\n     'tokens': [{'position': 1, 'start_offset': 1, 'end_offset': 2}]},\n    '爱我': {'term_freq': 1,\n     'tokens': [{'position': 2, 'start_offset': 2, 'end_offset': 4}]},\n    '的': {'term_freq': 2,\n     'tokens': [{'position': 3, 'start_offset': 4, 'end_offset': 5},\n      {'position': 7, 'start_offset': 11, 'end_offset': 12}]},\n    '祖国': {'term_freq': 2,\n     'tokens': [{'position': 4, 'start_offset': 5, 'end_offset': 7},\n      {'position': 8, 'start_offset': 12, 'end_offset': 14}]}}}}}"
     },
     "execution_count": 11,
     "metadata": {},
     "output_type": "execute_result"
    }
   ],
   "source": [
    "'''\n",
    "fields\n",
    "    (Optional, string) Comma-separated list or wildcard expressions of fields to include in the statistics.\n",
    "\n",
    "    Used as the default list unless a specific field list is provided in the completion_fields or fielddata_fields parameters.\n",
    "'''\n",
    "body = {\"fields\": [\"name\", \"say\"]}\n",
    "# returns information and statistics about terms in the fields of a particular document.\n",
    "'''\n",
    "GET es0/_termvectors/0\n",
    "`body`\n",
    "'''\n",
    "es.termvectors(index='es0', id=0, body=body)"
   ],
   "metadata": {
    "collapsed": false,
    "pycharm": {
     "name": "#%%\n"
    }
   }
  },
  {
   "cell_type": "code",
   "execution_count": 12,
   "outputs": [
    {
     "data": {
      "text/plain": "{'acknowledged': True}"
     },
     "execution_count": 12,
     "metadata": {},
     "output_type": "execute_result"
    }
   ],
   "source": [
    "es.indices.delete('es0')"
   ],
   "metadata": {
    "collapsed": false,
    "pycharm": {
     "name": "#%%\n"
    }
   }
  },
  {
   "cell_type": "code",
   "execution_count": 12,
   "outputs": [],
   "source": [],
   "metadata": {
    "collapsed": false,
    "pycharm": {
     "name": "#%%\n"
    }
   }
  }
 ],
 "metadata": {
  "kernelspec": {
   "display_name": "Python 3",
   "language": "python",
   "name": "python3"
  },
  "language_info": {
   "codemirror_mode": {
    "name": "ipython",
    "version": 2
   },
   "file_extension": ".py",
   "mimetype": "text/x-python",
   "name": "python",
   "nbconvert_exporter": "python",
   "pygments_lexer": "ipython2",
   "version": "2.7.6"
  }
 },
 "nbformat": 4,
 "nbformat_minor": 0
}