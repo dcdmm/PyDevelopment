{
 "cells": [
  {
   "cell_type": "code",
   "execution_count": 1,
   "metadata": {
    "collapsed": true
   },
   "outputs": [],
   "source": [
    "from elasticsearch import Elasticsearch"
   ]
  },
  {
   "cell_type": "code",
   "execution_count": 2,
   "outputs": [],
   "source": [
    "es = Elasticsearch([{'host': 'localhost', 'port': 9200}])"
   ],
   "metadata": {
    "collapsed": false,
    "pycharm": {
     "name": "#%%\n"
    }
   }
  },
  {
   "cell_type": "code",
   "execution_count": 3,
   "outputs": [
    {
     "data": {
      "text/plain": "{'tokens': [{'token': 'quick',\n   'start_offset': 0,\n   'end_offset': 5,\n   'type': '<ALPHANUM>',\n   'position': 0},\n  {'token': 'brown',\n   'start_offset': 6,\n   'end_offset': 11,\n   'type': '<ALPHANUM>',\n   'position': 1},\n  {'token': 'foxes',\n   'start_offset': 12,\n   'end_offset': 17,\n   'type': '<ALPHANUM>',\n   'position': 2}]}"
     },
     "execution_count": 3,
     "metadata": {},
     "output_type": "execute_result"
    }
   ],
   "source": [
    "'''\n",
    "POST /_analyze\n",
    "{\n",
    "  \"analyzer\" : \"standard\",\n",
    "  \"text\" : \"Quick Brown Foxes!\"\n",
    "}\n",
    "'''\n",
    "es.indices.analyze(\n",
    "    body={\"analyzer\": \"standard\",  # 默认分词器\n",
    "          \"text\": \"Quick Brown Foxes!\"})"
   ],
   "metadata": {
    "collapsed": false,
    "pycharm": {
     "name": "#%%\n"
    }
   }
  },
  {
   "cell_type": "code",
   "execution_count": 4,
   "outputs": [
    {
     "data": {
      "text/plain": "{'tokens': [{'token': '我',\n   'start_offset': 0,\n   'end_offset': 1,\n   'type': '<IDEOGRAPHIC>',\n   'position': 0},\n  {'token': '热',\n   'start_offset': 1,\n   'end_offset': 2,\n   'type': '<IDEOGRAPHIC>',\n   'position': 1},\n  {'token': '爱',\n   'start_offset': 2,\n   'end_offset': 3,\n   'type': '<IDEOGRAPHIC>',\n   'position': 2},\n  {'token': '我',\n   'start_offset': 3,\n   'end_offset': 4,\n   'type': '<IDEOGRAPHIC>',\n   'position': 3},\n  {'token': '的',\n   'start_offset': 4,\n   'end_offset': 5,\n   'type': '<IDEOGRAPHIC>',\n   'position': 4},\n  {'token': '祖',\n   'start_offset': 5,\n   'end_offset': 6,\n   'type': '<IDEOGRAPHIC>',\n   'position': 5},\n  {'token': '国',\n   'start_offset': 6,\n   'end_offset': 7,\n   'type': '<IDEOGRAPHIC>',\n   'position': 6}]}"
     },
     "execution_count": 4,
     "metadata": {},
     "output_type": "execute_result"
    }
   ],
   "source": [
    "es.indices.analyze(\n",
    "    body={\"analyzer\": \"standard\",\n",
    "          \"text\": \"我热爱我的祖国!\"})  # 中文按字分词"
   ],
   "metadata": {
    "collapsed": false,
    "pycharm": {
     "name": "#%%\n"
    }
   }
  },
  {
   "cell_type": "code",
   "execution_count": 4,
   "outputs": [],
   "source": [
    "\n",
    "\n"
   ],
   "metadata": {
    "collapsed": false,
    "pycharm": {
     "name": "#%%\n"
    }
   }
  }
 ],
 "metadata": {
  "kernelspec": {
   "display_name": "Python 3",
   "language": "python",
   "name": "python3"
  },
  "language_info": {
   "codemirror_mode": {
    "name": "ipython",
    "version": 2
   },
   "file_extension": ".py",
   "mimetype": "text/x-python",
   "name": "python",
   "nbconvert_exporter": "python",
   "pygments_lexer": "ipython2",
   "version": "2.7.6"
  }
 },
 "nbformat": 4,
 "nbformat_minor": 0
}