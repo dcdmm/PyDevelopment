{
 "cells": [
  {
   "cell_type": "code",
   "execution_count": 1,
   "metadata": {
    "collapsed": true
   },
   "outputs": [],
   "source": [
    "from elasticsearch import Elasticsearch"
   ]
  },
  {
   "cell_type": "code",
   "execution_count": 2,
   "outputs": [],
   "source": [
    "es = Elasticsearch([{'host': 'localhost', 'port': 9200}])"
   ],
   "metadata": {
    "collapsed": false,
    "pycharm": {
     "name": "#%%\n"
    }
   }
  },
  {
   "cell_type": "code",
   "execution_count": 3,
   "outputs": [
    {
     "data": {
      "text/plain": "{'result': 'hellojava'}"
     },
     "execution_count": 3,
     "metadata": {},
     "output_type": "execute_result"
    }
   ],
   "source": [
    "body = {\n",
    "    \"script\": {\n",
    "        \"source\": \"\"\"\n",
    "        String r0 = \"hello\";\n",
    "        String r1 = \"java\";\n",
    "        String r2 = r0 + r1; // 字符串拼接\n",
    "        return r2\n",
    "        \"\"\"\n",
    "    }\n",
    "}\n",
    "es.scripts_painless_execute(body=body)"
   ],
   "metadata": {
    "collapsed": false,
    "pycharm": {
     "name": "#%%\n"
    }
   }
  },
  {
   "cell_type": "code",
   "execution_count": 4,
   "outputs": [
    {
     "data": {
      "text/plain": "{'result': '[5, HELLO, hello, hello java, true]'}"
     },
     "execution_count": 4,
     "metadata": {},
     "output_type": "execute_result"
    }
   ],
   "source": [
    "body0 = {\n",
    "    \"script\": {\n",
    "        \"source\": \"\"\"\n",
    "        String r0 = \"hello\";\n",
    "        int r0_length = r0.length(); // 字符串长度\n",
    "        String r1 = \"HELLO\";\n",
    "        String r2 = \" hello java \";\n",
    "        String r01 = r0.toUpperCase(); // 字符串全部转行为大写\n",
    "        String r11 = r1.toLowerCase(); // 字符串全部转换为小写\n",
    "        String r21 = r2.trim(); // 去除字符串首尾空格\n",
    "        boolean b = r0 == r11;\n",
    "        return [r0_length, r01, r11, r21, b]\n",
    "        \"\"\"\n",
    "    }\n",
    "}\n",
    "es.scripts_painless_execute(body=body0)"
   ],
   "metadata": {
    "collapsed": false,
    "pycharm": {
     "name": "#%%\n"
    }
   }
  },
  {
   "cell_type": "code",
   "execution_count": 5,
   "outputs": [
    {
     "data": {
      "text/plain": "{'result': '[llo, true, false, true, hello python Rust java scala sql]'}"
     },
     "execution_count": 5,
     "metadata": {},
     "output_type": "execute_result"
    }
   ],
   "source": [
    "body1 = {\n",
    "    \"script\": {\n",
    "        \"source\": \"\"\"\n",
    "        String r0 = \"hello python rust java scala sql\";\n",
    "        String r1 = r0.substring(2, 5); // 字符串切片\n",
    "        boolean start = r0.startsWith(\"hello\");\n",
    "        boolean end = r0.endsWith(\"java\");\n",
    "        boolean contain = r0.contains(\"rust\");\n",
    "        String r2 = r0.replace(\"rust\", \"Rust\");\n",
    "        return [r1, start, end, contain, r2]\n",
    "        \"\"\"\n",
    "    }\n",
    "}\n",
    "es.scripts_painless_execute(body=body1)"
   ],
   "metadata": {
    "collapsed": false,
    "pycharm": {
     "name": "#%%\n"
    }
   }
  }
 ],
 "metadata": {
  "kernelspec": {
   "display_name": "Python 3",
   "language": "python",
   "name": "python3"
  },
  "language_info": {
   "codemirror_mode": {
    "name": "ipython",
    "version": 2
   },
   "file_extension": ".py",
   "mimetype": "text/x-python",
   "name": "python",
   "nbconvert_exporter": "python",
   "pygments_lexer": "ipython2",
   "version": "2.7.6"
  }
 },
 "nbformat": 4,
 "nbformat_minor": 0
}