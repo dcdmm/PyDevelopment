{
 "cells": [
  {
   "cell_type": "code",
   "execution_count": 1,
   "metadata": {
    "collapsed": true
   },
   "outputs": [],
   "source": [
    "from elasticsearch import Elasticsearch"
   ]
  },
  {
   "cell_type": "code",
   "execution_count": 2,
   "outputs": [],
   "source": [
    "es = Elasticsearch([{'host': 'localhost', 'port': 9200}])"
   ],
   "metadata": {
    "collapsed": false,
    "pycharm": {
     "name": "#%%\n"
    }
   }
  },
  {
   "cell_type": "code",
   "execution_count": 3,
   "outputs": [
    {
     "data": {
      "text/plain": "{'result': '[1, 4]'}"
     },
     "execution_count": 3,
     "metadata": {},
     "output_type": "execute_result"
    }
   ],
   "source": [
    "body = {\n",
    "    \"script\": {\n",
    "        \"source\": \"\"\"\n",
    "        List a = [1, 2, \"java\", 3, 4, \"java\"];\n",
    "        int a_length = a.length; // 列表长度: 5\n",
    "        int one = a[0]; // 索引\n",
    "        a.add(5); // 增\n",
    "        a.remove(0); // 删(根据索引位置)\n",
    "        int first = a.indexOf(\"java\"); // 元素第一次出现的索引位置\n",
    "        int last = a.lastIndexOf(\"java\"); // 元素最后一次出现的索引位置\n",
    "        return [first, last]\n",
    "        \"\"\"\n",
    "    }\n",
    "}\n",
    "es.scripts_painless_execute(body=body)"
   ],
   "metadata": {
    "collapsed": false,
    "pycharm": {
     "name": "#%%\n"
    }
   }
  }
 ],
 "metadata": {
  "kernelspec": {
   "display_name": "Python 3",
   "language": "python",
   "name": "python3"
  },
  "language_info": {
   "codemirror_mode": {
    "name": "ipython",
    "version": 2
   },
   "file_extension": ".py",
   "mimetype": "text/x-python",
   "name": "python",
   "nbconvert_exporter": "python",
   "pygments_lexer": "ipython2",
   "version": "2.7.6"
  }
 },
 "nbformat": 4,
 "nbformat_minor": 0
}