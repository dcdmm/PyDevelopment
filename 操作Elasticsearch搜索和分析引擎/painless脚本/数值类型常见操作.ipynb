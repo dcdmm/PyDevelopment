{
 "cells": [
  {
   "cell_type": "code",
   "execution_count": 1,
   "metadata": {
    "collapsed": true
   },
   "outputs": [],
   "source": [
    "from elasticsearch import Elasticsearch"
   ]
  },
  {
   "cell_type": "code",
   "execution_count": 2,
   "outputs": [],
   "source": [
    "es = Elasticsearch([{'host': 'localhost', 'port': 9200}])"
   ],
   "metadata": {
    "collapsed": false,
    "pycharm": {
     "name": "#%%\n"
    }
   }
  },
  {
   "cell_type": "code",
   "execution_count": 3,
   "outputs": [
    {
     "data": {
      "text/plain": "{'result': '[5, 1, 5, 3, 4, 4.0, 0, false, true, true, true, false, false, 1.6094379124341003]'}"
     },
     "execution_count": 3,
     "metadata": {},
     "output_type": "execute_result"
    }
   ],
   "source": [
    "# Math.abs(a);  # 绝对值\n",
    "# Math.max(a, b);  # 最大值\n",
    "# Math.min(a, b);  # 最大值\n",
    "#\n",
    "# # 三角函数(acos,asin,atan,cos,sin,tan)\n",
    "# Math.sin(a);\n",
    "#\n",
    "# Math.sqrt(a);  # a开根号\n",
    "# Math.pow(a, b);  # a的b次幂\n",
    "# Math.exp(a);  # e的a次幂\n",
    "# Math.log(a);  # 自然对数\n",
    "# Math.log10(a);  # 10为底的对数\n",
    "# Math.random();  # Returns a double value with a positive sign, greater than or equal to 0.0 and less than 1.0.\n",
    "# Math.round(2.5);  # 四舍五入(返回值为整数)\n",
    "body = {\n",
    "    \"script\": {\n",
    "        \"source\": \"\"\"\n",
    "        int a = 4;\n",
    "        int b = 1;\n",
    "        int r0 = a + b; // 加\n",
    "        int r1 = a - b; // 减\n",
    "        int r2 = a * b; // 乘\n",
    "        double r3 = a / b; // 除\n",
    "        int r4 = a % b;  // 取余\n",
    "        boolean r5 = a == b;\n",
    "        boolean r6 = a != b;\n",
    "        boolean r7 = a > b;\n",
    "        boolean r8 = a >= b;\n",
    "        boolean r9 = a < b;\n",
    "        boolean r10 = a <= b;\n",
    "        a++; // 自增\n",
    "        a++; // 自减\n",
    "        a--;\n",
    "        return [a, b, r0, r1, r2, r3, r4, r5, r6, r7, r8, r9, r10, Math.log(a)]\n",
    "        \"\"\"\n",
    "    }\n",
    "}\n",
    "'''\n",
    "POST /_scripts/painless/_execute\n",
    "`body`\n",
    "'''\n",
    "es.scripts_painless_execute(body=body)"
   ],
   "metadata": {
    "collapsed": false,
    "pycharm": {
     "name": "#%%\n"
    }
   }
  }
 ],
 "metadata": {
  "kernelspec": {
   "display_name": "Python 3",
   "language": "python",
   "name": "python3"
  },
  "language_info": {
   "codemirror_mode": {
    "name": "ipython",
    "version": 2
   },
   "file_extension": ".py",
   "mimetype": "text/x-python",
   "name": "python",
   "nbconvert_exporter": "python",
   "pygments_lexer": "ipython2",
   "version": "2.7.6"
  }
 },
 "nbformat": 4,
 "nbformat_minor": 0
}