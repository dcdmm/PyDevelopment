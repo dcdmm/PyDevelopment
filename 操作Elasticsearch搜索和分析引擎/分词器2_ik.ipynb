{
 "cells": [
  {
   "cell_type": "code",
   "execution_count": 3,
   "metadata": {
    "collapsed": true
   },
   "outputs": [],
   "source": [
    "from elasticsearch import Elasticsearch"
   ]
  },
  {
   "cell_type": "code",
   "execution_count": 4,
   "outputs": [],
   "source": [
    "es = Elasticsearch([{'host': 'localhost', 'port': 9200}])"
   ],
   "metadata": {
    "collapsed": false,
    "pycharm": {
     "name": "#%%\n"
    }
   }
  },
  {
   "cell_type": "code",
   "execution_count": 5,
   "outputs": [
    {
     "data": {
      "text/plain": "{'tokens': [{'token': '轻度',\n   'start_offset': 0,\n   'end_offset': 2,\n   'type': 'CN_WORD',\n   'position': 0},\n  {'token': '脂肪肝',\n   'start_offset': 2,\n   'end_offset': 5,\n   'type': 'CN_WORD',\n   'position': 1}]}"
     },
     "execution_count": 5,
     "metadata": {},
     "output_type": "execute_result"
    }
   ],
   "source": [
    "# ik分词器:https://github.com/medcl/elasticsearch-analysis-ik\n",
    "es.indices.analyze(\n",
    "    body={\"analyzer\": \"ik_smart\",  # 细粒度\n",
    "          \"text\": \"轻度脂肪肝\"})"
   ],
   "metadata": {
    "collapsed": false,
    "pycharm": {
     "name": "#%%\n"
    }
   }
  },
  {
   "cell_type": "code",
   "execution_count": 6,
   "outputs": [
    {
     "data": {
      "text/plain": "{'tokens': [{'token': '轻度',\n   'start_offset': 0,\n   'end_offset': 2,\n   'type': 'CN_WORD',\n   'position': 0},\n  {'token': '脂肪肝',\n   'start_offset': 2,\n   'end_offset': 5,\n   'type': 'CN_WORD',\n   'position': 1},\n  {'token': '脂肪',\n   'start_offset': 2,\n   'end_offset': 4,\n   'type': 'CN_WORD',\n   'position': 2},\n  {'token': '肝',\n   'start_offset': 4,\n   'end_offset': 5,\n   'type': 'CN_CHAR',\n   'position': 3}]}"
     },
     "execution_count": 6,
     "metadata": {},
     "output_type": "execute_result"
    }
   ],
   "source": [
    "es.indices.analyze(\n",
    "    body={\"analyzer\": \"ik_max_word\",  # 粗粒度\n",
    "          \"text\": \"轻度脂肪肝\"})"
   ],
   "metadata": {
    "collapsed": false,
    "pycharm": {
     "name": "#%%\n"
    }
   }
  },
  {
   "cell_type": "code",
   "execution_count": 7,
   "outputs": [
    {
     "data": {
      "text/plain": "{'tokens': [{'token': '冠状动脉壁',\n   'start_offset': 0,\n   'end_offset': 5,\n   'type': 'CN_WORD',\n   'position': 0},\n  {'token': '冠状动脉',\n   'start_offset': 0,\n   'end_offset': 4,\n   'type': 'CN_WORD',\n   'position': 1},\n  {'token': '冠状',\n   'start_offset': 0,\n   'end_offset': 2,\n   'type': 'CN_WORD',\n   'position': 2},\n  {'token': '动脉',\n   'start_offset': 2,\n   'end_offset': 4,\n   'type': 'CN_WORD',\n   'position': 3},\n  {'token': '壁',\n   'start_offset': 4,\n   'end_offset': 5,\n   'type': 'CN_CHAR',\n   'position': 4},\n  {'token': '钙化',\n   'start_offset': 5,\n   'end_offset': 7,\n   'type': 'CN_WORD',\n   'position': 5}]}"
     },
     "execution_count": 7,
     "metadata": {},
     "output_type": "execute_result"
    }
   ],
   "source": [
    "'''\n",
    "自定义词典\n",
    "\n",
    "目录:???/elasticsearch/plugins/ik/config\n",
    "\n",
    "文件:ext.dic(编码:UTF-8)\n",
    "屈光不正\n",
    "冠状动脉壁\n",
    "\n",
    "文件:IKAnalyzer.cfg.xml\n",
    "<?xml version=\"1.0\" encoding=\"UTF-8\"?>\n",
    "<!DOCTYPE properties SYSTEM \"http://java.sun.com/dtd/properties.dtd\">\n",
    "<properties>\n",
    "        <comment>IK Analyzer 扩展配置</comment>\n",
    "        <!--用户可以在这里配置自己的扩展字典 -->\n",
    "        <entry key=\"ext_dict\">ext.dic</entry>\n",
    "         <!--用户可以在这里配置自己的扩展停止词字典-->\n",
    "        <entry key=\"ext_stopwords\"></entry>\n",
    "        <!--用户可以在这里配置远程扩展字典 -->\n",
    "        <!-- <entry key=\"remote_ext_dict\">words_location</entry> -->\n",
    "        <!--用户可以在这里配置远程扩展停止词字典-->\n",
    "        <!-- <entry key=\"remote_ext_stopwords\">words_location</entry> -->\n",
    "</properties>\n",
    "\n",
    "'''\n",
    "es.indices.analyze(\n",
    "    body={\"analyzer\": \"ik_max_word\",\n",
    "          \"text\": \"冠状动脉壁钙化\"})"
   ],
   "metadata": {
    "collapsed": false,
    "pycharm": {
     "name": "#%%\n"
    }
   }
  },
  {
   "cell_type": "code",
   "execution_count": 8,
   "outputs": [
    {
     "data": {
      "text/plain": "{'tokens': [{'token': '左眼',\n   'start_offset': 0,\n   'end_offset': 2,\n   'type': 'CN_WORD',\n   'position': 0},\n  {'token': '屈光不正',\n   'start_offset': 2,\n   'end_offset': 6,\n   'type': 'CN_WORD',\n   'position': 1}]}"
     },
     "execution_count": 8,
     "metadata": {},
     "output_type": "execute_result"
    }
   ],
   "source": [
    "es.indices.analyze(\n",
    "    body={\"analyzer\": \"ik_smart\",\n",
    "          \"text\": \"左眼屈光不正\"})"
   ],
   "metadata": {
    "collapsed": false,
    "pycharm": {
     "name": "#%%\n"
    }
   }
  },
  {
   "cell_type": "code",
   "execution_count": 10,
   "outputs": [
    {
     "data": {
      "text/plain": "{'tokens': [{'token': '甲状腺',\n   'start_offset': 0,\n   'end_offset': 3,\n   'type': 'CN_WORD',\n   'position': 0},\n  {'token': '体积',\n   'start_offset': 3,\n   'end_offset': 5,\n   'type': 'CN_WORD',\n   'position': 1},\n  {'token': '稍大',\n   'start_offset': 5,\n   'end_offset': 7,\n   'type': 'CN_WORD',\n   'position': 2},\n  {'token': '回声',\n   'start_offset': 8,\n   'end_offset': 10,\n   'type': 'CN_WORD',\n   'position': 3},\n  {'token': '欠',\n   'start_offset': 10,\n   'end_offset': 11,\n   'type': 'CN_CHAR',\n   'position': 4},\n  {'token': '均匀',\n   'start_offset': 11,\n   'end_offset': 13,\n   'type': 'CN_WORD',\n   'position': 5}]}"
     },
     "execution_count": 10,
     "metadata": {},
     "output_type": "execute_result"
    }
   ],
   "source": [
    "es.indices.analyze(\n",
    "    body={\"analyzer\": \"ik_smart\",\n",
    "          \"text\": \"甲状腺体积稍大，回声欠均匀\"})"
   ],
   "metadata": {
    "collapsed": false,
    "pycharm": {
     "name": "#%%\n"
    }
   }
  }
 ],
 "metadata": {
  "kernelspec": {
   "display_name": "Python 3",
   "language": "python",
   "name": "python3"
  },
  "language_info": {
   "codemirror_mode": {
    "name": "ipython",
    "version": 2
   },
   "file_extension": ".py",
   "mimetype": "text/x-python",
   "name": "python",
   "nbconvert_exporter": "python",
   "pygments_lexer": "ipython2",
   "version": "2.7.6"
  }
 },
 "nbformat": 4,
 "nbformat_minor": 0
}