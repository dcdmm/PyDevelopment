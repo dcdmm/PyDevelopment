{
 "cells": [
  {
   "cell_type": "code",
   "execution_count": 18,
   "id": "2bedb72a",
   "metadata": {},
   "outputs": [],
   "source": [
    "import numpy as np\n",
    "from redisvl.index import SearchIndex\n",
    "from redis import Redis\n",
    "from redisvl.query import VectorQuery\n",
    "from redisvl.redis.utils import buffer_to_array"
   ]
  },
  {
   "cell_type": "code",
   "execution_count": 19,
   "id": "911a1f22",
   "metadata": {},
   "outputs": [],
   "source": [
    "client = Redis.from_url(\"redis://localhost:6379\")"
   ]
  },
  {
   "cell_type": "code",
   "execution_count": 20,
   "id": "eeb4d86c",
   "metadata": {},
   "outputs": [
    {
     "name": "stdout",
     "output_type": "stream",
     "text": [
      "17:22:49 redisvl.index.index INFO   Index already exists, overwriting.\n"
     ]
    }
   ],
   "source": [
    "schema = {\n",
    "    \"index\": {\n",
    "        \"name\": \"user_simple\",\n",
    "        \"prefix\": \"user_simple_docs\", \n",
    "        \"storage_type\": \"hash\"\n",
    "    },\n",
    "    \"fields\": [\n",
    "        {\"name\": \"user\", \"type\": \"tag\"}, \n",
    "        {\n",
    "            \"name\": \"user_embedding\",\n",
    "            \"type\": \"vector\", \n",
    "            \"attrs\": {\n",
    "                \"dims\": 3, \n",
    "                \"distance_metric\": \"cosine\", \n",
    "                \"algorithm\": \"flat\",  \n",
    "                \"datatype\": \"float32\" \n",
    "            }\n",
    "        }\n",
    "    ]\n",
    "}\n",
    "index = SearchIndex.from_dict(schema, redis_client=client, validate_on_load=True)\n",
    "\n",
    "index.create(overwrite=True)"
   ]
  },
  {
   "cell_type": "code",
   "execution_count": 21,
   "id": "61149a7e",
   "metadata": {},
   "outputs": [],
   "source": [
    "data = [\n",
    "    {\n",
    "        'user': 'john',\n",
    "        'user_embedding': np.array([0.1, 0.1, 0.5], dtype=np.float32).tobytes()  # hash存储时,向量必须以字节字符串的形式存储\n",
    "    },\n",
    "    {\n",
    "        'user': 'mary',\n",
    "        'user_embedding': np.array([0.2, 0.1, 0.5], dtype=np.float32).tobytes()\n",
    "    }\n",
    "]\n",
    "\n",
    "keys = index.load(data)"
   ]
  },
  {
   "cell_type": "code",
   "execution_count": 22,
   "id": "d0a3921a",
   "metadata": {},
   "outputs": [
    {
     "name": "stdout",
     "output_type": "stream",
     "text": [
      "{'id': 'user_simple_docs:01K38HCVEMTR5E8SHPQF9KBTSW', 'vector_distance': '0', 'user': 'john'}\n",
      "向量的字节字符串形式:  b'\\xcd\\xcc\\xcc=\\xcd\\xcc\\xcc=\\x00\\x00\\x00?'\n",
      "向量的数组像是:  [0.10000000149011612, 0.10000000149011612, 0.5]\n",
      "{'id': 'user_simple_docs:01K38HCZSX46RDBHP1QS30EB7C', 'vector_distance': '0', 'user': 'john'}\n",
      "向量的字节字符串形式:  b'\\xcd\\xcc\\xcc=\\xcd\\xcc\\xcc=\\x00\\x00\\x00?'\n",
      "向量的数组像是:  [0.10000000149011612, 0.10000000149011612, 0.5]\n",
      "{'id': 'user_simple_docs:01K38HCVEMTR5E8SHPQF9KBTSX', 'vector_distance': '0.0161802768707', 'user': 'mary'}\n",
      "向量的字节字符串形式:  b'\\xcd\\xccL>\\xcd\\xcc\\xcc=\\x00\\x00\\x00?'\n",
      "向量的数组像是:  [0.20000000298023224, 0.10000000149011612, 0.5]\n"
     ]
    }
   ],
   "source": [
    "query_vector = VectorQuery(\n",
    "    vector=[0.1, 0.1, 0.5],\n",
    "    vector_field_name=\"user_embedding\",\n",
    "    return_fields=[\"user\", \"age\", \"job\", \"vector_distance\"],\n",
    "    num_results=3\n",
    ")\n",
    "results_vector = index.query(query_vector)\n",
    "for i in results_vector:\n",
    "    print(i)\n",
    "    id_ = i[\"id\"]\n",
    "    key_type = client.type(id_)\n",
    "    if key_type == b\"hash\":\n",
    "        hash_data = client.hgetall(id_)\n",
    "        print(\"向量的字节字符串形式: \", hash_data[b'user_embedding'])\n",
    "        embedding = buffer_to_array(hash_data[b'user_embedding'], dtype='float32')\n",
    "        print(\"向量的数组像是: \", embedding)"
   ]
  },
  {
   "cell_type": "code",
   "execution_count": 23,
   "id": "9b3f49e9",
   "metadata": {},
   "outputs": [],
   "source": [
    "index.delete()"
   ]
  }
 ],
 "metadata": {
  "kernelspec": {
   "display_name": "development",
   "language": "python",
   "name": "python3"
  },
  "language_info": {
   "codemirror_mode": {
    "name": "ipython",
    "version": 3
   },
   "file_extension": ".py",
   "mimetype": "text/x-python",
   "name": "python",
   "nbconvert_exporter": "python",
   "pygments_lexer": "ipython3",
   "version": "3.10.12"
  }
 },
 "nbformat": 4,
 "nbformat_minor": 5
}
