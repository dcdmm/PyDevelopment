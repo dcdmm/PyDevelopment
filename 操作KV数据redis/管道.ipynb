{
 "cells": [
  {
   "cell_type": "code",
   "execution_count": 21,
   "id": "0ca1243e",
   "metadata": {},
   "outputs": [],
   "source": [
    "# import redis\n",
    "import redis.asyncio as redis  \n",
    "\n",
    "r = redis.Redis(host='localhost', port=6379, password=None, decode_responses=True)"
   ]
  },
  {
   "cell_type": "code",
   "execution_count": null,
   "id": "1ce45663",
   "metadata": {},
   "outputs": [],
   "source": [
    "# Pipelines are a subclass of the base Redis class that provide support for buffering multiple commands to the server in a single request. They can be used to dramatically increase the performance of groups of commands by reducing the number of back-and-forth TCP packets between the client and server\n",
    "# with r.pipeline() as pipe:\n",
    "#     pipe.set(\"key1\", \"value1\")\n",
    "#     pipe.set(\"key2\", \"value2\")\n",
    "#     pipe.execute()\n",
    "\n",
    "# 异步管道\n",
    "async with r.pipeline() as pipe:\n",
    "    pipe.set(\"key1\", \"value1\")\n",
    "    pipe.set(\"key2\", \"value2\")\n",
    "    await pipe.execute()"
   ]
  },
  {
   "cell_type": "code",
   "execution_count": 23,
   "id": "af9533a6",
   "metadata": {},
   "outputs": [
    {
     "name": "stdout",
     "output_type": "stream",
     "text": [
      "['key1', 'key2']\n"
     ]
    }
   ],
   "source": [
    "print(await r.keys())"
   ]
  },
  {
   "cell_type": "code",
   "execution_count": 24,
   "id": "93ef6adb",
   "metadata": {},
   "outputs": [
    {
     "data": {
      "text/plain": [
       "<coroutine object Redis.execute_command at 0x00000293EEA60040>"
      ]
     },
     "execution_count": 24,
     "metadata": {},
     "output_type": "execute_result"
    }
   ],
   "source": [
    "r.flushdb(asynchronous=True)"
   ]
  },
  {
   "cell_type": "code",
   "execution_count": 25,
   "id": "f840581f",
   "metadata": {},
   "outputs": [
    {
     "data": {
      "text/plain": [
       "<coroutine object Redis.aclose at 0x00000293EEA604A0>"
      ]
     },
     "execution_count": 25,
     "metadata": {},
     "output_type": "execute_result"
    }
   ],
   "source": [
    "r.aclose()"
   ]
  }
 ],
 "metadata": {
  "kernelspec": {
   "display_name": "development",
   "language": "python",
   "name": "python3"
  },
  "language_info": {
   "codemirror_mode": {
    "name": "ipython",
    "version": 3
   },
   "file_extension": ".py",
   "mimetype": "text/x-python",
   "name": "python",
   "nbconvert_exporter": "python",
   "pygments_lexer": "ipython3",
   "version": "3.10.12"
  }
 },
 "nbformat": 4,
 "nbformat_minor": 5
}
