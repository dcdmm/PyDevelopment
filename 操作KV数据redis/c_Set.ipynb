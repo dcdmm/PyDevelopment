{
 "cells": [
  {
   "cell_type": "code",
   "execution_count": 10,
   "id": "1cb392f0",
   "metadata": {},
   "outputs": [],
   "source": [
    "import redis"
   ]
  },
  {
   "cell_type": "code",
   "execution_count": 11,
   "id": "d7651843",
   "metadata": {},
   "outputs": [],
   "source": [
    "r = redis.Redis(host='localhost', port=6379, decode_responses=True)"
   ]
  },
  {
   "cell_type": "code",
   "execution_count": 12,
   "id": "172396aa",
   "metadata": {},
   "outputs": [
    {
     "name": "stdout",
     "output_type": "stream",
     "text": [
      "2\n",
      "0\n",
      "1\n",
      "1\n"
     ]
    }
   ],
   "source": [
    "# Add ``value(s)`` to set ``name``\n",
    "print(r.sadd(\"myset\", \"Hello\", \"World\"))\n",
    "print(r.sadd(\"myset\", \"World\"))\n",
    "print(r.sadd(\"myset\", \"dc\"))\n",
    "print(r.sadd(\"myset\", \"dmm\"))"
   ]
  },
  {
   "cell_type": "code",
   "execution_count": 13,
   "id": "40a41ed0",
   "metadata": {},
   "outputs": [
    {
     "name": "stdout",
     "output_type": "stream",
     "text": [
      "{'dc', 'Hello', 'World', 'dmm'}\n"
     ]
    }
   ],
   "source": [
    "# Return all members of the set ``name``\n",
    "print(r.smembers(\"myset\"))"
   ]
  },
  {
   "cell_type": "code",
   "execution_count": null,
   "id": "0da26f87",
   "metadata": {},
   "outputs": [
    {
     "name": "stdout",
     "output_type": "stream",
     "text": [
      "4\n",
      "1\n",
      "0\n"
     ]
    }
   ],
   "source": [
    "# Return the number of elements in set ``name``\n",
    "print(r.scard(\"myset\"))\n",
    "\n",
    "# Return whether ``value`` is a member of set ``name``:\n",
    "# - 1 if the value is a member of the set.\n",
    "# - 0 if the value is not a member of the set or if key does not exist.\n",
    "print(r.sismember(\"myset\", \"dc\"))\n",
    "print(r.sismember(\"myset\", \"DC\"))"
   ]
  },
  {
   "cell_type": "code",
   "execution_count": 15,
   "id": "f839d125",
   "metadata": {},
   "outputs": [
    {
     "name": "stdout",
     "output_type": "stream",
     "text": [
      "1\n",
      "2\n"
     ]
    }
   ],
   "source": [
    "print(r.srem(\"myset\", \"dc\"))\n",
    "print(r.srem(\"myset\", \"Hello\", \"World\"))"
   ]
  },
  {
   "cell_type": "code",
   "execution_count": 16,
   "id": "b9f1728f",
   "metadata": {},
   "outputs": [
    {
     "name": "stdout",
     "output_type": "stream",
     "text": [
      "{'dmm'}\n"
     ]
    }
   ],
   "source": [
    "print(r.smembers(\"myset\"))"
   ]
  },
  {
   "cell_type": "code",
   "execution_count": 17,
   "id": "799de2fa",
   "metadata": {},
   "outputs": [],
   "source": [
    "for key in r.keys():\n",
    "    r.delete(key)"
   ]
  }
 ],
 "metadata": {
  "kernelspec": {
   "display_name": "development",
   "language": "python",
   "name": "python3"
  },
  "language_info": {
   "codemirror_mode": {
    "name": "ipython",
    "version": 3
   },
   "file_extension": ".py",
   "mimetype": "text/x-python",
   "name": "python",
   "nbconvert_exporter": "python",
   "pygments_lexer": "ipython3",
   "version": "3.10.12"
  }
 },
 "nbformat": 4,
 "nbformat_minor": 5
}
