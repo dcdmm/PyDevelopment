{
 "cells": [
  {
   "cell_type": "code",
   "execution_count": 13,
   "id": "16104fa9",
   "metadata": {
    "ExecuteTime": {
     "end_time": "2025-07-03T09:21:08.725400Z",
     "start_time": "2025-07-03T09:21:08.720679Z"
    }
   },
   "outputs": [],
   "source": [
    "import redis"
   ]
  },
  {
   "cell_type": "code",
   "execution_count": 14,
   "id": "cd5140c2",
   "metadata": {
    "ExecuteTime": {
     "end_time": "2025-07-03T09:21:08.877749Z",
     "start_time": "2025-07-03T09:21:08.859271Z"
    }
   },
   "outputs": [
    {
     "name": "stdout",
     "output_type": "stream",
     "text": [
      "True\n"
     ]
    }
   ],
   "source": [
    "# 通用客户端\n",
    "r = redis.Redis(host='localhost',  # 默认:localhost\"\n",
    "                port=6379,  # 默认:6378 \n",
    "                password=\"qwer123456\",  # 默认:None\n",
    "                db=0,  # 默认:0\n",
    "                decode_responses=True)\n",
    "\n",
    "print(r.ping())  # 通用方法"
   ]
  },
  {
   "cell_type": "code",
   "execution_count": 15,
   "id": "eb89fb33",
   "metadata": {
    "ExecuteTime": {
     "end_time": "2025-07-03T09:21:08.950435Z",
     "start_time": "2025-07-03T09:21:08.939955Z"
    }
   },
   "outputs": [
    {
     "name": "stdout",
     "output_type": "stream",
     "text": [
      "None\n",
      "0\n"
     ]
    }
   ],
   "source": [
    "# Return the value at key ``name``, or None if the key doesn't exist\n",
    "print(r.get(\"china\")) \n",
    "\n",
    "# Returns the number of ``names`` that exist\n",
    "print(r.exists(\"china\"))  # 通用方法"
   ]
  },
  {
   "cell_type": "code",
   "execution_count": 16,
   "id": "aa47f5d6",
   "metadata": {
    "ExecuteTime": {
     "end_time": "2025-07-03T09:21:09.217752Z",
     "start_time": "2025-07-03T09:21:09.207504Z"
    }
   },
   "outputs": [
    {
     "name": "stdout",
     "output_type": "stream",
     "text": [
      "good\n"
     ]
    }
   ],
   "source": [
    "# Set the value at key ``name`` to ``value``\n",
    "r.set('china', 'good')\n",
    "print(r.get(\"china\"))"
   ]
  },
  {
   "cell_type": "code",
   "execution_count": 17,
   "id": "93d74b22",
   "metadata": {
    "ExecuteTime": {
     "end_time": "2025-07-03T09:21:09.367723Z",
     "start_time": "2025-07-03T09:21:09.357881Z"
    }
   },
   "outputs": [
    {
     "name": "stdout",
     "output_type": "stream",
     "text": [
      "good\n",
      "1\n"
     ]
    }
   ],
   "source": [
    "print(r.get(\"china\"))\n",
    "\n",
    "print(r.exists(\"china\"))"
   ]
  },
  {
   "cell_type": "code",
   "execution_count": 18,
   "id": "ac393278",
   "metadata": {
    "ExecuteTime": {
     "end_time": "2025-07-03T09:21:09.517794Z",
     "start_time": "2025-07-03T09:21:09.507519Z"
    }
   },
   "outputs": [
    {
     "name": "stdout",
     "output_type": "stream",
     "text": [
      "1\n"
     ]
    }
   ],
   "source": [
    "# Delete one or more keys specified by ``names``\n",
    "print(r.delete(\"china\"))  # 通用方法"
   ]
  },
  {
   "cell_type": "code",
   "execution_count": 19,
   "id": "cdd59262",
   "metadata": {},
   "outputs": [
    {
     "name": "stdout",
     "output_type": "stream",
     "text": [
      "0\n"
     ]
    }
   ],
   "source": [
    "print(r.delete(\"china\"))"
   ]
  },
  {
   "cell_type": "code",
   "execution_count": 20,
   "id": "3b2ad566057fc663",
   "metadata": {
    "ExecuteTime": {
     "end_time": "2025-07-03T09:21:09.736063Z",
     "start_time": "2025-07-03T09:21:09.717633Z"
    }
   },
   "outputs": [
    {
     "name": "stdout",
     "output_type": "stream",
     "text": [
      "None\n",
      "0\n"
     ]
    }
   ],
   "source": [
    "print(r.get(\"china\"))\n",
    "\n",
    "print(r.exists(\"china\"))"
   ]
  },
  {
   "cell_type": "code",
   "execution_count": 21,
   "id": "872edb13",
   "metadata": {},
   "outputs": [
    {
     "data": {
      "text/plain": [
       "True"
      ]
     },
     "execution_count": 21,
     "metadata": {},
     "output_type": "execute_result"
    }
   ],
   "source": [
    "r.set(\"中国\", 1)\n",
    "# Set the value of key ``name`` to ``value`` if key doesn't exist\n",
    "r.setnx(\"中国\", 2)\n",
    "r.setnx(\"美国\", 3)\n",
    "r.setnx(\"日本\", -1)"
   ]
  },
  {
   "cell_type": "code",
   "execution_count": 22,
   "id": "57eb007c",
   "metadata": {},
   "outputs": [
    {
     "name": "stdout",
     "output_type": "stream",
     "text": [
      "<class 'str'>\n",
      "2\n"
     ]
    }
   ],
   "source": [
    "print(type(r.get(\"日本\")))\n",
    "print(r.strlen(\"日本\"))"
   ]
  },
  {
   "cell_type": "code",
   "execution_count": 23,
   "id": "7b3867bb",
   "metadata": {},
   "outputs": [
    {
     "name": "stdout",
     "output_type": "stream",
     "text": [
      "['日本', '美国', '中国']\n",
      "['美国', '中国']\n"
     ]
    }
   ],
   "source": [
    "# Returns a list of keys matching ``pattern``\n",
    "print(r.keys())  # 通用方法\n",
    "# Supported glob-style patterns:\n",
    "# * h?llo matches hello, hallo and hxllo\n",
    "# * h*llo matches hllo and heeeello\n",
    "# * h[ae]llo matches hello and hallo, but not hillo\n",
    "# * h[^e]llo matches hallo, hbllo, ... but not hello\n",
    "# * h[a-b]llo matches hallo and hbllo\n",
    "print(r.keys(pattern=\"*国\"))"
   ]
  },
  {
   "cell_type": "code",
   "execution_count": 24,
   "id": "35e3c8cb",
   "metadata": {},
   "outputs": [],
   "source": [
    "for key in r.keys():\n",
    "    r.delete(key)"
   ]
  },
  {
   "cell_type": "code",
   "execution_count": 25,
   "id": "349a973e",
   "metadata": {},
   "outputs": [],
   "source": [
    "r.close()"
   ]
  }
 ],
 "metadata": {
  "kernelspec": {
   "display_name": "development",
   "language": "python",
   "name": "python3"
  },
  "language_info": {
   "codemirror_mode": {
    "name": "ipython",
    "version": 3
   },
   "file_extension": ".py",
   "mimetype": "text/x-python",
   "name": "python",
   "nbconvert_exporter": "python",
   "pygments_lexer": "ipython3",
   "version": "3.10.12"
  }
 },
 "nbformat": 4,
 "nbformat_minor": 5
}
