{
 "cells": [
  {
   "cell_type": "code",
   "execution_count": 1,
   "id": "0a50b0f3",
   "metadata": {},
   "outputs": [],
   "source": [
    "import redis"
   ]
  },
  {
   "cell_type": "code",
   "execution_count": 2,
   "id": "124830f4",
   "metadata": {},
   "outputs": [],
   "source": [
    "r = redis.Redis(host='localhost', port=6379, password=None, decode_responses=True)"
   ]
  },
  {
   "cell_type": "code",
   "execution_count": 3,
   "id": "2ffa27ec",
   "metadata": {},
   "outputs": [
    {
     "name": "stdout",
     "output_type": "stream",
     "text": [
      "1\n",
      "2\n",
      "2\n",
      "Hi\n",
      "World\n",
      "{'field1': 'Hello', 'field2': 'Hi', 'field3': 'World', 'field4': 'dc', 'field5': 'dmm'}\n",
      "5\n",
      "['field1', 'field2', 'field3', 'field4', 'field5']\n",
      "['Hello', 'Hi', 'World', 'dc', 'dmm']\n"
     ]
    }
   ],
   "source": [
    "# Set ``key`` to ``value`` within hash ``name``,\n",
    "print(r.hset(\"myhash\", key=\"field1\", value=\"Hello\"))\n",
    "print(r.hset(\"myhash\", mapping={\"field2\": \"Hi\", \"field3\": \"World\"}))\n",
    "print(r.hset(\"myhash\", mapping={\"field4\": \"dc\", \"field5\": \"dmm\"}))\n",
    "\n",
    "# Return the value of ``key`` within the hash ``name``\n",
    "print(r.hget(\"myhash\", \"field2\"))\n",
    "print(r.hget(\"myhash\", \"field3\"))\n",
    "\n",
    "# Return a Python dict of the hash's name/value pairs\n",
    "print(r.hgetall(\"myhash\"))\n",
    "\n",
    "# Return the number of elements in hash ``name``\n",
    "print(r.hlen(\"myhash\"))\n",
    "\n",
    "# Return the list of keys within hash ``name``\n",
    "print(r.hkeys(\"myhash\"))\n",
    "# Return the list of values within hash ``name``\n",
    "print(r.hvals(\"myhash\"))"
   ]
  },
  {
   "cell_type": "code",
   "execution_count": 4,
   "id": "835d8911",
   "metadata": {},
   "outputs": [
    {
     "name": "stdout",
     "output_type": "stream",
     "text": [
      "True\n",
      "False\n"
     ]
    }
   ],
   "source": [
    "# Returns a boolean indicating if ``key`` exists within hash ``name\n",
    "print(r.hexists(\"myhash\", \"field2\"))\n",
    "print(r.hexists(\"myhash\", \"field6\"))"
   ]
  },
  {
   "cell_type": "code",
   "execution_count": 5,
   "id": "da3a2583",
   "metadata": {},
   "outputs": [
    {
     "name": "stdout",
     "output_type": "stream",
     "text": [
      "2\n",
      "1\n",
      "{'field4': 'dc', 'field5': 'dmm'}\n"
     ]
    }
   ],
   "source": [
    "# Delete ``keys`` from hash ``name``\n",
    "print(r.hdel(\"myhash\", \"field1\", \"field2\"))\n",
    "print(r.hdel(\"myhash\", \"field3\"))\n",
    "\n",
    "# Return a Python dict of the hash's name/value pairs\n",
    "print(r.hgetall(\"myhash\"))"
   ]
  },
  {
   "cell_type": "code",
   "execution_count": 6,
   "id": "12ffdb87",
   "metadata": {},
   "outputs": [
    {
     "data": {
      "text/plain": [
       "True"
      ]
     },
     "execution_count": 6,
     "metadata": {},
     "output_type": "execute_result"
    }
   ],
   "source": [
    "r.flushdb(asynchronous=True)"
   ]
  },
  {
   "cell_type": "code",
   "execution_count": 7,
   "id": "c8044852",
   "metadata": {},
   "outputs": [],
   "source": [
    "r.close()"
   ]
  }
 ],
 "metadata": {
  "kernelspec": {
   "display_name": "development",
   "language": "python",
   "name": "python3"
  },
  "language_info": {
   "codemirror_mode": {
    "name": "ipython",
    "version": 3
   },
   "file_extension": ".py",
   "mimetype": "text/x-python",
   "name": "python",
   "nbconvert_exporter": "python",
   "pygments_lexer": "ipython3",
   "version": "3.10.12"
  }
 },
 "nbformat": 4,
 "nbformat_minor": 5
}
