{
 "cells": [
  {
   "cell_type": "code",
   "execution_count": 102,
   "id": "c9c3814f",
   "metadata": {},
   "outputs": [],
   "source": [
    "import redis"
   ]
  },
  {
   "cell_type": "code",
   "execution_count": 103,
   "id": "5b5f7b65",
   "metadata": {},
   "outputs": [],
   "source": [
    "r = redis.Redis(host='localhost', port=6379, password=None, decode_responses=True)"
   ]
  },
  {
   "cell_type": "code",
   "execution_count": 104,
   "id": "9f6d20d0",
   "metadata": {},
   "outputs": [
    {
     "name": "stdout",
     "output_type": "stream",
     "text": [
      "True\n",
      "['china']\n",
      "['string']\n",
      "<class 'list'>\n"
     ]
    }
   ],
   "source": [
    "# Set the JSON value at key ``name`` under the ``path`` to ``obj``.\n",
    "print(r.json().set(\"bike\", \"$\", \"china\"))\n",
    "# Get the object stored as a JSON value at key ``name``.\n",
    "print(r.json().get(\"bike\", \"$\"))\n",
    "# Get the type of the JSON value under ``path`` from key ``name``.\n",
    "print(r.json().type(\"bike\", \"$\"))\n",
    "print(type(r.json().get(\"bike\", \"$\")))  # list"
   ]
  },
  {
   "cell_type": "code",
   "execution_count": 105,
   "id": "5fc71bed",
   "metadata": {},
   "outputs": [
    {
     "name": "stdout",
     "output_type": "stream",
     "text": [
      "True\n",
      "[['Deimos', {'crashes': 0}, None]]\n",
      "['array']\n",
      "[0]\n",
      "1\n",
      "[['Deimos', {'crashes': 0}]]\n",
      "\n",
      "True\n",
      "[{'name': 'Hyperion', 'crashes': [1, 2, 3], 'owner': None}]\n",
      "['object']\n",
      "['Hyperion']\n"
     ]
    }
   ],
   "source": [
    "print(r.json().set(\"newbike\", \"$\", [\"Deimos\", {\"crashes\": 0}, None]))  # 可以存储嵌套结构(键的值可以是JSON对象或数组)\n",
    "print(r.json().get(\"newbike\", \"$\"))\n",
    "print(r.json().type(\"newbike\", \"$\"))\n",
    "print(r.json().get(\"newbike\", \"$[1].crashes\"))\n",
    "# Delete the JSON value stored at key ``key`` under ``path``.\n",
    "print(r.json().delete(\"newbike\", \"$.[-1]\"))\n",
    "print(r.json().get(\"newbike\", \"$\"), end='\\n\\n')\n",
    "\n",
    "print(r.json().set(\"dictbike\", \"$\", {\"name\": \"Hyperion\", \"crashes\": [1, 2, 3], \"owner\": None}))\n",
    "print(r.json().get(\"dictbike\", \"$\"))\n",
    "print(r.json().type(\"dictbike\", \"$\"))\n",
    "print(r.json().get(\"dictbike\", \"$.name\"))"
   ]
  }
 ],
 "metadata": {
  "kernelspec": {
   "display_name": "development",
   "language": "python",
   "name": "python3"
  },
  "language_info": {
   "codemirror_mode": {
    "name": "ipython",
    "version": 3
   },
   "file_extension": ".py",
   "mimetype": "text/x-python",
   "name": "python",
   "nbconvert_exporter": "python",
   "pygments_lexer": "ipython3",
   "version": "3.10.12"
  }
 },
 "nbformat": 4,
 "nbformat_minor": 5
}
