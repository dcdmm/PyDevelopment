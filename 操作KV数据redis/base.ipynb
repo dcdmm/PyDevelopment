{
 "cells": [
  {
   "cell_type": "code",
   "id": "16104fa9",
   "metadata": {
    "ExecuteTime": {
     "end_time": "2025-07-03T09:21:08.725400Z",
     "start_time": "2025-07-03T09:21:08.720679Z"
    }
   },
   "source": [
    "import redis"
   ],
   "outputs": [],
   "execution_count": 35
  },
  {
   "cell_type": "code",
   "id": "cd5140c2",
   "metadata": {
    "ExecuteTime": {
     "end_time": "2025-07-03T09:21:08.877749Z",
     "start_time": "2025-07-03T09:21:08.859271Z"
    }
   },
   "source": [
    "r = redis.Redis(host='localhost', port=6379, decode_responses=True)\n",
    "\n",
    "print(r.ping())"
   ],
   "outputs": [
    {
     "name": "stdout",
     "output_type": "stream",
     "text": [
      "True\n"
     ]
    }
   ],
   "execution_count": 36
  },
  {
   "cell_type": "code",
   "id": "eb89fb33",
   "metadata": {
    "ExecuteTime": {
     "end_time": "2025-07-03T09:21:08.950435Z",
     "start_time": "2025-07-03T09:21:08.939955Z"
    }
   },
   "source": [
    "print(r.get(\"china\"))\n",
    "\n",
    "print(r.exists(\"china\"))"
   ],
   "outputs": [
    {
     "name": "stdout",
     "output_type": "stream",
     "text": [
      "None\n",
      "0\n"
     ]
    }
   ],
   "execution_count": 37
  },
  {
   "cell_type": "code",
   "id": "aa47f5d6",
   "metadata": {
    "ExecuteTime": {
     "end_time": "2025-07-03T09:21:09.217752Z",
     "start_time": "2025-07-03T09:21:09.207504Z"
    }
   },
   "source": [
    "r.set('china', 'good')\n",
    "print(r.get(\"china\"))"
   ],
   "outputs": [
    {
     "name": "stdout",
     "output_type": "stream",
     "text": [
      "good\n"
     ]
    }
   ],
   "execution_count": 38
  },
  {
   "cell_type": "code",
   "id": "93d74b22",
   "metadata": {
    "ExecuteTime": {
     "end_time": "2025-07-03T09:21:09.367723Z",
     "start_time": "2025-07-03T09:21:09.357881Z"
    }
   },
   "source": [
    "print(r.get(\"china\"))\n",
    "\n",
    "print(r.exists(\"china\"))"
   ],
   "outputs": [
    {
     "name": "stdout",
     "output_type": "stream",
     "text": [
      "good\n",
      "1\n"
     ]
    }
   ],
   "execution_count": 39
  },
  {
   "cell_type": "code",
   "id": "ac393278",
   "metadata": {
    "ExecuteTime": {
     "end_time": "2025-07-03T09:21:09.517794Z",
     "start_time": "2025-07-03T09:21:09.507519Z"
    }
   },
   "source": [
    "r.delete(\"china\")"
   ],
   "outputs": [
    {
     "data": {
      "text/plain": [
       "1"
      ]
     },
     "execution_count": 40,
     "metadata": {},
     "output_type": "execute_result"
    }
   ],
   "execution_count": 40
  },
  {
   "cell_type": "code",
   "id": "3b2ad566057fc663",
   "metadata": {
    "ExecuteTime": {
     "end_time": "2025-07-03T09:21:09.736063Z",
     "start_time": "2025-07-03T09:21:09.717633Z"
    }
   },
   "source": [
    "print(r.get(\"china\"))\n",
    "\n",
    "print(r.exists(\"china\"))"
   ],
   "outputs": [
    {
     "name": "stdout",
     "output_type": "stream",
     "text": [
      "None\n",
      "0\n"
     ]
    }
   ],
   "execution_count": 41
  },
  {
   "cell_type": "code",
   "id": "de7018b90b024622",
   "metadata": {
    "ExecuteTime": {
     "end_time": "2025-07-03T09:21:09.922980Z",
     "start_time": "2025-07-03T09:21:09.914725Z"
    }
   },
   "source": [
    "r.set('中国', '好')"
   ],
   "outputs": [
    {
     "data": {
      "text/plain": [
       "True"
      ]
     },
     "execution_count": 42,
     "metadata": {},
     "output_type": "execute_result"
    }
   ],
   "execution_count": 42
  },
  {
   "cell_type": "code",
   "id": "63031dcb82220456",
   "metadata": {
    "ExecuteTime": {
     "end_time": "2025-07-03T09:21:10.137727Z",
     "start_time": "2025-07-03T09:21:10.128164Z"
    }
   },
   "source": [
    "print(r.get('中国'))"
   ],
   "outputs": [
    {
     "name": "stdout",
     "output_type": "stream",
     "text": [
      "好\n"
     ]
    }
   ],
   "execution_count": 43
  },
  {
   "cell_type": "code",
   "id": "40bea7fcd78b12f1",
   "metadata": {
    "ExecuteTime": {
     "end_time": "2025-07-03T09:21:10.367854Z",
     "start_time": "2025-07-03T09:21:10.358137Z"
    }
   },
   "source": [
    "# r.ttl()\n",
    "# setnx\n",
    "# setex"
   ],
   "outputs": [],
   "execution_count": 44
  },
  {
   "cell_type": "code",
   "id": "2636c51d",
   "metadata": {
    "ExecuteTime": {
     "end_time": "2025-07-03T09:21:10.434316Z",
     "start_time": "2025-07-03T09:21:10.414036Z"
    }
   },
   "source": [
    "# lpush"
   ],
   "outputs": [],
   "execution_count": 45
  },
  {
   "metadata": {
    "ExecuteTime": {
     "end_time": "2025-07-03T09:21:10.487637Z",
     "start_time": "2025-07-03T09:21:10.477611Z"
    }
   },
   "cell_type": "code",
   "source": [
    "r.lpush(\"lst\", 1, 2, 3, 4)  # rpush\n",
    "# lpop\n",
    "# rpop\n",
    "# llen"
   ],
   "id": "f732eb255d4411ae",
   "outputs": [
    {
     "data": {
      "text/plain": [
       "4"
      ]
     },
     "execution_count": 46,
     "metadata": {},
     "output_type": "execute_result"
    }
   ],
   "execution_count": 46
  },
  {
   "metadata": {
    "ExecuteTime": {
     "end_time": "2025-07-03T09:21:50.161902Z",
     "start_time": "2025-07-03T09:21:50.139841Z"
    }
   },
   "cell_type": "code",
   "source": "r.lrange(\"lst\", 0, -1)",
   "id": "16fbceb4b4b10ba8",
   "outputs": [
    {
     "data": {
      "text/plain": [
       "['4', '3', '2', '1']"
      ]
     },
     "execution_count": 47,
     "metadata": {},
     "output_type": "execute_result"
    }
   ],
   "execution_count": 47
  },
  {
   "metadata": {},
   "cell_type": "code",
   "outputs": [],
   "execution_count": null,
   "source": "# r.llen()",
   "id": "baafd0c62e9c5c37"
  },
  {
   "metadata": {},
   "cell_type": "code",
   "outputs": [],
   "execution_count": null,
   "source": "# r.ltrim()  # 删除",
   "id": "1558e28d71035252"
  }
 ],
 "metadata": {
  "kernelspec": {
   "display_name": "development",
   "language": "python",
   "name": "python3"
  },
  "language_info": {
   "codemirror_mode": {
    "name": "ipython",
    "version": 3
   },
   "file_extension": ".py",
   "mimetype": "text/x-python",
   "name": "python",
   "nbconvert_exporter": "python",
   "pygments_lexer": "ipython3",
   "version": "3.10.12"
  }
 },
 "nbformat": 4,
 "nbformat_minor": 5
}
