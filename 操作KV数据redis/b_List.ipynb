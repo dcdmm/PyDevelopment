{
 "cells": [
  {
   "cell_type": "code",
   "execution_count": 52,
   "id": "68d12a6c",
   "metadata": {},
   "outputs": [],
   "source": [
    "import redis\n",
    "\n",
    "r = redis.Redis(host='localhost', port=6379, decode_responses=True)"
   ]
  },
  {
   "cell_type": "code",
   "execution_count": 53,
   "id": "9568dfc2",
   "metadata": {},
   "outputs": [
    {
     "name": "stdout",
     "output_type": "stream",
     "text": [
      "0\n"
     ]
    }
   ],
   "source": [
    "print(r.exists('mylist'))"
   ]
  },
  {
   "cell_type": "code",
   "execution_count": 54,
   "id": "eaee7d15",
   "metadata": {},
   "outputs": [
    {
     "data": {
      "text/plain": [
       "2"
      ]
     },
     "execution_count": 54,
     "metadata": {},
     "output_type": "execute_result"
    }
   ],
   "source": [
    "# Push ``values`` onto the head of the list ``name``\n",
    "r.lpush(\"mylist\", \"world\")\n",
    "r.lpush(\"mylist\", \"hello\")"
   ]
  },
  {
   "cell_type": "code",
   "execution_count": 55,
   "id": "2c00d326",
   "metadata": {},
   "outputs": [
    {
     "name": "stdout",
     "output_type": "stream",
     "text": [
      "1\n",
      "['hello', 'world']\n"
     ]
    }
   ],
   "source": [
    "print(r.exists('mylist'))\n",
    "\n",
    "# Return a slice of the list ``name`` between position ``start`` and ``end``\n",
    "print(r.lrange(\"mylist\", 0, -1))"
   ]
  },
  {
   "cell_type": "code",
   "execution_count": 56,
   "id": "023f1c3f",
   "metadata": {},
   "outputs": [
    {
     "data": {
      "text/plain": [
       "6"
      ]
     },
     "execution_count": 56,
     "metadata": {},
     "output_type": "execute_result"
    }
   ],
   "source": [
    "# Push ``values`` onto the tail of the list ``name``\n",
    "r.rpush('mylist', \"dc\")\n",
    "r.rpush('mylist', \"dmm\")\n",
    "r.rpush('mylist', \"come\")\n",
    "r.rpush('mylist', \"on\")"
   ]
  },
  {
   "cell_type": "code",
   "execution_count": 57,
   "id": "74ab86c7",
   "metadata": {},
   "outputs": [
    {
     "name": "stdout",
     "output_type": "stream",
     "text": [
      "['hello', 'world', 'dc', 'dmm', 'come', 'on']\n"
     ]
    }
   ],
   "source": [
    "print(r.lrange(\"mylist\", 0, -1))"
   ]
  },
  {
   "cell_type": "code",
   "execution_count": 58,
   "id": "3f67ee74",
   "metadata": {},
   "outputs": [
    {
     "data": {
      "text/plain": [
       "['hello', 'world']"
      ]
     },
     "execution_count": 58,
     "metadata": {},
     "output_type": "execute_result"
    }
   ],
   "source": [
    "# Removes and returns the first elements of the list ``name``.\n",
    "r.lpop(\"mylist\", count=2)"
   ]
  },
  {
   "cell_type": "code",
   "execution_count": 59,
   "id": "ae4f73b1",
   "metadata": {},
   "outputs": [
    {
     "name": "stdout",
     "output_type": "stream",
     "text": [
      "['dc', 'dmm', 'come', 'on']\n"
     ]
    }
   ],
   "source": [
    "print(r.lrange(\"mylist\", 0, -1))"
   ]
  },
  {
   "cell_type": "code",
   "execution_count": 60,
   "id": "0638da31",
   "metadata": {},
   "outputs": [
    {
     "data": {
      "text/plain": [
       "['on']"
      ]
     },
     "execution_count": 60,
     "metadata": {},
     "output_type": "execute_result"
    }
   ],
   "source": [
    "# Removes and returns the last elements of the list ``name``.\n",
    "r.rpop(\"mylist\", count=1)"
   ]
  },
  {
   "cell_type": "code",
   "execution_count": 61,
   "id": "54129a35",
   "metadata": {},
   "outputs": [
    {
     "name": "stdout",
     "output_type": "stream",
     "text": [
      "['dc', 'dmm', 'come']\n"
     ]
    }
   ],
   "source": [
    "print(r.lrange(\"mylist\", 0, -1))"
   ]
  },
  {
   "cell_type": "code",
   "execution_count": 62,
   "id": "83cc953e",
   "metadata": {},
   "outputs": [],
   "source": [
    "for key in r.keys():\n",
    "    r.delete(key)"
   ]
  }
 ],
 "metadata": {
  "kernelspec": {
   "display_name": "development",
   "language": "python",
   "name": "python3"
  },
  "language_info": {
   "codemirror_mode": {
    "name": "ipython",
    "version": 3
   },
   "file_extension": ".py",
   "mimetype": "text/x-python",
   "name": "python",
   "nbconvert_exporter": "python",
   "pygments_lexer": "ipython3",
   "version": "3.10.12"
  }
 },
 "nbformat": 4,
 "nbformat_minor": 5
}
