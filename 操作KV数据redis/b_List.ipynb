{
 "cells": [
  {
   "cell_type": "code",
   "execution_count": 1,
   "id": "68d12a6c",
   "metadata": {},
   "outputs": [],
   "source": [
    "import redis\n",
    "\n",
    "r = redis.Redis(host='localhost', port=6379, password=\"qwer123456\", decode_responses=True)"
   ]
  },
  {
   "cell_type": "code",
   "execution_count": 2,
   "id": "9568dfc2",
   "metadata": {},
   "outputs": [
    {
     "name": "stdout",
     "output_type": "stream",
     "text": [
      "0\n"
     ]
    }
   ],
   "source": [
    "print(r.exists('mylist'))"
   ]
  },
  {
   "cell_type": "code",
   "execution_count": 3,
   "id": "eaee7d15",
   "metadata": {},
   "outputs": [
    {
     "name": "stdout",
     "output_type": "stream",
     "text": [
      "1\n",
      "2\n"
     ]
    }
   ],
   "source": [
    "# Push ``values`` onto the head of the list ``name``\n",
    "print(r.lpush(\"mylist\", \"world\"))\n",
    "print(r.lpush(\"mylist\", \"hello\"))"
   ]
  },
  {
   "cell_type": "code",
   "execution_count": 4,
   "id": "2c00d326",
   "metadata": {},
   "outputs": [
    {
     "name": "stdout",
     "output_type": "stream",
     "text": [
      "1\n",
      "['hello', 'world']\n"
     ]
    }
   ],
   "source": [
    "print(r.exists('mylist'))\n",
    "\n",
    "# Return a slice of the list ``name`` between position ``start`` and ``end``\n",
    "print(r.lrange(\"mylist\", 0, -1))"
   ]
  },
  {
   "cell_type": "code",
   "execution_count": 5,
   "id": "2b1ff086",
   "metadata": {},
   "outputs": [
    {
     "name": "stdout",
     "output_type": "stream",
     "text": [
      "2\n",
      "world\n",
      "None\n"
     ]
    }
   ],
   "source": [
    "# Return the length of the list ``name``\n",
    "print(r.llen(\"mylist\"))\n",
    "\n",
    "# Return the item from list ``name`` at position ``index``\n",
    "# Negative indexes are supported and will return an item at the end of the list\n",
    "print(r.lindex(\"mylist\", index=1))\n",
    "print(r.lindex(\"mylist\", index=2))"
   ]
  },
  {
   "cell_type": "code",
   "execution_count": 6,
   "id": "023f1c3f",
   "metadata": {},
   "outputs": [
    {
     "name": "stdout",
     "output_type": "stream",
     "text": [
      "3\n",
      "4\n",
      "5\n",
      "6\n"
     ]
    }
   ],
   "source": [
    "# Push ``values`` onto the tail of the list ``name``\n",
    "print(r.rpush('mylist', \"dc\"))\n",
    "print(r.rpush('mylist', \"dmm\"))\n",
    "print(r.rpush('mylist', \"come\"))\n",
    "print(r.rpush('mylist', \"on\"))"
   ]
  },
  {
   "cell_type": "code",
   "execution_count": 7,
   "id": "74ab86c7",
   "metadata": {},
   "outputs": [
    {
     "name": "stdout",
     "output_type": "stream",
     "text": [
      "['hello', 'world', 'dc', 'dmm', 'come', 'on']\n"
     ]
    }
   ],
   "source": [
    "print(r.lrange(\"mylist\", 0, -1))"
   ]
  },
  {
   "cell_type": "code",
   "execution_count": 8,
   "id": "3f67ee74",
   "metadata": {},
   "outputs": [
    {
     "name": "stdout",
     "output_type": "stream",
     "text": [
      "['hello', 'world']\n"
     ]
    }
   ],
   "source": [
    "# Removes and returns the first elements of the list ``name``.\n",
    "print(r.lpop(\"mylist\", count=2))"
   ]
  },
  {
   "cell_type": "code",
   "execution_count": 9,
   "id": "ae4f73b1",
   "metadata": {},
   "outputs": [
    {
     "name": "stdout",
     "output_type": "stream",
     "text": [
      "['dc', 'dmm', 'come', 'on']\n"
     ]
    }
   ],
   "source": [
    "print(r.lrange(\"mylist\", 0, -1))"
   ]
  },
  {
   "cell_type": "code",
   "execution_count": 10,
   "id": "0638da31",
   "metadata": {},
   "outputs": [
    {
     "name": "stdout",
     "output_type": "stream",
     "text": [
      "['on']\n"
     ]
    }
   ],
   "source": [
    "# Removes and returns the last elements of the list ``name``.\n",
    "print(r.rpop(\"mylist\", count=1))"
   ]
  },
  {
   "cell_type": "code",
   "execution_count": 11,
   "id": "54129a35",
   "metadata": {},
   "outputs": [
    {
     "name": "stdout",
     "output_type": "stream",
     "text": [
      "['dc', 'dmm', 'come']\n"
     ]
    }
   ],
   "source": [
    "print(r.lrange(\"mylist\", 0, -1))"
   ]
  },
  {
   "cell_type": "code",
   "execution_count": 12,
   "id": "83cc953e",
   "metadata": {},
   "outputs": [],
   "source": [
    "for key in r.keys():\n",
    "    r.delete(key)"
   ]
  }
 ],
 "metadata": {
  "kernelspec": {
   "display_name": "development",
   "language": "python",
   "name": "python3"
  },
  "language_info": {
   "codemirror_mode": {
    "name": "ipython",
    "version": 3
   },
   "file_extension": ".py",
   "mimetype": "text/x-python",
   "name": "python",
   "nbconvert_exporter": "python",
   "pygments_lexer": "ipython3",
   "version": "3.10.12"
  }
 },
 "nbformat": 4,
 "nbformat_minor": 5
}
