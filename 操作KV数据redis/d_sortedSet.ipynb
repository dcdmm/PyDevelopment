{
 "cells": [
  {
   "cell_type": "code",
   "execution_count": 1,
   "id": "36972bf9",
   "metadata": {},
   "outputs": [],
   "source": [
    "import redis"
   ]
  },
  {
   "cell_type": "code",
   "execution_count": 2,
   "id": "bd02b30c",
   "metadata": {},
   "outputs": [],
   "source": [
    "r = redis.Redis(host='localhost', port=6379, password=\"qwer123456\", decode_responses=True)"
   ]
  },
  {
   "cell_type": "code",
   "execution_count": 3,
   "id": "e807a1a8",
   "metadata": {},
   "outputs": [
    {
     "name": "stdout",
     "output_type": "stream",
     "text": [
      "1\n",
      "1\n",
      "2\n",
      "2\n"
     ]
    }
   ],
   "source": [
    "# Set any number of element-name, score pairs to the key ``name``. Pairs are specified as a dict of element-names keys to score values.\n",
    "print(r.zadd(\"myzset\", {\"one\": 1}))\n",
    "print(r.zadd(\"myzset\", {\"uno\": 1}))\n",
    "print(r.zadd(\"myzset\", {\"two\": 2, \"three\": 3}))\n",
    "print(r.zadd(\"myzset\", {\"four\": 4, \"five\": 3}))"
   ]
  },
  {
   "cell_type": "code",
   "execution_count": 4,
   "id": "a092b906",
   "metadata": {},
   "outputs": [
    {
     "name": "stdout",
     "output_type": "stream",
     "text": [
      "1.0\n",
      "0\n"
     ]
    }
   ],
   "source": [
    "# Return the score of element ``value`` in sorted set ``name``\n",
    "print(r.zscore(\"myzset\", \"one\"))\n",
    "\n",
    "#  Returns a 0-based value indicating the rank of ``value`` in sorted set ``name``.\n",
    "print(r.zrank(\"myzset\", \"one\"))"
   ]
  },
  {
   "cell_type": "code",
   "execution_count": 5,
   "id": "1bbf7e64",
   "metadata": {},
   "outputs": [
    {
     "name": "stdout",
     "output_type": "stream",
     "text": [
      "[('one', 1.0), ('uno', 1.0), ('two', 2.0), ('five', 3.0), ('three', 3.0), ('four', 4.0)]\n"
     ]
    }
   ],
   "source": [
    "# Return a range of values from sorted set ``name`` between ``start`` and ``end`` sorted in ascending order.\n",
    "# * ``start`` and ``end`` can be negative, indicating the end of the range.\n",
    "# * ``desc`` a boolean indicating whether to sort the results in reversed order.\n",
    "# * ``withscores`` indicates to return the scores along with the values. The return type is a list of (value, score) pairs.\n",
    "print(r.zrange(\"myzset\", 0, -1, desc=False, withscores=True))"
   ]
  },
  {
   "cell_type": "code",
   "execution_count": 6,
   "id": "0ab10713",
   "metadata": {},
   "outputs": [
    {
     "name": "stdout",
     "output_type": "stream",
     "text": [
      "1\n",
      "2\n"
     ]
    }
   ],
   "source": [
    "# Remove member ``values`` from sorted set ``name``\n",
    "print(r.zrem(\"myzset\", \"one\"))\n",
    "print(r.zrem(\"myzset\", \"four\", \"five\"))"
   ]
  },
  {
   "cell_type": "code",
   "execution_count": 7,
   "id": "3e8ee0d6",
   "metadata": {},
   "outputs": [
    {
     "name": "stdout",
     "output_type": "stream",
     "text": [
      "[('uno', 1.0), ('two', 2.0), ('three', 3.0)]\n"
     ]
    }
   ],
   "source": [
    "print(r.zrange(\"myzset\", 0, -1, desc=False, withscores=True))"
   ]
  },
  {
   "cell_type": "code",
   "execution_count": 8,
   "id": "eab9b906",
   "metadata": {},
   "outputs": [],
   "source": [
    "for key in r.keys():\n",
    "    r.delete(key)"
   ]
  }
 ],
 "metadata": {
  "kernelspec": {
   "display_name": "development",
   "language": "python",
   "name": "python3"
  },
  "language_info": {
   "codemirror_mode": {
    "name": "ipython",
    "version": 3
   },
   "file_extension": ".py",
   "mimetype": "text/x-python",
   "name": "python",
   "nbconvert_exporter": "python",
   "pygments_lexer": "ipython3",
   "version": "3.10.12"
  }
 },
 "nbformat": 4,
 "nbformat_minor": 5
}
