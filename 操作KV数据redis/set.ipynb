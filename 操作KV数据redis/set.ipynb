{
 "cells": [
  {
   "cell_type": "code",
   "execution_count": 2,
   "id": "initial_id",
   "metadata": {
    "ExecuteTime": {
     "end_time": "2025-07-03T09:24:12.278104Z",
     "start_time": "2025-07-03T09:24:12.179078Z"
    },
    "collapsed": true
   },
   "outputs": [
    {
     "name": "stdout",
     "output_type": "stream",
     "text": [
      "True\n"
     ]
    }
   ],
   "source": [
    "import redis\n",
    "\n",
    "r = redis.Redis(host='localhost', port=6379, decode_responses=True)\n",
    "\n",
    "print(r.ping())"
   ]
  },
  {
   "cell_type": "code",
   "execution_count": null,
   "id": "8fdb74d0752083bb",
   "metadata": {
    "ExecuteTime": {
     "end_time": "2025-07-03T13:20:13.386359Z",
     "start_time": "2025-07-03T13:20:13.298043Z"
    }
   },
   "outputs": [],
   "source": ""
  },
  {
   "cell_type": "code",
   "execution_count": 5,
   "id": "7cd7b226c1d38a0",
   "metadata": {
    "ExecuteTime": {
     "end_time": "2025-07-03T09:25:01.718039Z",
     "start_time": "2025-07-03T09:25:01.708444Z"
    }
   },
   "outputs": [
    {
     "data": {
      "text/plain": [
       "0"
      ]
     },
     "execution_count": 5,
     "metadata": {},
     "output_type": "execute_result"
    }
   ],
   "source": [
    "r.sadd(\"aa\", \"bb\")\n"
   ]
  },
  {
   "cell_type": "code",
   "execution_count": 6,
   "id": "197a54f2bd81ee90",
   "metadata": {
    "ExecuteTime": {
     "end_time": "2025-07-03T09:25:12.212608Z",
     "start_time": "2025-07-03T09:25:12.202284Z"
    }
   },
   "outputs": [
    {
     "data": {
      "text/plain": [
       "1"
      ]
     },
     "execution_count": 6,
     "metadata": {},
     "output_type": "execute_result"
    }
   ],
   "source": [
    "r.sadd(\"aa\", \"cc\")"
   ]
  },
  {
   "cell_type": "code",
   "execution_count": 7,
   "id": "a8a8fd68d9d4e6f7",
   "metadata": {
    "ExecuteTime": {
     "end_time": "2025-07-03T09:25:28.670483Z",
     "start_time": "2025-07-03T09:25:28.658280Z"
    }
   },
   "outputs": [
    {
     "data": {
      "text/plain": [
       "{'bb', 'cc'}"
      ]
     },
     "execution_count": 7,
     "metadata": {},
     "output_type": "execute_result"
    }
   ],
   "source": [
    "r.smembers(\"aa\")"
   ]
  },
  {
   "cell_type": "code",
   "execution_count": null,
   "id": "bb816489647242b",
   "metadata": {},
   "outputs": [],
   "source": [
    "r.srem()"
   ]
  },
  {
   "cell_type": "code",
   "execution_count": null,
   "id": "e688b22af0a73ee0",
   "metadata": {},
   "outputs": [],
   "source": [
    "r.save()"
   ]
  },
  {
   "cell_type": "code",
   "execution_count": null,
   "id": "c1eb652f22a79a80",
   "metadata": {},
   "outputs": [],
   "source": [
    "r.bgsave()"
   ]
  },
  {
   "cell_type": "code",
   "execution_count": null,
   "id": "ab66716ab8b8ae45",
   "metadata": {},
   "outputs": [],
   "source": [
    "r.close()"
   ]
  }
 ],
 "metadata": {
  "kernelspec": {
   "display_name": "Python 3",
   "language": "python",
   "name": "python3"
  },
  "language_info": {
   "codemirror_mode": {
    "name": "ipython",
    "version": 2
   },
   "file_extension": ".py",
   "mimetype": "text/x-python",
   "name": "python",
   "nbconvert_exporter": "python",
   "pygments_lexer": "ipython2",
   "version": "2.7.6"
  }
 },
 "nbformat": 4,
 "nbformat_minor": 5
}
