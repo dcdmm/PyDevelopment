{
 "cells": [
  {
   "cell_type": "code",
   "id": "initial_id",
   "metadata": {
    "collapsed": true,
    "ExecuteTime": {
     "end_time": "2025-07-03T09:24:12.278104Z",
     "start_time": "2025-07-03T09:24:12.179078Z"
    }
   },
   "source": [
    "import redis\n",
    "\n",
    "r = redis.Redis(host='localhost', port=6379, decode_responses=True)\n",
    "\n",
    "print(r.ping())"
   ],
   "outputs": [
    {
     "name": "stdout",
     "output_type": "stream",
     "text": [
      "True\n"
     ]
    }
   ],
   "execution_count": 2
  },
  {
   "metadata": {
    "ExecuteTime": {
     "end_time": "2025-07-03T09:25:01.718039Z",
     "start_time": "2025-07-03T09:25:01.708444Z"
    }
   },
   "cell_type": "code",
   "source": "r.sadd(\"aa\", \"bb\")\n",
   "id": "7cd7b226c1d38a0",
   "outputs": [
    {
     "data": {
      "text/plain": [
       "0"
      ]
     },
     "execution_count": 5,
     "metadata": {},
     "output_type": "execute_result"
    }
   ],
   "execution_count": 5
  },
  {
   "metadata": {
    "ExecuteTime": {
     "end_time": "2025-07-03T09:25:12.212608Z",
     "start_time": "2025-07-03T09:25:12.202284Z"
    }
   },
   "cell_type": "code",
   "source": "r.sadd(\"aa\", \"cc\")",
   "id": "197a54f2bd81ee90",
   "outputs": [
    {
     "data": {
      "text/plain": [
       "1"
      ]
     },
     "execution_count": 6,
     "metadata": {},
     "output_type": "execute_result"
    }
   ],
   "execution_count": 6
  },
  {
   "metadata": {
    "ExecuteTime": {
     "end_time": "2025-07-03T09:25:28.670483Z",
     "start_time": "2025-07-03T09:25:28.658280Z"
    }
   },
   "cell_type": "code",
   "source": "r.smembers(\"aa\")",
   "id": "a8a8fd68d9d4e6f7",
   "outputs": [
    {
     "data": {
      "text/plain": [
       "{'bb', 'cc'}"
      ]
     },
     "execution_count": 7,
     "metadata": {},
     "output_type": "execute_result"
    }
   ],
   "execution_count": 7
  },
  {
   "metadata": {},
   "cell_type": "code",
   "outputs": [],
   "execution_count": null,
   "source": "r.srem()",
   "id": "bb816489647242b"
  },
  {
   "metadata": {},
   "cell_type": "code",
   "outputs": [],
   "execution_count": null,
   "source": "r.save()",
   "id": "e688b22af0a73ee0"
  },
  {
   "metadata": {},
   "cell_type": "code",
   "outputs": [],
   "execution_count": null,
   "source": "r.bgsave()",
   "id": "c1eb652f22a79a80"
  },
  {
   "metadata": {},
   "cell_type": "code",
   "outputs": [],
   "execution_count": null,
   "source": "r.close()",
   "id": "ab66716ab8b8ae45"
  }
 ],
 "metadata": {
  "kernelspec": {
   "display_name": "Python 3",
   "language": "python",
   "name": "python3"
  },
  "language_info": {
   "codemirror_mode": {
    "name": "ipython",
    "version": 2
   },
   "file_extension": ".py",
   "mimetype": "text/x-python",
   "name": "python",
   "nbconvert_exporter": "python",
   "pygments_lexer": "ipython2",
   "version": "2.7.6"
  }
 },
 "nbformat": 4,
 "nbformat_minor": 5
}
