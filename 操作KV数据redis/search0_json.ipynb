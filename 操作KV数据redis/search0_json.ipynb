{
 "cells": [
  {
   "cell_type": "code",
   "execution_count": 1,
   "id": "7b719c2b",
   "metadata": {},
   "outputs": [],
   "source": [
    "import numpy as np\n",
    "from redisvl.index import SearchIndex\n",
    "from redis import Redis\n",
    "from redisvl.query import VectorQuery, FilterQuery"
   ]
  },
  {
   "cell_type": "code",
   "execution_count": 2,
   "id": "cc3a4609",
   "metadata": {},
   "outputs": [],
   "source": [
    "client = Redis.from_url(\"redis://localhost:6379\")"
   ]
  },
  {
   "cell_type": "code",
   "execution_count": 3,
   "id": "6ccda03c",
   "metadata": {},
   "outputs": [],
   "source": [
    "schema = {\n",
    "    \"index\": {\n",
    "        \"name\": \"user_simple\",  # 索引名称\n",
    "        \"prefix\": \"user_simple_docs\",  # 索引键前缀\n",
    "        \"storage_type\": \"json\" # 存储类型(hash或json)\n",
    "    },\n",
    "    \"fields\": [\n",
    "        {\"name\": \"user\", \"type\": \"tag\"},  # 参考elasticsearch的keyword类型\n",
    "        {\"name\": \"job\", \"type\": \"text\"},  # 参考elasticsearch的text类型\n",
    "        {\"name\": \"age\", \"type\": \"numeric\"},  # 参考elasticsearch的number类型\n",
    "        {\n",
    "            \"name\": \"user_embedding\",\n",
    "            \"type\": \"vector\", \n",
    "            \"attrs\": {\n",
    "                \"dims\": 3,  # 向量维度\n",
    "                \"distance_metric\": \"cosine\",  # Metric for measuring query relevance (COSINE, L2, IP).\n",
    "                \"algorithm\": \"flat\",  # Indexing algorithm (flat or hnsw).\n",
    "                \"datatype\": \"float32\"  # Float datatype of the vector (bfloat16, float16, float32, float64).\n",
    "            }\n",
    "        }\n",
    "    ]\n",
    "}\n",
    "index = SearchIndex.from_dict(schema, redis_client=client, validate_on_load=True)"
   ]
  },
  {
   "cell_type": "code",
   "execution_count": 4,
   "id": "b0aa76d8",
   "metadata": {},
   "outputs": [],
   "source": [
    "index.create(overwrite=True)"
   ]
  },
  {
   "cell_type": "code",
   "execution_count": 5,
   "id": "efe8723a",
   "metadata": {},
   "outputs": [
    {
     "name": "stdout",
     "output_type": "stream",
     "text": [
      "['user_simple_docs:01K38EMZQS24T4N2ZMTEFBFXMB', 'user_simple_docs:01K38EMZS5GRC86ERMD0J51PWS', 'user_simple_docs:01K38EMZTD13C74H1Z62J5BWX4']\n"
     ]
    }
   ],
   "source": [
    "data = [\n",
    "    {\n",
    "        'user': 'john',\n",
    "        'age': 1,\n",
    "        'job': 'engineer',\n",
    "        'user_embedding': np.array([0.1, 0.1, 0.5], dtype=np.float32)\n",
    "    },\n",
    "    {\n",
    "        'user': 'mary',\n",
    "        'age': 2,\n",
    "        'job': 'doctor',\n",
    "        'user_embedding': np.array([0.2, 0.1, 0.5], dtype=np.float32)\n",
    "    },\n",
    "    {\n",
    "        'user': 'joe',\n",
    "        'age': 3,\n",
    "        'job': 'dentist',\n",
    "        'user_embedding': np.array([0.9, 0.9, 0.1], dtype=np.float32)\n",
    "    }\n",
    "]\n",
    "\n",
    "keys = index.load(data)\n",
    "\n",
    "# By default, load will create a unique Redis key as a combination of the index key prefix and a random ULID. \n",
    "print(keys)"
   ]
  },
  {
   "cell_type": "code",
   "execution_count": 6,
   "id": "d6e80423",
   "metadata": {},
   "outputs": [
    {
     "data": {
      "text/plain": [
       "[{'id': 'user_simple_docs:01K38EMZQS24T4N2ZMTEFBFXMB',\n",
       "  'vector_distance': '0',\n",
       "  'user': 'john',\n",
       "  'age': '1',\n",
       "  'job': 'engineer',\n",
       "  'user_embedding': '[0.10000000149011612,0.10000000149011612,0.5]'},\n",
       " {'id': 'user_simple_docs:01K38EMZS5GRC86ERMD0J51PWS',\n",
       "  'vector_distance': '0.0161802768707',\n",
       "  'user': 'mary',\n",
       "  'age': '2',\n",
       "  'job': 'doctor',\n",
       "  'user_embedding': '[0.20000000298023224,0.10000000149011612,0.5]'},\n",
       " {'id': 'user_simple_docs:01K38EMZTD13C74H1Z62J5BWX4',\n",
       "  'vector_distance': '0.653301358223',\n",
       "  'user': 'joe',\n",
       "  'age': '3',\n",
       "  'job': 'dentist',\n",
       "  'user_embedding': '[0.8999999761581421,0.8999999761581421,0.10000000149011612]'}]"
      ]
     },
     "execution_count": 6,
     "metadata": {},
     "output_type": "execute_result"
    }
   ],
   "source": [
    "query_vector = VectorQuery(\n",
    "    vector=[0.1, 0.1, 0.5],\n",
    "    vector_field_name=\"user_embedding\",\n",
    "    return_fields=[\"user\", \"age\", \"job\", \"vector_distance\", 'user_embedding'],\n",
    "    num_results=3\n",
    ")\n",
    "results_vector = index.query(query_vector)\n",
    "results_vector"
   ]
  },
  {
   "cell_type": "code",
   "execution_count": 7,
   "id": "30642a0b",
   "metadata": {},
   "outputs": [
    {
     "data": {
      "text/plain": [
       "[{'id': 'user_simple_docs:01K38EMZQS24T4N2ZMTEFBFXMB',\n",
       "  'user': 'john',\n",
       "  'age': '1',\n",
       "  'job': 'engineer',\n",
       "  'user_embedding': '[0.10000000149011612,0.10000000149011612,0.5]'},\n",
       " {'id': 'user_simple_docs:01K38EMZS5GRC86ERMD0J51PWS',\n",
       "  'user': 'mary',\n",
       "  'age': '2',\n",
       "  'job': 'doctor',\n",
       "  'user_embedding': '[0.20000000298023224,0.10000000149011612,0.5]'},\n",
       " {'id': 'user_simple_docs:01K38EMZTD13C74H1Z62J5BWX4',\n",
       "  'user': 'joe',\n",
       "  'age': '3',\n",
       "  'job': 'dentist',\n",
       "  'user_embedding': '[0.8999999761581421,0.8999999761581421,0.10000000149011612]'}]"
      ]
     },
     "execution_count": 7,
     "metadata": {},
     "output_type": "execute_result"
    }
   ],
   "source": [
    "query_filter = FilterQuery(\n",
    "    filter_expression=\"*\", \n",
    "    return_fields=[\"user\", \"age\", \"job\", 'user_embedding']\n",
    ")\n",
    "\n",
    "results_filter = index.query(query_filter)\n",
    "results_filter"
   ]
  },
  {
   "cell_type": "code",
   "execution_count": 8,
   "id": "80289139",
   "metadata": {},
   "outputs": [
    {
     "data": {
      "text/plain": [
       "3"
      ]
     },
     "execution_count": 8,
     "metadata": {},
     "output_type": "execute_result"
    }
   ],
   "source": [
    "# Clear all data from Redis associated with the index\n",
    "index.clear()"
   ]
  },
  {
   "cell_type": "code",
   "execution_count": 9,
   "id": "bdc257f5",
   "metadata": {},
   "outputs": [
    {
     "data": {
      "text/plain": [
       "True"
      ]
     },
     "execution_count": 9,
     "metadata": {},
     "output_type": "execute_result"
    }
   ],
   "source": [
    "# Check if the index exists in Redis.\n",
    "index.exists()"
   ]
  },
  {
   "cell_type": "code",
   "execution_count": 10,
   "id": "7b95e0f6",
   "metadata": {},
   "outputs": [],
   "source": [
    "# Remove / delete the index in its entirety\n",
    "index.delete()"
   ]
  },
  {
   "cell_type": "code",
   "execution_count": 11,
   "id": "858ca668",
   "metadata": {},
   "outputs": [
    {
     "data": {
      "text/plain": [
       "False"
      ]
     },
     "execution_count": 11,
     "metadata": {},
     "output_type": "execute_result"
    }
   ],
   "source": [
    "index.exists()"
   ]
  }
 ],
 "metadata": {
  "kernelspec": {
   "display_name": "development",
   "language": "python",
   "name": "python3"
  },
  "language_info": {
   "codemirror_mode": {
    "name": "ipython",
    "version": 3
   },
   "file_extension": ".py",
   "mimetype": "text/x-python",
   "name": "python",
   "nbconvert_exporter": "python",
   "pygments_lexer": "ipython3",
   "version": "3.10.12"
  }
 },
 "nbformat": 4,
 "nbformat_minor": 5
}
