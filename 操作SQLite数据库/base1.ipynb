{
 "cells": [
  {
   "cell_type": "code",
   "execution_count": 2,
   "id": "bcdd8133",
   "metadata": {},
   "outputs": [],
   "source": [
    "import sqlite3"
   ]
  },
  {
   "cell_type": "code",
   "execution_count": null,
   "id": "5560f540",
   "metadata": {},
   "outputs": [],
   "source": [
    "with sqlite3.connect(\"db_data/base1.db\") as conn:  # 使用上下文管理器自动处理连接\n",
    "    cursor = conn.cursor()\n",
    "    cursor.execute(\"\"\"\n",
    "CREATE TABLE IF NOT EXISTS users (\n",
    "    id INTEGER PRIMARY KEY AUTOINCREMENT,\n",
    "    name TEXT NOT NULL,\n",
    "    age INTEGER,\n",
    "    email TEXT UNIQUE\n",
    ")\n",
    "\"\"\")\n",
    "    cursor.execute(\n",
    "        \"INSERT INTO users (name, age, email) VALUES (?, ?, ?)\",\n",
    "        (\"Alice\", 25, \"alice@example.com\")\n",
    "    )"
   ]
  },
  {
   "cell_type": "code",
   "execution_count": 4,
   "id": "3a5ac094",
   "metadata": {},
   "outputs": [
    {
     "name": "stdout",
     "output_type": "stream",
     "text": [
      "1\n"
     ]
    }
   ],
   "source": [
    "with sqlite3.connect(\"db_data/base1.db\") as conn:\n",
    "    cursor = conn.cursor()\n",
    "    cursor.execute(\"SELECT COUNT(*) FROM users\")\n",
    "    print(cursor.fetchone()[0])"
   ]
  }
 ],
 "metadata": {
  "kernelspec": {
   "display_name": "base",
   "language": "python",
   "name": "python3"
  },
  "language_info": {
   "codemirror_mode": {
    "name": "ipython",
    "version": 3
   },
   "file_extension": ".py",
   "mimetype": "text/x-python",
   "name": "python",
   "nbconvert_exporter": "python",
   "pygments_lexer": "ipython3",
   "version": "3.11.7"
  }
 },
 "nbformat": 4,
 "nbformat_minor": 5
}
