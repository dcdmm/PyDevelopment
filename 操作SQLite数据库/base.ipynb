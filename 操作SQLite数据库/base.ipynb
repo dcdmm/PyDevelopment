{
 "cells": [
  {
   "cell_type": "code",
   "execution_count": 69,
   "id": "a2d5af35",
   "metadata": {},
   "outputs": [],
   "source": [
    "import sqlite3"
   ]
  },
  {
   "cell_type": "code",
   "execution_count": null,
   "id": "e47c753d",
   "metadata": {},
   "outputs": [],
   "source": [
    "# 如果文件不存在则隐式创建\n",
    "conn = sqlite3.connect(\"db_data/base.db\")\n",
    "cursor = conn.cursor()\n",
    "\n",
    "\n",
    "cursor.execute(\"\"\"\n",
    "CREATE TABLE IF NOT EXISTS users (\n",
    "    id INTEGER PRIMARY KEY AUTOINCREMENT,\n",
    "    name TEXT NOT NULL,\n",
    "    age INTEGER,\n",
    "    email TEXT UNIQUE\n",
    ")\n",
    "\"\"\")\n",
    "\n",
    "# 插入单条数据\n",
    "cursor.execute(\n",
    "    \"INSERT INTO users (name, age, email) VALUES (?, ?, ?)\",\n",
    "    (\"Alice\", 25, \"alice@example.com\")\n",
    ")\n",
    "\n",
    "users = [\n",
    "    (\"Bob\", 30, \"bob@example.com\"),\n",
    "    (\"Charlie\", 28, \"charlie@example.com\")\n",
    "]\n",
    "# 批量插入多条数据\n",
    "cursor.executemany(\n",
    "    \"INSERT INTO users (name, age, email) VALUES (?, ?, ?)\", users\n",
    ")\n",
    "conn.commit()"
   ]
  },
  {
   "cell_type": "code",
   "execution_count": 71,
   "id": "8b5f6e90",
   "metadata": {},
   "outputs": [
    {
     "name": "stdout",
     "output_type": "stream",
     "text": [
      "名称:  id  类型:  INTEGER  非空:  0  默认值:  None  是否主键:  1\n",
      "名称:  name  类型:  TEXT  非空:  1  默认值:  None  是否主键:  0\n",
      "名称:  age  类型:  INTEGER  非空:  0  默认值:  None  是否主键:  0\n",
      "名称:  email  类型:  TEXT  非空:  0  默认值:  None  是否主键:  0\n"
     ]
    }
   ],
   "source": [
    "cursor.execute(\"PRAGMA table_info(users)\")\n",
    "columns = cursor.fetchall()  # 查看表的结构\n",
    "\n",
    "for col in columns:\n",
    "    print(\"名称: \", col[1], ' 类型: ', col[2], ' 非空: ', col[3], ' 默认值: ', col[4], ' 是否主键: ', col[5])"
   ]
  },
  {
   "cell_type": "code",
   "execution_count": 72,
   "id": "bcf72327",
   "metadata": {},
   "outputs": [
    {
     "name": "stdout",
     "output_type": "stream",
     "text": [
      "(1, 'Alice', 25, 'alice@example.com')\n",
      "(2, 'Bob', 30, 'bob@example.com')\n",
      "(3, 'Charlie', 28, 'charlie@example.com')\n"
     ]
    }
   ],
   "source": [
    "cursor.execute(\"SELECT * FROM users\")  # 查询语句\n",
    "rows = cursor.fetchall()\n",
    "for row in rows:\n",
    "    print(row)"
   ]
  },
  {
   "cell_type": "code",
   "execution_count": 73,
   "id": "475b0671",
   "metadata": {},
   "outputs": [
    {
     "name": "stdout",
     "output_type": "stream",
     "text": [
      "[('Bob', 30), ('Charlie', 28)]\n"
     ]
    }
   ],
   "source": [
    "cursor.execute(\"SELECT name, age FROM users WHERE age > ?\", (26,))  # 条件查询\n",
    "print(cursor.fetchall())"
   ]
  },
  {
   "cell_type": "code",
   "execution_count": 74,
   "id": "3da8d9f5",
   "metadata": {},
   "outputs": [],
   "source": [
    "cursor.execute(\n",
    "    \"UPDATE users SET age = ? WHERE name = ?\",\n",
    "    (26, \"Alice\")\n",
    ")  # 更新数据\n",
    "conn.commit()"
   ]
  },
  {
   "cell_type": "code",
   "execution_count": 75,
   "id": "5a213af9",
   "metadata": {},
   "outputs": [],
   "source": [
    "cursor.execute(\n",
    "    \"DELETE FROM users WHERE name = ?\",\n",
    "    (\"Bob\",)\n",
    ")  # 删除数据\n",
    "conn.commit()  "
   ]
  },
  {
   "cell_type": "code",
   "execution_count": 76,
   "id": "105c2c3a",
   "metadata": {},
   "outputs": [
    {
     "name": "stdout",
     "output_type": "stream",
     "text": [
      "[(1, 'Alice', 26, 'alice@example.com'), (3, 'Charlie', 28, 'charlie@example.com')]\n"
     ]
    }
   ],
   "source": [
    "cursor.execute(\"SELECT * FROM users\") \n",
    "rows = cursor.fetchall()\n",
    "print(rows)"
   ]
  },
  {
   "cell_type": "code",
   "execution_count": 77,
   "id": "b45fcecf",
   "metadata": {},
   "outputs": [],
   "source": [
    "cursor.execute(\"DROP TABLE IF EXISTS users\")  # 删除表\n",
    "conn.commit()"
   ]
  },
  {
   "cell_type": "code",
   "execution_count": 78,
   "id": "5957c688",
   "metadata": {},
   "outputs": [],
   "source": [
    "conn.close()"
   ]
  }
 ],
 "metadata": {
  "kernelspec": {
   "display_name": "development",
   "language": "python",
   "name": "python3"
  },
  "language_info": {
   "codemirror_mode": {
    "name": "ipython",
    "version": 3
   },
   "file_extension": ".py",
   "mimetype": "text/x-python",
   "name": "python",
   "nbconvert_exporter": "python",
   "pygments_lexer": "ipython3",
   "version": "3.10.12"
  }
 },
 "nbformat": 4,
 "nbformat_minor": 5
}
