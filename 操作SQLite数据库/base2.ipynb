{
 "cells": [
  {
   "cell_type": "code",
   "execution_count": 4,
   "id": "9425bde6",
   "metadata": {},
   "outputs": [],
   "source": [
    "import sqlite3"
   ]
  },
  {
   "cell_type": "code",
   "execution_count": null,
   "id": "a69ad1c4",
   "metadata": {},
   "outputs": [],
   "source": [
    "disk_conn = sqlite3.connect(\"db_data/base1.db\")\n",
    "mem_conn = sqlite3.connect(\":memory:\")  # 内存数据库\n",
    "disk_conn.backup(mem_conn)  # 磁盘数据库内容复制到内存数据库\n",
    "disk_conn.close()"
   ]
  },
  {
   "cell_type": "code",
   "execution_count": null,
   "id": "e3c3d177",
   "metadata": {},
   "outputs": [
    {
     "name": "stdout",
     "output_type": "stream",
     "text": [
      "[(1, 'Alice', 25, 'alice@example.com')]\n"
     ]
    }
   ],
   "source": [
    "cursor = mem_conn.cursor()\n",
    "cursor.execute(\"SELECT * FROM users\")  # 操作内存数据库(更快)\n",
    "rows = cursor.fetchall()\n",
    "print(rows)\n",
    "\n",
    "mem_conn.close()"
   ]
  }
 ],
 "metadata": {
  "kernelspec": {
   "display_name": "development",
   "language": "python",
   "name": "python3"
  },
  "language_info": {
   "codemirror_mode": {
    "name": "ipython",
    "version": 3
   },
   "file_extension": ".py",
   "mimetype": "text/x-python",
   "name": "python",
   "nbconvert_exporter": "python",
   "pygments_lexer": "ipython3",
   "version": "3.10.12"
  }
 },
 "nbformat": 4,
 "nbformat_minor": 5
}
