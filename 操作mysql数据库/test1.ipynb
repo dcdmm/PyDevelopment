{
 "cells": [
  {
   "cell_type": "code",
   "execution_count": 10,
   "id": "initial_id",
   "metadata": {
    "collapsed": true,
    "ExecuteTime": {
     "end_time": "2024-02-27T08:37:43.859665600Z",
     "start_time": "2024-02-27T08:37:43.842468400Z"
    }
   },
   "outputs": [],
   "source": [
    "from MySQL_model import MysqlDB\n",
    "import pymysql"
   ]
  },
  {
   "cell_type": "code",
   "outputs": [],
   "source": [
    "mysqldb = MysqlDB('localhost', 'qwer123456', 'tests')"
   ],
   "metadata": {
    "collapsed": false,
    "ExecuteTime": {
     "end_time": "2024-02-27T08:37:43.867183600Z",
     "start_time": "2024-02-27T08:37:43.852393600Z"
    }
   },
   "id": "24534972e9fec7c7",
   "execution_count": 11
  },
  {
   "cell_type": "code",
   "outputs": [],
   "source": [
    "# 参数化数据更新(不需要手动为字符串值添加单引号)\n",
    "sql_insert = \"\"\"\n",
    "INSERT INTO book (id, bName, price) VALUES (%s, %s, %s);\n",
    "\"\"\"\n",
    "\n",
    "try:\n",
    "    mysqldb.change_data(sql_insert, [99, 'go', 58.0])\n",
    "except pymysql.Error as e:\n",
    "    print(\"数据更新失败: \" + str(e))\n",
    "    # 发生错误时回滚\n",
    "    mysqldb.rollback()\n",
    "finally:\n",
    "    # 关闭数据库连接\n",
    "    mysqldb.close_con()"
   ],
   "metadata": {
    "collapsed": false,
    "ExecuteTime": {
     "end_time": "2024-02-27T08:37:43.902028600Z",
     "start_time": "2024-02-27T08:37:43.868182500Z"
    }
   },
   "id": "8acfb47dde737c46",
   "execution_count": 12
  }
 ],
 "metadata": {
  "kernelspec": {
   "display_name": "Python 3",
   "language": "python",
   "name": "python3"
  },
  "language_info": {
   "codemirror_mode": {
    "name": "ipython",
    "version": 2
   },
   "file_extension": ".py",
   "mimetype": "text/x-python",
   "name": "python",
   "nbconvert_exporter": "python",
   "pygments_lexer": "ipython2",
   "version": "2.7.6"
  }
 },
 "nbformat": 4,
 "nbformat_minor": 5
}
