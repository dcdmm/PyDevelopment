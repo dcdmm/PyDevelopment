{
 "cells": [
  {
   "cell_type": "code",
   "id": "bb4f3b22",
   "metadata": {
    "ExecuteTime": {
     "end_time": "2025-05-15T10:50:30.923738Z",
     "start_time": "2025-05-15T10:50:30.920160Z"
    }
   },
   "source": [
    "from mysql.connector import pooling\n",
    "from concurrent.futures import ThreadPoolExecutor"
   ],
   "outputs": [],
   "execution_count": 29
  },
  {
   "cell_type": "code",
   "id": "64764a40",
   "metadata": {
    "ExecuteTime": {
     "end_time": "2025-05-15T10:50:31.159711Z",
     "start_time": "2025-05-15T10:50:30.932965Z"
    }
   },
   "source": [
    "dbconfig = {\n",
    "    'host': 'localhost',\n",
    "    'port': '19950',\n",
    "    'user': 'root',\n",
    "    'password': 'dsjk@186115!',\n",
    "    'database': 'amp',\n",
    "    'charset': 'utf8mb4'\n",
    "}\n",
    "cnxpool = pooling.MySQLConnectionPool(pool_name=\"mypool\",\n",
    "                                      pool_size=10,  # The pool size. If this argument is not given, the default is 5.\n",
    "                                      **dbconfig)  # 创建线程池"
   ],
   "outputs": [],
   "execution_count": 30
  },
  {
   "cell_type": "code",
   "id": "1625b288",
   "metadata": {
    "ExecuteTime": {
     "end_time": "2025-05-15T10:50:31.201829Z",
     "start_time": "2025-05-15T10:50:31.172739Z"
    }
   },
   "source": [
    "def execute_query(query):\n",
    "    conn = cnxpool.get_connection()  # Gets a connection from the pool.\n",
    "    cursor = conn.cursor()\n",
    "    cursor.execute(query)\n",
    "    results = cursor.fetchall()\n",
    "    column_names = [desc[0] for desc in cursor.description]\n",
    "    conn.close()  # Do not close, but adds connection back to pool.\n",
    "    return results, column_names\n",
    "\n",
    "\n",
    "queries = [\n",
    "    \"SELECT id, city_name FROM ai_setting limit 1;\",\n",
    "    \"SELECT * FROM ai_bca limit 1;\",\n",
    "    \"SELECT * FROM ai_kbextra limit 1;\"\n",
    "]\n",
    "with ThreadPoolExecutor(max_workers=cnxpool.pool_size) as executor:\n",
    "    f1_result = [executor.submit(execute_query, query) for query in queries]\n",
    "    print([f1r.result() for f1r in f1_result])\n"
   ],
   "outputs": [
    {
     "name": "stdout",
     "output_type": "stream",
     "text": [
      "[([(1, '深圳市')], ['id', 'city_name']), ([(1, '保持心情平和：保持心情平和可以缓解压力，促进身体健康。可以通过娱乐、旅游、交友等方式来调节情绪。', '阴性', datetime.datetime(2024, 7, 12, 9, 59, 25))], ['bid', 'context', 'diag_name', 'update_time']), ([(306, 2499, '*', '鳞状上皮细胞癌抗原偏高', '', '', 0, 0, '轻度', '5.00', '19.99', 0, 4, 0, 199, 0, '建议1月后复查，如复查仍偏高请专科就诊', '鳞状细胞癌相关抗原(SCC)是一种较好的鳞状细胞癌标志物。SCC对宫颈、肺、食管和头颈部鳞癌的诊断、疗效监测、复发监测以及评价预后有较大意义。SCC是最早用于诊断鳞癌的肿瘤标志物，患子宫颈癌、鼻咽癌、肺鳞癌、食管癌时，血清SCC升高。一些良性疾病，如肝炎、肝硬化、胰腺炎、肺炎、结核、湿疹、银屑病等， SCC也有一定程度的升高。肾功能障碍也会引起SCC水平升高。', datetime.datetime(2025, 4, 18, 17, 19, 22), 'lijingrong@183.14.30.199', 1)], ['eid', 'tid', 'use_by', 't_name', 'normal_name', 'main_name', 'locked', 'doc_id', 'e_degree', 'e_from', 'e_to', 'fixed_value', 'e_classify', 'age_from', 'age_to', 'e_gender', 'e_advice', 'e_explain', 'updatetime', 'updated_by', 'tmptype'])]\n"
     ]
    }
   ],
   "execution_count": 31
  }
 ],
 "metadata": {
  "kernelspec": {
   "display_name": "development",
   "language": "python",
   "name": "python3"
  },
  "language_info": {
   "codemirror_mode": {
    "name": "ipython",
    "version": 3
   },
   "file_extension": ".py",
   "mimetype": "text/x-python",
   "name": "python",
   "nbconvert_exporter": "python",
   "pygments_lexer": "ipython3",
   "version": "3.10.12"
  }
 },
 "nbformat": 4,
 "nbformat_minor": 5
}
