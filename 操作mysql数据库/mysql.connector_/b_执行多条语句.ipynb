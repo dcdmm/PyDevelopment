{
 "cells": [
  {
   "cell_type": "code",
   "execution_count": 5,
   "id": "2be98bbe",
   "metadata": {},
   "outputs": [],
   "source": [
    "import mysql.connector as mysql"
   ]
  },
  {
   "cell_type": "code",
   "execution_count": 6,
   "id": "12bad429",
   "metadata": {},
   "outputs": [],
   "source": [
    "cnx = mysql.connect(\n",
    "    host='localhost',\n",
    "    port='19950',\n",
    "    user='root',\n",
    "    password='dsjk@186115!',\n",
    "    database='amp',\n",
    "    charset='utf8mb4'\n",
    "    )\n",
    "\n",
    "sqls = \"\"\"\n",
    "SELECT id, city_name FROM ai_setting limit 2;\n",
    "SELECT * FROM ai_bca limit 2;\n",
    "SELECT * FROM ai_kbextra limit 2;\n",
    "\"\"\"\n",
    "\n",
    "with cnx.cursor() as cur:\n",
    "    cur.execute(sqls)\n",
    "    all_result = [result_set for _, result_set in cur.fetchsets()]"
   ]
  },
  {
   "cell_type": "code",
   "execution_count": 7,
   "id": "a1312a6c",
   "metadata": {},
   "outputs": [
    {
     "data": {
      "text/plain": [
       "[[(1, '深圳市'), (2, '深圳市')],\n",
       " [(1,\n",
       "   '保持心情平和：保持心情平和可以缓解压力，促进身体健康。可以通过娱乐、旅游、交友等方式来调节情绪。',\n",
       "   '阴性',\n",
       "   datetime.datetime(2024, 7, 12, 9, 59, 25)),\n",
       "  (2,\n",
       "   '您的体型以身体质量指数为衡量标准，体重适中，体脂肪也正常。',\n",
       "   '阴性',\n",
       "   datetime.datetime(2024, 7, 12, 9, 59, 25))],\n",
       " [(306,\n",
       "   2499,\n",
       "   '*',\n",
       "   '鳞状上皮细胞癌抗原偏高',\n",
       "   '',\n",
       "   '',\n",
       "   0,\n",
       "   0,\n",
       "   '轻度',\n",
       "   '5.00',\n",
       "   '19.99',\n",
       "   0,\n",
       "   4,\n",
       "   0,\n",
       "   199,\n",
       "   0,\n",
       "   '建议1月后复查，如复查仍偏高请专科就诊',\n",
       "   '鳞状细胞癌相关抗原(SCC)是一种较好的鳞状细胞癌标志物。SCC对宫颈、肺、食管和头颈部鳞癌的诊断、疗效监测、复发监测以及评价预后有较大意义。SCC是最早用于诊断鳞癌的肿瘤标志物，患子宫颈癌、鼻咽癌、肺鳞癌、食管癌时，血清SCC升高。一些良性疾病，如肝炎、肝硬化、胰腺炎、肺炎、结核、湿疹、银屑病等， SCC也有一定程度的升高。肾功能障碍也会引起SCC水平升高。',\n",
       "   datetime.datetime(2025, 4, 18, 17, 19, 22),\n",
       "   'lijingrong@183.14.30.199',\n",
       "   1),\n",
       "  (2,\n",
       "   119,\n",
       "   '*',\n",
       "   '癌胚抗原偏高',\n",
       "   '',\n",
       "   '',\n",
       "   0,\n",
       "   0,\n",
       "   '重阳',\n",
       "   '1900.00',\n",
       "   '9999.99',\n",
       "   0,\n",
       "   2,\n",
       "   0,\n",
       "   199,\n",
       "   0,\n",
       "   '请及时往肿瘤内科或肿瘤科就诊',\n",
       "   '癌胚抗原（CEA）是目前较为常用的肿瘤标志物。CEA升高除见于胃肠道肿瘤（如结肠癌、胰腺癌和胃癌等）外，也可见于其他恶性肿瘤（如肺癌、乳腺癌和卵巢癌等），在有长期吸烟史及一些良性消化道疾病患者CEA也会升高。',\n",
       "   datetime.datetime(2025, 3, 13, 15, 55, 36),\n",
       "   'fangrulin@183.14.133.146',\n",
       "   1)]]"
      ]
     },
     "execution_count": 7,
     "metadata": {},
     "output_type": "execute_result"
    }
   ],
   "source": [
    "all_result"
   ]
  },
  {
   "cell_type": "code",
   "execution_count": 8,
   "id": "685a2bcb",
   "metadata": {},
   "outputs": [],
   "source": [
    "cnx.close()"
   ]
  }
 ],
 "metadata": {
  "kernelspec": {
   "display_name": "development",
   "language": "python",
   "name": "python3"
  },
  "language_info": {
   "codemirror_mode": {
    "name": "ipython",
    "version": 3
   },
   "file_extension": ".py",
   "mimetype": "text/x-python",
   "name": "python",
   "nbconvert_exporter": "python",
   "pygments_lexer": "ipython3",
   "version": "3.10.12"
  }
 },
 "nbformat": 4,
 "nbformat_minor": 5
}
