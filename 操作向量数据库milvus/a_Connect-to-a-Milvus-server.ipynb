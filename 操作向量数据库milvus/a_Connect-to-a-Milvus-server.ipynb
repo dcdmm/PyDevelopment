{
 "cells": [
  {
   "cell_type": "code",
   "execution_count": 6,
   "outputs": [],
   "source": [
    "from pymilvus import connections\n",
    "\n",
    "# connect to a Milvus server\n",
    "# Construct a Milvus connection. Ensure to connect to Milvus server before any operations.\n",
    "connections.connect(\n",
    "    # Alias of the Milvus connection to construct.\n",
    "    alias=\"default\",  # 默认alias=\"default\"\n",
    "    # IP address of the Milvus server.\n",
    "    host='127.0.0.1',\n",
    "    # Port of the Milvus server.\n",
    "    port='19530')"
   ],
   "metadata": {
    "collapsed": false,
    "pycharm": {
     "name": "#%%\n"
    },
    "ExecuteTime": {
     "end_time": "2023-12-21T10:24:11.611565500Z",
     "start_time": "2023-12-21T10:24:11.591466400Z"
    }
   }
  },
  {
   "cell_type": "code",
   "execution_count": 6,
   "outputs": [],
   "source": [
    "# Disconnect from a Milvus server.\n",
    "connections.disconnect(\"default\")"
   ],
   "metadata": {
    "collapsed": false,
    "pycharm": {
     "name": "#%%\n"
    }
   }
  }
 ],
 "metadata": {
  "kernelspec": {
   "display_name": "Python 3",
   "language": "python",
   "name": "python3"
  },
  "language_info": {
   "codemirror_mode": {
    "name": "ipython",
    "version": 2
   },
   "file_extension": ".py",
   "mimetype": "text/x-python",
   "name": "python",
   "nbconvert_exporter": "python",
   "pygments_lexer": "ipython2",
   "version": "2.7.6"
  }
 },
 "nbformat": 4,
 "nbformat_minor": 0
}
