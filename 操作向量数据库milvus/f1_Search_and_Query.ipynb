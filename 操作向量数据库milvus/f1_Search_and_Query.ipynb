{
 "cells": [
  {
   "cell_type": "code",
   "execution_count": 1,
   "metadata": {
    "collapsed": true
   },
   "outputs": [],
   "source": [
    "import random\n",
    "from pymilvus import connections, CollectionSchema, FieldSchema, DataType, Collection, utility\n",
    "\n",
    "connections.connect(host='127.0.0.1', port='19530')"
   ]
  },
  {
   "cell_type": "code",
   "execution_count": 2,
   "outputs": [
    {
     "data": {
      "text/plain": "(insert count: 2000, delete count: 0, upsert count: 0, timestamp: 442749867213193217, success count: 2000, err count: 0)"
     },
     "execution_count": 2,
     "metadata": {},
     "output_type": "execute_result"
    }
   ],
   "source": [
    "book_id = FieldSchema(\n",
    "    name=\"book_id\",\n",
    "    dtype=DataType.INT64,\n",
    "    is_primary=True,\n",
    ")\n",
    "book_name = FieldSchema(\n",
    "    name=\"book_name\",\n",
    "    dtype=DataType.VARCHAR,\n",
    "    max_length=200,\n",
    ")\n",
    "word_count = FieldSchema(\n",
    "    name=\"word_count\",\n",
    "    dtype=DataType.INT64,\n",
    ")\n",
    "book_intro = FieldSchema(\n",
    "    name=\"book_intro\",\n",
    "    dtype=DataType.FLOAT_VECTOR,\n",
    "    dim=2\n",
    ")\n",
    "schema = CollectionSchema(\n",
    "    fields=[book_id, book_name, word_count, book_intro],\n",
    "    description=\"Test book search\",\n",
    ")\n",
    "\n",
    "collection = Collection(\n",
    "    name=\"book_table\",\n",
    "    schema=schema,\n",
    "    using='default'\n",
    ")\n",
    "\n",
    "collection.create_index(\n",
    "    field_name=\"book_intro\",\n",
    "    index_params={\n",
    "        \"metric_type\": \"L2\",\n",
    "        \"index_type\": \"IVF_FLAT\",\n",
    "        \"params\": {\"nlist\": 1024}\n",
    "    }\n",
    ")\n",
    "\n",
    "collection.create_index(\n",
    "    field_name=\"book_name\",\n",
    "    index_name=\"scalar_index\",\n",
    ")\n",
    "\n",
    "collection.load()\n",
    "\n",
    "collection.insert([[i for i in range(2000)],\n",
    "                   [str(i) for i in range(2000)],\n",
    "                   [i for i in range(10000, 12000)],\n",
    "                   [[random.random() for _ in range(2)] for _ in range(2000)]])"
   ],
   "metadata": {
    "collapsed": false,
    "pycharm": {
     "name": "#%%\n"
    }
   }
  },
  {
   "cell_type": "code",
   "execution_count": 3,
   "outputs": [],
   "source": [
    "# Conduct a hybrid vector search\n",
    "search_param = {\n",
    "    \"data\": [[0.1, 0.2]],\n",
    "    \"anns_field\": \"book_intro\",\n",
    "    \"param\": {\n",
    "        \"metric_type\": \"L2\",\n",
    "        \"params\": {\"nprobe\": 10,\n",
    "                   \"offset\": 5}},\n",
    "    \"limit\": 10,\n",
    "    # By specifying the boolean expression, you can filter the scalar field of the entities during the vector search. The following example limits the scale of search to the vectors within a specified word_count value range.\n",
    "    \"expr\": \"word_count <= 11000\",\n",
    "    \"output_fields\": ['book_id', 'book_name', 'word_count']\n",
    "}\n",
    "results = collection.search(**search_param)"
   ],
   "metadata": {
    "collapsed": false,
    "pycharm": {
     "name": "#%%\n"
    }
   }
  },
  {
   "cell_type": "code",
   "execution_count": 4,
   "outputs": [
    {
     "name": "stdout",
     "output_type": "stream",
     "text": [
      "id: 201, distance: 2.0475592464208603e-05, entity: {'book_id': 201, 'book_name': '201', 'word_count': 10201}\n",
      "id: 598, distance: 2.5180794182233512e-05, entity: {'book_id': 598, 'book_name': '598', 'word_count': 10598}\n",
      "id: 597, distance: 2.699909600778483e-05, entity: {'book_id': 597, 'book_name': '597', 'word_count': 10597}\n",
      "id: 833, distance: 2.749182931438554e-05, entity: {'book_id': 833, 'book_name': '833', 'word_count': 10833}\n",
      "id: 828, distance: 4.841619738726877e-05, entity: {'book_id': 828, 'book_name': '828', 'word_count': 10828}\n",
      "id: 604, distance: 5.6165743444580585e-05, entity: {'book_id': 604, 'book_name': '604', 'word_count': 10604}\n",
      "id: 51, distance: 5.969862831989303e-05, entity: {'book_id': 51, 'book_name': '51', 'word_count': 10051}\n",
      "id: 433, distance: 6.296827632468194e-05, entity: {'book_id': 433, 'book_name': '433', 'word_count': 10433}\n",
      "id: 789, distance: 6.53224706184119e-05, entity: {'book_id': 789, 'book_name': '789', 'word_count': 10789}\n",
      "id: 142, distance: 8.129695197567344e-05, entity: {'book_id': 142, 'book_name': '142', 'word_count': 10142}\n"
     ]
    }
   ],
   "source": [
    "for i in range(10):\n",
    "    hit = results[0][i]\n",
    "    print(hit)"
   ],
   "metadata": {
    "collapsed": false,
    "pycharm": {
     "name": "#%%\n"
    }
   }
  },
  {
   "cell_type": "code",
   "execution_count": 5,
   "outputs": [],
   "source": [
    "collection.release()"
   ],
   "metadata": {
    "collapsed": false,
    "pycharm": {
     "name": "#%%\n"
    }
   }
  }
 ],
 "metadata": {
  "kernelspec": {
   "display_name": "Python 3",
   "language": "python",
   "name": "python3"
  },
  "language_info": {
   "codemirror_mode": {
    "name": "ipython",
    "version": 2
   },
   "file_extension": ".py",
   "mimetype": "text/x-python",
   "name": "python",
   "nbconvert_exporter": "python",
   "pygments_lexer": "ipython2",
   "version": "2.7.6"
  }
 },
 "nbformat": 4,
 "nbformat_minor": 0
}