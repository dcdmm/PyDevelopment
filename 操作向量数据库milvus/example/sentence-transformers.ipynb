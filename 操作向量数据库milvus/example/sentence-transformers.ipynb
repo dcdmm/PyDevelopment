{
 "cells": [
  {
   "cell_type": "code",
   "execution_count": 74,
   "metadata": {
    "collapsed": true
   },
   "outputs": [],
   "source": [
    "from pymilvus import connections, utility, FieldSchema, CollectionSchema, DataType, Collection\n",
    "from sentence_transformers import SentenceTransformer\n",
    "import pandas as pd\n",
    "import time"
   ]
  },
  {
   "cell_type": "code",
   "execution_count": 75,
   "outputs": [],
   "source": [
    "connections.connect(host='127.0.0.1', port='19530')\n",
    "\n",
    "if utility.has_collection('movies_db'):\n",
    "    utility.drop_collection('movies_db')\n",
    "\n",
    "fields = [\n",
    "    FieldSchema(name='id', dtype=DataType.INT64, is_primary=True, auto_id=True),\n",
    "    FieldSchema(name='title', dtype=DataType.VARCHAR, max_length=200),\n",
    "    FieldSchema(name='embedding', dtype=DataType.FLOAT_VECTOR, dim=384)\n",
    "]\n",
    "schema = CollectionSchema(fields=fields)\n",
    "collection = Collection(name='movies_db', schema=schema)\n",
    "\n",
    "index_params = {\n",
    "    'metric_type': 'L2',\n",
    "    'index_type': \"IVF_FLAT\",\n",
    "    'params': {'nlist': 1536}\n",
    "}\n",
    "collection.create_index(field_name=\"embedding\", index_params=index_params)\n",
    "collection.load()"
   ],
   "metadata": {
    "collapsed": false,
    "pycharm": {
     "name": "#%%\n"
    }
   }
  },
  {
   "cell_type": "code",
   "execution_count": 76,
   "outputs": [
    {
     "data": {
      "text/plain": "                                  Title  \\\n0                Kansas Saloon Smashers   \n1         Love by the Light of the Moon   \n2               The Martyred Presidents   \n3      Terrible Teddy, the Grizzly King   \n4                Jack and the Beanstalk   \n...                                 ...   \n34881                 The Water Diviner   \n34882                Çalgı Çengi İkimiz   \n34883                      Olanlar Oldu   \n34884                  Non-Transferable   \n34885                İstanbul Kırmızısı   \n\n                                                    Plot  \n0      A bartender is working at a saloon, serving dr...  \n1      The moon, painted with a smiling face hangs ov...  \n2      The film, just over a minute long, is composed...  \n3      Lasting just 61 seconds and consisting of two ...  \n4      The earliest known adaptation of the classic f...  \n...                                                  ...  \n34881  The film begins in 1919, just after World War ...  \n34882  Two musicians, Salih and Gürkan, described the...  \n34883  Zafer, a sailor living with his mother Döndü i...  \n34884  The film centres around a young woman named Am...  \n34885  The writer Orhan Şahin returns to İstanbul aft...  \n\n[34886 rows x 2 columns]",
      "text/html": "<div>\n<style scoped>\n    .dataframe tbody tr th:only-of-type {\n        vertical-align: middle;\n    }\n\n    .dataframe tbody tr th {\n        vertical-align: top;\n    }\n\n    .dataframe thead th {\n        text-align: right;\n    }\n</style>\n<table border=\"1\" class=\"dataframe\">\n  <thead>\n    <tr style=\"text-align: right;\">\n      <th></th>\n      <th>Title</th>\n      <th>Plot</th>\n    </tr>\n  </thead>\n  <tbody>\n    <tr>\n      <th>0</th>\n      <td>Kansas Saloon Smashers</td>\n      <td>A bartender is working at a saloon, serving dr...</td>\n    </tr>\n    <tr>\n      <th>1</th>\n      <td>Love by the Light of the Moon</td>\n      <td>The moon, painted with a smiling face hangs ov...</td>\n    </tr>\n    <tr>\n      <th>2</th>\n      <td>The Martyred Presidents</td>\n      <td>The film, just over a minute long, is composed...</td>\n    </tr>\n    <tr>\n      <th>3</th>\n      <td>Terrible Teddy, the Grizzly King</td>\n      <td>Lasting just 61 seconds and consisting of two ...</td>\n    </tr>\n    <tr>\n      <th>4</th>\n      <td>Jack and the Beanstalk</td>\n      <td>The earliest known adaptation of the classic f...</td>\n    </tr>\n    <tr>\n      <th>...</th>\n      <td>...</td>\n      <td>...</td>\n    </tr>\n    <tr>\n      <th>34881</th>\n      <td>The Water Diviner</td>\n      <td>The film begins in 1919, just after World War ...</td>\n    </tr>\n    <tr>\n      <th>34882</th>\n      <td>Çalgı Çengi İkimiz</td>\n      <td>Two musicians, Salih and Gürkan, described the...</td>\n    </tr>\n    <tr>\n      <th>34883</th>\n      <td>Olanlar Oldu</td>\n      <td>Zafer, a sailor living with his mother Döndü i...</td>\n    </tr>\n    <tr>\n      <th>34884</th>\n      <td>Non-Transferable</td>\n      <td>The film centres around a young woman named Am...</td>\n    </tr>\n    <tr>\n      <th>34885</th>\n      <td>İstanbul Kırmızısı</td>\n      <td>The writer Orhan Şahin returns to İstanbul aft...</td>\n    </tr>\n  </tbody>\n</table>\n<p>34886 rows × 2 columns</p>\n</div>"
     },
     "execution_count": 76,
     "metadata": {},
     "output_type": "execute_result"
    }
   ],
   "source": [
    "df = pd.read_csv('moiver_plots.csv')\n",
    "df = df.iloc[:, [1, 7]]\n",
    "df"
   ],
   "metadata": {
    "collapsed": false,
    "pycharm": {
     "name": "#%%\n"
    }
   }
  },
  {
   "cell_type": "code",
   "execution_count": 77,
   "outputs": [
    {
     "data": {
      "text/plain": "Batches:   0%|          | 0/16 [00:00<?, ?it/s]",
      "application/vnd.jupyter.widget-view+json": {
       "version_major": 2,
       "version_minor": 0,
       "model_id": "6761847f454f48ad897c3eb556720041"
      }
     },
     "metadata": {},
     "output_type": "display_data"
    },
    {
     "data": {
      "text/plain": "Batches:   0%|          | 0/16 [00:00<?, ?it/s]",
      "application/vnd.jupyter.widget-view+json": {
       "version_major": 2,
       "version_minor": 0,
       "model_id": "b7658a73f6e545418e5b6dbbd34e4abf"
      }
     },
     "metadata": {},
     "output_type": "display_data"
    },
    {
     "data": {
      "text/plain": "Batches:   0%|          | 0/16 [00:00<?, ?it/s]",
      "application/vnd.jupyter.widget-view+json": {
       "version_major": 2,
       "version_minor": 0,
       "model_id": "2beeff5ce243481589ad89307e77d0b2"
      }
     },
     "metadata": {},
     "output_type": "display_data"
    }
   ],
   "source": [
    "transformer = SentenceTransformer('all-MiniLM-L6-v2')\n",
    "\n",
    "\n",
    "def embed_insert(data):\n",
    "    embeds = transformer.encode(data[1])  # Plot列的句子向量\n",
    "    ins = [data[0],\n",
    "           [x for x in embeds]]\n",
    "    collection.insert(ins)\n",
    "\n",
    "\n",
    "# 共插入2000条数据,每次插入512条数据\n",
    "index_list = list(range(0, 2000, 512))\n",
    "\n",
    "for i in range(len(index_list) - 1):\n",
    "    section_df = df.iloc[index_list[i]: index_list[i + 1]]\n",
    "    data_batch = [section_df['Title'].tolist(), section_df['Plot'].tolist()]\n",
    "    embed_insert(data_batch)"
   ],
   "metadata": {
    "collapsed": false,
    "pycharm": {
     "name": "#%%\n"
    }
   }
  },
  {
   "cell_type": "code",
   "execution_count": 78,
   "outputs": [
    {
     "data": {
      "text/plain": "Batches:   0%|          | 0/1 [00:00<?, ?it/s]",
      "application/vnd.jupyter.widget-view+json": {
       "version_major": 2,
       "version_minor": 0,
       "model_id": "87879df82cf440f6ac4ec7d78b245179"
      }
     },
     "metadata": {},
     "output_type": "display_data"
    },
    {
     "name": "stdout",
     "output_type": "stream",
     "text": [
      "Title: A movie about cars\n",
      "Search Time: 0.01274418830871582\n",
      "Results:\n",
      "Youth's Endearing Charm ---- 1.095449447631836\n",
      "From Leadville to Aspen: A Hold-Up in the Rockies ---- 1.1019386053085327\n",
      "Gentlemen of Nerve ---- 1.1331942081451416\n",
      "Hot Water ---- 1.143002986907959\n",
      "High and Dizzy ---- 1.1749171018600464\n",
      "\n",
      "Title: A movie about monsters\n",
      "Search Time: 0.01274418830871582\n",
      "Results:\n",
      "The Suburbanite ---- 1.0666424036026\n",
      "Youth's Endearing Charm ---- 1.1072256565093994\n",
      "The Godless Girl ---- 1.1511220932006836\n",
      "The Shriek of Araby ---- 1.1951016187667847\n",
      "The Musketeers of Pig Alley ---- 1.1963965892791748\n",
      "\n"
     ]
    }
   ],
   "source": [
    "search_terms = ['A movie about cars', 'A movie about monsters']\n",
    "search_data = [x for x in transformer.encode(search_terms)]\n",
    "\n",
    "start = time.time()\n",
    "res = collection.search(\n",
    "    data=search_data,\n",
    "    anns_field=\"embedding\",\n",
    "    param={},\n",
    "    limit=5,\n",
    "    output_fields=['title']\n",
    ")\n",
    "end = time.time()\n",
    "\n",
    "for hits_i, hits in enumerate(res):\n",
    "    print('Title:', search_terms[hits_i])\n",
    "    print('Search Time:', end - start)\n",
    "    print('Results:')\n",
    "    for hit in hits:\n",
    "        print(hit.entity.get('title'), '----', hit.distance)\n",
    "    print()"
   ],
   "metadata": {
    "collapsed": false,
    "pycharm": {
     "name": "#%%\n"
    }
   }
  },
  {
   "cell_type": "code",
   "execution_count": 79,
   "outputs": [],
   "source": [
    "collection.release()"
   ],
   "metadata": {
    "collapsed": false,
    "pycharm": {
     "name": "#%%\n"
    }
   }
  },
  {
   "cell_type": "code",
   "execution_count": 79,
   "outputs": [],
   "source": [],
   "metadata": {
    "collapsed": false,
    "pycharm": {
     "name": "#%%\n"
    }
   }
  }
 ],
 "metadata": {
  "kernelspec": {
   "display_name": "Python 3",
   "language": "python",
   "name": "python3"
  },
  "language_info": {
   "codemirror_mode": {
    "name": "ipython",
    "version": 2
   },
   "file_extension": ".py",
   "mimetype": "text/x-python",
   "name": "python",
   "nbconvert_exporter": "python",
   "pygments_lexer": "ipython2",
   "version": "2.7.6"
  }
 },
 "nbformat": 4,
 "nbformat_minor": 0
}