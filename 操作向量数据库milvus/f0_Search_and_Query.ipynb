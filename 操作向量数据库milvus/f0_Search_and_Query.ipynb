{
 "cells": [
  {
   "cell_type": "code",
   "execution_count": 1,
   "metadata": {
    "collapsed": true
   },
   "outputs": [],
   "source": [
    "import random\n",
    "from pymilvus import connections, CollectionSchema, FieldSchema, DataType, Collection, utility\n",
    "\n",
    "connections.connect(host='127.0.0.1', port='19530')"
   ]
  },
  {
   "cell_type": "code",
   "execution_count": 2,
   "outputs": [
    {
     "data": {
      "text/plain": "(insert count: 2000, delete count: 0, upsert count: 0, timestamp: 442749860659855361, success count: 2000, err count: 0)"
     },
     "execution_count": 2,
     "metadata": {},
     "output_type": "execute_result"
    }
   ],
   "source": [
    "book_id = FieldSchema(\n",
    "    name=\"book_id\",\n",
    "    dtype=DataType.INT64,\n",
    "    is_primary=True,\n",
    ")\n",
    "book_name = FieldSchema(\n",
    "    name=\"book_name\",\n",
    "    dtype=DataType.VARCHAR,\n",
    "    max_length=200,\n",
    ")\n",
    "word_count = FieldSchema(\n",
    "    name=\"word_count\",\n",
    "    dtype=DataType.INT64,\n",
    ")\n",
    "book_intro = FieldSchema(\n",
    "    name=\"book_intro\",\n",
    "    dtype=DataType.FLOAT_VECTOR,\n",
    "    dim=2\n",
    ")\n",
    "schema = CollectionSchema(\n",
    "    fields=[book_id, book_name, word_count, book_intro],\n",
    "    description=\"Test book search\",\n",
    ")\n",
    "\n",
    "collection = Collection(\n",
    "    name=\"book_table\",\n",
    "    schema=schema,\n",
    "    using='default'\n",
    ")\n",
    "\n",
    "collection.create_index(\n",
    "    field_name=\"book_intro\",\n",
    "    index_params={\n",
    "        \"metric_type\": \"L2\",\n",
    "        \"index_type\": \"IVF_FLAT\",\n",
    "        \"params\": {\"nlist\": 1024}\n",
    "    }\n",
    ")\n",
    "\n",
    "collection.create_index(\n",
    "    field_name=\"book_name\",\n",
    "    index_name=\"scalar_index\",\n",
    ")\n",
    "\n",
    "collection.load()\n",
    "\n",
    "collection.insert([[i for i in range(2000)],\n",
    "                   [str(i) for i in range(2000)],\n",
    "                   [i for i in range(10000, 12000)],\n",
    "                   [[random.random() for _ in range(2)] for _ in range(2000)]])"
   ],
   "metadata": {
    "collapsed": false,
    "pycharm": {
     "name": "#%%\n"
    }
   }
  },
  {
   "cell_type": "markdown",
   "source": [
    "官方参考文档:https://milvus.io/docs/search.md"
   ],
   "metadata": {
    "collapsed": false,
    "pycharm": {
     "name": "#%% md\n"
    }
   }
  },
  {
   "cell_type": "code",
   "execution_count": 3,
   "outputs": [],
   "source": [
    "search_params = {\n",
    "    \"metric_type\": \"L2\",\n",
    "    \"params\": {\"nprobe\": 10,\n",
    "               \"offset\": 5}}\n",
    "\n",
    "results = collection.search(\n",
    "    # Vectors to search with.\n",
    "    data=[[0.1, 0.2]],\n",
    "    # Name of the field to search on.\n",
    "    anns_field=\"book_intro\",\n",
    "    param=search_params,\n",
    "    # Number of the most similar results to return. The sum of this value and `offset` should be less than 16384.\n",
    "    limit=10,\n",
    "    # Boolean expression used to filter attribute. See Boolean Expression Rules for more information.\n",
    "    expr=None,\n",
    "    # Name of the field to return. Vector field is not supported in current release.\n",
    "    output_fields=['book_id', 'book_name', 'word_count'],\n",
    ")"
   ],
   "metadata": {
    "collapsed": false,
    "pycharm": {
     "name": "#%%\n"
    }
   }
  },
  {
   "cell_type": "code",
   "execution_count": 4,
   "outputs": [
    {
     "name": "stdout",
     "output_type": "stream",
     "text": [
      "[1107, 1050, 1263, 201, 598, 597, 833, 1805, 828, 1589]\n",
      "[1.1048490705434233e-05, 1.2806008271581959e-05, 1.860082738858182e-05, 2.0475592464208603e-05, 2.5180794182233512e-05, 2.699909600778483e-05, 2.749182931438554e-05, 3.0744013201911e-05, 4.841619738726877e-05, 5.490558032761328e-05]\n"
     ]
    }
   ],
   "source": [
    "# get the IDs of all returned hits\n",
    "print(results[0].ids)\n",
    "\n",
    "# get the distances to the query vector from all returned hits\n",
    "print(results[0].distances)"
   ],
   "metadata": {
    "collapsed": false,
    "pycharm": {
     "name": "#%%\n"
    }
   }
  },
  {
   "cell_type": "code",
   "execution_count": 5,
   "outputs": [
    {
     "name": "stdout",
     "output_type": "stream",
     "text": [
      "id: 1107, distance: 1.1048490705434233e-05, entity: {'book_id': 1107, 'book_name': '1107', 'word_count': 11107}\n",
      "id: 1050, distance: 1.2806008271581959e-05, entity: {'book_id': 1050, 'book_name': '1050', 'word_count': 11050}\n",
      "id: 1263, distance: 1.860082738858182e-05, entity: {'book_id': 1263, 'book_name': '1263', 'word_count': 11263}\n",
      "id: 201, distance: 2.0475592464208603e-05, entity: {'book_id': 201, 'book_name': '201', 'word_count': 10201}\n",
      "id: 598, distance: 2.5180794182233512e-05, entity: {'book_id': 598, 'book_name': '598', 'word_count': 10598}\n",
      "id: 597, distance: 2.699909600778483e-05, entity: {'book_id': 597, 'book_name': '597', 'word_count': 10597}\n",
      "id: 833, distance: 2.749182931438554e-05, entity: {'book_id': 833, 'book_name': '833', 'word_count': 10833}\n",
      "id: 1805, distance: 3.0744013201911e-05, entity: {'book_id': 1805, 'book_name': '1805', 'word_count': 11805}\n",
      "id: 828, distance: 4.841619738726877e-05, entity: {'book_id': 828, 'book_name': '828', 'word_count': 10828}\n",
      "id: 1589, distance: 5.490558032761328e-05, entity: {'book_id': 1589, 'book_name': '1589', 'word_count': 11589}\n"
     ]
    }
   ],
   "source": [
    "for i in range(10):\n",
    "    hit = results[0][i]\n",
    "    print(hit)"
   ],
   "metadata": {
    "collapsed": false,
    "pycharm": {
     "name": "#%%\n"
    }
   }
  },
  {
   "cell_type": "code",
   "execution_count": 6,
   "outputs": [],
   "source": [
    "collection.release()"
   ],
   "metadata": {
    "collapsed": false,
    "pycharm": {
     "name": "#%%\n"
    }
   }
  },
  {
   "cell_type": "code",
   "execution_count": 6,
   "outputs": [],
   "source": [],
   "metadata": {
    "collapsed": false,
    "pycharm": {
     "name": "#%%\n"
    }
   }
  }
 ],
 "metadata": {
  "kernelspec": {
   "display_name": "Python 3",
   "language": "python",
   "name": "python3"
  },
  "language_info": {
   "codemirror_mode": {
    "name": "ipython",
    "version": 2
   },
   "file_extension": ".py",
   "mimetype": "text/x-python",
   "name": "python",
   "nbconvert_exporter": "python",
   "pygments_lexer": "ipython2",
   "version": "2.7.6"
  }
 },
 "nbformat": 4,
 "nbformat_minor": 0
}