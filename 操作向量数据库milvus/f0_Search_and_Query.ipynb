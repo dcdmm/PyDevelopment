{
 "cells": [
  {
   "cell_type": "code",
   "execution_count": 115,
   "metadata": {
    "collapsed": true
   },
   "outputs": [],
   "source": [
    "import random\n",
    "from pymilvus import connections, CollectionSchema, FieldSchema, DataType, Collection, utility\n",
    "\n",
    "connections.connect(host='127.0.0.1', port='19530')"
   ]
  },
  {
   "cell_type": "code",
   "execution_count": 116,
   "outputs": [
    {
     "data": {
      "text/plain": "(insert count: 2000, delete count: 0, upsert count: 0, timestamp: 442739402773364739, success count: 2000, err count: 0)"
     },
     "execution_count": 116,
     "metadata": {},
     "output_type": "execute_result"
    }
   ],
   "source": [
    "book_id = FieldSchema(\n",
    "    name=\"book_id\",\n",
    "    dtype=DataType.INT64,\n",
    "    is_primary=True,\n",
    ")\n",
    "book_name = FieldSchema(\n",
    "    name=\"book_name\",\n",
    "    dtype=DataType.VARCHAR,\n",
    "    max_length=200,\n",
    ")\n",
    "word_count = FieldSchema(\n",
    "    name=\"word_count\",\n",
    "    dtype=DataType.INT64,\n",
    ")\n",
    "book_intro = FieldSchema(\n",
    "    name=\"book_intro\",\n",
    "    dtype=DataType.FLOAT_VECTOR,\n",
    "    dim=2\n",
    ")\n",
    "schema = CollectionSchema(\n",
    "    fields=[book_id, book_name, word_count, book_intro],\n",
    "    description=\"Test book search\",\n",
    ")\n",
    "\n",
    "collection = Collection(\n",
    "    name=\"book_table\",\n",
    "    schema=schema,\n",
    "    using='default'\n",
    ")\n",
    "\n",
    "collection.create_index(\n",
    "    field_name=\"book_intro\",\n",
    "    index_params={\n",
    "        \"metric_type\": \"L2\",\n",
    "        \"index_type\": \"IVF_FLAT\",\n",
    "        \"params\": {\"nlist\": 1024}\n",
    "    }\n",
    ")\n",
    "\n",
    "collection.create_index(\n",
    "    field_name=\"book_name\",\n",
    "    index_name=\"scalar_index\",\n",
    ")\n",
    "\n",
    "collection.insert([[i for i in range(2000)],\n",
    "                   [str(i) for i in range(2000)],\n",
    "                   [i for i in range(10000, 12000)],\n",
    "                   [[random.random() for _ in range(2)] for _ in range(2000)]])"
   ],
   "metadata": {
    "collapsed": false,
    "pycharm": {
     "name": "#%%\n"
    }
   }
  },
  {
   "cell_type": "code",
   "execution_count": 117,
   "outputs": [],
   "source": [
    "# All search and query operations within Milvus are executed in memory. Load the collection to memory before conducting a vector similarity search.\n",
    "collection.load()"
   ],
   "metadata": {
    "collapsed": false,
    "pycharm": {
     "name": "#%%\n"
    }
   }
  },
  {
   "cell_type": "markdown",
   "source": [
    "官方参考文档:https://milvus.io/docs/search.md"
   ],
   "metadata": {
    "collapsed": false,
    "pycharm": {
     "name": "#%% md\n"
    }
   }
  },
  {
   "cell_type": "code",
   "execution_count": 118,
   "outputs": [],
   "source": [
    "search_params = {\n",
    "    \"metric_type\": \"L2\",\n",
    "    \"params\": {\"nprobe\": 10,\n",
    "               \"offset\": 5}}\n",
    "\n",
    "results = collection.search(\n",
    "    # Vectors to search with.\n",
    "    data=[[0.1, 0.2]],\n",
    "    # Name of the field to search on.\n",
    "    anns_field=\"book_intro\",\n",
    "    param=search_params,\n",
    "    # Number of the most similar results to return. The sum of this value and `offset` should be less than 16384.\n",
    "    limit=10,\n",
    "    # Boolean expression used to filter attribute. See Boolean Expression Rules for more information.\n",
    "    expr=None,\n",
    "    # Name of the field to return. Vector field is not supported in current release.\n",
    "    output_fields=['book_id', 'book_name', 'word_count'],\n",
    ")"
   ],
   "metadata": {
    "collapsed": false,
    "pycharm": {
     "name": "#%%\n"
    }
   }
  },
  {
   "cell_type": "code",
   "execution_count": 119,
   "outputs": [
    {
     "name": "stdout",
     "output_type": "stream",
     "text": [
      "[1107, 433, 1489, 825, 140, 768, 174, 1275, 1083, 404]\n",
      "[1.1048490705434233e-05, 6.296827632468194e-05, 6.588322867173702e-05, 8.589174831286073e-05, 0.0001263414742425084, 0.00013537416816689074, 0.00020955209038220346, 0.0002286857779836282, 0.00024863710859790444, 0.00026549637550488114]\n"
     ]
    }
   ],
   "source": [
    "# get the IDs of all returned hits\n",
    "print(results[0].ids)\n",
    "\n",
    "# get the distances to the query vector from all returned hits\n",
    "print(results[0].distances)"
   ],
   "metadata": {
    "collapsed": false,
    "pycharm": {
     "name": "#%%\n"
    }
   }
  },
  {
   "cell_type": "code",
   "execution_count": 120,
   "outputs": [
    {
     "name": "stdout",
     "output_type": "stream",
     "text": [
      "id: 1107, distance: 1.1048490705434233e-05, entity: {'book_id': 1107, 'book_name': '1107', 'word_count': 11107}\n",
      "id: 433, distance: 6.296827632468194e-05, entity: {'book_id': 433, 'book_name': '433', 'word_count': 10433}\n",
      "id: 1489, distance: 6.588322867173702e-05, entity: {'book_id': 1489, 'book_name': '1489', 'word_count': 11489}\n",
      "id: 825, distance: 8.589174831286073e-05, entity: {'book_id': 825, 'book_name': '825', 'word_count': 10825}\n",
      "id: 140, distance: 0.0001263414742425084, entity: {'book_id': 140, 'book_name': '140', 'word_count': 10140}\n",
      "id: 768, distance: 0.00013537416816689074, entity: {'book_id': 768, 'book_name': '768', 'word_count': 10768}\n",
      "id: 174, distance: 0.00020955209038220346, entity: {'book_id': 174, 'book_name': '174', 'word_count': 10174}\n",
      "id: 1275, distance: 0.0002286857779836282, entity: {'book_id': 1275, 'book_name': '1275', 'word_count': 11275}\n",
      "id: 1083, distance: 0.00024863710859790444, entity: {'book_id': 1083, 'book_name': '1083', 'word_count': 11083}\n",
      "id: 404, distance: 0.00026549637550488114, entity: {'book_id': 404, 'book_name': '404', 'word_count': 10404}\n"
     ]
    }
   ],
   "source": [
    "for i in range(10):\n",
    "    hit = results[0][i]\n",
    "    print(hit)"
   ],
   "metadata": {
    "collapsed": false,
    "pycharm": {
     "name": "#%%\n"
    }
   }
  },
  {
   "cell_type": "code",
   "execution_count": 121,
   "outputs": [],
   "source": [
    "# Releases the collection data from memory.\n",
    "collection.release()"
   ],
   "metadata": {
    "collapsed": false,
    "pycharm": {
     "name": "#%%\n"
    }
   }
  },
  {
   "cell_type": "code",
   "execution_count": 121,
   "outputs": [],
   "source": [],
   "metadata": {
    "collapsed": false,
    "pycharm": {
     "name": "#%%\n"
    }
   }
  }
 ],
 "metadata": {
  "kernelspec": {
   "display_name": "Python 3",
   "language": "python",
   "name": "python3"
  },
  "language_info": {
   "codemirror_mode": {
    "name": "ipython",
    "version": 2
   },
   "file_extension": ".py",
   "mimetype": "text/x-python",
   "name": "python",
   "nbconvert_exporter": "python",
   "pygments_lexer": "ipython2",
   "version": "2.7.6"
  }
 },
 "nbformat": 4,
 "nbformat_minor": 0
}