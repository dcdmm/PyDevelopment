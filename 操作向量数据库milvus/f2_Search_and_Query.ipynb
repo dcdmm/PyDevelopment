{
 "cells": [
  {
   "cell_type": "code",
   "execution_count": 1,
   "metadata": {
    "collapsed": true
   },
   "outputs": [],
   "source": [
    "import random\n",
    "from pymilvus import connections, CollectionSchema, FieldSchema, DataType, Collection\n",
    "\n",
    "connections.connect(host='127.0.0.1', port='19530')"
   ]
  },
  {
   "cell_type": "code",
   "execution_count": 2,
   "outputs": [
    {
     "data": {
      "text/plain": "(insert count: 2000, delete count: 0, upsert count: 0, timestamp: 442749871145353217, success count: 2000, err count: 0)"
     },
     "execution_count": 2,
     "metadata": {},
     "output_type": "execute_result"
    }
   ],
   "source": [
    "book_id = FieldSchema(\n",
    "    name=\"book_id\",\n",
    "    dtype=DataType.INT64,\n",
    "    is_primary=True,\n",
    ")\n",
    "book_name = FieldSchema(\n",
    "    name=\"book_name\",\n",
    "    dtype=DataType.VARCHAR,\n",
    "    max_length=200,\n",
    ")\n",
    "word_count = FieldSchema(\n",
    "    name=\"word_count\",\n",
    "    dtype=DataType.INT64,\n",
    ")\n",
    "book_intro = FieldSchema(\n",
    "    name=\"book_intro\",\n",
    "    dtype=DataType.FLOAT_VECTOR,\n",
    "    dim=2\n",
    ")\n",
    "schema = CollectionSchema(\n",
    "    fields=[book_id, book_name, word_count, book_intro],\n",
    "    description=\"Test book search\",\n",
    ")\n",
    "\n",
    "collection = Collection(\n",
    "    name=\"book_table\",\n",
    "    schema=schema,\n",
    "    using='default'\n",
    ")\n",
    "\n",
    "collection.create_index(\n",
    "    field_name=\"book_intro\",\n",
    "    index_params={\n",
    "        \"metric_type\": \"L2\",\n",
    "        \"index_type\": \"IVF_FLAT\",\n",
    "        \"params\": {\"nlist\": 1024}\n",
    "    }\n",
    ")\n",
    "\n",
    "collection.create_index(\n",
    "    field_name=\"book_name\",\n",
    "    index_name=\"scalar_index\",\n",
    ")\n",
    "\n",
    "collection.load()\n",
    "\n",
    "collection.insert([[i for i in range(2000)],\n",
    "                   [str(i) for i in range(2000)],\n",
    "                   [i for i in range(10000, 12000)],\n",
    "                   [[random.random() for _ in range(2)] for _ in range(2000)]])"
   ],
   "metadata": {
    "collapsed": false,
    "pycharm": {
     "name": "#%%\n"
    }
   }
  },
  {
   "cell_type": "code",
   "execution_count": 3,
   "outputs": [],
   "source": [
    "# Unlike a vector similarity search, a vector query retrieves vectors via scalar filtering based on boolean expression.\n",
    "res = collection.query(\n",
    "    expr=\"book_id in [3, 4]\",\n",
    "    # Number of results to skip in the returned set. This parameter is available only when limit is specified, and the sum of this value and limit should be less than 16384.\n",
    "    offset=0,\n",
    "    # Number of the most similar results to return. The sum of this value and offset should be less than 16384.\n",
    "    limit=100,\n",
    "    output_fields=[\"book_id\", \"book_intro\"],\n",
    ")"
   ],
   "metadata": {
    "collapsed": false,
    "pycharm": {
     "name": "#%%\n"
    }
   }
  },
  {
   "cell_type": "code",
   "execution_count": 4,
   "outputs": [
    {
     "data": {
      "text/plain": "[{'book_id': 3, 'book_intro': [0.6489556, 0.48023546]},\n {'book_id': 4, 'book_intro': [0.18178387, 0.9374216]}]"
     },
     "execution_count": 4,
     "metadata": {},
     "output_type": "execute_result"
    }
   ],
   "source": [
    "res"
   ],
   "metadata": {
    "collapsed": false,
    "pycharm": {
     "name": "#%%\n"
    }
   }
  },
  {
   "cell_type": "code",
   "execution_count": 5,
   "outputs": [],
   "source": [
    "collection.release()"
   ],
   "metadata": {
    "collapsed": false,
    "pycharm": {
     "name": "#%%\n"
    }
   }
  }
 ],
 "metadata": {
  "kernelspec": {
   "display_name": "Python 3",
   "language": "python",
   "name": "python3"
  },
  "language_info": {
   "codemirror_mode": {
    "name": "ipython",
    "version": 2
   },
   "file_extension": ".py",
   "mimetype": "text/x-python",
   "name": "python",
   "nbconvert_exporter": "python",
   "pygments_lexer": "ipython2",
   "version": "2.7.6"
  }
 },
 "nbformat": 4,
 "nbformat_minor": 0
}