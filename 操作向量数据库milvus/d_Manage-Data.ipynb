{
 "cells": [
  {
   "cell_type": "code",
   "execution_count": 1,
   "metadata": {
    "collapsed": true,
    "pycharm": {
     "name": "#%%\n"
    }
   },
   "outputs": [],
   "source": [
    "import random\n",
    "from pymilvus import connections, CollectionSchema, FieldSchema, DataType, Collection, utility\n",
    "\n",
    "connections.connect(host='127.0.0.1', port='19530')"
   ]
  },
  {
   "cell_type": "code",
   "execution_count": 2,
   "outputs": [
    {
     "data": {
      "text/plain": "['book_table', 'huggingface_db']"
     },
     "execution_count": 2,
     "metadata": {},
     "output_type": "execute_result"
    }
   ],
   "source": [
    "data = [[i for i in range(2000)],\n",
    "        [str(i) for i in range(2000)],\n",
    "        [i for i in range(10000, 12000)],\n",
    "        [[random.random() for _ in range(2)] for _ in range(2000)]]\n",
    "\n",
    "book_id = FieldSchema(\n",
    "    name=\"book_id\",\n",
    "    dtype=DataType.INT64,\n",
    "    is_primary=True,\n",
    ")\n",
    "book_name = FieldSchema(\n",
    "    name=\"book_name\",\n",
    "    dtype=DataType.VARCHAR,\n",
    "    max_length=200,\n",
    ")\n",
    "word_count = FieldSchema(\n",
    "    name=\"word_count\",\n",
    "    dtype=DataType.INT64,\n",
    ")\n",
    "book_intro = FieldSchema(\n",
    "    name=\"book_intro\",\n",
    "    dtype=DataType.FLOAT_VECTOR,\n",
    "    dim=2\n",
    ")\n",
    "schema = CollectionSchema(\n",
    "    fields=[book_id, book_name, word_count, book_intro],\n",
    "    description=\"Test book search\",\n",
    ")\n",
    "\n",
    "collection = Collection(\n",
    "    name=\"book_table\",\n",
    "    schema=schema,\n",
    "    using='default'\n",
    ")\n",
    "\n",
    "utility.list_collections()"
   ],
   "metadata": {
    "collapsed": false,
    "pycharm": {
     "name": "#%%\n"
    }
   }
  },
  {
   "cell_type": "code",
   "execution_count": 3,
   "outputs": [],
   "source": [
    "# All search and query operations within Milvus are executed in memory. Load the collection to memory before conducting a vector similarity search.\n",
    "collection.load()"
   ],
   "metadata": {
    "collapsed": false,
    "pycharm": {
     "name": "#%%\n"
    }
   }
  },
  {
   "cell_type": "code",
   "execution_count": 4,
   "outputs": [
    {
     "data": {
      "text/plain": "(insert count: 2000, delete count: 0, upsert count: 0, timestamp: 442749853962338306, success count: 2000, err count: 0)"
     },
     "execution_count": 4,
     "metadata": {},
     "output_type": "execute_result"
    }
   ],
   "source": [
    "# Insert data into the collection.\n",
    "mr = collection.insert(data)\n",
    "mr"
   ],
   "metadata": {
    "collapsed": false,
    "pycharm": {
     "name": "#%%\n"
    }
   }
  },
  {
   "cell_type": "code",
   "execution_count": 5,
   "outputs": [
    {
     "name": "stdout",
     "output_type": "stream",
     "text": [
      "False\n",
      "86000\n"
     ]
    }
   ],
   "source": [
    "print(collection.is_empty)\n",
    "print(collection.num_entities)"
   ],
   "metadata": {
    "collapsed": false,
    "pycharm": {
     "name": "#%%\n"
    }
   }
  },
  {
   "cell_type": "code",
   "execution_count": 6,
   "outputs": [],
   "source": [
    "# Releases the collection data from memory.\n",
    "collection.release()\n"
   ],
   "metadata": {
    "collapsed": false,
    "pycharm": {
     "name": "#%%\n"
    }
   }
  }
 ],
 "metadata": {
  "kernelspec": {
   "display_name": "Python 3",
   "language": "python",
   "name": "python3"
  },
  "language_info": {
   "codemirror_mode": {
    "name": "ipython",
    "version": 2
   },
   "file_extension": ".py",
   "mimetype": "text/x-python",
   "name": "python",
   "nbconvert_exporter": "python",
   "pygments_lexer": "ipython2",
   "version": "2.7.6"
  }
 },
 "nbformat": 4,
 "nbformat_minor": 0
}