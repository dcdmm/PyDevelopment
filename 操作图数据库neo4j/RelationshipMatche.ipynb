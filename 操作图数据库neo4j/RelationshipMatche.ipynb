{
 "cells": [
  {
   "cell_type": "code",
   "execution_count": 63,
   "metadata": {
    "collapsed": true
   },
   "outputs": [],
   "source": [
    "from py2neo import Graph, Node, Relationship\n",
    "from py2neo.matching import *"
   ]
  },
  {
   "cell_type": "code",
   "execution_count": 64,
   "outputs": [],
   "source": [
    "g = Graph('http://localhost:7474', auth=('neo4j', '123456'), name='test')\n",
    "g.delete_all()\n",
    "\n",
    "g0 = Node('派别', name='明教')\n",
    "g.create(g0)\n",
    "g1 = Node('派别', name='武当')\n",
    "g.create(g1)\n",
    "g2 = Node('派别', name='峨眉')\n",
    "g.create(g2)\n",
    "g3 = Node('派别', name='天鹰教')\n",
    "g.create(g3)\n",
    "p0 = Node('男性人物', name='张三丰', 战斗力='999')\n",
    "g.create(p0)\n",
    "p1 = Node('男性人物', name='张无忌', 战斗力='998')\n",
    "g.create(p1)\n",
    "p2 = Node('男性人物', name='杨逍', 战斗力='500')\n",
    "g.create(p2)\n",
    "p3 = Node('男性人物', name='张翠山', 战斗力='300')\n",
    "g.create(p3)\n",
    "p4 = Node('女性人物', name='殷素素', 战斗力='200')\n",
    "g.create(p4)\n",
    "p5 = Node('男性人物', name='金毛狮王', 战斗力='600')\n",
    "g.create(p5)\n",
    "p6 = Node('女性人物', name='周芷若', 战斗力='900')\n",
    "g.create(p6)\n",
    "p7 = Node('女性人物', name='小昭', 战斗力='100')\n",
    "g.create(p7)\n",
    "p8 = Node('女性人物', name='蛛儿', 战斗力='60')\n",
    "g.create(p8)\n",
    "\n",
    "g.create(Relationship(p0, '属于', g1))\n",
    "g.create(Relationship(p3, '属于', g1))\n",
    "g.create(Relationship(p1, '属于', g0))\n",
    "g.create(Relationship(p2, '属于', g0))\n",
    "g.create(Relationship(p4, '属于', g3))\n",
    "g.create(Relationship(p5, '属于', g0))\n",
    "g.create(Relationship(p6, '属于', g2))\n",
    "g.create(Relationship(p8, '属于', g3))\n",
    "\n",
    "g.create(Relationship(p1, '父亲', p3))\n",
    "g.create(Relationship(p1, '母亲', p4))\n",
    "g.create(Relationship(p1, '义父', p5))\n",
    "g.create(Relationship(p1, '师公', p0))\n",
    "g.create(Relationship(p1, '情人', p7))\n",
    "g.create(Relationship(p1, '情人', p8))\n",
    "g.create(Relationship(p1, '手下', p2))\n",
    "\n",
    "g.create(Relationship(p6, '情敌', p7, level='非常敌视', Hatred=7000))\n",
    "g.create(Relationship(p7, '情敌', p6, level='非常敌视', Hatred=8000))\n",
    "g.create(Relationship(p6, '情敌', p8, level='敌视', Hatred=4000))\n",
    "g.create(Relationship(p8, '情敌', p6, Hatred=100))\n",
    "g.create(Relationship(p8, '情敌', p7, level='轻微敌视', Hatred=2000))\n",
    "g.create(Relationship(p7, '情敌', p8, level='非常敌视', Hatred=9000))\n",
    "\n",
    "g.create(Relationship(p3, '妻子', p4))"
   ],
   "metadata": {
    "collapsed": false,
    "pycharm": {
     "name": "#%%\n"
    }
   }
  },
  {
   "cell_type": "code",
   "execution_count": 65,
   "outputs": [
    {
     "data": {
      "text/plain": "<py2neo.matching.RelationshipMatcher at 0x26b31fadbe0>"
     },
     "execution_count": 65,
     "metadata": {},
     "output_type": "execute_result"
    }
   ],
   "source": [
    "relations = RelationshipMatcher(g)\n",
    "relations"
   ],
   "metadata": {
    "collapsed": false,
    "pycharm": {
     "name": "#%%\n"
    }
   }
  },
  {
   "cell_type": "code",
   "execution_count": 66,
   "outputs": [
    {
     "data": {
      "text/plain": "22"
     },
     "execution_count": 66,
     "metadata": {},
     "output_type": "execute_result"
    }
   ],
   "source": [
    "# Count the matched relationships and return the number matched.\n",
    "len(relations)"
   ],
   "metadata": {
    "collapsed": false,
    "pycharm": {
     "name": "#%%\n"
    }
   }
  },
  {
   "cell_type": "code",
   "execution_count": 67,
   "outputs": [],
   "source": [
    "# Create a new RelationshipMatch that filters by identity and returns the first matched Relationship. This can be used to match and return a Relationship by ID.\n",
    "relations.get(8)"
   ],
   "metadata": {
    "collapsed": false,
    "pycharm": {
     "name": "#%%\n"
    }
   }
  },
  {
   "cell_type": "code",
   "execution_count": 68,
   "outputs": [
    {
     "name": "stdout",
     "output_type": "stream",
     "text": [
      "<py2neo.matching.RelationshipMatch object at 0x0000026B31D630A0>\n",
      "<class 'py2neo.matching.RelationshipMatch'>\n"
     ]
    }
   ],
   "source": [
    "print(relations.match(nodes=[p6], r_type='情敌'))\n",
    "print(type(relations.match(nodes=[p6], r_type='情敌')))"
   ],
   "metadata": {
    "collapsed": false,
    "pycharm": {
     "name": "#%%\n"
    }
   }
  },
  {
   "cell_type": "code",
   "execution_count": 69,
   "outputs": [
    {
     "name": "stdout",
     "output_type": "stream",
     "text": [
      "[情敌(Node('女性人物', name='周芷若', 战斗力='900'), Node('女性人物', name='蛛儿', 战斗力='60'), Hatred=4000, level='敌视'), 情敌(Node('女性人物', name='周芷若', 战斗力='900'), Node('女性人物', name='小昭', 战斗力='100'), Hatred=7000, level='非常敌视')]\n",
      "[情敌(Node('女性人物', name='周芷若', 战斗力='900'), Node('女性人物', name='小昭', 战斗力='100'), Hatred=7000, level='非常敌视')]\n",
      "(周芷若)-[:情敌 {Hatred: 7000, level: '\\u975e\\u5e38\\u654c\\u89c6'}]->(小昭)\n"
     ]
    }
   ],
   "source": [
    "# Sequence or Set of start and end nodes (None means any node); a Set implies a match in any direction\n",
    "print(relations.match(nodes=[p6], r_type='情敌').all())\n",
    "print(relations.match(nodes=[p6, p7], r_type='情敌').all())\n",
    "\n",
    "print(relations.match(nodes=[p6, p7], r_type='情敌').all()[0])"
   ],
   "metadata": {
    "collapsed": false,
    "pycharm": {
     "name": "#%%\n"
    }
   }
  },
  {
   "cell_type": "code",
   "execution_count": 70,
   "outputs": [
    {
     "data": {
      "text/plain": "[情敌(Node('女性人物', name='周芷若', 战斗力='900'), Node('女性人物', name='蛛儿', 战斗力='60'), Hatred=4000, level='敌视'),\n 情敌(Node('女性人物', name='周芷若', 战斗力='900'), Node('女性人物', name='小昭', 战斗力='100'), Hatred=7000, level='非常敌视'),\n 情敌(Node('女性人物', name='小昭', 战斗力='100'), Node('女性人物', name='蛛儿', 战斗力='60'), Hatred=9000, level='非常敌视'),\n 情敌(Node('女性人物', name='小昭', 战斗力='100'), Node('女性人物', name='周芷若', 战斗力='900'), Hatred=8000, level='非常敌视'),\n 情敌(Node('女性人物', name='蛛儿', 战斗力='60'), Node('女性人物', name='小昭', 战斗力='100'), Hatred=2000, level='轻微敌视'),\n 情敌(Node('女性人物', name='蛛儿', 战斗力='60'), Node('女性人物', name='周芷若', 战斗力='900'), Hatred=100)]"
     },
     "execution_count": 70,
     "metadata": {},
     "output_type": "execute_result"
    }
   ],
   "source": [
    "# Evaluate the selection and return a list of all matched Relationship objects.\n",
    "# Returns list of matching Relationship objects\n",
    "relations.match(nodes=None, r_type='情敌').all()"
   ],
   "metadata": {
    "collapsed": false,
    "pycharm": {
     "name": "#%%\n"
    }
   }
  },
  {
   "cell_type": "code",
   "execution_count": 71,
   "outputs": [
    {
     "data": {
      "text/plain": "情敌(Node('女性人物', name='周芷若', 战斗力='900'), Node('女性人物', name='蛛儿', 战斗力='60'), Hatred=4000, level='敌视')"
     },
     "execution_count": 71,
     "metadata": {},
     "output_type": "execute_result"
    }
   ],
   "source": [
    "# Evaluate the selection and return the first Relationship selected or None if no matching relationships are found.\n",
    "# Returns a single matching Relationship or None\n",
    "relations.match(nodes=None, r_type='情敌').first()"
   ],
   "metadata": {
    "collapsed": false,
    "pycharm": {
     "name": "#%%\n"
    }
   }
  },
  {
   "cell_type": "code",
   "execution_count": 72,
   "outputs": [
    {
     "data": {
      "text/plain": "6"
     },
     "execution_count": 72,
     "metadata": {},
     "output_type": "execute_result"
    }
   ],
   "source": [
    "# Evaluate the selection and return a count of the number of matches.\n",
    "# Returns number of relationships matched\n",
    "relations.match(nodes=None, r_type='情敌').count()"
   ],
   "metadata": {
    "collapsed": false,
    "pycharm": {
     "name": "#%%\n"
    }
   }
  },
  {
   "cell_type": "code",
   "execution_count": 73,
   "outputs": [
    {
     "data": {
      "text/plain": "True"
     },
     "execution_count": 73,
     "metadata": {},
     "output_type": "execute_result"
    }
   ],
   "source": [
    "# Evaluate the selection and return True if at least one matched relationship exists.\n",
    "# Returns boolean indicating presence or absence of a match\n",
    "relations.match(nodes=None, r_type='情敌').exists()"
   ],
   "metadata": {
    "collapsed": false,
    "pycharm": {
     "name": "#%%\n"
    }
   }
  },
  {
   "cell_type": "code",
   "execution_count": 74,
   "outputs": [
    {
     "data": {
      "text/plain": "[情敌(Node('女性人物', name='周芷若', 战斗力='900'), Node('女性人物', name='小昭', 战斗力='100'), Hatred=7000, level='非常敌视'),\n 情敌(Node('女性人物', name='小昭', 战斗力='100'), Node('女性人物', name='蛛儿', 战斗力='60'), Hatred=9000, level='非常敌视'),\n 情敌(Node('女性人物', name='小昭', 战斗力='100'), Node('女性人物', name='周芷若', 战斗力='900'), Hatred=8000, level='非常敌视')]"
     },
     "execution_count": 74,
     "metadata": {},
     "output_type": "execute_result"
    }
   ],
   "source": [
    "# Simple property equalities can also be specified:\n",
    "relations.match(nodes=None, r_type='情敌').where(level='非常敌视').all()"
   ],
   "metadata": {
    "collapsed": false,
    "pycharm": {
     "name": "#%%\n"
    }
   }
  },
  {
   "cell_type": "code",
   "execution_count": 75,
   "outputs": [
    {
     "data": {
      "text/plain": "[情敌(Node('女性人物', name='周芷若', 战斗力='900'), Node('女性人物', name='小昭', 战斗力='100'), Hatred=7000, level='非常敌视'),\n 情敌(Node('女性人物', name='小昭', 战斗力='100'), Node('女性人物', name='蛛儿', 战斗力='60'), Hatred=9000, level='非常敌视'),\n 情敌(Node('女性人物', name='小昭', 战斗力='100'), Node('女性人物', name='周芷若', 战斗力='900'), Hatred=8000, level='非常敌视')]"
     },
     "execution_count": 75,
     "metadata": {},
     "output_type": "execute_result"
    }
   ],
   "source": [
    "# To refer to the current relationship within a predicate expression, use the underscore character _\n",
    "relations.match(nodes=None, r_type='情敌').where(\"_.level =~ '非常.*'\").all()  # 正则表达式"
   ],
   "metadata": {
    "collapsed": false,
    "pycharm": {
     "name": "#%%\n"
    }
   }
  },
  {
   "cell_type": "code",
   "execution_count": 76,
   "outputs": [
    {
     "data": {
      "text/plain": "[情敌(Node('女性人物', name='周芷若', 战斗力='900'), Node('女性人物', name='小昭', 战斗力='100'), Hatred=7000, level='非常敌视'),\n 情敌(Node('女性人物', name='小昭', 战斗力='100'), Node('女性人物', name='蛛儿', 战斗力='60'), Hatred=9000, level='非常敌视'),\n 情敌(Node('女性人物', name='小昭', 战斗力='100'), Node('女性人物', name='周芷若', 战斗力='900'), Hatred=8000, level='非常敌视')]"
     },
     "execution_count": 76,
     "metadata": {},
     "output_type": "execute_result"
    }
   ],
   "source": [
    "relations.match(nodes=None, r_type='情敌').where(\"_.Hatred > 5000\").all()"
   ],
   "metadata": {
    "collapsed": false,
    "pycharm": {
     "name": "#%%\n"
    }
   }
  },
  {
   "cell_type": "code",
   "execution_count": 77,
   "outputs": [
    {
     "data": {
      "text/plain": "[情敌(Node('女性人物', name='周芷若', 战斗力='900'), Node('女性人物', name='小昭', 战斗力='100'), Hatred=7000, level='非常敌视'),\n 情敌(Node('女性人物', name='小昭', 战斗力='100'), Node('女性人物', name='蛛儿', 战斗力='60'), Hatred=9000, level='非常敌视'),\n 情敌(Node('女性人物', name='小昭', 战斗力='100'), Node('女性人物', name='周芷若', 战斗力='900'), Hatred=8000, level='非常敌视')]"
     },
     "execution_count": 77,
     "metadata": {},
     "output_type": "execute_result"
    }
   ],
   "source": [
    "# 多个条件连接:and    or\n",
    "relations.match(nodes=None, r_type='情敌').where(\"_.Hatred > 50 and _.level =~ '非常.*'\").all()"
   ],
   "metadata": {
    "collapsed": false,
    "pycharm": {
     "name": "#%%\n"
    }
   }
  },
  {
   "cell_type": "code",
   "execution_count": 77,
   "outputs": [],
   "source": [],
   "metadata": {
    "collapsed": false,
    "pycharm": {
     "name": "#%%\n"
    }
   }
  }
 ],
 "metadata": {
  "kernelspec": {
   "display_name": "Python 3",
   "language": "python",
   "name": "python3"
  },
  "language_info": {
   "codemirror_mode": {
    "name": "ipython",
    "version": 2
   },
   "file_extension": ".py",
   "mimetype": "text/x-python",
   "name": "python",
   "nbconvert_exporter": "python",
   "pygments_lexer": "ipython2",
   "version": "2.7.6"
  }
 },
 "nbformat": 4,
 "nbformat_minor": 0
}