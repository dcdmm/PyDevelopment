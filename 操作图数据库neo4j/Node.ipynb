{
 "cells": [
  {
   "cell_type": "code",
   "execution_count": 15,
   "metadata": {
    "collapsed": true
   },
   "outputs": [],
   "source": [
    "from py2neo import Graph, Node"
   ]
  },
  {
   "cell_type": "code",
   "execution_count": 16,
   "outputs": [],
   "source": [
    "g = Graph('http://localhost:7474', auth=('neo4j', '123456'), name='test')\n",
    "g.delete_all()"
   ],
   "metadata": {
    "collapsed": false,
    "pycharm": {
     "name": "#%%\n"
    }
   }
  },
  {
   "cell_type": "code",
   "execution_count": 17,
   "outputs": [
    {
     "name": "stdout",
     "output_type": "stream",
     "text": [
      ":Person {'Person'}\n",
      ":Employee:Person {'Employee', 'Person'}\n",
      "True\n",
      ":Person {'Person'}\n",
      " set()\n",
      "(:Mother {name: 'Alice'})\n",
      ":Person {'Person'}\n",
      ":Employee:Person {'Employee', 'Person'}\n",
      "True\n",
      ":Person {'Person'}\n",
      " set()\n",
      "(:Mother {name: 'Alice'})\n",
      ":Person {'Person'}\n",
      ":Employee:Person {'Employee', 'Person'}\n",
      "True\n",
      ":Person {'Person'}\n",
      " set()\n",
      "(:Mother {name: 'Alice'})\n"
     ]
    }
   ],
   "source": [
    "# A node is a fundamental unit of data storage within a property graph that may optionally be connected, via relationships, to other nodes.\n",
    "a = Node(\"Person\", name=\"Alice\")\n",
    "\n",
    "'''\n",
    "The full set of labels associated with with this node.\n",
    "    This set is immutable and cannot be used to add or remove labels.\n",
    "    Use methods such as add_label() and remove_label() for that instead.\n",
    "'''\n",
    "print(a.labels, set(a.labels))  # 属性`labels`可以没有\n",
    "a.add_label(\"Employee\")  # Add the label label to this node.\n",
    "print(a.labels, set(a.labels))\n",
    "print(a.has_label('Employee'))  # Return True if this node has the label label, False otherwise.\n",
    "# Remove the label label from this node, if it exists. If the element is not a member, do nothing.\n",
    "a.remove_label('Employee')\n",
    "print(a.labels, set(a.labels))\n",
    "a.clear_labels()  # Remove all labels from this node.\n",
    "print(a.labels, set(a.labels))\n",
    "a.add_label(\"Mother\")\n",
    "print(a)"
   ],
   "metadata": {
    "collapsed": false,
    "pycharm": {
     "name": "#%%\n"
    }
   }
  },
  {
   "cell_type": "code",
   "execution_count": 18,
   "outputs": [
    {
     "data": {
      "text/plain": "Node()"
     },
     "execution_count": 4,
     "metadata": {},
     "output_type": "execute_result"
    },
    {
     "data": {
      "text/plain": "Node()"
     },
     "execution_count": 11,
     "metadata": {},
     "output_type": "execute_result"
    },
    {
     "data": {
      "text/plain": "Node()"
     },
     "execution_count": 18,
     "metadata": {},
     "output_type": "execute_result"
    }
   ],
   "source": [
    "empty = Node()\n",
    "empty  # 空节点"
   ],
   "metadata": {
    "collapsed": false,
    "pycharm": {
     "name": "#%%\n"
    }
   }
  },
  {
   "cell_type": "code",
   "execution_count": 19,
   "outputs": [
    {
     "name": "stdout",
     "output_type": "stream",
     "text": [
      "4\n",
      "{'name': 'Tom', 'love': 'mouse', 'live': 'USE', 'master': 'Alice'}\n",
      "dict_keys(['name', 'love', 'live', 'master'])\n",
      "dict_values(['Tom', 'mouse', 'USE', 'Alice'])\n",
      "dict_items([('name', 'Tom'), ('love', 'mouse'), ('live', 'USE'), ('master', 'Alice')])\n",
      "Tom\n",
      "None\n",
      "fish\n",
      "(:Cat {live: 'USE', master: 'Alice', name: 'Tom'})\n",
      "(:Cat {master: 'Alice', name: 'Tom'})\n",
      "(:Cat {age: 5, master: 'Alice', name: 'Tom', `skin colour`: 'black'})\n",
      "(:Cat {})\n",
      "4\n",
      "{'name': 'Tom', 'love': 'mouse', 'live': 'USE', 'master': 'Alice'}\n",
      "dict_keys(['name', 'love', 'live', 'master'])\n",
      "dict_values(['Tom', 'mouse', 'USE', 'Alice'])\n",
      "dict_items([('name', 'Tom'), ('love', 'mouse'), ('live', 'USE'), ('master', 'Alice')])\n",
      "Tom\n",
      "None\n",
      "fish\n",
      "(:Cat {live: 'USE', master: 'Alice', name: 'Tom'})\n",
      "(:Cat {master: 'Alice', name: 'Tom'})\n",
      "(:Cat {age: 5, master: 'Alice', name: 'Tom', `skin colour`: 'black'})\n",
      "(:Cat {})\n",
      "4\n",
      "{'name': 'Tom', 'love': 'mouse', 'live': 'USE', 'master': 'Alice'}\n",
      "dict_keys(['name', 'love', 'live', 'master'])\n",
      "dict_values(['Tom', 'mouse', 'USE', 'Alice'])\n",
      "dict_items([('name', 'Tom'), ('love', 'mouse'), ('live', 'USE'), ('master', 'Alice')])\n",
      "Tom\n",
      "None\n",
      "fish\n",
      "(:Cat {live: 'USE', master: 'Alice', name: 'Tom'})\n",
      "(:Cat {master: 'Alice', name: 'Tom'})\n",
      "(:Cat {age: 5, master: 'Alice', name: 'Tom', `skin colour`: 'black'})\n",
      "(:Cat {})\n"
     ]
    }
   ],
   "source": [
    "b = Node(\"Cat\", name=\"Tom\", love='mouse', live='USE', master='Alice')\n",
    "# Return the number of properties on this node.\n",
    "print(len(b))\n",
    "# Return a dictionary of all the properties in this node.\n",
    "print(dict(b))  # 不包括`labels`属性\n",
    "print(b.keys())  # Return a list of all property names.\n",
    "print(b.values())  # Return a list of all property values.\n",
    "print(b.items())  # Return a list of all properties as 2-tuples of name-value pairs.\n",
    "# Return the value of the property called name, or None if the name is missing.\n",
    "print(b['name'])\n",
    "print(b['age'])\n",
    "# Set the value of the property called name to value, or remove the property if value is None.\n",
    "b['love'] = 'fish'\n",
    "print(b['love'])\n",
    "b['love'] = None\n",
    "print(b)\n",
    "# Remove the property called name from this node, raising a KeyError if such a property does not exist.\n",
    "del b['live']\n",
    "print(b)\n",
    "# Update the properties on this node with a dictionary or name-value list of properties, plus additional kwproperties.\n",
    "b.update({\"age\": 5, 'skin colour': 'black'})\n",
    "print(b)\n",
    "# emove all properties from this node.\n",
    "b.clear()\n",
    "print(b)"
   ],
   "metadata": {
    "collapsed": false,
    "pycharm": {
     "name": "#%%\n"
    }
   }
  },
  {
   "cell_type": "code",
   "execution_count": 20,
   "outputs": [],
   "source": [
    "g.create(a)\n",
    "g.create(b)\n",
    "g.create(empty)"
   ],
   "metadata": {
    "collapsed": false,
    "pycharm": {
     "name": "#%%\n"
    }
   }
  },
  {
   "cell_type": "code",
   "execution_count": 21,
   "outputs": [
    {
     "name": "stdout",
     "output_type": "stream",
     "text": [
      "Graph('http://localhost:7474', name='test')\n",
      "7\n",
      "Graph('http://localhost:7474', name='test')\n",
      "10\n",
      "Graph('http://localhost:7474', name='test')\n",
      "13\n"
     ]
    }
   ],
   "source": [
    "# The remote graph to which this node is bound, if any.\n",
    "print(b.graph)\n",
    "# The ID of the remote node to which this node is bound, if any.\n",
    "print(b.identity)"
   ],
   "metadata": {
    "collapsed": false,
    "pycharm": {
     "name": "#%%\n"
    }
   }
  },
  {
   "cell_type": "code",
   "execution_count": 21,
   "outputs": [],
   "source": [],
   "metadata": {
    "collapsed": false,
    "pycharm": {
     "name": "#%%\n"
    }
   }
  }
 ],
 "metadata": {
  "kernelspec": {
   "display_name": "Python 3",
   "language": "python",
   "name": "python3"
  },
  "language_info": {
   "codemirror_mode": {
    "name": "ipython",
    "version": 2
   },
   "file_extension": ".py",
   "mimetype": "text/x-python",
   "name": "python",
   "nbconvert_exporter": "python",
   "pygments_lexer": "ipython2",
   "version": "2.7.6"
  }
 },
 "nbformat": 4,
 "nbformat_minor": 0
}