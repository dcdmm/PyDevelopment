{
 "cells": [
  {
   "cell_type": "code",
   "execution_count": 60,
   "metadata": {
    "collapsed": true
   },
   "outputs": [],
   "source": [
    "from neo4j import GraphDatabase"
   ]
  },
  {
   "cell_type": "code",
   "execution_count": 61,
   "outputs": [
    {
     "data": {
      "text/plain": "<neo4j._sync.driver.Neo4jDriver at 0x295afc3f640>"
     },
     "execution_count": 61,
     "metadata": {},
     "output_type": "execute_result"
    }
   ],
   "source": [
    "URI = \"neo4j://localhost:7687\"\n",
    "AUTH = (\"neo4j\", \"qwer123456\")\n",
    "\n",
    "driver = GraphDatabase.driver(URI, auth=AUTH)\n",
    "driver"
   ],
   "metadata": {
    "collapsed": false,
    "pycharm": {
     "name": "#%%\n"
    }
   }
  },
  {
   "cell_type": "code",
   "execution_count": 62,
   "outputs": [
    {
     "data": {
      "text/plain": "EagerResult(records=[], summary=<neo4j._work.summary.ResultSummary object at 0x00000295AE0DE680>, keys=[])"
     },
     "execution_count": 62,
     "metadata": {},
     "output_type": "execute_result"
    }
   ],
   "source": [
    "driver.execute_query(\"match (n) detach delete n\", database_='neo4j')  # 删除所有节点和关系\n",
    "\n",
    "cql_string = \"\"\"CREATE\n",
    "(xiaowang_:Person {name: 'xiaowang', bornIn: '湖南', age:34, email: 'aaa.com', love: ['eat', 'play', 'study']}),\n",
    "(dc_:Person {name: 'dc', bornIn: '广东', age:41, email: 'bbb.com', love: ['sleep', 'run']}),\n",
    "(xiaohong_:Person {name: 'xiaohong', bornIn: '上海', age:51, email: 'ccc.com', love: ['eat', 'run', 'study']}),\n",
    "(xiaohei_:Person {name: 'xiaohei', bornIn: '湖南', age:66, love: ['eat', 'play', 'read']}),\n",
    "(dmm_:Person {name: 'dmm', bornIn: '湖南', age:8, love: ['eat', 'play', 'swim']}),\n",
    "(tom_:Person {name: 'tom', bornIn: '美国', age:38, love: ['eat', 'swim', 'driver']}),\n",
    "\n",
    "(dhxy:Movie {title: '大话西游'}),\n",
    "(bfx:Movie {title: '蝙蝠侠'}),\n",
    "(hkdg:Movie {title: '黑客帝国'}),\n",
    "\n",
    "(xiaowang_)-[:like{time:15}]->(dhxy),\n",
    "(dc_)-[:dislike{time:52}]->(bfx),\n",
    "(xiaohong_)-[:like{time:45}]->(hkdg),\n",
    "(xiaohei_)-[:like{time:5}]->(hkdg),\n",
    "(dmm_)-[:like]->(hkdg),\n",
    "(dmm_)-[:dislike]->(bfx)\"\"\"\n",
    "driver.execute_query(cql_string, database_='neo4j')"
   ],
   "metadata": {
    "collapsed": false,
    "pycharm": {
     "name": "#%%\n"
    }
   }
  },
  {
   "cell_type": "code",
   "execution_count": 63,
   "outputs": [
    {
     "name": "stdout",
     "output_type": "stream",
     "text": [
      "{'p': {'title': '蝙蝠侠'}}\n"
     ]
    }
   ],
   "source": [
    "\n",
    "# 比较运算符:> < = >= <= <>(不等于)\n",
    "r0 = driver.execute_query(\"match (p:Movie) \"\n",
    "                     \"where p.title='蝙蝠侠' \"\n",
    "                     \"return p\").records\n",
    "for i in r0:\n",
    "    print(i.data())"
   ],
   "metadata": {
    "collapsed": false,
    "pycharm": {
     "name": "#%%\n"
    }
   }
  },
  {
   "cell_type": "code",
   "execution_count": 64,
   "outputs": [
    {
     "name": "stdout",
     "output_type": "stream",
     "text": [
      "{'f.title': '大话西游'}\n",
      "{'f.title': '黑客帝国'}\n"
     ]
    }
   ],
   "source": [
    "r0 = driver.execute_query(\"match (n:Person)-[k:like]->(f) \"\n",
    "                          \"where k.time < 21 \"\n",
    "                          \"return f.title\").records\n",
    "for i in r0:\n",
    "    print(i.data())"
   ],
   "metadata": {
    "collapsed": false,
    "pycharm": {
     "name": "#%%\n"
    }
   }
  },
  {
   "cell_type": "code",
   "execution_count": 65,
   "outputs": [
    {
     "name": "stdout",
     "output_type": "stream",
     "text": [
      "{'p': {'love': ['eat', 'play', 'read'], 'bornIn': '湖南', 'name': 'xiaohei', 'age': 66}}\n",
      "{'p': {'love': ['eat', 'play', 'swim'], 'bornIn': '湖南', 'name': 'dmm', 'age': 8}}\n"
     ]
    }
   ],
   "source": [
    "# 布尔运算符:or and not\n",
    "r0 = driver.execute_query(\"match (p:Person) \"\n",
    "                     \"where p.name='dmm' or p.age > 60 \"\n",
    "                     \"return p\").records\n",
    "for i in r0:\n",
    "    print(i.data())"
   ],
   "metadata": {
    "collapsed": false,
    "pycharm": {
     "name": "#%%\n"
    }
   }
  },
  {
   "cell_type": "code",
   "execution_count": 66,
   "outputs": [
    {
     "name": "stdout",
     "output_type": "stream",
     "text": [
      "{'p': {'love': ['sleep', 'run'], 'bornIn': '广东', 'name': 'dc', 'age': 41, 'email': 'bbb.com'}}\n",
      "{'p': {'love': ['eat', 'play', 'swim'], 'bornIn': '湖南', 'name': 'dmm', 'age': 8}}\n"
     ]
    }
   ],
   "source": [
    "# 字符串正则表达式匹配(=~)\n",
    "# .:任意字符\n",
    "# *:0次或多次\n",
    "r0 = driver.execute_query(\"match (p:Person) \"\n",
    "                          \"where p.name=~'d.*' \"\n",
    "                          \"return p\").records\n",
    "for i in r0:\n",
    "    print(i.data())"
   ],
   "metadata": {
    "collapsed": false,
    "pycharm": {
     "name": "#%%\n"
    }
   }
  },
  {
   "cell_type": "code",
   "execution_count": 67,
   "outputs": [
    {
     "name": "stdout",
     "output_type": "stream",
     "text": [
      "{'n.name': 'xiaowang'}\n",
      "{'n.name': 'dc'}\n",
      "{'n.name': 'xiaohong'}\n"
     ]
    }
   ],
   "source": [
    "# 匹配字符\\:\\\\\n",
    "# 匹配字符.:\\\\.\n",
    "# 匹配字符*:\\\\*\n",
    "r0 = driver.execute_query(\"match (n:Person) \"\n",
    "                          \"where n.email =~ '.*\\\\.com' \"\n",
    "                          \"return n.name\").records\n",
    "for i in r0:\n",
    "    print(i.data())"
   ],
   "metadata": {
    "collapsed": false,
    "pycharm": {
     "name": "#%%\n"
    }
   }
  },
  {
   "cell_type": "code",
   "execution_count": 68,
   "outputs": [
    {
     "name": "stdout",
     "output_type": "stream",
     "text": [
      "{'a.name': 'xiaowang', 'a.love': ['eat', 'play', 'study']}\n",
      "{'a.name': 'xiaohong', 'a.love': ['eat', 'run', 'study']}\n",
      "{'a.name': 'xiaohei', 'a.love': ['eat', 'play', 'read']}\n",
      "{'a.name': 'dmm', 'a.love': ['eat', 'play', 'swim']}\n",
      "{'a.name': 'tom', 'a.love': ['eat', 'swim', 'driver']}\n"
     ]
    }
   ],
   "source": [
    "# 检查列表中是否存在某个元素:in\n",
    "r0 = driver.execute_query(\"match (a:Person) \"\n",
    "                          \"where 'eat' in a.love \"\n",
    "                          \"return a.name, a.love\").records\n",
    "for i in r0:\n",
    "    print(i.data())"
   ],
   "metadata": {
    "collapsed": false,
    "pycharm": {
     "name": "#%%\n"
    }
   }
  },
  {
   "cell_type": "code",
   "execution_count": 69,
   "outputs": [],
   "source": [
    "driver.close()"
   ],
   "metadata": {
    "collapsed": false,
    "pycharm": {
     "name": "#%%\n"
    }
   }
  }
 ],
 "metadata": {
  "kernelspec": {
   "display_name": "Python 3",
   "language": "python",
   "name": "python3"
  },
  "language_info": {
   "codemirror_mode": {
    "name": "ipython",
    "version": 2
   },
   "file_extension": ".py",
   "mimetype": "text/x-python",
   "name": "python",
   "nbconvert_exporter": "python",
   "pygments_lexer": "ipython2",
   "version": "2.7.6"
  }
 },
 "nbformat": 4,
 "nbformat_minor": 0
}