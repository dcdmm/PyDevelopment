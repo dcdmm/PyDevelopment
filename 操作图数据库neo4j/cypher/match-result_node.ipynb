{
 "cells": [
  {
   "cell_type": "code",
   "execution_count": 78,
   "metadata": {
    "collapsed": true
   },
   "outputs": [],
   "source": [
    "from neo4j import GraphDatabase"
   ]
  },
  {
   "cell_type": "code",
   "execution_count": 79,
   "outputs": [],
   "source": [
    "URI = \"neo4j://localhost:7687\"\n",
    "AUTH = (\"neo4j\", \"qwer123456\")"
   ],
   "metadata": {
    "collapsed": false,
    "pycharm": {
     "name": "#%%\n"
    }
   }
  },
  {
   "cell_type": "code",
   "execution_count": 80,
   "outputs": [
    {
     "data": {
      "text/plain": "<neo4j._sync.driver.Neo4jDriver at 0x1681351c430>"
     },
     "execution_count": 80,
     "metadata": {},
     "output_type": "execute_result"
    }
   ],
   "source": [
    "driver = GraphDatabase.driver(URI, auth=AUTH)\n",
    "driver"
   ],
   "metadata": {
    "collapsed": false,
    "pycharm": {
     "name": "#%%\n"
    }
   }
  },
  {
   "cell_type": "code",
   "execution_count": 81,
   "outputs": [
    {
     "data": {
      "text/plain": "EagerResult(records=[], summary=<neo4j._work.summary.ResultSummary object at 0x000001681322D510>, keys=[])"
     },
     "execution_count": 81,
     "metadata": {},
     "output_type": "execute_result"
    }
   ],
   "source": [
    "driver.execute_query(\"match (n) detach delete n\", database_='neo4j')  # 删除所有节点和关系\n",
    "\n",
    "driver.execute_query(\"create\"\n",
    "                     \"(:moive{name:'无间道', type:'犯罪', score:8.7}),\"\n",
    "                     \"(:moive{name:'大内密探零零发', type:'搞笑', score:9.4}),\"\n",
    "                     \"(:moive{name:'我和我的祖国', type:'主旋律', score:7.7})\", database_=\"neo4j\")\n",
    "driver.execute_query(\"create (:person{name:'dmm', age:4})-[:love]->(:moive{name:'西游记'})\", database_='neo4j')\n",
    "driver.execute_query(\"create (:person{name:'xiaomai', age:4})-[:love{level:'must', time:5}]->(:moive{name:'西游记'})\", database_='neo4j')\n",
    "driver.execute_query(\"create (:person{name:'dmm', age:4})-[:dislike{level:'must', time:4}]->(:moive{name:'三国演义'})\", database_='neo4j')"
   ],
   "metadata": {
    "collapsed": false,
    "pycharm": {
     "name": "#%%\n"
    }
   }
  },
  {
   "cell_type": "code",
   "execution_count": 82,
   "outputs": [
    {
     "name": "stdout",
     "output_type": "stream",
     "text": [
      "[<Record a=<Node element_id='5' labels=frozenset({'moive'}) properties={'score': 7.7, 'name': '我和我的祖国', 'type': '主旋律'}>>, <Record a=<Node element_id='7' labels=frozenset({'moive'}) properties={'name': '西游记'}>>, <Record a=<Node element_id='9' labels=frozenset({'moive'}) properties={'name': '西游记'}>>, <Record a=<Node element_id='11' labels=frozenset({'moive'}) properties={'name': '三国演义'}>>, <Record a=<Node element_id='14' labels=frozenset({'moive'}) properties={'score': 8.7, 'name': '无间道', 'type': '犯罪'}>>, <Record a=<Node element_id='15' labels=frozenset({'moive'}) properties={'score': 9.4, 'name': '大内密探零零发', 'type': '搞笑'}>>]\n",
      "{'a': {'score': 7.7, 'name': '我和我的祖国', 'type': '主旋律'}}\n",
      "[<Node element_id='5' labels=frozenset({'moive'}) properties={'score': 7.7, 'name': '我和我的祖国', 'type': '主旋律'}>]\n",
      "<class 'neo4j.graph.Node'>\n",
      "frozenset({'moive'})\n",
      "dict_items([('score', 7.7), ('name', '我和我的祖国'), ('type', '主旋律')])\n",
      "{'a': {'name': '西游记'}}\n",
      "[<Node element_id='7' labels=frozenset({'moive'}) properties={'name': '西游记'}>]\n",
      "<class 'neo4j.graph.Node'>\n",
      "frozenset({'moive'})\n",
      "dict_items([('name', '西游记')])\n",
      "{'a': {'name': '西游记'}}\n",
      "[<Node element_id='9' labels=frozenset({'moive'}) properties={'name': '西游记'}>]\n",
      "<class 'neo4j.graph.Node'>\n",
      "frozenset({'moive'})\n",
      "dict_items([('name', '西游记')])\n",
      "{'a': {'name': '三国演义'}}\n",
      "[<Node element_id='11' labels=frozenset({'moive'}) properties={'name': '三国演义'}>]\n",
      "<class 'neo4j.graph.Node'>\n",
      "frozenset({'moive'})\n",
      "dict_items([('name', '三国演义')])\n",
      "{'a': {'score': 8.7, 'name': '无间道', 'type': '犯罪'}}\n",
      "[<Node element_id='14' labels=frozenset({'moive'}) properties={'score': 8.7, 'name': '无间道', 'type': '犯罪'}>]\n",
      "<class 'neo4j.graph.Node'>\n",
      "frozenset({'moive'})\n",
      "dict_items([('score', 8.7), ('name', '无间道'), ('type', '犯罪')])\n",
      "{'a': {'score': 9.4, 'name': '大内密探零零发', 'type': '搞笑'}}\n",
      "[<Node element_id='15' labels=frozenset({'moive'}) properties={'score': 9.4, 'name': '大内密探零零发', 'type': '搞笑'}>]\n",
      "<class 'neo4j.graph.Node'>\n",
      "frozenset({'moive'})\n",
      "dict_items([('score', 9.4), ('name', '大内密探零零发'), ('type', '搞笑')])\n"
     ]
    }
   ],
   "source": [
    "# 查询标签为moive的节点\n",
    "r0 = driver.execute_query('match(a:moive) return a', database_='neo4j').records\n",
    "print(r0)\n",
    "for i in r0:\n",
    "    data = i.data()\n",
    "    print(data)  # 字典\n",
    "\n",
    "    values = i.values()\n",
    "    print(values)\n",
    "    print(type(values[0]))\n",
    "    print(values[0].labels)\n",
    "    print(values[0].items())"
   ],
   "metadata": {
    "collapsed": false,
    "pycharm": {
     "name": "#%%\n"
    }
   }
  },
  {
   "cell_type": "code",
   "execution_count": 83,
   "outputs": [
    {
     "name": "stdout",
     "output_type": "stream",
     "text": [
      "{'a': {'score': 8.7, 'name': '无间道', 'type': '犯罪'}}\n"
     ]
    }
   ],
   "source": [
    "# 查询标签为moive、name为无间道的节点\n",
    "r0 = driver.execute_query(\"match(a:moive{name:'无间道'}) return a\", database_='neo4j').records\n",
    "for i in r0:\n",
    "    print(i.data())"
   ],
   "metadata": {
    "collapsed": false,
    "pycharm": {
     "name": "#%%\n"
    }
   }
  },
  {
   "cell_type": "code",
   "execution_count": 84,
   "outputs": [
    {
     "name": "stdout",
     "output_type": "stream",
     "text": [
      "{'a': {'score': 8.7, 'name': '无间道', 'type': '犯罪'}, 'b': {'score': 7.7, 'name': '我和我的祖国', 'type': '主旋律'}}\n"
     ]
    }
   ],
   "source": [
    "\n",
    "# 查询多条记录(逗号分隔)\n",
    "r0 = driver.execute_query(\"match\"\n",
    "                          \"(a:moive{name:'无间道'}),\"\n",
    "                          \"(b:moive{name:'我和我的祖国'}) return a, b\", database_='neo4j').records\n",
    "for i in r0:\n",
    "    print(i.data())"
   ],
   "metadata": {
    "collapsed": false,
    "pycharm": {
     "name": "#%%\n"
    }
   }
  },
  {
   "cell_type": "code",
   "execution_count": 85,
   "outputs": [
    {
     "name": "stdout",
     "output_type": "stream",
     "text": [
      "{'a.name': '我和我的祖国', 'a.score': 7.7}\n",
      "{'a.name': '西游记', 'a.score': None}\n",
      "{'a.name': '西游记', 'a.score': None}\n",
      "{'a.name': '三国演义', 'a.score': None}\n",
      "{'a.name': '无间道', 'a.score': 8.7}\n",
      "{'a.name': '大内密探零零发', 'a.score': 9.4}\n"
     ]
    }
   ],
   "source": [
    "# 指定返回属性为name和score\n",
    "r0 = driver.execute_query(\"match(a:moive) return a.name, a.score\", database_='neo4j').records\n",
    "for i in r0:\n",
    "    print(i.data())"
   ],
   "metadata": {
    "collapsed": false,
    "pycharm": {
     "name": "#%%\n"
    }
   }
  },
  {
   "cell_type": "code",
   "execution_count": 86,
   "outputs": [
    {
     "name": "stdout",
     "output_type": "stream",
     "text": [
      "{'n': {'score': 7.7, 'name': '我和我的祖国', 'type': '主旋律'}}\n",
      "{'n': {'name': 'dmm', 'age': 4}}\n",
      "{'n': {'name': '西游记'}}\n",
      "{'n': {'name': 'xiaomai', 'age': 4}}\n",
      "{'n': {'name': '西游记'}}\n",
      "{'n': {'name': 'dmm', 'age': 4}}\n",
      "{'n': {'name': '三国演义'}}\n",
      "{'n': {'score': 8.7, 'name': '无间道', 'type': '犯罪'}}\n",
      "{'n': {'score': 9.4, 'name': '大内密探零零发', 'type': '搞笑'}}\n"
     ]
    }
   ],
   "source": [
    "# 返回所有节点\n",
    "r0 = driver.execute_query(\"match (n) return n\", database_='neo4j').records\n",
    "for i in r0:\n",
    "    print(i.data())"
   ],
   "metadata": {
    "collapsed": false,
    "pycharm": {
     "name": "#%%\n"
    }
   }
  },
  {
   "cell_type": "code",
   "execution_count": 87,
   "outputs": [],
   "source": [
    "driver.close()"
   ],
   "metadata": {
    "collapsed": false,
    "pycharm": {
     "name": "#%%\n"
    }
   }
  },
  {
   "cell_type": "code",
   "execution_count": 87,
   "outputs": [],
   "source": [],
   "metadata": {
    "collapsed": false,
    "pycharm": {
     "name": "#%%\n"
    }
   }
  }
 ],
 "metadata": {
  "kernelspec": {
   "display_name": "Python 3",
   "language": "python",
   "name": "python3"
  },
  "language_info": {
   "codemirror_mode": {
    "name": "ipython",
    "version": 2
   },
   "file_extension": ".py",
   "mimetype": "text/x-python",
   "name": "python",
   "nbconvert_exporter": "python",
   "pygments_lexer": "ipython2",
   "version": "2.7.6"
  }
 },
 "nbformat": 4,
 "nbformat_minor": 0
}