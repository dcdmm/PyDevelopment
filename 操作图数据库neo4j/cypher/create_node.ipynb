{
 "cells": [
  {
   "cell_type": "code",
   "execution_count": 31,
   "metadata": {
    "collapsed": true
   },
   "outputs": [],
   "source": [
    "from neo4j import GraphDatabase\n",
    "\n",
    "URI = \"neo4j://localhost:7687\"\n",
    "AUTH = (\"neo4j\", \"qwer123456\")\n",
    "\n",
    "with GraphDatabase.driver(URI, auth=AUTH) as driver:\n",
    "    driver.execute_query(\"match (n) detach delete n\", database_='neo4j')  # 删除所有节点和关系\n",
    "\n",
    "    # 创建单个节点;标签名称:moive\n",
    "    driver.execute_query(\"create(:moive{name:'肖申克的救赎', type:'犯罪', score:9.7})\", database_=\"neo4j\")\n",
    "    # 创建多个标签:moive/good/USA\n",
    "    driver.execute_query(\"create(:moive:good:USA{name:'侏罗纪公园', type:'科幻', score:9.7})\", database_=\"neo4j\")\n",
    "    # 创建多个节点(逗号分隔)\n",
    "    driver.execute_query(\"create\"\n",
    "                         \"(:moive{name:'无间道', type:'犯罪', score:8.7}),\"\n",
    "                         \"(:moive{name:'大内密探零零发', type:'搞笑', score:9.4}),\"\n",
    "                         \"(:moive{name:'我和我的祖国', type:'主旋律', score:7.7})\", database_=\"neo4j\")\n",
    "\n",
    "    # Shut down, closing any open connections in the pool.\n",
    "    driver.close()"
   ]
  },
  {
   "cell_type": "code",
   "execution_count": 31,
   "outputs": [],
   "source": [],
   "metadata": {
    "collapsed": false,
    "pycharm": {
     "name": "#%%\n"
    }
   }
  }
 ],
 "metadata": {
  "kernelspec": {
   "display_name": "Python 3",
   "language": "python",
   "name": "python3"
  },
  "language_info": {
   "codemirror_mode": {
    "name": "ipython",
    "version": 2
   },
   "file_extension": ".py",
   "mimetype": "text/x-python",
   "name": "python",
   "nbconvert_exporter": "python",
   "pygments_lexer": "ipython2",
   "version": "2.7.6"
  }
 },
 "nbformat": 4,
 "nbformat_minor": 0
}