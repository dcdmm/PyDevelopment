{
 "cells": [
  {
   "cell_type": "code",
   "execution_count": 4,
   "metadata": {
    "collapsed": true
   },
   "outputs": [],
   "source": [
    "from neo4j import GraphDatabase\n",
    "\n",
    "URI = \"neo4j://localhost:7687\"\n",
    "AUTH = (\"neo4j\", \"qwer123456\")\n",
    "\n",
    "with GraphDatabase.driver(URI, auth=AUTH) as driver:\n",
    "    driver.execute_query(\"match (n) detach delete n\", database_='neo4j')  # 删除所有节点和关系\n",
    "\n",
    "    # 创建节点===>(:person{name:'dmm', age:4})\n",
    "    # 创建节点===>(:moive{name:'西游记'})\n",
    "    # 创建节点与节点之间的关系===>-[:love]->\n",
    "    driver.execute_query(\"create (:person{name:'dmm', age:4})-[:love]->(:moive{name:'西游记'})\", database_='neo4j')\n",
    "\n",
    "    # 创建节点===>(:person{name:'xiaomai', age:4})\n",
    "    # 创建节点===>(:moive{name:'西游记'})\n",
    "    # 创建节点与节点之间的系===>-[:love{level:'must', time:5}]->\n",
    "    driver.execute_query(\"create (:person{name:'xiaomai', age:4})-[:love{level:'must', time:5}]->(:moive{name:'西游记'})\", database_='neo4j')\n",
    "\n",
    "    # 创建节点===>(xiaowang_:Person {name: 'xiaowang', bornIn: '湖南', age:34})\n",
    "    # 创建节点===>(xiaoli_:Person {name: 'xiaoli', bornIn: '广东', age:41})\n",
    "    # 创建节点与节点之间的系===>-[r:knows]->\n",
    "    driver.execute_query(\"create \"\n",
    "                         \"(xiaowang_:Person {name: 'xiaowang', bornIn: '湖南', age:34}),\"\n",
    "                         \"(xiaoli_:Person {name: 'xiaoli', bornIn: '广东', age:41}),\"\n",
    "                         \"(xiaowang_)-[r:knows]->(xiaoli_)\"\n",
    "                         \"return r\", database_='neo4j')\n",
    "    driver.close()"
   ]
  }
 ],
 "metadata": {
  "kernelspec": {
   "display_name": "Python 3",
   "language": "python",
   "name": "python3"
  },
  "language_info": {
   "codemirror_mode": {
    "name": "ipython",
    "version": 2
   },
   "file_extension": ".py",
   "mimetype": "text/x-python",
   "name": "python",
   "nbconvert_exporter": "python",
   "pygments_lexer": "ipython2",
   "version": "2.7.6"
  }
 },
 "nbformat": 4,
 "nbformat_minor": 0
}