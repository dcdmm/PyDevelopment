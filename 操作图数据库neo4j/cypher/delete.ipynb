{
 "cells": [
  {
   "cell_type": "code",
   "execution_count": 35,
   "metadata": {
    "collapsed": true
   },
   "outputs": [],
   "source": [
    "from neo4j import GraphDatabase"
   ]
  },
  {
   "cell_type": "code",
   "execution_count": 36,
   "outputs": [
    {
     "data": {
      "text/plain": "<neo4j._sync.driver.Neo4jDriver at 0x1cb8147aef0>"
     },
     "execution_count": 36,
     "metadata": {},
     "output_type": "execute_result"
    }
   ],
   "source": [
    "URI = \"neo4j://localhost:7687\"\n",
    "AUTH = (\"neo4j\", \"qwer123456\")\n",
    "\n",
    "driver = GraphDatabase.driver(URI, auth=AUTH)\n",
    "driver"
   ],
   "metadata": {
    "collapsed": false,
    "pycharm": {
     "name": "#%%\n"
    }
   }
  },
  {
   "cell_type": "code",
   "execution_count": 37,
   "outputs": [
    {
     "data": {
      "text/plain": "EagerResult(records=[], summary=<neo4j._work.summary.ResultSummary object at 0x000001CBFCC905B0>, keys=[])"
     },
     "execution_count": 37,
     "metadata": {},
     "output_type": "execute_result"
    }
   ],
   "source": [
    "driver.execute_query(\"match (n) detach delete n\", database_='neo4j') # 删除所有节点和关系\n",
    "\n",
    "cql_string = \"\"\"CREATE\n",
    "(xiaowang_:Person {name: 'xiaowang', bornIn: '湖南', age:34}),\n",
    "(dc_:Person {name: 'dc', bornIn: '广东', age:41}),\n",
    "(xiaohong_:Person {name: 'xiaohong', bornIn: '上海', age:51}),\n",
    "(xiaohei_:Person {name: 'xiaohei', bornIn: '湖南', age:66}),\n",
    "(dmm_:Person {name: 'dmm', bornIn: '湖南', age:8}),\n",
    "\n",
    "(tom_:Person {name: 'tom', bornIn: '美国', age:38}),\n",
    "(jack_:Person {name: 'jack', bornIn: '美国', age:38}),\n",
    "\n",
    "(dhxy:Movie {title: '大话西游'}),\n",
    "(bfx:Movie {title: '蝙蝠侠'}),\n",
    "(hkdg:Movie {title: '黑客帝国'}),\n",
    "\n",
    "(xiaowang_)-[:like]->(dhxy),\n",
    "(dc_)-[:dislike]->(bfx),\n",
    "(xiaohong_)-[:like]->(hkdg),\n",
    "(xiaohei_)-[:like]->(hkdg),\n",
    "(dmm_)-[:like]->(hkdg),\n",
    "(dmm_)-[:dislike]->(bfx)\"\"\"\n",
    "driver.execute_query(cql_string, database_='neo4j')"
   ],
   "metadata": {
    "collapsed": false,
    "pycharm": {
     "name": "#%%\n"
    }
   }
  },
  {
   "cell_type": "code",
   "execution_count": 38,
   "outputs": [
    {
     "data": {
      "text/plain": "EagerResult(records=[], summary=<neo4j._work.summary.ResultSummary object at 0x000001CB80D447C0>, keys=[])"
     },
     "execution_count": 38,
     "metadata": {},
     "output_type": "execute_result"
    }
   ],
   "source": [
    "# 删除单个节点(该节点不能与其他节点存在关系)\n",
    "driver.execute_query(\"match (n:Person {name: 'tom'})\"\n",
    "                     \"delete n\", database_='neo4j')"
   ],
   "metadata": {
    "collapsed": false,
    "pycharm": {
     "name": "#%%\n"
    }
   }
  },
  {
   "cell_type": "code",
   "execution_count": 39,
   "outputs": [
    {
     "data": {
      "text/plain": "EagerResult(records=[], summary=<neo4j._work.summary.ResultSummary object at 0x000001CB81461900>, keys=[])"
     },
     "execution_count": 39,
     "metadata": {},
     "output_type": "execute_result"
    }
   ],
   "source": [
    "# 仅删除关系(关联的节点不受影响)\n",
    "driver.execute_query(\"match (n:Person {name: 'xiaowang'})-[r:like]->() \"\n",
    "                     \"delete r\", database_='neo4j')"
   ],
   "metadata": {
    "collapsed": false,
    "pycharm": {
     "name": "#%%\n"
    }
   }
  },
  {
   "cell_type": "code",
   "execution_count": 40,
   "outputs": [
    {
     "data": {
      "text/plain": "EagerResult(records=[], summary=<neo4j._work.summary.ResultSummary object at 0x000001CB8145FD90>, keys=[])"
     },
     "execution_count": 40,
     "metadata": {},
     "output_type": "execute_result"
    }
   ],
   "source": [
    "# 删除节点及其所有关系(detach delete子句)\n",
    "driver.execute_query(\"match (n:Person {name: 'dc'}) \"\n",
    "                     \"detach delete n\")"
   ],
   "metadata": {
    "collapsed": false,
    "pycharm": {
     "name": "#%%\n"
    }
   }
  },
  {
   "cell_type": "code",
   "execution_count": 41,
   "outputs": [],
   "source": [
    "driver.close()"
   ],
   "metadata": {
    "collapsed": false,
    "pycharm": {
     "name": "#%%\n"
    }
   }
  }
 ],
 "metadata": {
  "kernelspec": {
   "display_name": "Python 3",
   "language": "python",
   "name": "python3"
  },
  "language_info": {
   "codemirror_mode": {
    "name": "ipython",
    "version": 2
   },
   "file_extension": ".py",
   "mimetype": "text/x-python",
   "name": "python",
   "nbconvert_exporter": "python",
   "pygments_lexer": "ipython2",
   "version": "2.7.6"
  }
 },
 "nbformat": 4,
 "nbformat_minor": 0
}