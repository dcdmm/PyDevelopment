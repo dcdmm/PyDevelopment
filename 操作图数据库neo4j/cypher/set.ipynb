{
 "cells": [
  {
   "cell_type": "code",
   "execution_count": 101,
   "metadata": {
    "collapsed": true
   },
   "outputs": [],
   "source": [
    "from neo4j import GraphDatabase"
   ]
  },
  {
   "cell_type": "code",
   "execution_count": 102,
   "outputs": [
    {
     "data": {
      "text/plain": "<neo4j._sync.driver.Neo4jDriver at 0x2d758317fd0>"
     },
     "execution_count": 102,
     "metadata": {},
     "output_type": "execute_result"
    }
   ],
   "source": [
    "URI = \"neo4j://localhost:7687\"\n",
    "AUTH = (\"neo4j\", \"qwer123456\")\n",
    "\n",
    "driver = GraphDatabase.driver(URI, auth=AUTH)\n",
    "driver"
   ],
   "metadata": {
    "collapsed": false,
    "pycharm": {
     "name": "#%%\n"
    }
   }
  },
  {
   "cell_type": "code",
   "execution_count": 103,
   "outputs": [
    {
     "data": {
      "text/plain": "EagerResult(records=[], summary=<neo4j._work.summary.ResultSummary object at 0x000002D75838E9B0>, keys=[])"
     },
     "execution_count": 103,
     "metadata": {},
     "output_type": "execute_result"
    }
   ],
   "source": [
    "driver.execute_query(\"match (n) detach delete n\", database_='neo4j')  # 删除所有节点和关系\n",
    "\n",
    "cql_string = \"\"\"CREATE\n",
    "(xiaowang_:Person {name: 'xiaowang', bornIn: '湖南', age:34}),\n",
    "(dc_:Person {name: 'dc', bornIn: '广东', age:41}),\n",
    "(xiaohong_:Person {name: 'xiaohong', bornIn: '上海', age:51}),\n",
    "(xiaohei_:Person {name: 'xiaohei', bornIn: '湖南', age:66}),\n",
    "(dmm_:Person {name: 'dmm', bornIn: '湖南', age:8}),\n",
    "(tom_:Person {name: 'tom', bornIn: '美国', age:38}),\n",
    "\n",
    "(dhxy:Movie {title: '大话西游'}),\n",
    "(bfx:Movie {title: '蝙蝠侠'}),\n",
    "(hkdg:Movie {title: '黑客帝国'}),\n",
    "\n",
    "(xiaowang_)-[:like]->(dhxy),\n",
    "(dc_)-[:dislike]->(bfx),\n",
    "(xiaohong_)-[:like]->(hkdg),\n",
    "(xiaohei_)-[:like]->(hkdg),\n",
    "(dmm_)-[:like]->(hkdg),\n",
    "(dmm_)-[:dislike]->(bfx)\"\"\"\n",
    "driver.execute_query(cql_string, database_='neo4j')"
   ],
   "metadata": {
    "collapsed": false,
    "pycharm": {
     "name": "#%%\n"
    }
   }
  },
  {
   "cell_type": "code",
   "execution_count": 104,
   "outputs": [
    {
     "data": {
      "text/plain": "EagerResult(records=[<Record n=<Node element_id='5' labels=frozenset({'Person'}) properties={'bornIn': '广东', 'name': 'dc', 'age': 28}>>], summary=<neo4j._work.summary.ResultSummary object at 0x000002D75820AFE0>, keys=['n'])"
     },
     "execution_count": 104,
     "metadata": {},
     "output_type": "execute_result"
    }
   ],
   "source": [
    "# 更新节点属性\n",
    "driver.execute_query(\"match (n:Person{name: 'dc'})\"\n",
    "                     \"set n.age = 28 \"\n",
    "                     \"return n\", database_='neo4j')"
   ],
   "metadata": {
    "collapsed": false,
    "pycharm": {
     "name": "#%%\n"
    }
   }
  },
  {
   "cell_type": "code",
   "execution_count": 105,
   "outputs": [
    {
     "data": {
      "text/plain": "EagerResult(records=[<Record r=<Relationship element_id='3' nodes=(<Node element_id='4' labels=frozenset() properties={}>, <Node element_id='23' labels=frozenset() properties={}>) type='like' properties={'degree': 10, 'why': 'suit'}>>], summary=<neo4j._work.summary.ResultSummary object at 0x000002D75838F5B0>, keys=['r'])"
     },
     "execution_count": 105,
     "metadata": {},
     "output_type": "execute_result"
    }
   ],
   "source": [
    "# 更新多个关系属性(逗号分隔)\n",
    "driver.execute_query(\"match (n:Person{name: 'xiaowang'})-[r:like]->(m) \"\n",
    "                     \"SET r.degree = 10, r.why = 'suit' \"\n",
    "                     \"RETURN r\", database_='neo4j')"
   ],
   "metadata": {
    "collapsed": false,
    "pycharm": {
     "name": "#%%\n"
    }
   }
  },
  {
   "cell_type": "code",
   "execution_count": 106,
   "outputs": [
    {
     "data": {
      "text/plain": "EagerResult(records=[<Record r=<Relationship element_id='3' nodes=(<Node element_id='4' labels=frozenset() properties={}>, <Node element_id='23' labels=frozenset() properties={}>) type='like' properties={'degree': 10}>>], summary=<neo4j._work.summary.ResultSummary object at 0x000002D7583172E0>, keys=['r'])"
     },
     "execution_count": 106,
     "metadata": {},
     "output_type": "execute_result"
    }
   ],
   "source": [
    "# 删除属性(设置属性值为null)\n",
    "driver.execute_query(\"match (n:Person{name: 'xiaowang'})-[r:like]->(m) \"\n",
    "                     \"SET r.degree = 10, r.why = null \"\n",
    "                     \"RETURN r\", database_='neo4j')"
   ],
   "metadata": {
    "collapsed": false,
    "pycharm": {
     "name": "#%%\n"
    }
   }
  },
  {
   "cell_type": "code",
   "execution_count": 107,
   "outputs": [],
   "source": [
    "driver.close()"
   ],
   "metadata": {
    "collapsed": false,
    "pycharm": {
     "name": "#%%\n"
    }
   }
  }
 ],
 "metadata": {
  "kernelspec": {
   "display_name": "Python 3",
   "language": "python",
   "name": "python3"
  },
  "language_info": {
   "codemirror_mode": {
    "name": "ipython",
    "version": 2
   },
   "file_extension": ".py",
   "mimetype": "text/x-python",
   "name": "python",
   "nbconvert_exporter": "python",
   "pygments_lexer": "ipython2",
   "version": "2.7.6"
  }
 },
 "nbformat": 4,
 "nbformat_minor": 0
}