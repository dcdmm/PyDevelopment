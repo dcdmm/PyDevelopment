{
 "cells": [
  {
   "cell_type": "code",
   "execution_count": 98,
   "metadata": {
    "collapsed": true
   },
   "outputs": [],
   "source": [
    "from neo4j import GraphDatabase"
   ]
  },
  {
   "cell_type": "code",
   "execution_count": 99,
   "outputs": [
    {
     "data": {
      "text/plain": "<neo4j._sync.driver.Neo4jDriver at 0x1e4e50ee230>"
     },
     "execution_count": 99,
     "metadata": {},
     "output_type": "execute_result"
    }
   ],
   "source": [
    "URI = \"neo4j://localhost:7687\"\n",
    "AUTH = (\"neo4j\", \"qwer123456\")\n",
    "\n",
    "driver = GraphDatabase.driver(URI, auth=AUTH)\n",
    "driver"
   ],
   "metadata": {
    "collapsed": false,
    "pycharm": {
     "name": "#%%\n"
    }
   }
  },
  {
   "cell_type": "code",
   "execution_count": 100,
   "outputs": [
    {
     "data": {
      "text/plain": "EagerResult(records=[], summary=<neo4j._work.summary.ResultSummary object at 0x000001E4E50EEC20>, keys=[])"
     },
     "execution_count": 100,
     "metadata": {},
     "output_type": "execute_result"
    }
   ],
   "source": [
    "driver.execute_query(\"match (n) detach delete n\", database_='neo4j')  # 删除所有节点和关系\n",
    "\n",
    "driver.execute_query(\"create\"\n",
    "                     \"(:moive{name:'无间道', type:'犯罪', score:8.7}),\"\n",
    "                     \"(:moive{name:'大内密探零零发', type:'搞笑', score:9.4}),\"\n",
    "                     \"(:moive{name:'我和我的祖国', type:'主旋律', score:7.7})\", database_=\"neo4j\")\n",
    "driver.execute_query(\"create (:person{name:'dmm', age:4})-[:love]->(:moive{name:'西游记'})\", database_='neo4j')\n",
    "driver.execute_query(\"create (:person{name:'xiaomai', age:4})-[:love{level:'must', time:5}]->(:moive{name:'西游记'})\", database_='neo4j')\n",
    "driver.execute_query(\"create (:person{name:'dmm', age:4})-[:dislike{level:'must', time:4}]->(:moive{name:'三国演义'})\", database_='neo4j')\n",
    "driver.execute_query(\"create (:dog{name:'wangcai', age:1})-[:love]->(:find{name:'狗粮'})\", database_='neo4j')"
   ],
   "metadata": {
    "collapsed": false,
    "pycharm": {
     "name": "#%%\n"
    }
   }
  },
  {
   "cell_type": "code",
   "execution_count": 101,
   "outputs": [
    {
     "name": "stdout",
     "output_type": "stream",
     "text": [
      "[<Record n=<Node element_id='15' labels=frozenset({'person'}) properties={'name': 'dmm', 'age': 4}> r=<Relationship element_id='14' nodes=(<Node element_id='15' labels=frozenset({'person'}) properties={'name': 'dmm', 'age': 4}>, <Node element_id='22' labels=frozenset({'moive'}) properties={'name': '西游记'}>) type='love' properties={}> m=<Node element_id='22' labels=frozenset({'moive'}) properties={'name': '西游记'}>>, <Record n=<Node element_id='23' labels=frozenset({'person'}) properties={'name': 'xiaomai', 'age': 4}> r=<Relationship element_id='15' nodes=(<Node element_id='23' labels=frozenset({'person'}) properties={'name': 'xiaomai', 'age': 4}>, <Node element_id='24' labels=frozenset({'moive'}) properties={'name': '西游记'}>) type='love' properties={'level': 'must', 'time': 5}> m=<Node element_id='24' labels=frozenset({'moive'}) properties={'name': '西游记'}>>, <Record n=<Node element_id='16' labels=frozenset({'dog'}) properties={'name': 'wangcai', 'age': 1}> r=<Relationship element_id='17' nodes=(<Node element_id='16' labels=frozenset({'dog'}) properties={'name': 'wangcai', 'age': 1}>, <Node element_id='17' labels=frozenset({'find'}) properties={'name': '狗粮'}>) type='love' properties={}> m=<Node element_id='17' labels=frozenset({'find'}) properties={'name': '狗粮'}>>]\n",
      "{'n': {'name': 'dmm', 'age': 4}, 'r': ({'name': 'dmm', 'age': 4}, 'love', {'name': '西游记'}), 'm': {'name': '西游记'}}\n",
      "[<Node element_id='15' labels=frozenset({'person'}) properties={'name': 'dmm', 'age': 4}>, <Relationship element_id='14' nodes=(<Node element_id='15' labels=frozenset({'person'}) properties={'name': 'dmm', 'age': 4}>, <Node element_id='22' labels=frozenset({'moive'}) properties={'name': '西游记'}>) type='love' properties={}>, <Node element_id='22' labels=frozenset({'moive'}) properties={'name': '西游记'}>]\n",
      "<class 'neo4j.graph.Node'>\n",
      "frozenset({'person'})\n",
      "dict_items([('name', 'dmm'), ('age', 4)])\n",
      "<class 'abc.love'>\n",
      "love\n",
      "dict_items([])\n",
      "{'n': {'name': 'xiaomai', 'age': 4}, 'r': ({'name': 'xiaomai', 'age': 4}, 'love', {'name': '西游记'}), 'm': {'name': '西游记'}}\n",
      "[<Node element_id='23' labels=frozenset({'person'}) properties={'name': 'xiaomai', 'age': 4}>, <Relationship element_id='15' nodes=(<Node element_id='23' labels=frozenset({'person'}) properties={'name': 'xiaomai', 'age': 4}>, <Node element_id='24' labels=frozenset({'moive'}) properties={'name': '西游记'}>) type='love' properties={'level': 'must', 'time': 5}>, <Node element_id='24' labels=frozenset({'moive'}) properties={'name': '西游记'}>]\n",
      "<class 'neo4j.graph.Node'>\n",
      "frozenset({'person'})\n",
      "dict_items([('name', 'xiaomai'), ('age', 4)])\n",
      "<class 'abc.love'>\n",
      "love\n",
      "dict_items([('level', 'must'), ('time', 5)])\n",
      "{'n': {'name': 'wangcai', 'age': 1}, 'r': ({'name': 'wangcai', 'age': 1}, 'love', {'name': '狗粮'}), 'm': {'name': '狗粮'}}\n",
      "[<Node element_id='16' labels=frozenset({'dog'}) properties={'name': 'wangcai', 'age': 1}>, <Relationship element_id='17' nodes=(<Node element_id='16' labels=frozenset({'dog'}) properties={'name': 'wangcai', 'age': 1}>, <Node element_id='17' labels=frozenset({'find'}) properties={'name': '狗粮'}>) type='love' properties={}>, <Node element_id='17' labels=frozenset({'find'}) properties={'name': '狗粮'}>]\n",
      "<class 'neo4j.graph.Node'>\n",
      "frozenset({'dog'})\n",
      "dict_items([('name', 'wangcai'), ('age', 1)])\n",
      "<class 'abc.love'>\n",
      "love\n",
      "dict_items([])\n"
     ]
    }
   ],
   "source": [
    "# 指定关系类型为love\n",
    "# 返回开始节点(n),结尾节点(m),开始与结尾节点的关系(r)\n",
    "r0 = driver.execute_query(\"match (n)-[r:love]->(m) return n, r, m\", database_='neo4j').records\n",
    "print(r0)\n",
    "for i in r0:\n",
    "    print(i.data())  # 字典\n",
    "\n",
    "    values = i.values()\n",
    "    print(values)\n",
    "    print(type(values[0]))\n",
    "    print(values[0].labels)\n",
    "    print(values[0].items())\n",
    "\n",
    "    print(type(values[1]))\n",
    "    print(values[1].type)\n",
    "    print(values[1].items())"
   ],
   "metadata": {
    "collapsed": false,
    "pycharm": {
     "name": "#%%\n"
    }
   }
  },
  {
   "cell_type": "code",
   "execution_count": 102,
   "outputs": [
    {
     "name": "stdout",
     "output_type": "stream",
     "text": [
      "{'r': ({}, 'dislike', {})}\n"
     ]
    }
   ],
   "source": [
    "# 指定关系time属性为4\n",
    "# 只返回开始与结尾节点的关系(r)\n",
    "r0 = driver.execute_query(\"match ()-[r{time:4}]->() return r\", database_='neo4j').records\n",
    "for i in r0:\n",
    "    print(i.data())"
   ],
   "metadata": {
    "collapsed": false,
    "pycharm": {
     "name": "#%%\n"
    }
   }
  },
  {
   "cell_type": "code",
   "execution_count": 103,
   "outputs": [
    {
     "name": "stdout",
     "output_type": "stream",
     "text": [
      "{'m': {'name': 'dmm', 'age': 4}}\n",
      "{'m': {'name': 'dmm', 'age': 4}}\n",
      "{'m': {'name': 'xiaomai', 'age': 4}}\n"
     ]
    }
   ],
   "source": [
    "# 关系为任意;开始节点类型为person,结尾节点为任意\n",
    "# 只返回开始节点(m)\n",
    "r0 = driver.execute_query(\"match (m:person)-[r]->() return m\", database_='neo4j').records\n",
    "for i in r0:\n",
    "    print(i.data())"
   ],
   "metadata": {
    "collapsed": false,
    "pycharm": {
     "name": "#%%\n"
    }
   }
  },
  {
   "cell_type": "code",
   "execution_count": 104,
   "outputs": [
    {
     "name": "stdout",
     "output_type": "stream",
     "text": [
      "{'a': {'name': 'xiaomai', 'age': 4}, 'b': {'name': '西游记'}, 'r': ({'name': 'xiaomai', 'age': 4}, 'love', {'name': '西游记'})}\n"
     ]
    }
   ],
   "source": [
    "# 关系为任意;开始节点类型name属性为xiaomai,结尾节点为任意\n",
    "# 返回查询到的所有节点、关系\n",
    "r0 = driver.execute_query(\"match (a:person{name:'xiaomai'})-[r]->(b) return *\", database_='neo4j').records\n",
    "for i in r0:\n",
    "    print(i.data())"
   ],
   "metadata": {
    "collapsed": false,
    "pycharm": {
     "name": "#%%\n"
    }
   }
  },
  {
   "cell_type": "code",
   "execution_count": 105,
   "outputs": [
    {
     "name": "stdout",
     "output_type": "stream",
     "text": [
      "{'a': {'name': 'xiaomai', 'age': 4}, 'b': {'name': '西游记'}}\n"
     ]
    }
   ],
   "source": [
    "# 指定关系类型为love;开始节点类型name属性为xiaomai,结尾节点类型为moive\n",
    "r0 = driver.execute_query(\"match (a:person{name:'xiaomai'})-[r:love]->(b:moive) return a, b\", database_='neo4j').records\n",
    "for i in r0:\n",
    "    print(i.data())"
   ],
   "metadata": {
    "collapsed": false,
    "pycharm": {
     "name": "#%%\n"
    }
   }
  },
  {
   "cell_type": "code",
   "execution_count": 106,
   "outputs": [
    {
     "name": "stdout",
     "output_type": "stream",
     "text": [
      "{'m': {'name': 'dmm', 'age': 4}, 'n': {'name': '三国演义'}, 'r': ({'name': 'dmm', 'age': 4}, 'dislike', {'name': '三国演义'})}\n",
      "{'m': {'name': 'dmm', 'age': 4}, 'n': {'name': '西游记'}, 'r': ({'name': 'dmm', 'age': 4}, 'love', {'name': '西游记'})}\n",
      "{'m': {'name': 'wangcai', 'age': 1}, 'n': {'name': '狗粮'}, 'r': ({'name': 'wangcai', 'age': 1}, 'love', {'name': '狗粮'})}\n",
      "{'m': {'name': 'xiaomai', 'age': 4}, 'n': {'name': '西游记'}, 'r': ({'name': 'xiaomai', 'age': 4}, 'love', {'name': '西游记'})}\n"
     ]
    }
   ],
   "source": [
    "# 关系为任意;开始节点,结尾节点为任意\n",
    "r0 = driver.execute_query(\"match (m)-[r]->(n) return m, n, r\", database_='neo4j').records\n",
    "for i in r0:\n",
    "    print(i.data())"
   ],
   "metadata": {
    "collapsed": false,
    "pycharm": {
     "name": "#%%\n"
    }
   }
  }
 ],
 "metadata": {
  "kernelspec": {
   "display_name": "Python 3",
   "language": "python",
   "name": "python3"
  },
  "language_info": {
   "codemirror_mode": {
    "name": "ipython",
    "version": 2
   },
   "file_extension": ".py",
   "mimetype": "text/x-python",
   "name": "python",
   "nbconvert_exporter": "python",
   "pygments_lexer": "ipython2",
   "version": "2.7.6"
  }
 },
 "nbformat": 4,
 "nbformat_minor": 0
}