{
 "cells": [
  {
   "cell_type": "code",
   "execution_count": 105,
   "metadata": {
    "collapsed": true
   },
   "outputs": [],
   "source": [
    "from neo4j import GraphDatabase"
   ]
  },
  {
   "cell_type": "code",
   "execution_count": 106,
   "outputs": [
    {
     "data": {
      "text/plain": "<neo4j._sync.driver.Neo4jDriver at 0x212623d3a00>"
     },
     "execution_count": 106,
     "metadata": {},
     "output_type": "execute_result"
    }
   ],
   "source": [
    "URI = \"neo4j://localhost:7687\"\n",
    "AUTH = (\"neo4j\", \"qwer123456\")\n",
    "\n",
    "driver = GraphDatabase.driver(URI, auth=AUTH)\n",
    "driver"
   ],
   "metadata": {
    "collapsed": false,
    "pycharm": {
     "name": "#%%\n"
    }
   }
  },
  {
   "cell_type": "code",
   "execution_count": 107,
   "outputs": [
    {
     "data": {
      "text/plain": "EagerResult(records=[], summary=<neo4j._work.summary.ResultSummary object at 0x00000212623DB520>, keys=[])"
     },
     "execution_count": 107,
     "metadata": {},
     "output_type": "execute_result"
    }
   ],
   "source": [
    "driver.execute_query(\"match (n) detach delete n\", database_='neo4j')\n",
    "\n",
    "cql_string = \"\"\"CREATE\n",
    "(xiaowang_:Person {name: 'xiaowang', bornIn: '湖南', age:34}),\n",
    "(dc_:Person {name: 'dc', bornIn: '广东', age:41}),\n",
    "(xiaohong_:Person {name: 'xiaohong', bornIn: '上海', age:51}),\n",
    "(xiaohei_:Person {name: 'xiaohei', bornIn: '湖南', age:66}),\n",
    "(dmm_:Person {name: 'dmm', bornIn: '湖南', age:8}),\n",
    "\n",
    "(dhxy:Movie {title: '大话西游'}),\n",
    "(bfx:Movie {title: '蝙蝠侠'}),\n",
    "(hkdg:Movie {title: '黑客帝国'}),\n",
    "\n",
    "(xiaowang_)-[:like]->(dhxy),\n",
    "(dc_)-[:dislike]->(bfx),\n",
    "(xiaohong_)-[:like]->(hkdg),\n",
    "(xiaohei_)-[:like]->(hkdg),\n",
    "(dmm_)-[:like]->(hkdg),\n",
    "(dmm_)-[:dislike]->(bfx)\"\"\"\n",
    "driver.execute_query(cql_string, database_='neo4j')"
   ],
   "metadata": {
    "collapsed": false,
    "pycharm": {
     "name": "#%%\n"
    }
   }
  },
  {
   "cell_type": "code",
   "execution_count": 108,
   "outputs": [
    {
     "data": {
      "text/plain": "EagerResult(records=[<Record wangcai=<Node element_id='8' labels=frozenset({'dog'}) properties={'name': 'wangcai'}>>], summary=<neo4j._work.summary.ResultSummary object at 0x00000212623DAB60>, keys=['wangcai'])"
     },
     "execution_count": 108,
     "metadata": {},
     "output_type": "execute_result"
    }
   ],
   "source": [
    "# 创建一个新节点(数据库中不存在该节点)\n",
    "driver.execute_query(\"merge (wangcai:dog {name: 'wangcai'}) return wangcai\", database_='neo4j')"
   ],
   "metadata": {
    "collapsed": false,
    "pycharm": {
     "name": "#%%\n"
    }
   }
  },
  {
   "cell_type": "code",
   "execution_count": 109,
   "outputs": [
    {
     "data": {
      "text/plain": "EagerResult(records=[<Record wangcai=<Node element_id='8' labels=frozenset({'dog'}) properties={'name': 'wangcai'}>>], summary=<neo4j._work.summary.ResultSummary object at 0x00000212623D11B0>, keys=['wangcai'])"
     },
     "execution_count": 109,
     "metadata": {},
     "output_type": "execute_result"
    }
   ],
   "source": [
    "# 不再创建(数据库中已存在该节点)\n",
    "driver.execute_query(\"merge (wangcai:dog {name: 'wangcai'}) return wangcai\", database_='neo4j')"
   ],
   "metadata": {
    "collapsed": false,
    "pycharm": {
     "name": "#%%\n"
    }
   }
  },
  {
   "cell_type": "code",
   "execution_count": 110,
   "outputs": [
    {
     "data": {
      "text/plain": "EagerResult(records=[<Record wangcai=<Node element_id='9' labels=frozenset({'dog'}) properties={'name': 'wangcai'}>>], summary=<neo4j._work.summary.ResultSummary object at 0x00000212623657B0>, keys=['wangcai'])"
     },
     "execution_count": 110,
     "metadata": {},
     "output_type": "execute_result"
    }
   ],
   "source": [
    "# 仍然创建(数据库中已存在该节点)\n",
    "driver.execute_query(\"create (wangcai:dog {name: 'wangcai'}) return wangcai\", database_='neo4j')"
   ],
   "metadata": {
    "collapsed": false,
    "pycharm": {
     "name": "#%%\n"
    }
   }
  },
  {
   "cell_type": "code",
   "execution_count": 111,
   "outputs": [
    {
     "data": {
      "text/plain": "EagerResult(records=[<Record wangcai=<Node element_id='15' labels=frozenset({'dog'}) properties={'name': 'wangcai', 'age': 3}>>], summary=<neo4j._work.summary.ResultSummary object at 0x00000212623F5D50>, keys=['wangcai'])"
     },
     "execution_count": 111,
     "metadata": {},
     "output_type": "execute_result"
    }
   ],
   "source": [
    "# 创建一个新节点(该节点不为数据库中某节点的子集)\n",
    "# 该节点相比:dog {name: 'wangcai'}包含新属性age\n",
    "driver.execute_query(\"merge (wangcai:dog {name: 'wangcai', age: 3}) return wangcai\", database_='neo4j')"
   ],
   "metadata": {
    "collapsed": false,
    "pycharm": {
     "name": "#%%\n"
    }
   }
  },
  {
   "cell_type": "code",
   "execution_count": 112,
   "outputs": [
    {
     "data": {
      "text/plain": "EagerResult(records=[<Record xiaowang_=<Node element_id='22' labels=frozenset({'Person'}) properties={'bornIn': '湖南', 'name': 'xiaowang', 'age': 34}>>], summary=<neo4j._work.summary.ResultSummary object at 0x00000212623F7A60>, keys=['xiaowang_'])"
     },
     "execution_count": 112,
     "metadata": {},
     "output_type": "execute_result"
    }
   ],
   "source": [
    "# 不再创建(该节点为数据库中某节点的子集)\n",
    "# 该节点为:Person {name: 'xiaowang', bornIn: '湖南', age:34的子集\n",
    "driver.execute_query(\"merge (xiaowang_:Person {name: 'xiaowang', age:34}) return xiaowang_\", database_='neo4j')"
   ],
   "metadata": {
    "collapsed": false,
    "pycharm": {
     "name": "#%%\n"
    }
   }
  },
  {
   "cell_type": "code",
   "execution_count": 113,
   "outputs": [
    {
     "data": {
      "text/plain": "EagerResult(records=[<Record xiaowang_.name='xiaowang' hkdg.title='黑客帝国'>], summary=<neo4j._work.summary.ResultSummary object at 0x00000212623D3310>, keys=['xiaowang_.name', 'hkdg.title'])"
     },
     "execution_count": 113,
     "metadata": {},
     "output_type": "execute_result"
    }
   ],
   "source": [
    "# 不再创建(数据库中已存在该关系)\n",
    "driver.execute_query(\"match \"\n",
    "                     \"(xiaowang_:Person {name: 'xiaowang'}), \"\n",
    "                     \"(hkdg:Movie {title: '黑客帝国'}) \"\n",
    "                     \"merge (xiaowang_)-[r:like]->(hkdg)\"\n",
    "                     \"return xiaowang_.name, hkdg.title\", database_='neo4j')"
   ],
   "metadata": {
    "collapsed": false,
    "pycharm": {
     "name": "#%%\n"
    }
   }
  },
  {
   "cell_type": "code",
   "execution_count": 114,
   "outputs": [
    {
     "data": {
      "text/plain": "EagerResult(records=[<Record r=<Relationship element_id='1' nodes=(<Node element_id='22' labels=frozenset() properties={}>, <Node element_id='4' labels=frozenset() properties={}>) type='knows' properties={}>>], summary=<neo4j._work.summary.ResultSummary object at 0x00000212623F7970>, keys=['r'])"
     },
     "execution_count": 114,
     "metadata": {},
     "output_type": "execute_result"
    }
   ],
   "source": [
    "# 创建一条新关系(数据库中不存在该关系)\n",
    "driver.execute_query(\"match \"\n",
    "                     \"(xiaowang_:Person {name: 'xiaowang'}), \"\n",
    "                     \"(dmm_:Person {name: 'dmm'}) \"\n",
    "                     \"merge (xiaowang_)-[r:knows]->(dmm_) \"\n",
    "                     \"return r\", database_='neo4j')"
   ],
   "metadata": {
    "collapsed": false,
    "pycharm": {
     "name": "#%%\n"
    }
   }
  },
  {
   "cell_type": "code",
   "execution_count": null,
   "outputs": [],
   "source": [],
   "metadata": {
    "collapsed": false,
    "pycharm": {
     "name": "#%%\n"
    }
   }
  }
 ],
 "metadata": {
  "kernelspec": {
   "display_name": "Python 3",
   "language": "python",
   "name": "python3"
  },
  "language_info": {
   "codemirror_mode": {
    "name": "ipython",
    "version": 2
   },
   "file_extension": ".py",
   "mimetype": "text/x-python",
   "name": "python",
   "nbconvert_exporter": "python",
   "pygments_lexer": "ipython2",
   "version": "2.7.6"
  }
 },
 "nbformat": 4,
 "nbformat_minor": 0
}