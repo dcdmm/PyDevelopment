{
 "cells": [
  {
   "cell_type": "code",
   "execution_count": 144,
   "metadata": {
    "collapsed": true
   },
   "outputs": [],
   "source": [
    "from py2neo import Graph, Node, Relationship"
   ]
  },
  {
   "cell_type": "code",
   "execution_count": 145,
   "outputs": [],
   "source": [
    "g = Graph('http://localhost:7474', auth=('neo4j', '123456'), name='test')\n",
    "g.delete_all()"
   ],
   "metadata": {
    "collapsed": false,
    "pycharm": {
     "name": "#%%\n"
    }
   }
  },
  {
   "cell_type": "code",
   "execution_count": 146,
   "outputs": [],
   "source": [
    "a = Node('Cat', name='Tom')\n",
    "b = Node('Mouse', name='Jack')"
   ],
   "metadata": {
    "collapsed": false,
    "pycharm": {
     "name": "#%%\n"
    }
   }
  },
  {
   "cell_type": "code",
   "execution_count": 147,
   "outputs": [
    {
     "name": "stdout",
     "output_type": "stream",
     "text": [
      "<class 'py2neo.data.friend'>\n",
      "<class 'py2neo.data.food'>\n",
      "(Tom)-[:friend {exist: '3 year', level: 'very'}]->(Jack)\n",
      "(Jack)-[:food {}]->(Tom)\n",
      "<class 'py2neo.data.friend'>\n",
      "friend\n",
      "(Node('Cat', name='Tom'), Node('Mouse', name='Jack'))\n",
      "(:Cat {name: 'Tom'})\n",
      "(:Mouse {name: 'Jack'})\n"
     ]
    }
   ],
   "source": [
    "r0 = Relationship.type('friend')\n",
    "r1 = Relationship.type('food')\n",
    "print(r0)\n",
    "print(r1)\n",
    "b0 = r1(b, a)\n",
    "b1 = r0(a, b, exist='3 year', level='very')\n",
    "print(b1)\n",
    "print(b0)\n",
    "# Return the Relationship subclass for relationship.\n",
    "print(type(b1))\n",
    "# Return the name of the Relationship subclass for relationship as a string.\n",
    "print(type(b1).__name__)\n",
    "# A 2-tuple of start node and end node.\n",
    "print(b1.nodes)\n",
    "# The start node for this relationship.\n",
    "print(b1.start_node)\n",
    "# The end node for this relationship.\n",
    "print(b1.end_node)"
   ],
   "metadata": {
    "collapsed": false,
    "pycharm": {
     "name": "#%%\n"
    }
   }
  },
  {
   "cell_type": "code",
   "execution_count": 148,
   "outputs": [
    {
     "name": "stdout",
     "output_type": "stream",
     "text": [
      "2\n",
      "{'exist': '3 year', 'level': 'very'}\n",
      "dict_keys(['exist', 'level'])\n",
      "dict_values(['3 year', 'very'])\n",
      "dict_items([('exist', '3 year'), ('level', 'very')])\n",
      "3 year\n",
      "4 year\n",
      "(Tom)-[:friend {exist: '4 year', level: 'very', place: 'USE', why: 'help'}]->(Jack)\n",
      "(Tom)-[:friend {exist: '4 year', level: 'very', why: 'help'}]->(Jack)\n",
      "(Tom)-[:friend {}]->(Jack)\n"
     ]
    }
   ],
   "source": [
    "# Return the number of properties on this relationship.\n",
    "print(len(b1))\n",
    "# Return a dictionary of all the properties in this relationship.\n",
    "print(dict(b1))  # 不包括`type`属性\n",
    "# Return a list of all property names.\n",
    "print(b1.keys())\n",
    "# Return a list of all property values.\n",
    "print(b1.values())\n",
    "# Return a list of all properties as 2-tuples of name-value pairs.\n",
    "print(b1.items())\n",
    "# Return the value of the property called name, or None if the name is missing.\n",
    "print(b1['exist'])\n",
    "# Set the value of the property called name to value, or remove the property if value is None.\n",
    "b1['exist'] = '4 year'\n",
    "print(b1['exist'])\n",
    "b1.update({'why': 'help', 'place': 'USE'})\n",
    "print(b1)\n",
    "# Remove the property called name from this relationship, raising a KeyError if such a property does not exist.\n",
    "del b1['place']\n",
    "print(b1)\n",
    "b1.clear()\n",
    "print(b1)\n",
    "b1.update({'why': 'help', 'place': 'USE'})"
   ],
   "metadata": {
    "collapsed": false,
    "pycharm": {
     "name": "#%%\n"
    }
   }
  },
  {
   "cell_type": "code",
   "execution_count": 149,
   "outputs": [],
   "source": [
    "g.create(b0)\n",
    "g.create(b1)\n",
    "g.create(r0(a, a))\n",
    "\n",
    "# temp = Relationship.type('opponet')\n",
    "# temp(a, b, level='equal')\n",
    "# 与上等价\n",
    "g.create(Relationship(a, 'opponent', b, level='equal'))\n",
    "\n",
    "# temp = Relationship.type('Relationship')\n",
    "# temp(a, b)\n",
    "# 与上等价\n",
    "g.create(Relationship(a, b))"
   ],
   "metadata": {
    "collapsed": false,
    "pycharm": {
     "name": "#%%\n"
    }
   }
  }
 ],
 "metadata": {
  "kernelspec": {
   "display_name": "Python 3",
   "language": "python",
   "name": "python3"
  },
  "language_info": {
   "codemirror_mode": {
    "name": "ipython",
    "version": 2
   },
   "file_extension": ".py",
   "mimetype": "text/x-python",
   "name": "python",
   "nbconvert_exporter": "python",
   "pygments_lexer": "ipython2",
   "version": "2.7.6"
  }
 },
 "nbformat": 4,
 "nbformat_minor": 0
}