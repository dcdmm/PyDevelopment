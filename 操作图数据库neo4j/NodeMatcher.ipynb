{
 "cells": [
  {
   "cell_type": "code",
   "execution_count": 87,
   "metadata": {
    "collapsed": true
   },
   "outputs": [],
   "source": [
    "from py2neo import Graph, Node, Relationship\n",
    "from py2neo.matching import *"
   ]
  },
  {
   "cell_type": "code",
   "execution_count": 88,
   "outputs": [],
   "source": [
    "g = Graph('http://localhost:7474', auth=('neo4j', '123456'), name='test')\n",
    "g.delete_all()\n",
    "\n",
    "g0 = Node('派别', name='明教', num=5000)\n",
    "g.create(g0)\n",
    "g1 = Node('派别', name='武当', num=1000)\n",
    "g.create(g1)\n",
    "g2 = Node('派别', name='峨眉', num=800)\n",
    "g.create(g2)\n",
    "g3 = Node('派别', name='天鹰教', num=400)\n",
    "g.create(g3)\n",
    "p0 = Node('男性人物', name='张三丰', 战斗力='999')\n",
    "g.create(p0)\n",
    "p1 = Node('男性人物', name='张无忌', 战斗力='998')\n",
    "g.create(p1)\n",
    "p2 = Node('男性人物', name='杨逍', 战斗力='500')\n",
    "g.create(p2)\n",
    "p3 = Node('男性人物', name='张翠山', 战斗力='300')\n",
    "g.create(p3)\n",
    "p4 = Node('女性人物', name='殷素素', 战斗力='200')\n",
    "g.create(p4)\n",
    "p5 = Node('男性人物', name='金毛狮王', 战斗力='600')\n",
    "g.create(p5)\n",
    "p6 = Node('女性人物', name='周芷若', 战斗力='900')\n",
    "g.create(p6)\n",
    "p7 = Node('女性人物', name='小昭', 战斗力='100')\n",
    "g.create(p7)\n",
    "p8 = Node('女性人物', name='蛛儿', 战斗力='60')\n",
    "g.create(p8)\n",
    "\n",
    "g.create(Relationship(p0, '属于', g1))\n",
    "g.create(Relationship(p3, '属于', g1))\n",
    "g.create(Relationship(p1, '属于', g0))\n",
    "g.create(Relationship(p2, '属于', g0))\n",
    "g.create(Relationship(p4, '属于', g3))\n",
    "g.create(Relationship(p5, '属于', g0))\n",
    "g.create(Relationship(p6, '属于', g2))\n",
    "g.create(Relationship(p8, '属于', g3))\n",
    "\n",
    "g.create(Relationship(p1, '父亲', p3))\n",
    "g.create(Relationship(p1, '母亲', p4))\n",
    "g.create(Relationship(p1, '义父', p5))\n",
    "g.create(Relationship(p1, '师公', p0))\n",
    "g.create(Relationship(p1, '情人', p7))\n",
    "g.create(Relationship(p1, '情人', p8))\n",
    "g.create(Relationship(p1, '手下', p2))\n",
    "\n",
    "g.create(Relationship(p6, '情敌', p7))\n",
    "g.create(Relationship(p7, '情敌', p6))\n",
    "g.create(Relationship(p6, '情敌', p8))\n",
    "g.create(Relationship(p8, '情敌', p6))\n",
    "g.create(Relationship(p8, '情敌', p7))\n",
    "g.create(Relationship(p7, '情敌', p8))\n",
    "\n",
    "g.create(Relationship(p3, '妻子', p4))"
   ],
   "metadata": {
    "collapsed": false,
    "pycharm": {
     "name": "#%%\n"
    }
   }
  },
  {
   "cell_type": "code",
   "execution_count": 89,
   "outputs": [
    {
     "data": {
      "text/plain": "<py2neo.matching.NodeMatcher at 0x2929401d9a0>"
     },
     "execution_count": 89,
     "metadata": {},
     "output_type": "execute_result"
    }
   ],
   "source": [
    "nodes = NodeMatcher(g)\n",
    "nodes"
   ],
   "metadata": {
    "collapsed": false,
    "pycharm": {
     "name": "#%%\n"
    }
   }
  },
  {
   "cell_type": "code",
   "execution_count": 90,
   "outputs": [
    {
     "data": {
      "text/plain": "13"
     },
     "execution_count": 90,
     "metadata": {},
     "output_type": "execute_result"
    }
   ],
   "source": [
    "# Return the number of nodes matched.\n",
    "len(nodes)"
   ],
   "metadata": {
    "collapsed": false,
    "pycharm": {
     "name": "#%%\n"
    }
   }
  },
  {
   "cell_type": "code",
   "execution_count": 91,
   "outputs": [],
   "source": [
    "# Create a new NodeMatch that filters by identity and returns the first matched Node. This can be used to match and return a Node by ID.\n",
    "nodes.get(18)"
   ],
   "metadata": {
    "collapsed": false,
    "pycharm": {
     "name": "#%%\n"
    }
   }
  },
  {
   "cell_type": "code",
   "execution_count": 92,
   "outputs": [
    {
     "name": "stdout",
     "output_type": "stream",
     "text": [
      "<class 'py2neo.matching.NodeMatch'>\n",
      "<py2neo.matching.NodeMatch object at 0x000002929401D1F0>\n"
     ]
    }
   ],
   "source": [
    "print(type(nodes.match(\"派别\")))\n",
    "print(nodes.match(\"派别\"))"
   ],
   "metadata": {
    "collapsed": false,
    "pycharm": {
     "name": "#%%\n"
    }
   }
  },
  {
   "cell_type": "code",
   "execution_count": 93,
   "outputs": [
    {
     "data": {
      "text/plain": "4"
     },
     "execution_count": 93,
     "metadata": {},
     "output_type": "execute_result"
    }
   ],
   "source": [
    "# Evaluate the selection and return a count of the number of matches.\n",
    "# Returns number of nodes matched\n",
    "g_count = nodes.match(\"派别\").count()\n",
    "g_count"
   ],
   "metadata": {
    "collapsed": false,
    "pycharm": {
     "name": "#%%\n"
    }
   }
  },
  {
   "cell_type": "code",
   "execution_count": 94,
   "outputs": [
    {
     "name": "stdout",
     "output_type": "stream",
     "text": [
      "[Node('派别', name='明教', num=5000), Node('派别', name='武当', num=1000), Node('派别', name='峨眉', num=800), Node('派别', name='天鹰教', num=400)]\n",
      "(_65:派别 {name: '\\u660e\\u6559', num: 5000})\n",
      "<class 'py2neo.data.Node'>\n"
     ]
    }
   ],
   "source": [
    "# Evaluate the selection and return a list of all matched Node objects.\n",
    "# Returns list of matching Node objects\n",
    "g_all = nodes.match(\"派别\").all()\n",
    "print(g_all)\n",
    "print(g_all[0])\n",
    "print(type(g_all[0]))"
   ],
   "metadata": {
    "collapsed": false,
    "pycharm": {
     "name": "#%%\n"
    }
   }
  },
  {
   "cell_type": "code",
   "execution_count": 95,
   "outputs": [
    {
     "data": {
      "text/plain": "Node('派别', name='明教', num=5000)"
     },
     "execution_count": 95,
     "metadata": {},
     "output_type": "execute_result"
    }
   ],
   "source": [
    "# Evaluate the match and return the first Node matched or None if no matching nodes are found.\n",
    "# Returns a single matching Node or None\n",
    "g_first = nodes.match(\"派别\").first()\n",
    "g_first"
   ],
   "metadata": {
    "collapsed": false,
    "pycharm": {
     "name": "#%%\n"
    }
   }
  },
  {
   "cell_type": "code",
   "execution_count": 96,
   "outputs": [
    {
     "data": {
      "text/plain": "True"
     },
     "execution_count": 96,
     "metadata": {},
     "output_type": "execute_result"
    }
   ],
   "source": [
    "# Evaluate the selection and return True if at least one matched node exists.\n",
    "# Returns boolean indicating presence or absence of a match\n",
    "g_exists = nodes.match(\"派别\").exists()\n",
    "g_exists"
   ],
   "metadata": {
    "collapsed": false,
    "pycharm": {
     "name": "#%%\n"
    }
   }
  },
  {
   "cell_type": "code",
   "execution_count": 97,
   "outputs": [
    {
     "data": {
      "text/plain": "[Node('派别', name='明教', num=5000)]"
     },
     "execution_count": 97,
     "metadata": {},
     "output_type": "execute_result"
    }
   ],
   "source": [
    "# Simple property equalities can also be specified:\n",
    "nodes.match(\"派别\").where(name='明教').all()"
   ],
   "metadata": {
    "collapsed": false,
    "pycharm": {
     "name": "#%%\n"
    }
   }
  },
  {
   "cell_type": "code",
   "execution_count": 98,
   "outputs": [
    {
     "data": {
      "text/plain": "[Node('派别', name='明教', num=5000), Node('派别', name='天鹰教', num=400)]"
     },
     "execution_count": 98,
     "metadata": {},
     "output_type": "execute_result"
    }
   ],
   "source": [
    "# To refer to the current node within a predicate expression, use the underscore character _.\n",
    "nodes.match(\"派别\").where(\"_.name =~ '.*教'\").all()  # 正则表达式"
   ],
   "metadata": {
    "collapsed": false,
    "pycharm": {
     "name": "#%%\n"
    }
   }
  },
  {
   "cell_type": "code",
   "execution_count": 99,
   "outputs": [
    {
     "data": {
      "text/plain": "[Node('派别', name='明教', num=5000),\n Node('派别', name='武当', num=1000),\n Node('派别', name='峨眉', num=800)]"
     },
     "execution_count": 99,
     "metadata": {},
     "output_type": "execute_result"
    }
   ],
   "source": [
    "nodes.match(\"派别\").where(\"_.num >= 800\").all()"
   ],
   "metadata": {
    "collapsed": false,
    "pycharm": {
     "name": "#%%\n"
    }
   }
  },
  {
   "cell_type": "code",
   "execution_count": 100,
   "outputs": [
    {
     "data": {
      "text/plain": "[Node('派别', name='武当', num=1000)]"
     },
     "execution_count": 100,
     "metadata": {},
     "output_type": "execute_result"
    }
   ],
   "source": [
    "# 多个条件连接:and    or\n",
    "nodes.match(\"派别\").where(\"_.num >= 800 and _.name =~ '武.?'\").all()"
   ],
   "metadata": {
    "collapsed": false,
    "pycharm": {
     "name": "#%%\n"
    }
   }
  },
  {
   "cell_type": "code",
   "execution_count": 101,
   "outputs": [
    {
     "data": {
      "text/plain": "[Node('派别', name='武当', num=1000)]"
     },
     "execution_count": 101,
     "metadata": {},
     "output_type": "execute_result"
    }
   ],
   "source": [
    "# 与上等价\n",
    "nodes.match(\"派别\").where(\"_.num >= 800\").where(\"_.name =~ '武.?'\").all()"
   ],
   "metadata": {
    "collapsed": false,
    "pycharm": {
     "name": "#%%\n"
    }
   }
  },
  {
   "cell_type": "code",
   "execution_count": null,
   "outputs": [],
   "source": [],
   "metadata": {
    "collapsed": false,
    "pycharm": {
     "name": "#%%\n"
    }
   }
  }
 ],
 "metadata": {
  "kernelspec": {
   "display_name": "Python 3",
   "language": "python",
   "name": "python3"
  },
  "language_info": {
   "codemirror_mode": {
    "name": "ipython",
    "version": 2
   },
   "file_extension": ".py",
   "mimetype": "text/x-python",
   "name": "python",
   "nbconvert_exporter": "python",
   "pygments_lexer": "ipython2",
   "version": "2.7.6"
  }
 },
 "nbformat": 4,
 "nbformat_minor": 0
}