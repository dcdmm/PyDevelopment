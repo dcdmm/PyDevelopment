{
 "cells": [
  {
   "cell_type": "code",
   "execution_count": 131,
   "metadata": {
    "collapsed": true
   },
   "outputs": [],
   "source": [
    "from py2neo import Graph, Node, Relationship"
   ]
  },
  {
   "cell_type": "code",
   "execution_count": 132,
   "outputs": [],
   "source": [
    "g = Graph('http://localhost:7474', auth=('neo4j', '123456'), name='test')\n",
    "g.delete_all()"
   ],
   "metadata": {
    "collapsed": false,
    "pycharm": {
     "name": "#%%\n"
    }
   }
  },
  {
   "cell_type": "code",
   "execution_count": 133,
   "outputs": [
    {
     "data": {
      "text/plain": "(No data)",
      "text/html": "(No data)"
     },
     "execution_count": 133,
     "metadata": {},
     "output_type": "execute_result"
    }
   ],
   "source": [
    "g.run(\"create(:moive{m_id:1, name:'肖申克的救赎', type:'犯罪', score:9.7})\")\n",
    "g.run(\"create(:people{p_id:1, name:'xiaomai', age:16})\")"
   ],
   "metadata": {
    "collapsed": false,
    "pycharm": {
     "name": "#%%\n"
    }
   }
  },
  {
   "cell_type": "code",
   "execution_count": 134,
   "outputs": [
    {
     "data": {
      "text/plain": "(No data)",
      "text/html": "(No data)"
     },
     "execution_count": 134,
     "metadata": {},
     "output_type": "execute_result"
    }
   ],
   "source": [
    "# 创建节点\n",
    "\n",
    "# 属性为name:'xiaomai', age:16的节点已经存在\n",
    "g.run(\"\"\"create(:people{name:'xiaomai', age:16})\"\"\")  # 继续创建\n",
    "g.run(\"\"\"merge(:people{name:'xiaomai', age:16})\"\"\")  # 不再创建\n",
    "\n",
    "# 属性为name:'xiaomai', age:15的节点不存在\n",
    "g.run(\"\"\"merge(:people{name:'xiaomai', age:15})\"\"\")  # 创建节点(此时等价于create)\n",
    "\n",
    "# 属性为name:'xiaomai', age:16, sex:'woman'的节点不存在\n",
    "g.run(\"\"\"merge(:people{name:'xiaomai', age:16, sex:'woman'})\"\"\")  # 创建节点(此时等价于create)"
   ],
   "metadata": {
    "collapsed": false,
    "pycharm": {
     "name": "#%%\n"
    }
   }
  },
  {
   "cell_type": "code",
   "execution_count": 135,
   "outputs": [
    {
     "data": {
      "text/plain": "                                           a  \\\n0  {'name': 'xiaomai', 'age': 16, 'p_id': 1}   \n\n                                                   b  \n0  {'score': 9.7, 'name': '肖申克的救赎', 'type': '犯罪',...  ",
      "text/html": "<div>\n<style scoped>\n    .dataframe tbody tr th:only-of-type {\n        vertical-align: middle;\n    }\n\n    .dataframe tbody tr th {\n        vertical-align: top;\n    }\n\n    .dataframe thead th {\n        text-align: right;\n    }\n</style>\n<table border=\"1\" class=\"dataframe\">\n  <thead>\n    <tr style=\"text-align: right;\">\n      <th></th>\n      <th>a</th>\n      <th>b</th>\n    </tr>\n  </thead>\n  <tbody>\n    <tr>\n      <th>0</th>\n      <td>{'name': 'xiaomai', 'age': 16, 'p_id': 1}</td>\n      <td>{'score': 9.7, 'name': '肖申克的救赎', 'type': '犯罪',...</td>\n    </tr>\n  </tbody>\n</table>\n</div>"
     },
     "execution_count": 135,
     "metadata": {},
     "output_type": "execute_result"
    }
   ],
   "source": [
    "# 创建关系,与上类似\n",
    "\n",
    "g.run(\"\"\"match (a:people{p_id:1}), (b:moive{m_id:1})\n",
    "merge (a)-[r:love]->(b)\n",
    "set r.level='must'\n",
    "return a, b\"\"\").to_data_frame()"
   ],
   "metadata": {
    "collapsed": false,
    "pycharm": {
     "name": "#%%\n"
    }
   }
  }
 ],
 "metadata": {
  "kernelspec": {
   "display_name": "Python 3",
   "language": "python",
   "name": "python3"
  },
  "language_info": {
   "codemirror_mode": {
    "name": "ipython",
    "version": 2
   },
   "file_extension": ".py",
   "mimetype": "text/x-python",
   "name": "python",
   "nbconvert_exporter": "python",
   "pygments_lexer": "ipython2",
   "version": "2.7.6"
  }
 },
 "nbformat": 4,
 "nbformat_minor": 0
}