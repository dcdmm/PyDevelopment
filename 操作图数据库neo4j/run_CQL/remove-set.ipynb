{
 "cells": [
  {
   "cell_type": "code",
   "execution_count": 59,
   "metadata": {
    "collapsed": true
   },
   "outputs": [],
   "source": [
    "from py2neo import Graph"
   ]
  },
  {
   "cell_type": "code",
   "execution_count": 60,
   "outputs": [],
   "source": [
    "g = Graph('http://localhost:7474', auth=('neo4j', '123456'), name='test')\n",
    "g.delete_all()"
   ],
   "metadata": {
    "collapsed": false,
    "pycharm": {
     "name": "#%%\n"
    }
   }
  },
  {
   "cell_type": "code",
   "execution_count": 61,
   "outputs": [
    {
     "data": {
      "text/plain": "(No data)",
      "text/html": "(No data)"
     },
     "execution_count": 61,
     "metadata": {},
     "output_type": "execute_result"
    }
   ],
   "source": [
    "g.run(\"create(:moive{name:'肖申克的救赎', type:'犯罪', score:9.7})\")\n",
    "g.run(\"create (:person{name:'xiaomai', age:4})-[:love{level:'must', time:5}]->(:moive{name:'西游记'})\")\n",
    "g.run(\"create (:person{name:'dmm', age:4})-[:dislike{level:'must', time:4}]->(:moive{name:'三国演义'})\")"
   ],
   "metadata": {
    "collapsed": false,
    "pycharm": {
     "name": "#%%\n"
    }
   }
  },
  {
   "cell_type": "code",
   "execution_count": 62,
   "outputs": [
    {
     "data": {
      "text/plain": "[{'n': Node('moive', name='肖申克的救赎', score=9.7, type='犯罪')},\n {'n': Node('person', age=4, name='xiaomai')},\n {'n': Node('moive', name='西游记')},\n {'n': Node('person', age=4, name='dmm')},\n {'n': Node('moive', name='三国演义')}]"
     },
     "execution_count": 62,
     "metadata": {},
     "output_type": "execute_result"
    }
   ],
   "source": [
    "g.run(\"match (n) return n\").data()"
   ],
   "metadata": {
    "collapsed": false,
    "pycharm": {
     "name": "#%%\n"
    }
   }
  },
  {
   "cell_type": "code",
   "execution_count": 63,
   "outputs": [
    {
     "data": {
      "text/plain": "[{'m': Node('moive', name='肖申克的救赎', type='犯罪')}]"
     },
     "execution_count": 63,
     "metadata": {},
     "output_type": "execute_result"
    }
   ],
   "source": [
    "# 删除节点属性\n",
    "g.run(\"\"\"match (m:moive{name:'肖申克的救赎'})\n",
    "remove m.score\n",
    "return m\"\"\").data()"
   ],
   "metadata": {
    "collapsed": false,
    "pycharm": {
     "name": "#%%\n"
    }
   }
  },
  {
   "cell_type": "code",
   "execution_count": 64,
   "outputs": [
    {
     "data": {
      "text/plain": "[{'m': Node('moive', name='肖申克的救赎', place='USA', score=9.5, type='犯罪片')}]"
     },
     "execution_count": 64,
     "metadata": {},
     "output_type": "execute_result"
    }
   ],
   "source": [
    "# 增加/修改节点属性\n",
    "g.run(\"\"\"match (m:moive{name:'肖申克的救赎'})\n",
    "set m.score=9.5, m.place='USA', m.type='犯罪片'\n",
    "return m\"\"\").data()"
   ],
   "metadata": {
    "collapsed": false,
    "pycharm": {
     "name": "#%%\n"
    }
   }
  },
  {
   "cell_type": "code",
   "execution_count": 65,
   "outputs": [
    {
     "data": {
      "text/plain": "[{'r': love(Node('person', age=4, name='xiaomai'), Node('moive', name='西游记'), level='must')},\n {'r': dislike(Node('person', age=4, name='dmm'), Node('moive', name='三国演义'), level='must')}]"
     },
     "execution_count": 65,
     "metadata": {},
     "output_type": "execute_result"
    }
   ],
   "source": [
    "# 删除关系属性\n",
    "g.run(\"\"\"match ()-[r]->()\n",
    "remove r.time\n",
    "return r\"\"\").data()"
   ],
   "metadata": {
    "collapsed": false,
    "pycharm": {
     "name": "#%%\n"
    }
   }
  },
  {
   "cell_type": "code",
   "execution_count": 66,
   "outputs": [
    {
     "data": {
      "text/plain": "[{'r': love(Node('person', age=4, name='xiaomai'), Node('moive', name='西游记'), level='litter', time=1, why='no_know')},\n {'r': dislike(Node('person', age=4, name='dmm'), Node('moive', name='三国演义'), level='litter', time=1, why='no_know')}]"
     },
     "execution_count": 66,
     "metadata": {},
     "output_type": "execute_result"
    }
   ],
   "source": [
    "# 增加/修改关系属性\n",
    "g.run(\"\"\"match ()-[r]->()\n",
    "set r.time=1, r.level='litter', r.why='no_know'\n",
    "return r\"\"\").data()"
   ],
   "metadata": {
    "collapsed": false,
    "pycharm": {
     "name": "#%%\n"
    }
   }
  }
 ],
 "metadata": {
  "kernelspec": {
   "display_name": "Python 3",
   "language": "python",
   "name": "python3"
  },
  "language_info": {
   "codemirror_mode": {
    "name": "ipython",
    "version": 2
   },
   "file_extension": ".py",
   "mimetype": "text/x-python",
   "name": "python",
   "nbconvert_exporter": "python",
   "pygments_lexer": "ipython2",
   "version": "2.7.6"
  }
 },
 "nbformat": 4,
 "nbformat_minor": 0
}