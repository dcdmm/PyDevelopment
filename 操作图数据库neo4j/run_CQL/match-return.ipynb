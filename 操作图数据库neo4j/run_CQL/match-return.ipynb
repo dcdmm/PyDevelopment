{
 "cells": [
  {
   "cell_type": "code",
   "execution_count": 1,
   "metadata": {
    "collapsed": true
   },
   "outputs": [],
   "source": [
    "from py2neo import Graph"
   ]
  },
  {
   "cell_type": "code",
   "execution_count": 2,
   "outputs": [],
   "source": [
    "g = Graph('http://localhost:7474', auth=('neo4j', '123456'), name='test')\n",
    "g.delete_all()"
   ],
   "metadata": {
    "collapsed": false,
    "pycharm": {
     "name": "#%%\n"
    }
   }
  },
  {
   "cell_type": "code",
   "execution_count": 3,
   "outputs": [
    {
     "data": {
      "text/plain": "(No data)",
      "text/html": "(No data)"
     },
     "execution_count": 3,
     "metadata": {},
     "output_type": "execute_result"
    }
   ],
   "source": [
    "cql_m = \"\"\"create(:moive{name:'无间道', type:'犯罪', score:8.7}),\n",
    "(:moive{name:'大内密探零零发', type:'搞笑', score:9.4}),\n",
    "(:moive{name:'我和我的祖国', type:'主旋律', score:7.7})\"\"\"\n",
    "g.run(cql_m)"
   ],
   "metadata": {
    "collapsed": false,
    "pycharm": {
     "name": "#%%\n"
    }
   }
  },
  {
   "cell_type": "code",
   "execution_count": 4,
   "outputs": [
    {
     "data": {
      "text/plain": " a                                                                                                  \n----------------------------------------------------------------------------------------------------\n (_15:moive {name: '\\u65e0\\u95f4\\u9053', score: 8.7, type: '\\u72af\\u7f6a'})                         \n (_16:moive {name: '\\u5927\\u5185\\u5bc6\\u63a2\\u96f6\\u96f6\\u53d1', score: 9.4, type: '\\u641e\\u7b11'}) \n (_17:moive {name: '\\u6211\\u548c\\u6211\\u7684\\u7956\\u56fd', score: 7.7, type: '\\u4e3b\\u65cb\\u5f8b'}) ",
      "text/html": "<table><tr><th>a</th></tr><tr><td style=\"text-align:left\">{score: 8.7, name: &#039;\\u65e0\\u95f4\\u9053&#039;, type: &#039;\\u72af\\u7f6a&#039;}</td></tr><tr><td style=\"text-align:left\">{score: 9.4, name: &#039;\\u5927\\u5185\\u5bc6\\u63a2\\u96f6\\u96f6\\u53d1&#039;, type: &#039;\\u641e\\u7b11&#039;}</td></tr><tr><td style=\"text-align:left\">{score: 7.7, name: &#039;\\u6211\\u548c\\u6211\\u7684\\u7956\\u56fd&#039;, type: &#039;\\u4e3b\\u65cb\\u5f8b&#039;}</td></tr></table>"
     },
     "execution_count": 4,
     "metadata": {},
     "output_type": "execute_result"
    }
   ],
   "source": [
    "# 节点名称为a(相当于变量名,仅在该语句中有效)\n",
    "cql_a = \"\"\"match(a:moive)\n",
    "return a\"\"\"\n",
    "\n",
    "g.run(cql_a)"
   ],
   "metadata": {
    "collapsed": false,
    "pycharm": {
     "name": "#%%\n"
    }
   }
  },
  {
   "cell_type": "code",
   "execution_count": 5,
   "outputs": [
    {
     "data": {
      "text/plain": "[{'a': Node('moive', name='无间道', score=8.7, type='犯罪')},\n {'a': Node('moive', name='大内密探零零发', score=9.4, type='搞笑')},\n {'a': Node('moive', name='我和我的祖国', score=7.7, type='主旋律')}]"
     },
     "execution_count": 5,
     "metadata": {},
     "output_type": "execute_result"
    }
   ],
   "source": [
    "g.run(cql_a).data()  # 列表,列表元素为字典,字典键名为CQL返回值变量名"
   ],
   "metadata": {
    "collapsed": false,
    "pycharm": {
     "name": "#%%\n"
    }
   }
  },
  {
   "cell_type": "code",
   "execution_count": 6,
   "outputs": [
    {
     "data": {
      "text/plain": "[{'a': Node('moive', name='无间道', score=8.7, type='犯罪')}]"
     },
     "execution_count": 6,
     "metadata": {},
     "output_type": "execute_result"
    }
   ],
   "source": [
    "g.run(\"match(a:moive{name:'无间道'}) return a\").data()"
   ],
   "metadata": {
    "collapsed": false,
    "pycharm": {
     "name": "#%%\n"
    }
   }
  },
  {
   "cell_type": "code",
   "execution_count": 7,
   "outputs": [
    {
     "data": {
      "text/plain": "[{'a': Node('moive', name='无间道', score=8.7, type='犯罪'),\n  'b': Node('moive', name='我和我的祖国', score=7.7, type='主旋律')}]"
     },
     "execution_count": 7,
     "metadata": {},
     "output_type": "execute_result"
    }
   ],
   "source": [
    "# 查询多条记录(逗号分隔)\n",
    "g.run(\"match(a:moive{name:'无间道'}), (b:moive{name:'我和我的祖国'}) return a, b\").data()"
   ],
   "metadata": {
    "collapsed": false,
    "pycharm": {
     "name": "#%%\n"
    }
   }
  },
  {
   "cell_type": "code",
   "execution_count": 8,
   "outputs": [
    {
     "data": {
      "text/plain": "                                                 a\n0      {'score': 8.7, 'name': '无间道', 'type': '犯罪'}\n1  {'score': 9.4, 'name': '大内密探零零发', 'type': '搞笑'}\n2  {'score': 7.7, 'name': '我和我的祖国', 'type': '主旋律'}",
      "text/html": "<div>\n<style scoped>\n    .dataframe tbody tr th:only-of-type {\n        vertical-align: middle;\n    }\n\n    .dataframe tbody tr th {\n        vertical-align: top;\n    }\n\n    .dataframe thead th {\n        text-align: right;\n    }\n</style>\n<table border=\"1\" class=\"dataframe\">\n  <thead>\n    <tr style=\"text-align: right;\">\n      <th></th>\n      <th>a</th>\n    </tr>\n  </thead>\n  <tbody>\n    <tr>\n      <th>0</th>\n      <td>{'score': 8.7, 'name': '无间道', 'type': '犯罪'}</td>\n    </tr>\n    <tr>\n      <th>1</th>\n      <td>{'score': 9.4, 'name': '大内密探零零发', 'type': '搞笑'}</td>\n    </tr>\n    <tr>\n      <th>2</th>\n      <td>{'score': 7.7, 'name': '我和我的祖国', 'type': '主旋律'}</td>\n    </tr>\n  </tbody>\n</table>\n</div>"
     },
     "execution_count": 8,
     "metadata": {},
     "output_type": "execute_result"
    }
   ],
   "source": [
    "g.run(cql_a).to_data_frame()"
   ],
   "metadata": {
    "collapsed": false,
    "pycharm": {
     "name": "#%%\n"
    }
   }
  },
  {
   "cell_type": "code",
   "execution_count": 9,
   "outputs": [
    {
     "data": {
      "text/plain": "array([[Node('moive', name='无间道', score=8.7, type='犯罪')],\n       [Node('moive', name='大内密探零零发', score=9.4, type='搞笑')],\n       [Node('moive', name='我和我的祖国', score=7.7, type='主旋律')]],\n      dtype=object)"
     },
     "execution_count": 9,
     "metadata": {},
     "output_type": "execute_result"
    }
   ],
   "source": [
    "g.run(cql_a).to_ndarray()"
   ],
   "metadata": {
    "collapsed": false,
    "pycharm": {
     "name": "#%%\n"
    }
   }
  },
  {
   "cell_type": "code",
   "execution_count": 10,
   "outputs": [
    {
     "data": {
      "text/plain": "[{'a.type': '犯罪', 'a.name': '无间道', 'a.score': 8.7},\n {'a.type': '搞笑', 'a.name': '大内密探零零发', 'a.score': 9.4},\n {'a.type': '主旋律', 'a.name': '我和我的祖国', 'a.score': 7.7}]"
     },
     "execution_count": 10,
     "metadata": {},
     "output_type": "execute_result"
    }
   ],
   "source": [
    "cql_attr = \"\"\"match(a:moive)\n",
    "return a.type, a.name, a.score\"\"\"\n",
    "g.run(cql_attr).data()"
   ],
   "metadata": {
    "collapsed": false,
    "pycharm": {
     "name": "#%%\n"
    }
   }
  },
  {
   "cell_type": "code",
   "execution_count": 11,
   "outputs": [
    {
     "data": {
      "text/plain": "[{'n': Node('moive', name='无间道', score=8.7, type='犯罪')},\n {'n': Node('moive', name='大内密探零零发', score=9.4, type='搞笑')},\n {'n': Node('moive', name='我和我的祖国', score=7.7, type='主旋律')}]"
     },
     "execution_count": 11,
     "metadata": {},
     "output_type": "execute_result"
    }
   ],
   "source": [
    "# 返回所有节点\n",
    "g.run(\"match (n) return n\").data()"
   ],
   "metadata": {
    "collapsed": false,
    "pycharm": {
     "name": "#%%\n"
    }
   }
  },
  {
   "cell_type": "code",
   "execution_count": 12,
   "outputs": [
    {
     "data": {
      "text/plain": "(No data)",
      "text/html": "(No data)"
     },
     "execution_count": 12,
     "metadata": {},
     "output_type": "execute_result"
    }
   ],
   "source": [
    "g.run(\"create (:person{name:'xiaomai', age:4})-[:love{level:'must', time:5}]->(:moive{name:'西游记'})\")\n",
    "g.run(\"create (:person{name:'dmm', age:4})-[:dislike{level:'must', time:4}]->(:moive{name:'三国演义'})\")"
   ],
   "metadata": {
    "collapsed": false,
    "pycharm": {
     "name": "#%%\n"
    }
   }
  },
  {
   "cell_type": "code",
   "execution_count": 13,
   "outputs": [
    {
     "data": {
      "text/plain": "[{'r': love(Node('person', age=4, name='xiaomai'), Node('moive', name='西游记'), level='must', time=5)}]"
     },
     "execution_count": 13,
     "metadata": {},
     "output_type": "execute_result"
    }
   ],
   "source": [
    "# 指定关系类型为love\n",
    "# 开始节点,结尾节点为任意\n",
    "# 关系名称为r(相当于变量名,仅在该语句中有效)\n",
    "g.run(\"\"\"match ()-[r:love]->() return r\"\"\").data()"
   ],
   "metadata": {
    "collapsed": false,
    "pycharm": {
     "name": "#%%\n"
    }
   }
  },
  {
   "cell_type": "code",
   "execution_count": 14,
   "outputs": [
    {
     "data": {
      "text/plain": "[{'r': dislike(Node('person', age=4, name='dmm'), Node('moive', name='三国演义'), level='must', time=4)}]"
     },
     "execution_count": 14,
     "metadata": {},
     "output_type": "execute_result"
    }
   ],
   "source": [
    "# 指定关系time属性为4\n",
    "# 开始节点,结尾节点为任意\n",
    "g.run(\"\"\"match ()-[r{time:4}]->() return r\"\"\").data()"
   ],
   "metadata": {
    "collapsed": false,
    "pycharm": {
     "name": "#%%\n"
    }
   }
  },
  {
   "cell_type": "code",
   "execution_count": 15,
   "outputs": [
    {
     "data": {
      "text/plain": "[{'r': love(Node('person', age=4, name='xiaomai'), Node('moive', name='西游记'), level='must', time=5)},\n {'r': dislike(Node('person', age=4, name='dmm'), Node('moive', name='三国演义'), level='must', time=4)}]"
     },
     "execution_count": 15,
     "metadata": {},
     "output_type": "execute_result"
    }
   ],
   "source": [
    "# 关系为任意\n",
    "# 开始节点,结尾节点为任意\n",
    "g.run(\"\"\"match ()-[r]->() return r\"\"\").data()"
   ],
   "metadata": {
    "collapsed": false,
    "pycharm": {
     "name": "#%%\n"
    }
   }
  },
  {
   "cell_type": "code",
   "execution_count": 16,
   "outputs": [
    {
     "data": {
      "text/plain": "[{'r': love(Node('person', age=4, name='xiaomai'), Node('moive', name='西游记'), level='must', time=5)},\n {'r': dislike(Node('person', age=4, name='dmm'), Node('moive', name='三国演义'), level='must', time=4)}]"
     },
     "execution_count": 16,
     "metadata": {},
     "output_type": "execute_result"
    }
   ],
   "source": [
    "# 关系为任意\n",
    "# 开始节点类型为person,结尾节点为任意\n",
    "g.run(\"\"\"match (:person)-[r]->() return r\"\"\").data()"
   ],
   "metadata": {
    "collapsed": false,
    "pycharm": {
     "name": "#%%\n"
    }
   }
  },
  {
   "cell_type": "code",
   "execution_count": 17,
   "outputs": [
    {
     "data": {
      "text/plain": "[{'r': love(Node('person', age=4, name='xiaomai'), Node('moive', name='西游记'), level='must', time=5)}]"
     },
     "execution_count": 17,
     "metadata": {},
     "output_type": "execute_result"
    }
   ],
   "source": [
    "# 关系为任意\n",
    "# 开始节点类型name属性为xiaomai,结尾节点为任意\n",
    "g.run(\"\"\"match (:person{name:'xiaomai'})-[r]->() return r\"\"\").data()"
   ],
   "metadata": {
    "collapsed": false,
    "pycharm": {
     "name": "#%%\n"
    }
   }
  },
  {
   "cell_type": "code",
   "execution_count": 18,
   "outputs": [
    {
     "data": {
      "text/plain": "[{'r': love(Node('person', age=4, name='xiaomai'), Node('moive', name='西游记'), level='must', time=5)}]"
     },
     "execution_count": 18,
     "metadata": {},
     "output_type": "execute_result"
    }
   ],
   "source": [
    "# 指定关系类型为love\n",
    "# 开始节点类型name属性为xiaomai,结尾节点类型为moive\n",
    "g.run(\"\"\"match (:person{name:'xiaomai'})-[r:love]->(:moive) return r\"\"\").data()"
   ],
   "metadata": {
    "collapsed": false,
    "pycharm": {
     "name": "#%%\n"
    }
   }
  },
  {
   "cell_type": "code",
   "execution_count": 19,
   "outputs": [
    {
     "data": {
      "text/plain": "[{'cc': Node('person', age=4, name='xiaomai'),\n  'c': Node('moive', name='西游记'),\n  'r': love(Node('person', age=4, name='xiaomai'), Node('moive', name='西游记'), level='must', time=5)}]"
     },
     "execution_count": 19,
     "metadata": {},
     "output_type": "execute_result"
    }
   ],
   "source": [
    "# 返回开始节点(cc),结尾节点(c),开始与结尾节点的关系(r)\n",
    "g.run(\"match (cc)-[r]->(c) where r.time = 5 return cc, c, r\").data()\n",
    "\n"
   ],
   "metadata": {
    "collapsed": false,
    "pycharm": {
     "name": "#%%\n"
    }
   }
  }
 ],
 "metadata": {
  "kernelspec": {
   "display_name": "Python 3",
   "language": "python",
   "name": "python3"
  },
  "language_info": {
   "codemirror_mode": {
    "name": "ipython",
    "version": 2
   },
   "file_extension": ".py",
   "mimetype": "text/x-python",
   "name": "python",
   "nbconvert_exporter": "python",
   "pygments_lexer": "ipython2",
   "version": "2.7.6"
  }
 },
 "nbformat": 4,
 "nbformat_minor": 0
}