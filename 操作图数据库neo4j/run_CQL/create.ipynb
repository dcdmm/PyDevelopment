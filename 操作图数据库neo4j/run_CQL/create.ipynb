{
 "cells": [
  {
   "cell_type": "code",
   "execution_count": 76,
   "metadata": {
    "collapsed": true
   },
   "outputs": [],
   "source": [
    "from py2neo import Graph"
   ]
  },
  {
   "cell_type": "code",
   "execution_count": 77,
   "outputs": [],
   "source": [
    "g = Graph('http://localhost:7474', auth=('neo4j', '123456'), name='test')\n",
    "g.delete_all()"
   ],
   "metadata": {
    "collapsed": false,
    "pycharm": {
     "name": "#%%\n"
    }
   }
  },
  {
   "cell_type": "code",
   "execution_count": 78,
   "outputs": [
    {
     "data": {
      "text/plain": "(No data)",
      "text/html": "(No data)"
     },
     "execution_count": 78,
     "metadata": {},
     "output_type": "execute_result"
    }
   ],
   "source": [
    "# 创建单个节点\n",
    "# 标签名称:moive\n",
    "cql_s = \"create(:moive{name:'肖申克的救赎', type:'犯罪', score:9.7})\"  # ''等价于\"\"\n",
    "g.run(cql_s)"
   ],
   "metadata": {
    "collapsed": false,
    "pycharm": {
     "name": "#%%\n"
    }
   }
  },
  {
   "cell_type": "code",
   "execution_count": 79,
   "outputs": [
    {
     "data": {
      "text/plain": "(No data)",
      "text/html": "(No data)"
     },
     "execution_count": 79,
     "metadata": {},
     "output_type": "execute_result"
    }
   ],
   "source": [
    "# 创建多个节点\n",
    "cql_m = \"\"\"create(:moive{name:'无间道', type:'犯罪', score:8.7}),\n",
    "(:moive{name:'大内密探零零发', type:'搞笑', score:9.4}),\n",
    "(:moive{name:'我和我的祖国', type:'主旋律', score:7.7})\"\"\"\n",
    "g.run(cql_m)"
   ],
   "metadata": {
    "collapsed": false,
    "pycharm": {
     "name": "#%%\n"
    }
   }
  },
  {
   "cell_type": "code",
   "execution_count": 80,
   "outputs": [
    {
     "data": {
      "text/plain": "(No data)",
      "text/html": "(No data)"
     },
     "execution_count": 80,
     "metadata": {},
     "output_type": "execute_result"
    }
   ],
   "source": [
    "# 创建单个节点\n",
    "# 多个标签:moive/good/USA\n",
    "cql_ml = \"create(:moive:good:USA{name:'侏罗纪公园', type:'科幻', score:9.7})\"\n",
    "g.run(cql_ml)"
   ],
   "metadata": {
    "collapsed": false,
    "pycharm": {
     "name": "#%%\n"
    }
   }
  },
  {
   "cell_type": "code",
   "execution_count": 81,
   "outputs": [
    {
     "data": {
      "text/plain": "(No data)",
      "text/html": "(No data)"
     },
     "execution_count": 81,
     "metadata": {},
     "output_type": "execute_result"
    }
   ],
   "source": [
    "# 创建节点(:person{name:'dmm', age:4})\n",
    "# 创建节点(:moive{name:'西游记'})\n",
    "# 创建节点与节点之间的关系-[:love]->\n",
    "cql_r = \"create (:person{name:'dmm', age:4})-[:love]->(:moive{name:'西游记'})\"\n",
    "g.run(cql_r)"
   ],
   "metadata": {
    "collapsed": false,
    "pycharm": {
     "name": "#%%\n"
    }
   }
  },
  {
   "cell_type": "code",
   "execution_count": 82,
   "outputs": [
    {
     "data": {
      "text/plain": "(No data)",
      "text/html": "(No data)"
     },
     "execution_count": 82,
     "metadata": {},
     "output_type": "execute_result"
    }
   ],
   "source": [
    "# 创建节点(:person{name:'xiaomai', age:4})\n",
    "# 创建节点(:moive{name:'西游记'})\n",
    "# 创建节点与节点之间的关系-[:love{level:'must', time:5}]->\n",
    "cql_rc = \"create (:person{name:'xiaomai', age:4})-[:love{level:'must', time:5}]->(:moive{name:'西游记'})\"\n",
    "g.run(cql_rc)"
   ],
   "metadata": {
    "collapsed": false,
    "pycharm": {
     "name": "#%%\n"
    }
   }
  }
 ],
 "metadata": {
  "kernelspec": {
   "display_name": "Python 3",
   "language": "python",
   "name": "python3"
  },
  "language_info": {
   "codemirror_mode": {
    "name": "ipython",
    "version": 2
   },
   "file_extension": ".py",
   "mimetype": "text/x-python",
   "name": "python",
   "nbconvert_exporter": "python",
   "pygments_lexer": "ipython2",
   "version": "2.7.6"
  }
 },
 "nbformat": 4,
 "nbformat_minor": 0
}