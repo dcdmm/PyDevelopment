{
 "cells": [
  {
   "cell_type": "code",
   "execution_count": 38,
   "metadata": {
    "collapsed": true
   },
   "outputs": [],
   "source": [
    "from py2neo import Graph, Node, Relationship"
   ]
  },
  {
   "cell_type": "code",
   "execution_count": 39,
   "outputs": [],
   "source": [
    "g = Graph('http://localhost:7474', auth=('neo4j', '123456'), name='test')\n",
    "\n",
    "def create_graph():\n",
    "    g.delete_all()\n",
    "\n",
    "    g0 = Node('派别', name='明教')\n",
    "    g.create(g0)\n",
    "    g1 = Node('派别', name='武当')\n",
    "    g.create(g1)\n",
    "    g2 = Node('派别', name='峨眉')\n",
    "    g.create(g2)\n",
    "    g3 = Node('派别', name='天鹰教')\n",
    "    g.create(g3)\n",
    "    p0 = Node('男性人物', name='张三丰', 战斗力='999')\n",
    "    g.create(p0)\n",
    "    p1 = Node('男性人物', name='张无忌', 战斗力='998')\n",
    "    g.create(p1)\n",
    "    p2 = Node('男性人物', name='杨逍', 战斗力='500')\n",
    "    g.create(p2)\n",
    "    p3 = Node('男性人物', name='张翠山', 战斗力='300')\n",
    "    g.create(p3)\n",
    "    p4 = Node('女性人物', name='殷素素', 战斗力='200')\n",
    "    g.create(p4)\n",
    "    p5 = Node('男性人物', name='金毛狮王', 战斗力='600')\n",
    "    g.create(p5)\n",
    "    p6 = Node('女性人物', name='周芷若', 战斗力='900')\n",
    "    g.create(p6)\n",
    "    p7 = Node('女性人物', name='小昭', 战斗力='100')\n",
    "    g.create(p7)\n",
    "    p8 = Node('女性人物', name='蛛儿', 战斗力='60')\n",
    "    g.create(p8)\n",
    "\n",
    "    g.create(Relationship(p0, '属于', g1))\n",
    "    g.create(Relationship(p3, '属于', g1))\n",
    "    g.create(Relationship(p1, '属于', g0))\n",
    "    g.create(Relationship(p2, '属于', g0))\n",
    "    g.create(Relationship(p4, '属于', g3))\n",
    "    g.create(Relationship(p5, '属于', g0))\n",
    "    g.create(Relationship(p6, '属于', g2))\n",
    "    g.create(Relationship(p8, '属于', g3))\n",
    "\n",
    "    g.create(Relationship(p1, '父亲', p3))\n",
    "    g.create(Relationship(p1, '母亲', p4))\n",
    "    g.create(Relationship(p1, '义父', p5))\n",
    "    g.create(Relationship(p1, '师公', p0))\n",
    "    g.create(Relationship(p1, '情人', p7))\n",
    "    g.create(Relationship(p1, '情人', p8))\n",
    "    g.create(Relationship(p1, '手下', p2))\n",
    "\n",
    "    g.create(Relationship(p6, '情敌', p7, level='非常敌视', Hatred=7000))\n",
    "    g.create(Relationship(p7, '情敌', p6, level='非常敌视', Hatred=8000))\n",
    "    g.create(Relationship(p6, '情敌', p8, level='敌视', Hatred=4000))\n",
    "    g.create(Relationship(p8, '情敌', p6, Hatred=100))\n",
    "    g.create(Relationship(p8, '情敌', p7, level='轻微敌视', Hatred=2000))\n",
    "    g.create(Relationship(p7, '情敌', p8, level='非常敌视', Hatred=9000))\n",
    "\n",
    "    g.create(Relationship(p3, '妻子', p4))\n",
    "\n",
    "\n",
    "create_graph()"
   ],
   "metadata": {
    "collapsed": false,
    "pycharm": {
     "name": "#%%\n"
    }
   }
  },
  {
   "cell_type": "code",
   "execution_count": 40,
   "outputs": [
    {
     "data": {
      "text/plain": "                                p\n0   {'战斗力': '999', 'name': '张三丰'}\n1   {'战斗力': '998', 'name': '张无忌'}\n2    {'战斗力': '500', 'name': '杨逍'}\n3   {'战斗力': '300', 'name': '张翠山'}\n4  {'战斗力': '600', 'name': '金毛狮王'}",
      "text/html": "<div>\n<style scoped>\n    .dataframe tbody tr th:only-of-type {\n        vertical-align: middle;\n    }\n\n    .dataframe tbody tr th {\n        vertical-align: top;\n    }\n\n    .dataframe thead th {\n        text-align: right;\n    }\n</style>\n<table border=\"1\" class=\"dataframe\">\n  <thead>\n    <tr style=\"text-align: right;\">\n      <th></th>\n      <th>p</th>\n    </tr>\n  </thead>\n  <tbody>\n    <tr>\n      <th>0</th>\n      <td>{'战斗力': '999', 'name': '张三丰'}</td>\n    </tr>\n    <tr>\n      <th>1</th>\n      <td>{'战斗力': '998', 'name': '张无忌'}</td>\n    </tr>\n    <tr>\n      <th>2</th>\n      <td>{'战斗力': '500', 'name': '杨逍'}</td>\n    </tr>\n    <tr>\n      <th>3</th>\n      <td>{'战斗力': '300', 'name': '张翠山'}</td>\n    </tr>\n    <tr>\n      <th>4</th>\n      <td>{'战斗力': '600', 'name': '金毛狮王'}</td>\n    </tr>\n  </tbody>\n</table>\n</div>"
     },
     "execution_count": 40,
     "metadata": {},
     "output_type": "execute_result"
    }
   ],
   "source": [
    "cql_nw = \"\"\"MATCH (p:男性人物)\n",
    "RETURN p\"\"\"\n",
    "g.run(cql_nw).to_data_frame()"
   ],
   "metadata": {
    "collapsed": false,
    "pycharm": {
     "name": "#%%\n"
    }
   }
  },
  {
   "cell_type": "code",
   "execution_count": 41,
   "outputs": [
    {
     "data": {
      "text/plain": "                               p\n0  {'战斗力': '300', 'name': '张翠山'}",
      "text/html": "<div>\n<style scoped>\n    .dataframe tbody tr th:only-of-type {\n        vertical-align: middle;\n    }\n\n    .dataframe tbody tr th {\n        vertical-align: top;\n    }\n\n    .dataframe thead th {\n        text-align: right;\n    }\n</style>\n<table border=\"1\" class=\"dataframe\">\n  <thead>\n    <tr style=\"text-align: right;\">\n      <th></th>\n      <th>p</th>\n    </tr>\n  </thead>\n  <tbody>\n    <tr>\n      <th>0</th>\n      <td>{'战斗力': '300', 'name': '张翠山'}</td>\n    </tr>\n  </tbody>\n</table>\n</div>"
     },
     "execution_count": 41,
     "metadata": {},
     "output_type": "execute_result"
    }
   ],
   "source": [
    "# where子句\n",
    "cql_w = \"\"\"MATCH (p:男性人物)\n",
    "WHERE p.name='张翠山'\n",
    "RETURN p\"\"\"\n",
    "g.run(cql_w).to_data_frame()"
   ],
   "metadata": {
    "collapsed": false,
    "pycharm": {
     "name": "#%%\n"
    }
   }
  },
  {
   "cell_type": "code",
   "execution_count": 42,
   "outputs": [
    {
     "data": {
      "text/plain": "                               p\n0  {'战斗力': '998', 'name': '张无忌'}\n1  {'战斗力': '300', 'name': '张翠山'}",
      "text/html": "<div>\n<style scoped>\n    .dataframe tbody tr th:only-of-type {\n        vertical-align: middle;\n    }\n\n    .dataframe tbody tr th {\n        vertical-align: top;\n    }\n\n    .dataframe thead th {\n        text-align: right;\n    }\n</style>\n<table border=\"1\" class=\"dataframe\">\n  <thead>\n    <tr style=\"text-align: right;\">\n      <th></th>\n      <th>p</th>\n    </tr>\n  </thead>\n  <tbody>\n    <tr>\n      <th>0</th>\n      <td>{'战斗力': '998', 'name': '张无忌'}</td>\n    </tr>\n    <tr>\n      <th>1</th>\n      <td>{'战斗力': '300', 'name': '张翠山'}</td>\n    </tr>\n  </tbody>\n</table>\n</div>"
     },
     "execution_count": 42,
     "metadata": {},
     "output_type": "execute_result"
    }
   ],
   "source": [
    "# 布尔运算符:or  and   not\n",
    "# 比较运算符:>    <    =    >=    <=    <>(不等于)\n",
    "cql_w = \"\"\"MATCH (p:男性人物)\n",
    "WHERE p.name='张翠山' or p.name='张无忌'\n",
    "RETURN p\"\"\"\n",
    "g.run(cql_w).to_data_frame()"
   ],
   "metadata": {
    "collapsed": false,
    "pycharm": {
     "name": "#%%\n"
    }
   }
  },
  {
   "cell_type": "code",
   "execution_count": 43,
   "outputs": [
    {
     "data": {
      "text/plain": "                               p                             p1\n0  {'战斗力': '300', 'name': '张翠山'}  {'战斗力': '999', 'name': '张三丰'}",
      "text/html": "<div>\n<style scoped>\n    .dataframe tbody tr th:only-of-type {\n        vertical-align: middle;\n    }\n\n    .dataframe tbody tr th {\n        vertical-align: top;\n    }\n\n    .dataframe thead th {\n        text-align: right;\n    }\n</style>\n<table border=\"1\" class=\"dataframe\">\n  <thead>\n    <tr style=\"text-align: right;\">\n      <th></th>\n      <th>p</th>\n      <th>p1</th>\n    </tr>\n  </thead>\n  <tbody>\n    <tr>\n      <th>0</th>\n      <td>{'战斗力': '300', 'name': '张翠山'}</td>\n      <td>{'战斗力': '999', 'name': '张三丰'}</td>\n    </tr>\n  </tbody>\n</table>\n</div>"
     },
     "execution_count": 43,
     "metadata": {},
     "output_type": "execute_result"
    }
   ],
   "source": [
    "# 创建两个现有节点之间的关系\n",
    "# 节点名称(如:p1)字符长度若>=2,创建关系时使用括号包括(如:(p1))\n",
    "cql_rw = \"\"\"MATCH (p:男性人物), (p1:男性人物)\n",
    "WHERE p.name='张翠山' and p1.name='张三丰'\n",
    "create (p)-[r:师傅]->(p1)\n",
    "RETURN p, p1\"\"\"\n",
    "g.run(cql_rw).to_data_frame()"
   ],
   "metadata": {
    "collapsed": false,
    "pycharm": {
     "name": "#%%\n"
    }
   }
  },
  {
   "cell_type": "code",
   "execution_count": 44,
   "outputs": [
    {
     "data": {
      "text/plain": "                               p\n0  {'战斗力': '999', 'name': '张三丰'}\n1  {'战斗力': '998', 'name': '张无忌'}\n2  {'战斗力': '300', 'name': '张翠山'}",
      "text/html": "<div>\n<style scoped>\n    .dataframe tbody tr th:only-of-type {\n        vertical-align: middle;\n    }\n\n    .dataframe tbody tr th {\n        vertical-align: top;\n    }\n\n    .dataframe thead th {\n        text-align: right;\n    }\n</style>\n<table border=\"1\" class=\"dataframe\">\n  <thead>\n    <tr style=\"text-align: right;\">\n      <th></th>\n      <th>p</th>\n    </tr>\n  </thead>\n  <tbody>\n    <tr>\n      <th>0</th>\n      <td>{'战斗力': '999', 'name': '张三丰'}</td>\n    </tr>\n    <tr>\n      <th>1</th>\n      <td>{'战斗力': '998', 'name': '张无忌'}</td>\n    </tr>\n    <tr>\n      <th>2</th>\n      <td>{'战斗力': '300', 'name': '张翠山'}</td>\n    </tr>\n  </tbody>\n</table>\n</div>"
     },
     "execution_count": 44,
     "metadata": {},
     "output_type": "execute_result"
    }
   ],
   "source": [
    "# 字符串正则表达式匹配(=~)\n",
    "g.run(\"\"\"MATCH (p:男性人物)\n",
    "WHERE p.name=~'张.*'\n",
    "RETURN p\"\"\").to_data_frame()"
   ],
   "metadata": {
    "collapsed": false,
    "pycharm": {
     "name": "#%%\n"
    }
   }
  },
  {
   "cell_type": "code",
   "execution_count": null,
   "outputs": [],
   "source": [],
   "metadata": {
    "collapsed": false,
    "pycharm": {
     "name": "#%%\n"
    }
   }
  }
 ],
 "metadata": {
  "kernelspec": {
   "display_name": "Python 3",
   "language": "python",
   "name": "python3"
  },
  "language_info": {
   "codemirror_mode": {
    "name": "ipython",
    "version": 2
   },
   "file_extension": ".py",
   "mimetype": "text/x-python",
   "name": "python",
   "nbconvert_exporter": "python",
   "pygments_lexer": "ipython2",
   "version": "2.7.6"
  }
 },
 "nbformat": 4,
 "nbformat_minor": 0
}