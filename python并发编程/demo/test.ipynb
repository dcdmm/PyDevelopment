{
 "cells": [
  {
   "cell_type": "code",
   "execution_count": 5,
   "metadata": {},
   "outputs": [],
   "source": [
    "from utily import process_computer\n",
    "\n",
    "_ = process_computer()"
   ]
  },
  {
   "cell_type": "code",
   "execution_count": 6,
   "metadata": {},
   "outputs": [],
   "source": [
    "from utily import thread_computer\n",
    "\n",
    "_ = thread_computer()"
   ]
  },
  {
   "cell_type": "code",
   "execution_count": 7,
   "metadata": {},
   "outputs": [
    {
     "data": {
      "text/plain": [
       "2.016874313354492"
      ]
     },
     "execution_count": 7,
     "metadata": {},
     "output_type": "execute_result"
    }
   ],
   "source": [
    "from utily import async_computer\n",
    "\n",
    "use_time = await async_computer()\n",
    "use_time"
   ]
  },
  {
   "cell_type": "code",
   "execution_count": 8,
   "metadata": {},
   "outputs": [
    {
     "data": {
      "text/plain": [
       "21.002788066864014"
      ]
     },
     "execution_count": 8,
     "metadata": {},
     "output_type": "execute_result"
    }
   ],
   "source": [
    "import asyncio\n",
    "import time\n",
    "\n",
    "\n",
    "async def complex():\n",
    "    t0 = time.time()\n",
    "    task1 = asyncio.create_task(async_computer())\n",
    "    task2 = asyncio.create_task(async_computer())\n",
    "\n",
    "    _ = process_computer()\n",
    "    _ = await task1\n",
    "    _ = thread_computer()\n",
    "    _ = process_computer()\n",
    "    _ = await task2\n",
    "    _ = thread_computer()\n",
    "    return time.time() - t0\n",
    "\n",
    "use_time = await complex()\n",
    "use_time"
   ]
  }
 ],
 "metadata": {
  "kernelspec": {
   "display_name": "development",
   "language": "python",
   "name": "python3"
  },
  "language_info": {
   "codemirror_mode": {
    "name": "ipython",
    "version": 3
   },
   "file_extension": ".py",
   "mimetype": "text/x-python",
   "name": "python",
   "nbconvert_exporter": "python",
   "pygments_lexer": "ipython3",
   "version": "3.10.12"
  }
 },
 "nbformat": 4,
 "nbformat_minor": 2
}
