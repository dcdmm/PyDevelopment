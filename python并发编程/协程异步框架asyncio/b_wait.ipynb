{
 "cells": [
  {
   "cell_type": "code",
   "execution_count": 1,
   "id": "initial_id",
   "metadata": {
    "ExecuteTime": {
     "end_time": "2024-07-25T03:55:26.811398Z",
     "start_time": "2024-07-25T03:55:24.796551Z"
    },
    "collapsed": true
   },
   "outputs": [],
   "source": [
    "import asyncio\n",
    "import time\n",
    "import nest_asyncio\n",
    "\n",
    "nest_asyncio.apply()"
   ]
  },
  {
   "cell_type": "code",
   "execution_count": 4,
   "id": "1210c16d",
   "metadata": {},
   "outputs": [
    {
     "name": "stdout",
     "output_type": "stream",
     "text": [
      "started at 13:58:22\n",
      "start: hello\n",
      "end: hello\n",
      "start: world\n",
      "end: world\n",
      "finished at 13:58:25\n"
     ]
    }
   ],
   "source": [
    "async def say_after(delay, what):\n",
    "    print(\"start:\", what)\n",
    "    await asyncio.sleep(delay)\n",
    "    print(\"end:\", what)\n",
    "\n",
    "\n",
    "async def main():\n",
    "    print(f\"started at {time.strftime('%X')}\")\n",
    "\n",
    "    # Suspend the execution of coroutine on an awaitable object. Can only be used inside a coroutine function.\n",
    "    # There are three main types of awaitable objects: coroutines, Tasks, and Futures.\n",
    "    await say_after(1, 'hello')  # 耗时1s\n",
    "    await say_after(2, 'world')  # 耗时2s\n",
    "\n",
    "    print(f\"finished at {time.strftime('%X')}\")  # 总耗时3s\n",
    "\n",
    "\n",
    "asyncio.run(main())"
   ]
  },
  {
   "cell_type": "code",
   "execution_count": 5,
   "id": "9ff03063",
   "metadata": {},
   "outputs": [
    {
     "name": "stdout",
     "output_type": "stream",
     "text": [
      "started at 13:58:41\n",
      "start: hello\n",
      "start: world\n",
      "end: hello\n",
      "end: world\n",
      "finished at 13:58:43\n"
     ]
    }
   ],
   "source": [
    "async def say_after(delay, what):\n",
    "    print(\"start:\", what)\n",
    "    await asyncio.sleep(delay)\n",
    "    print(\"end:\", what)\n",
    "\n",
    "\n",
    "\"\"\"\n",
    "Task Object\n",
    "\n",
    "Tasks are used to run coroutines in event loops. If a coroutine awaits on a Future, the Task suspends the execution of the coroutine and waits for the completion of the Future. When the Future is done, the execution of the wrapped coroutine resumes.\n",
    "\n",
    "Event loops use cooperative scheduling: an event loop runs one Task at a time. While a Task awaits for the completion of a Future, the event loop runs other Tasks, callbacks, or performs IO operations.\n",
    "\"\"\"\n",
    "\n",
    "\n",
    "async def main():\n",
    "    # Schedule the execution of a coroutine object in a spawn task. Return a Task object.\n",
    "    task1 = asyncio.create_task(\n",
    "        say_after(1, 'hello'))\n",
    "    task2 = asyncio.create_task(\n",
    "        say_after(2, 'world'))\n",
    "\n",
    "    print(f\"started at {time.strftime('%X')}\")\n",
    "\n",
    "    await task1\n",
    "    await task2\n",
    "\n",
    "    print(f\"finished at {time.strftime('%X')}\")  # 耗时2s\n",
    "\n",
    "\n",
    "asyncio.run(main())"
   ]
  }
 ],
 "metadata": {
  "kernelspec": {
   "display_name": "Python 3",
   "language": "python",
   "name": "python3"
  },
  "language_info": {
   "codemirror_mode": {
    "name": "ipython",
    "version": 3
   },
   "file_extension": ".py",
   "mimetype": "text/x-python",
   "name": "python",
   "nbconvert_exporter": "python",
   "pygments_lexer": "ipython3",
   "version": "3.10.12"
  }
 },
 "nbformat": 4,
 "nbformat_minor": 5
}
