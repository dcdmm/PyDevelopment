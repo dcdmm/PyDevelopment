{
 "cells": [
  {
   "cell_type": "code",
   "execution_count": 5,
   "metadata": {},
   "outputs": [],
   "source": [
    "import asyncio\n",
    "import time"
   ]
  },
  {
   "cell_type": "code",
   "execution_count": 6,
   "metadata": {},
   "outputs": [],
   "source": [
    "async def say_after(delay, what):\n",
    "    print(\"start:\", what)\n",
    "    await asyncio.sleep(delay)\n",
    "    print(\"end:\", what)\n",
    "    return what\n",
    "\n",
    "\n",
    "async def main():\n",
    "    print(f\"started at {time.strftime('%X')}\")\n",
    "\n",
    "    l = await asyncio.gather(say_after(1, 'hello'),\n",
    "                             say_after(2, 'world'))\n",
    "    print(l)  \n",
    "\n",
    "    print(f\"finished at {time.strftime('%X')}\") "
   ]
  },
  {
   "cell_type": "code",
   "execution_count": 7,
   "metadata": {},
   "outputs": [
    {
     "name": "stdout",
     "output_type": "stream",
     "text": [
      "started at 20:49:26\n",
      "start: hello\n",
      "start: world\n",
      "end: hello\n",
      "end: world\n",
      "['hello', 'world']\n",
      "finished at 20:49:28\n"
     ]
    }
   ],
   "source": [
    "await main()"
   ]
  }
 ],
 "metadata": {
  "kernelspec": {
   "display_name": "development",
   "language": "python",
   "name": "python3"
  },
  "language_info": {
   "codemirror_mode": {
    "name": "ipython",
    "version": 3
   },
   "file_extension": ".py",
   "mimetype": "text/x-python",
   "name": "python",
   "nbconvert_exporter": "python",
   "pygments_lexer": "ipython3",
   "version": "3.10.12"
  }
 },
 "nbformat": 4,
 "nbformat_minor": 2
}
