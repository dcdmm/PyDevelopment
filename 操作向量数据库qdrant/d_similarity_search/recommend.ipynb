{
 "cells": [
  {
   "cell_type": "code",
   "execution_count": 50,
   "metadata": {},
   "outputs": [],
   "source": [
    "from qdrant_client import QdrantClient, models"
   ]
  },
  {
   "cell_type": "code",
   "execution_count": 51,
   "metadata": {},
   "outputs": [],
   "source": [
    "client = QdrantClient(url=\"http://localhost:6333\")"
   ]
  },
  {
   "cell_type": "code",
   "execution_count": 52,
   "metadata": {},
   "outputs": [
    {
     "data": {
      "text/plain": [
       "UpdateResult(operation_id=0, status=<UpdateStatus.COMPLETED: 'completed'>)"
      ]
     },
     "execution_count": 52,
     "metadata": {},
     "output_type": "execute_result"
    }
   ],
   "source": [
    "if client.collection_exists(collection_name=\"collection0\"):\n",
    "    client.delete_collection(collection_name=\"collection0\")\n",
    "\n",
    "client.create_collection(\n",
    "    collection_name=\"collection0\",\n",
    "    vectors_config=models.VectorParams(size=4, distance=models.Distance.DOT),\n",
    ")\n",
    "\n",
    "client.upsert(\n",
    "    collection_name=\"collection0\",\n",
    "    points=models.Batch(\n",
    "        ids=[1, 2, 3, 4, 5, 6],\n",
    "        payloads=[\n",
    "            {\"color\": \"red\", \"city\": \"London\", \"age\": 24},\n",
    "            {\"color\": \"green\", \"city\": \"Moscow\", \"age\": 34},\n",
    "            {\"color\": \"blue\", \"city\": \"Moscow\", \"age\": 13},\n",
    "            {\"color\": \"green\", \"city\": \"London\", \"age\": 56},\n",
    "            {\"color\": \"red\", \"city\": \"Berlin\", \"age\": 88},\n",
    "            {\"color\": \"blue\", \"city\": \"London\", \"age\": 8},\n",
    "        ],\n",
    "        vectors=[\n",
    "            [0.1, 0.1, 0.1, 0.1],\n",
    "            [0.2, 0.2, 0.2, 0.2],\n",
    "            [0.3, 0.3, 0.3, 0.3],\n",
    "            [0.4, 0.4, 0.4, 0.4],\n",
    "            [0.5, 0.5, 0.5, 0.5],\n",
    "            [0.6, 0.6, 0.6, 0.6],\n",
    "        ],\n",
    "    ),\n",
    ")"
   ]
  },
  {
   "cell_type": "code",
   "execution_count": 53,
   "metadata": {},
   "outputs": [
    {
     "data": {
      "text/plain": [
       "[ScoredPoint(id=4, version=0, score=-0.04, payload={'age': 56, 'city': 'London', 'color': 'green'}, vector=[0.4, 0.4, 0.4, 0.4], shard_key=None, order_value=None)]"
      ]
     },
     "execution_count": 53,
     "metadata": {},
     "output_type": "execute_result"
    }
   ],
   "source": [
    "# Retrieves points that are closer to stored positive examples and further from negative examples.\n",
    "client.recommend(\n",
    "    collection_name=\"collection0\",\n",
    "    positive=[1, 2],\n",
    "    negative=[\n",
    "        3,  # id(必须存在)\n",
    "        [0.2, 0.3, 0.4, 0.5]  # 向量\n",
    "    ],\n",
    "    # Average vector strategy\n",
    "    # The way to produce the searching vector is by first averaging all the positive and negative examples separately, and then combining them into a single vector using the following formula:\n",
    "    # `avg_positive + avg_positive - avg_negative`\n",
    "    # In the case of not having any negative examples, the search vector will simply be equal to avg_positive.\n",
    "    strategy=models.RecommendStrategy.AVERAGE_VECTOR,  # potive必须存在\n",
    "    query_filter=models.Filter(\n",
    "        must=[\n",
    "            models.FieldCondition(\n",
    "                key=\"city\",\n",
    "                match=models.MatchValue(\n",
    "                    value=\"London\",\n",
    "                ),\n",
    "            )\n",
    "        ]\n",
    "    ),  # 参数含义与serach等价\n",
    "    limit=1,  # 参数含义与serach等价\n",
    "    with_payload=True,  # 参数含义与search等价\n",
    "    with_vectors=True,  # 参考含义与search等价\n",
    ")"
   ]
  },
  {
   "cell_type": "code",
   "execution_count": null,
   "metadata": {},
   "outputs": [],
   "source": [
    "client.recommend(\n",
    "    collection_name=\"collection0\",\n",
    "    positive=[1, 2],\n",
    "    negative=[3,  [0.2, 0.3, 0.4, 0.5]],\n",
    "    # Best score strategy\n",
    "    # It is based on the idea that the best way to find similar vectors is to find the ones that are closer to a positive example, while avoiding the ones that are closer to a negative one. \n",
    "    # The way it works is that each candidate is measured against every example, then we select the best positive and best negative scores. The final score is chosen with this step formula:\n",
    "    # ```rust\n",
    "    # let score = if best_positive_score > best_negative_score {\n",
    "    #     best_positive_score;\n",
    "    # } else {\n",
    "    #     -(best_negative_score * best_negative_score);\n",
    "    # };\n",
    "    # ```\n",
    "    # A beneficial side-effect of best_score strategy is that you can use it with only negative examples. This will allow you to find the most dissimilar vectors to the ones you provide. This can be useful for finding outliers in your data, or for finding the most dissimilar vectors to a given one.\n",
    "    strategy=models.RecommendStrategy.BEST_SCORE,  # potive可以不存在\n",
    "    query_filter=models.Filter(\n",
    "        must=[\n",
    "            models.FieldCondition(\n",
    "                key=\"city\",\n",
    "                match=models.MatchValue(\n",
    "                    value=\"London\",\n",
    "                ),\n",
    "            )\n",
    "        ]\n",
    "    ), \n",
    "    with_payload=True, \n",
    "    with_vectors=True,\n",
    ")"
   ]
  }
 ],
 "metadata": {
  "kernelspec": {
   "display_name": "development",
   "language": "python",
   "name": "python3"
  },
  "language_info": {
   "codemirror_mode": {
    "name": "ipython",
    "version": 3
   },
   "file_extension": ".py",
   "mimetype": "text/x-python",
   "name": "python",
   "nbconvert_exporter": "python",
   "pygments_lexer": "ipython3",
   "version": "3.10.12"
  }
 },
 "nbformat": 4,
 "nbformat_minor": 2
}
