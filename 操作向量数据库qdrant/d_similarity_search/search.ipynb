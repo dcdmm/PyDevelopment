{
 "cells": [
  {
   "cell_type": "code",
   "execution_count": 10,
   "metadata": {},
   "outputs": [],
   "source": [
    "from qdrant_client import QdrantClient, models"
   ]
  },
  {
   "cell_type": "code",
   "execution_count": 11,
   "metadata": {},
   "outputs": [],
   "source": [
    "client = QdrantClient(url=\"http://localhost:6333\")"
   ]
  },
  {
   "cell_type": "code",
   "execution_count": 12,
   "metadata": {},
   "outputs": [
    {
     "data": {
      "text/plain": [
       "UpdateResult(operation_id=0, status=<UpdateStatus.COMPLETED: 'completed'>)"
      ]
     },
     "execution_count": 12,
     "metadata": {},
     "output_type": "execute_result"
    }
   ],
   "source": [
    "if client.collection_exists(collection_name=\"collection0\"):\n",
    "    client.delete_collection(collection_name=\"collection0\")\n",
    "\n",
    "client.create_collection(\n",
    "    collection_name=\"collection0\",\n",
    "    vectors_config=models.VectorParams(size=4, distance=models.Distance.DOT),\n",
    ")\n",
    "\n",
    "client.upsert(\n",
    "    collection_name=\"collection0\",\n",
    "    points=models.Batch(\n",
    "        ids=[1, 2, 3, 4, 5, 6],\n",
    "        payloads=[\n",
    "            {\"color\": \"red\", \"city\": \"London\", \"age\": 24},\n",
    "            {\"color\": \"green\", \"city\": \"Moscow\", \"age\": 34},\n",
    "            {\"color\": \"blue\", \"city\": \"Moscow\", \"age\": 13},\n",
    "            {\"color\": \"green\", \"city\": \"London\", \"age\": 56},\n",
    "            {\"color\": \"red\", \"city\": \"Berlin\", \"age\": 88},\n",
    "            {\"color\": \"blue\", \"city\": \"London\", \"age\": 8},\n",
    "        ],\n",
    "        vectors=[\n",
    "            [0.1, 0.1, 0.1, 0.1],\n",
    "            [0.2, 0.2, 0.2, 0.2],\n",
    "            [0.3, 0.3, 0.3, 0.3],\n",
    "            [0.4, 0.4, 0.4, 0.4],\n",
    "            [0.5, 0.5, 0.5, 0.5],\n",
    "            [0.6, 0.6, 0.6, 0.6],\n",
    "        ],\n",
    "    ),\n",
    ")"
   ]
  },
  {
   "cell_type": "code",
   "execution_count": 13,
   "metadata": {},
   "outputs": [
    {
     "data": {
      "text/plain": [
       "[ScoredPoint(id=6, version=0, score=1.1400001, payload={'age': 8, 'city': 'London', 'color': 'blue'}, vector=[0.6, 0.6, 0.6, 0.6], shard_key=None, order_value=None),\n",
       " ScoredPoint(id=4, version=0, score=0.76, payload={'age': 56, 'city': 'London', 'color': 'green'}, vector=[0.4, 0.4, 0.4, 0.4], shard_key=None, order_value=None),\n",
       " ScoredPoint(id=1, version=0, score=0.19, payload={'age': 24, 'city': 'London', 'color': 'red'}, vector=[0.1, 0.1, 0.1, 0.1], shard_key=None, order_value=None)]"
      ]
     },
     "execution_count": 13,
     "metadata": {},
     "output_type": "execute_result"
    }
   ],
   "source": [
    "client.search(\n",
    "    collection_name=\"collection0\",\n",
    "    query_filter=models.Filter(\n",
    "        must=[\n",
    "            models.FieldCondition(\n",
    "                key=\"city\",\n",
    "                match=models.MatchValue(\n",
    "                    value=\"London\",\n",
    "                ),\n",
    "            )\n",
    "        ]\n",
    "    ),\n",
    "    search_params=models.SearchParams(\n",
    "        # Params relevant to HNSW index Size of the beam in a beam-search. Larger the value - more accurate the result, more time required for search.\n",
    "        hnsw_ef=128, \n",
    "        # Search without approximation. If set to true, search may run long but with exact results.\n",
    "        exact=False\n",
    "        ),\n",
    "    query_vector=[0.2, 0.1, 0.9, 0.7],\n",
    "    # Max number of result to return\n",
    "    limit=3,  # 默认limit=10\n",
    "    # If `True` - attach all payload\n",
    "    # If `False` - do not attach any payload\n",
    "    # If List of string - include only specified fields\n",
    "    # If `PayloadSelector` - use explicit rules\n",
    "    with_payload=True,\n",
    "    # If `True` - Attach stored vector to the search result.\n",
    "    # If `False` - Do not attach vector.\n",
    "    # If List of string - Attach only specified vectors.\n",
    "    with_vectors=True\n",
    ")"
   ]
  },
  {
   "cell_type": "code",
   "execution_count": 14,
   "metadata": {},
   "outputs": [
    {
     "data": {
      "text/plain": [
       "[ScoredPoint(id=6, version=0, score=1.1400001, payload={'city': 'London', 'color': 'blue'}, vector=None, shard_key=None, order_value=None),\n",
       " ScoredPoint(id=5, version=0, score=0.95000005, payload={'city': 'Berlin', 'color': 'red'}, vector=None, shard_key=None, order_value=None),\n",
       " ScoredPoint(id=4, version=0, score=0.76, payload={'city': 'London', 'color': 'green'}, vector=None, shard_key=None, order_value=None)]"
      ]
     },
     "execution_count": 14,
     "metadata": {},
     "output_type": "execute_result"
    }
   ],
   "source": [
    "client.search(\n",
    "    collection_name=\"collection0\",\n",
    "    query_vector=[0.2, 0.1, 0.9, 0.7],\n",
    "    # It is possible to target nested fields using a dot notation:\n",
    "    #   * payload.nested_field - for a nested field\n",
    "    #   * payload.nested_array[].sub_field - for projecting nested fields within an array\n",
    "    with_payload=[\"city\", \"color\"],\n",
    "    limit=3\n",
    ")"
   ]
  },
  {
   "cell_type": "code",
   "execution_count": 15,
   "metadata": {},
   "outputs": [
    {
     "data": {
      "text/plain": [
       "[ScoredPoint(id=6, version=0, score=1.1400001, payload={'age': 8, 'color': 'blue'}, vector=None, shard_key=None, order_value=None),\n",
       " ScoredPoint(id=5, version=0, score=0.95000005, payload={'age': 88, 'color': 'red'}, vector=None, shard_key=None, order_value=None),\n",
       " ScoredPoint(id=4, version=0, score=0.76, payload={'age': 56, 'color': 'green'}, vector=None, shard_key=None, order_value=None)]"
      ]
     },
     "execution_count": 15,
     "metadata": {},
     "output_type": "execute_result"
    }
   ],
   "source": [
    "client.search(\n",
    "    collection_name=\"collection0\",\n",
    "    query_vector=[0.2, 0.1, 0.9, 0.7],\n",
    "    with_payload=models.PayloadSelectorExclude(\n",
    "        exclude=[\"city\"],\n",
    "    ),\n",
    "    limit=3\n",
    ")"
   ]
  }
 ],
 "metadata": {
  "kernelspec": {
   "display_name": "development",
   "language": "python",
   "name": "python3"
  },
  "language_info": {
   "codemirror_mode": {
    "name": "ipython",
    "version": 3
   },
   "file_extension": ".py",
   "mimetype": "text/x-python",
   "name": "python",
   "nbconvert_exporter": "python",
   "pygments_lexer": "ipython3",
   "version": "3.10.12"
  }
 },
 "nbformat": 4,
 "nbformat_minor": 2
}
