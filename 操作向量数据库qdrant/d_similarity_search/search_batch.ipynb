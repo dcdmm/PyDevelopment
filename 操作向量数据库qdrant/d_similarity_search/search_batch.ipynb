{
 "cells": [
  {
   "cell_type": "code",
   "execution_count": 9,
   "metadata": {},
   "outputs": [],
   "source": [
    "from qdrant_client import QdrantClient, models"
   ]
  },
  {
   "cell_type": "code",
   "execution_count": 10,
   "metadata": {},
   "outputs": [],
   "source": [
    "client = QdrantClient(url=\"http://localhost:6333\")"
   ]
  },
  {
   "cell_type": "code",
   "execution_count": 11,
   "metadata": {},
   "outputs": [
    {
     "data": {
      "text/plain": [
       "UpdateResult(operation_id=0, status=<UpdateStatus.COMPLETED: 'completed'>)"
      ]
     },
     "execution_count": 11,
     "metadata": {},
     "output_type": "execute_result"
    }
   ],
   "source": [
    "if client.collection_exists(collection_name=\"collection0\"):\n",
    "    client.delete_collection(collection_name=\"collection0\")\n",
    "\n",
    "client.create_collection(\n",
    "    collection_name=\"collection0\",\n",
    "    vectors_config=models.VectorParams(size=4, distance=models.Distance.DOT),\n",
    ")\n",
    "\n",
    "client.upsert(\n",
    "    collection_name=\"collection0\",\n",
    "    points=models.Batch(\n",
    "        ids=[1, 2, 3, 4, 5, 6],\n",
    "        payloads=[\n",
    "            {\"color\": \"red\", \"city\": \"London\", \"age\": 24},\n",
    "            {\"color\": \"green\", \"city\": \"Moscow\", \"age\": 34},\n",
    "            {\"color\": \"blue\", \"city\": \"Moscow\", \"age\": 13},\n",
    "            {\"color\": \"green\", \"city\": \"London\", \"age\": 56},\n",
    "            {\"color\": \"red\", \"city\": \"Berlin\", \"age\": 88},\n",
    "            {\"color\": \"blue\", \"city\": \"London\", \"age\": 8},\n",
    "        ],\n",
    "        vectors=[\n",
    "            [0.1, 0.1, 0.1, 0.1],\n",
    "            [0.2, 0.2, 0.2, 0.2],\n",
    "            [0.3, 0.3, 0.3, 0.3],\n",
    "            [0.4, 0.4, 0.4, 0.4],\n",
    "            [0.5, 0.5, 0.5, 0.5],\n",
    "            [0.6, 0.6, 0.6, 0.6],\n",
    "        ],\n",
    "    ),\n",
    ")"
   ]
  },
  {
   "cell_type": "code",
   "execution_count": 12,
   "metadata": {},
   "outputs": [
    {
     "data": {
      "text/plain": [
       "[[ScoredPoint(id=6, version=0, score=1.1400001, payload={'age': 8, 'city': 'London', 'color': 'blue'}, vector=None, shard_key=None, order_value=None),\n",
       "  ScoredPoint(id=4, version=0, score=0.76, payload={'age': 56, 'city': 'London', 'color': 'green'}, vector=None, shard_key=None, order_value=None),\n",
       "  ScoredPoint(id=1, version=0, score=0.19, payload={'age': 24, 'city': 'London', 'color': 'red'}, vector=None, shard_key=None, order_value=None)],\n",
       " [ScoredPoint(id=6, version=0, score=0.78000003, payload=None, vector=[0.6, 0.6, 0.6, 0.6], shard_key=None, order_value=None)]]"
      ]
     },
     "execution_count": 12,
     "metadata": {},
     "output_type": "execute_result"
    }
   ],
   "source": [
    "filter_ = models.Filter(\n",
    "    must=[\n",
    "        models.FieldCondition(\n",
    "            key=\"city\",\n",
    "            match=models.MatchValue(\n",
    "                value=\"London\",\n",
    "            ),\n",
    "        )\n",
    "    ]\n",
    ")\n",
    "\n",
    "search_queries = [\n",
    "    models.SearchRequest(vector=[0.2, 0.1, 0.9, 0.7], filter=filter_, limit=3, with_payload=True),\n",
    "    models.SearchRequest(vector=[0.5, 0.3, 0.2, 0.3], filter=filter_, limit=1, with_vector=True),\n",
    "]\n",
    "\n",
    "# Perform multiple searches in a collection mitigating network overhead\n",
    "client.search_batch(collection_name=\"collection0\", requests=search_queries)"
   ]
  }
 ],
 "metadata": {
  "kernelspec": {
   "display_name": "development",
   "language": "python",
   "name": "python3"
  },
  "language_info": {
   "codemirror_mode": {
    "name": "ipython",
    "version": 3
   },
   "file_extension": ".py",
   "mimetype": "text/x-python",
   "name": "python",
   "nbconvert_exporter": "python",
   "pygments_lexer": "ipython3",
   "version": "3.10.12"
  }
 },
 "nbformat": 4,
 "nbformat_minor": 2
}
