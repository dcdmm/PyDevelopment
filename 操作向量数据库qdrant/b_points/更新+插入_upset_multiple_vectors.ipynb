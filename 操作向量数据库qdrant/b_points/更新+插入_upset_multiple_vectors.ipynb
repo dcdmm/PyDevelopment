{
 "cells": [
  {
   "cell_type": "code",
   "execution_count": 1,
   "metadata": {},
   "outputs": [],
   "source": [
    "from qdrant_client import QdrantClient, models"
   ]
  },
  {
   "cell_type": "code",
   "execution_count": 2,
   "metadata": {},
   "outputs": [],
   "source": [
    "client = QdrantClient(url=\"http://localhost:6333\")"
   ]
  },
  {
   "cell_type": "code",
   "execution_count": 3,
   "metadata": {},
   "outputs": [
    {
     "data": {
      "text/plain": [
       "True"
      ]
     },
     "execution_count": 3,
     "metadata": {},
     "output_type": "execute_result"
    }
   ],
   "source": [
    "if client.collection_exists(collection_name=\"collection0\"):\n",
    "    client.delete_collection(collection_name=\"collection0\")\n",
    "\n",
    "client.create_collection(\n",
    "    collection_name=\"collection0\",\n",
    "    vectors_config={\n",
    "        \"image\": models.VectorParams(size=4, distance=models.Distance.DOT),\n",
    "        \"text\": models.VectorParams(size=8, distance=models.Distance.COSINE),\n",
    "    },\n",
    ")"
   ]
  },
  {
   "cell_type": "code",
   "execution_count": 4,
   "metadata": {},
   "outputs": [
    {
     "data": {
      "text/plain": [
       "UpdateResult(operation_id=0, status=<UpdateStatus.COMPLETED: 'completed'>)"
      ]
     },
     "execution_count": 4,
     "metadata": {},
     "output_type": "execute_result"
    }
   ],
   "source": [
    "# If the collection was created with multiple vectors, each vector data can be provided using the vector’s name:\n",
    "client.upsert(\n",
    "    collection_name=\"collection0\",\n",
    "    points=[\n",
    "        models.PointStruct(\n",
    "            id=1,\n",
    "            vector={\n",
    "                \"image\": [0.9, 0.1, 0.1, 0.2],\n",
    "                \"text\": [0.4, 0.7, 0.1, 0.8, 0.1, 0.1, 0.9, 0.2],\n",
    "            },\n",
    "        ),\n",
    "        models.PointStruct(\n",
    "            id=2,\n",
    "            # Named vectors are optional. When uploading points, some vectors may be omitted. For example, you can upload one point with only the image vector and a second one with only the text vector.\n",
    "            vector={\n",
    "                \"text\": [0.5, 0.2, 0.7, 0.4, 0.7, 0.2, 0.3, 0.9],\n",
    "            },\n",
    "        ),\n",
    "        models.PointStruct(\n",
    "            id=3,\n",
    "            vector={\n",
    "                \"image\": [0.2, 0.1, 0.3, 0.9],\n",
    "            },\n",
    "        ),\n",
    "    ],\n",
    ")"
   ]
  },
  {
   "cell_type": "code",
   "execution_count": 5,
   "metadata": {},
   "outputs": [
    {
     "name": "stdout",
     "output_type": "stream",
     "text": [
      "id=1 payload={} vector={'text': [0.2715377, 0.47519097, 0.06788442, 0.5430754, 0.06788442, 0.06788442, 0.6109598, 0.13576885], 'image': [0.9, 0.1, 0.1, 0.2]} shard_key=None order_value=None\n",
      "id=2 payload={} vector={'text': [0.3247849, 0.12991396, 0.45469886, 0.2598279, 0.45469886, 0.12991396, 0.19487095, 0.5846128]} shard_key=None order_value=None\n",
      "id=3 payload={} vector={'image': [0.2, 0.1, 0.3, 0.9]} shard_key=None order_value=None\n"
     ]
    }
   ],
   "source": [
    "for i in client.scroll(\n",
    "    collection_name=\"collection0\",\n",
    "    offset=0,\n",
    "    limit=10,\n",
    "    with_payload=True,\n",
    "    with_vectors=True,\n",
    ")[0]:\n",
    "    print(i)"
   ]
  }
 ],
 "metadata": {
  "kernelspec": {
   "display_name": "development",
   "language": "python",
   "name": "python3"
  },
  "language_info": {
   "codemirror_mode": {
    "name": "ipython",
    "version": 3
   },
   "file_extension": ".py",
   "mimetype": "text/x-python",
   "name": "python",
   "nbconvert_exporter": "python",
   "pygments_lexer": "ipython3",
   "version": "3.10.12"
  }
 },
 "nbformat": 4,
 "nbformat_minor": 2
}
