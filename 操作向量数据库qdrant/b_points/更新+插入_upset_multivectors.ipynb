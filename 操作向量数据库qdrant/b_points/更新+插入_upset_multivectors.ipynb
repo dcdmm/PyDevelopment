{
 "cells": [
  {
   "cell_type": "code",
   "execution_count": 10,
   "metadata": {},
   "outputs": [],
   "source": [
    "from qdrant_client import QdrantClient, models"
   ]
  },
  {
   "cell_type": "code",
   "execution_count": 11,
   "metadata": {},
   "outputs": [],
   "source": [
    "client = QdrantClient(url=\"http://localhost:6333\")"
   ]
  },
  {
   "cell_type": "code",
   "execution_count": 12,
   "metadata": {},
   "outputs": [
    {
     "data": {
      "text/plain": [
       "True"
      ]
     },
     "execution_count": 12,
     "metadata": {},
     "output_type": "execute_result"
    }
   ],
   "source": [
    "if client.collection_exists(collection_name=\"collection0\"):\n",
    "    client.delete_collection(collection_name=\"collection0\")\n",
    "\n",
    "client.create_collection(\n",
    "    collection_name=\"collection0\",\n",
    "    vectors_config=models.VectorParams(\n",
    "        size=3,\n",
    "        distance=models.Distance.COSINE,\n",
    "        multivector_config=models.MultiVectorConfig(\n",
    "            comparator=models.MultiVectorComparator.MAX_SIM\n",
    "        ),\n",
    "    ),\n",
    ")"
   ]
  },
  {
   "cell_type": "code",
   "execution_count": 13,
   "metadata": {},
   "outputs": [
    {
     "data": {
      "text/plain": [
       "UpdateResult(operation_id=0, status=<UpdateStatus.COMPLETED: 'completed'>)"
      ]
     },
     "execution_count": 13,
     "metadata": {},
     "output_type": "execute_result"
    }
   ],
   "source": [
    "# To insert a point with multivector:\n",
    "client.upsert(\n",
    "    collection_name=\"collection0\",\n",
    "    points=[\n",
    "        models.PointStruct(\n",
    "            id=1,\n",
    "            vector=[\n",
    "                [-0.013,  0.020, -0.007],\n",
    "                [-0.030, -0.055,  0.001],\n",
    "                [-0.041,  0.014, -0.032]\n",
    "            ],\n",
    "        )\n",
    "    ],\n",
    ")"
   ]
  },
  {
   "cell_type": "code",
   "execution_count": 14,
   "metadata": {},
   "outputs": [
    {
     "name": "stdout",
     "output_type": "stream",
     "text": [
      "id=1 payload={} vector=[[-0.5229367, 0.8045179, -0.28158128], [-0.47879118, -0.87778383, 0.015959706], [-0.7612197, 0.25992867, -0.5941227]] shard_key=None order_value=None\n"
     ]
    }
   ],
   "source": [
    "for i in client.scroll(\n",
    "    collection_name=\"collection0\",\n",
    "    offset=0,\n",
    "    limit=10,\n",
    "    with_payload=True,\n",
    "    with_vectors=True,\n",
    ")[0]:\n",
    "    print(i)"
   ]
  },
  {
   "cell_type": "code",
   "execution_count": null,
   "metadata": {},
   "outputs": [],
   "source": []
  }
 ],
 "metadata": {
  "kernelspec": {
   "display_name": "development",
   "language": "python",
   "name": "python3"
  },
  "language_info": {
   "codemirror_mode": {
    "name": "ipython",
    "version": 3
   },
   "file_extension": ".py",
   "mimetype": "text/x-python",
   "name": "python",
   "nbconvert_exporter": "python",
   "pygments_lexer": "ipython3",
   "version": "3.10.12"
  }
 },
 "nbformat": 4,
 "nbformat_minor": 2
}
