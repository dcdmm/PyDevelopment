{
 "cells": [
  {
   "cell_type": "code",
   "execution_count": 20,
   "metadata": {},
   "outputs": [],
   "source": [
    "from qdrant_client import QdrantClient, models"
   ]
  },
  {
   "cell_type": "code",
   "execution_count": 21,
   "metadata": {},
   "outputs": [],
   "source": [
    "client = QdrantClient(url=\"http://localhost:6333\")"
   ]
  },
  {
   "cell_type": "code",
   "execution_count": 22,
   "metadata": {},
   "outputs": [
    {
     "data": {
      "text/plain": [
       "UpdateResult(operation_id=0, status=<UpdateStatus.COMPLETED: 'completed'>)"
      ]
     },
     "execution_count": 22,
     "metadata": {},
     "output_type": "execute_result"
    }
   ],
   "source": [
    "if client.collection_exists(collection_name=\"collection0\"):\n",
    "    client.delete_collection(collection_name=\"collection0\")\n",
    "\n",
    "client.create_collection(\n",
    "    collection_name=\"collection0\",\n",
    "    vectors_config=models.VectorParams(size=3, distance=models.Distance.DOT),\n",
    ")\n",
    "\n",
    "client.upsert(\n",
    "    collection_name=\"collection0\",\n",
    "    points=models.Batch(\n",
    "        ids=[1, 2, 3],\n",
    "        payloads=[\n",
    "            {\"color\": \"red\"},\n",
    "            {\"color\": \"green\"},\n",
    "            {\"color\": \"blue\"},\n",
    "        ],\n",
    "        vectors=[\n",
    "            [0.1, 0.1, 0.1],\n",
    "            [0.2, 0.2, 0.2],\n",
    "            [0.3, 0.3, 0.3],\n",
    "        ],\n",
    "    ),\n",
    ")"
   ]
  },
  {
   "cell_type": "code",
   "execution_count": 23,
   "metadata": {},
   "outputs": [
    {
     "name": "stdout",
     "output_type": "stream",
     "text": [
      "id=1 payload={'color': 'red'} vector=[0.1, 0.1, 0.1] shard_key=None order_value=None\n",
      "id=2 payload={'color': 'green'} vector=[0.2, 0.2, 0.2] shard_key=None order_value=None\n",
      "id=3 payload={'color': 'blue'} vector=[0.3, 0.3, 0.3] shard_key=None order_value=None\n"
     ]
    }
   ],
   "source": [
    "for i in client.scroll(\n",
    "    collection_name=\"collection0\",\n",
    "    offset=0,\n",
    "    limit=10,\n",
    "    with_payload=True,\n",
    "    with_vectors=True,\n",
    ")[0]:\n",
    "    print(i)"
   ]
  },
  {
   "cell_type": "code",
   "execution_count": 24,
   "metadata": {},
   "outputs": [
    {
     "data": {
      "text/plain": [
       "UpdateResult(operation_id=1, status=<UpdateStatus.COMPLETED: 'completed'>)"
      ]
     },
     "execution_count": 24,
     "metadata": {},
     "output_type": "execute_result"
    }
   ],
   "source": [
    "client.update_vectors(\n",
    "    collection_name=\"collection0\",\n",
    "    points=[\n",
    "        models.PointVectors(\n",
    "            id=1,\n",
    "            vector=[0.11, 0.11, 0.11]\n",
    "        ),\n",
    "        models.PointVectors(\n",
    "            id=2,\n",
    "            vector=[0.22, 0.22, 0.22]\n",
    "        ),\n",
    "    ],\n",
    ")"
   ]
  },
  {
   "cell_type": "code",
   "execution_count": 25,
   "metadata": {},
   "outputs": [
    {
     "name": "stdout",
     "output_type": "stream",
     "text": [
      "id=1 payload={'color': 'red'} vector=[0.11, 0.11, 0.11] shard_key=None order_value=None\n",
      "id=2 payload={'color': 'green'} vector=[0.22, 0.22, 0.22] shard_key=None order_value=None\n",
      "id=3 payload={'color': 'blue'} vector=[0.3, 0.3, 0.3] shard_key=None order_value=None\n"
     ]
    }
   ],
   "source": [
    "for i in client.scroll(\n",
    "    collection_name=\"collection0\",\n",
    "    offset=0,\n",
    "    limit=10,\n",
    "    with_payload=True,\n",
    "    with_vectors=True,\n",
    ")[0]:\n",
    "    print(i)"
   ]
  }
 ],
 "metadata": {
  "kernelspec": {
   "display_name": "development",
   "language": "python",
   "name": "python3"
  },
  "language_info": {
   "codemirror_mode": {
    "name": "ipython",
    "version": 3
   },
   "file_extension": ".py",
   "mimetype": "text/x-python",
   "name": "python",
   "nbconvert_exporter": "python",
   "pygments_lexer": "ipython3",
   "version": "3.10.12"
  }
 },
 "nbformat": 4,
 "nbformat_minor": 2
}
