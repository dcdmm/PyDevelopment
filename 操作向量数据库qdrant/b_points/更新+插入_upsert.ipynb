{
 "cells": [
  {
   "cell_type": "code",
   "execution_count": 1,
   "metadata": {},
   "outputs": [],
   "source": [
    "from qdrant_client import QdrantClient, models"
   ]
  },
  {
   "cell_type": "code",
   "execution_count": 2,
   "metadata": {},
   "outputs": [],
   "source": [
    "client = QdrantClient(url=\"http://localhost:6333\")"
   ]
  },
  {
   "cell_type": "code",
   "execution_count": 3,
   "metadata": {},
   "outputs": [
    {
     "data": {
      "text/plain": [
       "UpdateResult(operation_id=0, status=<UpdateStatus.COMPLETED: 'completed'>)"
      ]
     },
     "execution_count": 3,
     "metadata": {},
     "output_type": "execute_result"
    }
   ],
   "source": [
    "if client.collection_exists(collection_name=\"collection0\"):\n",
    "    client.delete_collection(collection_name=\"collection0\")\n",
    "\n",
    "client.create_collection(\n",
    "    collection_name=\"collection0\",\n",
    "    vectors_config=models.VectorParams(size=3, distance=models.Distance.DOT),\n",
    ")\n",
    "\n",
    "# Performs the insert + update action on specified points. Any point with an existing {id} will be overwritten.\n",
    "client.upsert(\n",
    "    collection_name=\"collection0\",\n",
    "    # list of objects\n",
    "    points=[\n",
    "        models.PointStruct(\n",
    "            # Type, used for specifying point ID in user interface\n",
    "            id=1,  # integer OR string\n",
    "            # Payload values (optional)\n",
    "            payload={\n",
    "                \"color\": \"red\",\n",
    "            },\n",
    "            # Full vector data per point separator with single and multiple vector modes\n",
    "            vector=[0.1, 0.1, 0.1],\n",
    "        ),\n",
    "        models.PointStruct(\n",
    "            id=2,\n",
    "            payload={\n",
    "                \"color\": \"green\",\n",
    "            },\n",
    "            vector=[0.2, 0.2, 0.2],\n",
    "        ),\n",
    "        models.PointStruct(\n",
    "            id=3,\n",
    "            payload={\n",
    "                \"color\": \"blue\",\n",
    "            },\n",
    "            vector=[0.3, 0.3, 0.3],\n",
    "        ),\n",
    "        models.PointStruct(\n",
    "            id=1,\n",
    "            payload={\n",
    "                \"color\": \"yellow\",\n",
    "            },\n",
    "            vector=[0.4, 0.4, 0.4],\n",
    "        ),\n",
    "    ],\n",
    ")"
   ]
  },
  {
   "cell_type": "code",
   "execution_count": 4,
   "metadata": {},
   "outputs": [
    {
     "name": "stdout",
     "output_type": "stream",
     "text": [
      "id=1 payload={'color': 'yellow'} vector=[0.4, 0.4, 0.4] shard_key=None order_value=None\n",
      "id=2 payload={'color': 'green'} vector=[0.2, 0.2, 0.2] shard_key=None order_value=None\n",
      "id=3 payload={'color': 'blue'} vector=[0.3, 0.3, 0.3] shard_key=None order_value=None\n"
     ]
    }
   ],
   "source": [
    "for i in client.scroll(\n",
    "    collection_name=\"collection0\",\n",
    "    offset=0,\n",
    "    limit=10,\n",
    "    with_payload=True,\n",
    "    with_vectors=True,\n",
    ")[0]:\n",
    "    print(i)"
   ]
  },
  {
   "cell_type": "code",
   "execution_count": 5,
   "metadata": {},
   "outputs": [
    {
     "data": {
      "text/plain": [
       "UpdateResult(operation_id=0, status=<UpdateStatus.COMPLETED: 'completed'>)"
      ]
     },
     "execution_count": 5,
     "metadata": {},
     "output_type": "execute_result"
    }
   ],
   "source": [
    "if client.collection_exists(collection_name=\"collection1\"):\n",
    "    client.delete_collection(collection_name=\"collection1\")\n",
    "\n",
    "client.create_collection(\n",
    "    collection_name=\"collection1\",\n",
    "    vectors_config=models.VectorParams(size=3, distance=models.Distance.DOT),\n",
    ")\n",
    "\n",
    "# 与上等价\n",
    "client.upsert(\n",
    "    collection_name=\"collection1\",\n",
    "    points=models.Batch(\n",
    "        ids=[1, 2, 3, 1],\n",
    "        payloads=[\n",
    "            {\"color\": \"red\"},\n",
    "            {\"color\": \"green\"},\n",
    "            {\"color\": \"blue\"},\n",
    "            {\"color\": \"yellow\"}\n",
    "        ],\n",
    "        vectors=[\n",
    "            [0.1, 0.1, 0.1],\n",
    "            [0.2, 0.2, 0.2],\n",
    "            [0.3, 0.3, 0.3],\n",
    "            [0.4, 0.4, 0.4],\n",
    "        ],\n",
    "    ),\n",
    ")"
   ]
  },
  {
   "cell_type": "code",
   "execution_count": 6,
   "metadata": {},
   "outputs": [
    {
     "name": "stdout",
     "output_type": "stream",
     "text": [
      "id=1 payload={'color': 'yellow'} vector=[0.4, 0.4, 0.4] shard_key=None order_value=None\n",
      "id=2 payload={'color': 'green'} vector=[0.2, 0.2, 0.2] shard_key=None order_value=None\n",
      "id=3 payload={'color': 'blue'} vector=[0.3, 0.3, 0.3] shard_key=None order_value=None\n"
     ]
    }
   ],
   "source": [
    "for i in client.scroll(\n",
    "    collection_name=\"collection1\",\n",
    "    offset=0,\n",
    "    limit=10,\n",
    "    with_payload=True,\n",
    "    with_vectors=True,\n",
    ")[0]:\n",
    "    print(i)"
   ]
  }
 ],
 "metadata": {
  "kernelspec": {
   "display_name": "development",
   "language": "python",
   "name": "python3"
  },
  "language_info": {
   "codemirror_mode": {
    "name": "ipython",
    "version": 3
   },
   "file_extension": ".py",
   "mimetype": "text/x-python",
   "name": "python",
   "nbconvert_exporter": "python",
   "pygments_lexer": "ipython3",
   "version": "3.10.12"
  }
 },
 "nbformat": 4,
 "nbformat_minor": 2
}
