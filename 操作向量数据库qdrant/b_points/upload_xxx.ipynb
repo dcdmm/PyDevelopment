{
 "cells": [
  {
   "cell_type": "code",
   "execution_count": 31,
   "metadata": {},
   "outputs": [],
   "source": [
    "from qdrant_client import QdrantClient, models"
   ]
  },
  {
   "cell_type": "code",
   "execution_count": 32,
   "metadata": {},
   "outputs": [],
   "source": [
    "client = QdrantClient(url=\"http://localhost:6333\")"
   ]
  },
  {
   "cell_type": "code",
   "execution_count": 33,
   "metadata": {},
   "outputs": [
    {
     "data": {
      "text/plain": [
       "True"
      ]
     },
     "execution_count": 33,
     "metadata": {},
     "output_type": "execute_result"
    }
   ],
   "source": [
    "if client.collection_exists(collection_name=\"collection0\"):\n",
    "    client.delete_collection(collection_name=\"collection0\")\n",
    "\n",
    "client.create_collection(\n",
    "    collection_name=\"collection0\",\n",
    "    vectors_config=models.VectorParams(size=3, distance=models.Distance.DOT),\n",
    ")"
   ]
  },
  {
   "cell_type": "code",
   "execution_count": 34,
   "metadata": {},
   "outputs": [],
   "source": [
    "if client.collection_exists(collection_name=\"collection0\"):\n",
    "    client.delete_collection(collection_name=\"collection0\")\n",
    "\n",
    "client.create_collection(\n",
    "    collection_name=\"collection0\",\n",
    "    vectors_config=models.VectorParams(size=3, distance=models.Distance.DOT),\n",
    ")\n",
    "\n",
    "client.upload_collection(\n",
    "    collection_name=\"collection0\",\n",
    "    ids=[1, 2],\n",
    "    payload=[\n",
    "        {\"color\": \"red\"},\n",
    "        {\"color\": \"green\"},\n",
    "    ],\n",
    "    vectors=[\n",
    "        [0.9, 0.1, 0.1],\n",
    "        [0.1, 0.9, 0.1],\n",
    "    ],\n",
    "    # How many vectors upload per-request, Default: 64\n",
    "    batch_size=64,\n",
    "    # Number of parallel processes of upload\n",
    "    parallel=4,\n",
    "    # maximum number of retries in case of a failure during the upload of a batch\n",
    "    max_retries=3,\n",
    ")"
   ]
  },
  {
   "cell_type": "code",
   "execution_count": 35,
   "metadata": {},
   "outputs": [
    {
     "name": "stdout",
     "output_type": "stream",
     "text": [
      "id=1 payload={'color': 'red'} vector=[0.9, 0.1, 0.1] shard_key=None order_value=None\n",
      "id=2 payload={'color': 'green'} vector=[0.1, 0.9, 0.1] shard_key=None order_value=None\n"
     ]
    }
   ],
   "source": [
    "for i in client.scroll(\n",
    "    collection_name=\"collection0\",\n",
    "    offset=0,\n",
    "    limit=10,\n",
    "    with_payload=True,\n",
    "    with_vectors=True,\n",
    ")[0]:\n",
    "    print(i)"
   ]
  },
  {
   "cell_type": "code",
   "execution_count": 36,
   "metadata": {},
   "outputs": [],
   "source": [
    "if client.collection_exists(collection_name=\"collection1\"):\n",
    "    client.delete_collection(collection_name=\"collection1\")\n",
    "\n",
    "client.create_collection(\n",
    "    collection_name=\"collection1\",\n",
    "    vectors_config=models.VectorParams(size=3, distance=models.Distance.DOT),\n",
    ")\n",
    "\n",
    "# 与上等价\n",
    "client.upload_points(\n",
    "    collection_name=\"collection1\",\n",
    "    points=[\n",
    "        models.PointStruct(\n",
    "            id=1,\n",
    "            payload={\n",
    "                \"color\": \"red\",\n",
    "            },\n",
    "            vector=[0.9, 0.1, 0.1],\n",
    "        ),\n",
    "        models.PointStruct(\n",
    "            id=2,\n",
    "            payload={\n",
    "                \"color\": \"green\",\n",
    "            },\n",
    "            vector=[0.1, 0.9, 0.1],\n",
    "        ),\n",
    "    ],\n",
    "    batch_size=64,\n",
    "    parallel=4,\n",
    "    max_retries=3,\n",
    ")"
   ]
  },
  {
   "cell_type": "code",
   "execution_count": 37,
   "metadata": {},
   "outputs": [
    {
     "name": "stdout",
     "output_type": "stream",
     "text": [
      "id=1 payload={'color': 'red'} vector=[0.9, 0.1, 0.1] shard_key=None order_value=None\n",
      "id=2 payload={'color': 'green'} vector=[0.1, 0.9, 0.1] shard_key=None order_value=None\n"
     ]
    }
   ],
   "source": [
    "for i in client.scroll(\n",
    "    collection_name=\"collection1\",\n",
    "    offset=0,\n",
    "    limit=10,\n",
    "    with_payload=True,\n",
    "    with_vectors=True,\n",
    ")[0]:\n",
    "    print(i)"
   ]
  }
 ],
 "metadata": {
  "kernelspec": {
   "display_name": "development",
   "language": "python",
   "name": "python3"
  },
  "language_info": {
   "codemirror_mode": {
    "name": "ipython",
    "version": 3
   },
   "file_extension": ".py",
   "mimetype": "text/x-python",
   "name": "python",
   "nbconvert_exporter": "python",
   "pygments_lexer": "ipython3",
   "version": "3.10.12"
  }
 },
 "nbformat": 4,
 "nbformat_minor": 2
}
