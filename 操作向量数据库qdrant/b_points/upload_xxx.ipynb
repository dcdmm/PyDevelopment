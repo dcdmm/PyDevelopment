{
 "cells": [
  {
   "cell_type": "code",
   "execution_count": 1,
   "metadata": {},
   "outputs": [],
   "source": [
    "from qdrant_client import QdrantClient, models"
   ]
  },
  {
   "cell_type": "code",
   "execution_count": 2,
   "metadata": {},
   "outputs": [],
   "source": [
    "client = QdrantClient(url=\"http://localhost:6333\")"
   ]
  },
  {
   "cell_type": "code",
   "execution_count": null,
   "metadata": {},
   "outputs": [],
   "source": [
    "client.upload_collection(\n",
    "    collection_name=\"{collection_name}\",\n",
    "    ids=[1, 2],\n",
    "    payload=[\n",
    "        {\"color\": \"red\"},\n",
    "        {\"color\": \"green\"},\n",
    "    ],\n",
    "    vectors=[\n",
    "        [0.9, 0.1, 0.1],\n",
    "        [0.1, 0.9, 0.1],\n",
    "    ],\n",
    "    parallel=4,\n",
    "    max_retries=3,\n",
    ")"
   ]
  },
  {
   "cell_type": "code",
   "execution_count": null,
   "metadata": {},
   "outputs": [],
   "source": [
    "client.upload_points(\n",
    "    collection_name=\"{collection_name}\",\n",
    "    points=[\n",
    "        models.PointStruct(\n",
    "            id=1,\n",
    "            payload={\n",
    "                \"color\": \"red\",\n",
    "            },\n",
    "            vector=[0.9, 0.1, 0.1],\n",
    "        ),\n",
    "        models.PointStruct(\n",
    "            id=2,\n",
    "            payload={\n",
    "                \"color\": \"green\",\n",
    "            },\n",
    "            vector=[0.1, 0.9, 0.1],\n",
    "        ),\n",
    "    ],\n",
    "    parallel=4,\n",
    "    max_retries=3,\n",
    ")"
   ]
  }
 ],
 "metadata": {
  "kernelspec": {
   "display_name": "development",
   "language": "python",
   "name": "python3"
  },
  "language_info": {
   "codemirror_mode": {
    "name": "ipython",
    "version": 3
   },
   "file_extension": ".py",
   "mimetype": "text/x-python",
   "name": "python",
   "nbconvert_exporter": "python",
   "pygments_lexer": "ipython3",
   "version": "3.10.12"
  }
 },
 "nbformat": 4,
 "nbformat_minor": 2
}
