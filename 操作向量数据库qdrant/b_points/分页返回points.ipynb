{
 "cells": [
  {
   "cell_type": "code",
   "execution_count": 38,
   "metadata": {},
   "outputs": [],
   "source": [
    "from qdrant_client import QdrantClient, models"
   ]
  },
  {
   "cell_type": "code",
   "execution_count": 39,
   "metadata": {},
   "outputs": [],
   "source": [
    "client = QdrantClient(url=\"http://localhost:6333\")"
   ]
  },
  {
   "cell_type": "code",
   "execution_count": 40,
   "metadata": {},
   "outputs": [
    {
     "data": {
      "text/plain": [
       "UpdateResult(operation_id=0, status=<UpdateStatus.COMPLETED: 'completed'>)"
      ]
     },
     "execution_count": 40,
     "metadata": {},
     "output_type": "execute_result"
    }
   ],
   "source": [
    "if client.collection_exists(collection_name=\"collection0\"):\n",
    "    client.delete_collection(collection_name=\"collection0\")\n",
    "\n",
    "client.create_collection(\n",
    "    collection_name=\"collection0\",\n",
    "    vectors_config=models.VectorParams(size=3, distance=models.Distance.DOT),\n",
    ")\n",
    "\n",
    "client.upsert(\n",
    "    collection_name=\"collection0\",\n",
    "    points=models.Batch(\n",
    "        ids=[1, 2, 3, 4, 5, 6, 7, 8, 9, 10, 11, 12, 13, 14],\n",
    "        payloads=[\n",
    "            {\"color\": \"red\", \"city\": \"London\",},\n",
    "            {\"color\": \"green\", \"city\": \"Moscow\"},\n",
    "            {\"color\": \"blue\", \"city\": \"Moscow\"},\n",
    "            {\"color\": \"green\", \"city\": \"London\"},\n",
    "            {\"color\": \"red\", \"city\": \"Berlin\"},\n",
    "            {\"color\": \"blue\", \"city\": \"London\"},\n",
    "            {\"color\": \"red\", \"city\": \"Shanghai\"},\n",
    "            {\"color\": \"black\", \"city\": \"Guangzhou\"},\n",
    "            {\"color\": \"red\", \"city\": \"Beijing\"},\n",
    "            {\"color\": \"yellow\", \"city\": \"Changsha\"},\n",
    "            {\"color\": \"red\", \"city\": \"London\"},\n",
    "            {\"color\": \"green\", \"city\": \"Changsha\"},\n",
    "            {\"color\": \"red\", \"city\": \"Hongkang\"},\n",
    "            {\"color\": \"red\", \"city\": \"Shanghai\"},\n",
    "        ],\n",
    "        vectors=[\n",
    "            [0.1, 0.1, 0.1],\n",
    "            [0.2, 0.2, 0.2],\n",
    "            [0.3, 0.3, 0.3],\n",
    "            [0.4, 0.4, 0.4],\n",
    "            [0.5, 0.5, 0.5],\n",
    "            [0.6, 0.6, 0.6],\n",
    "            [0.7, 0.7, 0.7],\n",
    "            [0.8, 0.8, 0.8],\n",
    "            [0.9, 0.9, 0.9],\n",
    "            [1.0, 1.0, 1.0],\n",
    "            [1.1, 1.1, 1.1],\n",
    "            [1.2, 1.2, 1.2],\n",
    "            [1.3, 1.3, 1.3],\n",
    "            [1.4, 1.4, 1.4],\n",
    "        ],\n",
    "    ),\n",
    ")"
   ]
  },
  {
   "cell_type": "code",
   "execution_count": 41,
   "metadata": {},
   "outputs": [
    {
     "data": {
      "text/plain": [
       "([Record(id=1, payload={'city': 'London', 'color': 'red'}, vector=[0.1, 0.1, 0.1], shard_key=None, order_value=None),\n",
       "  Record(id=5, payload={'city': 'Berlin', 'color': 'red'}, vector=[0.5, 0.5, 0.5], shard_key=None, order_value=None),\n",
       "  Record(id=7, payload={'city': 'Shanghai', 'color': 'red'}, vector=[0.7, 0.7, 0.7], shard_key=None, order_value=None),\n",
       "  Record(id=9, payload={'city': 'Beijing', 'color': 'red'}, vector=[0.9, 0.9, 0.9], shard_key=None, order_value=None),\n",
       "  Record(id=11, payload={'city': 'London', 'color': 'red'}, vector=[1.1, 1.1, 1.1], shard_key=None, order_value=None),\n",
       "  Record(id=13, payload={'city': 'Hongkang', 'color': 'red'}, vector=[1.3, 1.3, 1.3], shard_key=None, order_value=None),\n",
       "  Record(id=14, payload={'city': 'Shanghai', 'color': 'red'}, vector=[1.4, 1.4, 1.4], shard_key=None, order_value=None)],\n",
       " None)"
      ]
     },
     "execution_count": 41,
     "metadata": {},
     "output_type": "execute_result"
    }
   ],
   "source": [
    "client.scroll(\n",
    "    collection_name=\"collection0\",\n",
    "    scroll_filter=models.Filter(\n",
    "        must=[\n",
    "            models.FieldCondition(key=\"color\", match=models.MatchValue(value=\"red\")),\n",
    "        ]\n",
    "    ),\n",
    "    # limit: How many points to return\n",
    "    limit=34,\n",
    "    # If `True` - attach all payload\n",
    "    # If `False` - do not attach any payload\n",
    "    # If List of string - include only specified fields\n",
    "    # If `PayloadSelector` - use explicit rules\n",
    "    with_payload=True,  # 默认with_payload=True\n",
    "    # If `True` - Attach stored vector to the search result.\n",
    "    # If `False` - Do not attach vector.\n",
    "    # If List of string - Attach only specified vectors.\n",
    "    with_vectors=True,  # 默认with_vectors=True\n",
    ")"
   ]
  },
  {
   "cell_type": "code",
   "execution_count": 43,
   "metadata": {},
   "outputs": [
    {
     "name": "stdout",
     "output_type": "stream",
     "text": [
      "([Record(id=7, payload={'city': 'Shanghai', 'color': 'red'}, vector=None, shard_key=None, order_value=None), Record(id=9, payload={'city': 'Beijing', 'color': 'red'}, vector=None, shard_key=None, order_value=None)], 11)\n",
      "\n",
      "([Record(id=11, payload={'city': 'London', 'color': 'red'}, vector=None, shard_key=None, order_value=None), Record(id=13, payload={'city': 'Hongkang', 'color': 'red'}, vector=None, shard_key=None, order_value=None)], 14)\n",
      "\n",
      "([Record(id=14, payload={'city': 'Shanghai', 'color': 'red'}, vector=None, shard_key=None, order_value=None)], None)\n",
      "None\n"
     ]
    }
   ],
   "source": [
    "# 分页查询\n",
    "scroll0 = client.scroll(\n",
    "    collection_name=\"collection0\",\n",
    "    scroll_filter=models.Filter(\n",
    "        must=[\n",
    "            models.FieldCondition(key=\"color\", match=models.MatchValue(value=\"red\")),\n",
    "        ]\n",
    "    ),\n",
    "    limit=2,\n",
    "    # offset: If provided - skip points with ids less than given `offset`\n",
    "    offset=7\n",
    ")\n",
    "print(scroll0, end='\\n\\n')  # scroll0[1]=11\n",
    "\n",
    "scroll1 = client.scroll(\n",
    "    collection_name=\"collection0\",\n",
    "    scroll_filter=models.Filter(\n",
    "        must=[\n",
    "            models.FieldCondition(key=\"color\", match=models.MatchValue(value=\"red\")),\n",
    "        ]\n",
    "    ),\n",
    "    limit=2,\n",
    "    offset=scroll0[1]\n",
    ")\n",
    "print(scroll1, end='\\n\\n')  # scroll1[1]=14\n",
    "\n",
    "scroll2 = client.scroll(\n",
    "    collection_name=\"collection0\",\n",
    "    scroll_filter=models.Filter(\n",
    "        must=[\n",
    "            models.FieldCondition(key=\"color\", match=models.MatchValue(value=\"red\")),\n",
    "        ]\n",
    "    ),\n",
    "    limit=2,\n",
    "    offset=scroll1[1]\n",
    ")\n",
    "print(scroll2)\n",
    "print(scroll2[1])  # scroll2[1]=None,表示查询完毕"
   ]
  }
 ],
 "metadata": {
  "kernelspec": {
   "display_name": "development",
   "language": "python",
   "name": "python3"
  },
  "language_info": {
   "codemirror_mode": {
    "name": "ipython",
    "version": 3
   },
   "file_extension": ".py",
   "mimetype": "text/x-python",
   "name": "python",
   "nbconvert_exporter": "python",
   "pygments_lexer": "ipython3",
   "version": "3.10.12"
  }
 },
 "nbformat": 4,
 "nbformat_minor": 2
}
