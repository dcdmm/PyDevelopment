{
 "cells": [
  {
   "cell_type": "code",
   "execution_count": 26,
   "metadata": {},
   "outputs": [],
   "source": [
    "from qdrant_client import QdrantClient, models"
   ]
  },
  {
   "cell_type": "code",
   "execution_count": 27,
   "metadata": {},
   "outputs": [],
   "source": [
    "client = QdrantClient(url=\"http://localhost:6333\")"
   ]
  },
  {
   "cell_type": "code",
   "execution_count": 28,
   "metadata": {},
   "outputs": [
    {
     "data": {
      "text/plain": [
       "UpdateResult(operation_id=0, status=<UpdateStatus.COMPLETED: 'completed'>)"
      ]
     },
     "execution_count": 28,
     "metadata": {},
     "output_type": "execute_result"
    }
   ],
   "source": [
    "if client.collection_exists(collection_name=\"collection0\"):\n",
    "    client.delete_collection(collection_name=\"collection0\")\n",
    "\n",
    "client.create_collection(\n",
    "    collection_name=\"collection0\",\n",
    "    vectors_config={\n",
    "        \"image\": models.VectorParams(size=4, distance=models.Distance.DOT),\n",
    "        \"text\": models.VectorParams(size=8, distance=models.Distance.DOT),\n",
    "    },\n",
    ")\n",
    "\n",
    "client.upsert(\n",
    "    collection_name=\"collection0\",\n",
    "    points=[\n",
    "        models.PointStruct(\n",
    "            id=1,\n",
    "            vector={\n",
    "                \"image\": [0.9, 0.1, 0.1, 0.2],\n",
    "                \"text\": [0.4, 0.7, 0.1, 0.8, 0.1, 0.1, 0.9, 0.2],\n",
    "            },\n",
    "        ),\n",
    "        models.PointStruct(\n",
    "            id=2,\n",
    "            vector={\n",
    "                \"image\": [0.2, 0.1, 0.3, 0.9],\n",
    "                \"text\": [0.5, 0.2, 0.7, 0.4, 0.7, 0.2, 0.3, 0.9],\n",
    "            },\n",
    "        ),\n",
    "    ],\n",
    ")"
   ]
  },
  {
   "cell_type": "code",
   "execution_count": 29,
   "metadata": {},
   "outputs": [
    {
     "name": "stdout",
     "output_type": "stream",
     "text": [
      "id=1 payload={} vector={'text': [0.4, 0.7, 0.1, 0.8, 0.1, 0.1, 0.9, 0.2], 'image': [0.9, 0.1, 0.1, 0.2]} shard_key=None order_value=None\n",
      "id=2 payload={} vector={'text': [0.5, 0.2, 0.7, 0.4, 0.7, 0.2, 0.3, 0.9], 'image': [0.2, 0.1, 0.3, 0.9]} shard_key=None order_value=None\n"
     ]
    }
   ],
   "source": [
    "for i in client.scroll(\n",
    "    collection_name=\"collection0\",\n",
    "    offset=0,\n",
    "    limit=10,\n",
    "    with_payload=True,\n",
    "    with_vectors=True,\n",
    ")[0]:\n",
    "    print(i)"
   ]
  },
  {
   "cell_type": "code",
   "execution_count": 30,
   "metadata": {},
   "outputs": [
    {
     "data": {
      "text/plain": [
       "UpdateResult(operation_id=1, status=<UpdateStatus.COMPLETED: 'completed'>)"
      ]
     },
     "execution_count": 30,
     "metadata": {},
     "output_type": "execute_result"
    }
   ],
   "source": [
    "# This method updates the specified vectors on the given points. Unspecified vectors are kept unchanged. All given points must exist.\n",
    "client.update_vectors(\n",
    "    collection_name=\"collection0\",\n",
    "    points=[\n",
    "        models.PointVectors(\n",
    "            id=1,\n",
    "            vector={\n",
    "                \"image\": [0.9, 0.9, 0.9, 0.9],\n",
    "            },\n",
    "        ),\n",
    "        models.PointVectors(\n",
    "            id=2,\n",
    "            vector={\n",
    "                \"text\": [0.1, 0.1, 0.1, 0.1, 0.1, 0.1, 0.1, 0.1],\n",
    "            },\n",
    "        ),\n",
    "    ],\n",
    ")"
   ]
  },
  {
   "cell_type": "code",
   "execution_count": 31,
   "metadata": {},
   "outputs": [
    {
     "name": "stdout",
     "output_type": "stream",
     "text": [
      "id=1 payload={} vector={'text': [0.4, 0.7, 0.1, 0.8, 0.1, 0.1, 0.9, 0.2], 'image': [0.9, 0.9, 0.9, 0.9]} shard_key=None order_value=None\n",
      "id=2 payload={} vector={'text': [0.1, 0.1, 0.1, 0.1, 0.1, 0.1, 0.1, 0.1], 'image': [0.2, 0.1, 0.3, 0.9]} shard_key=None order_value=None\n"
     ]
    }
   ],
   "source": [
    "for i in client.scroll(\n",
    "    collection_name=\"collection0\",\n",
    "    offset=0,\n",
    "    limit=10,\n",
    "    with_payload=True,\n",
    "    with_vectors=True,\n",
    ")[0]:\n",
    "    print(i)"
   ]
  }
 ],
 "metadata": {
  "kernelspec": {
   "display_name": "development",
   "language": "python",
   "name": "python3"
  },
  "language_info": {
   "codemirror_mode": {
    "name": "ipython",
    "version": 3
   },
   "file_extension": ".py",
   "mimetype": "text/x-python",
   "name": "python",
   "nbconvert_exporter": "python",
   "pygments_lexer": "ipython3",
   "version": "3.10.12"
  }
 },
 "nbformat": 4,
 "nbformat_minor": 2
}
