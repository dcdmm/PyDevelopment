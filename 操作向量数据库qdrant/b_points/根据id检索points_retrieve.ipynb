{
 "cells": [
  {
   "cell_type": "code",
   "execution_count": 9,
   "metadata": {},
   "outputs": [],
   "source": [
    "from qdrant_client import QdrantClient, models"
   ]
  },
  {
   "cell_type": "code",
   "execution_count": 10,
   "metadata": {},
   "outputs": [],
   "source": [
    "client = QdrantClient(url=\"http://localhost:6333\")"
   ]
  },
  {
   "cell_type": "code",
   "execution_count": 11,
   "metadata": {},
   "outputs": [
    {
     "data": {
      "text/plain": [
       "UpdateResult(operation_id=0, status=<UpdateStatus.COMPLETED: 'completed'>)"
      ]
     },
     "execution_count": 11,
     "metadata": {},
     "output_type": "execute_result"
    }
   ],
   "source": [
    "if client.collection_exists(collection_name=\"collection0\"):\n",
    "    client.delete_collection(collection_name=\"collection0\")\n",
    "\n",
    "client.create_collection(\n",
    "    collection_name=\"collection0\",\n",
    "    vectors_config=models.VectorParams(size=3, distance=models.Distance.DOT),\n",
    ")\n",
    "\n",
    "client.upsert(\n",
    "    collection_name=\"collection0\",\n",
    "    points=models.Batch(\n",
    "        ids=[1, 2, 3, 4, 5],\n",
    "        payloads=[\n",
    "            {\"color\": \"red\"},\n",
    "            {\"color\": \"green\"},\n",
    "            {\"color\": \"blue\"},\n",
    "            {\"color\": \"yellow\"},\n",
    "            {\"color\": \"orange\"},\n",
    "        ],\n",
    "        vectors=[\n",
    "            [0.1, 0.1, 0.1],\n",
    "            [0.2, 0.2, 0.2],\n",
    "            [0.3, 0.3, 0.3],\n",
    "            [0.4, 0.4, 0.4],\n",
    "            [0.5, 0.5, 0.5],\n",
    "        ],\n",
    "    ),\n",
    ")"
   ]
  },
  {
   "cell_type": "code",
   "execution_count": 12,
   "metadata": {},
   "outputs": [
    {
     "data": {
      "text/plain": [
       "[Record(id=1, payload={'color': 'red'}, vector=[0.1, 0.1, 0.1], shard_key=None, order_value=None),\n",
       " Record(id=3, payload={'color': 'blue'}, vector=[0.3, 0.3, 0.3], shard_key=None, order_value=None),\n",
       " Record(id=5, payload={'color': 'orange'}, vector=[0.5, 0.5, 0.5], shard_key=None, order_value=None)]"
      ]
     },
     "execution_count": 12,
     "metadata": {},
     "output_type": "execute_result"
    }
   ],
   "source": [
    "# Retrieve stored points by IDs\n",
    "client.retrieve(\n",
    "    collection_name=\"collection0\",\n",
    "    # list of IDs to lookup\n",
    "    ids=[1, 3, 5],\n",
    "    # If `True` - attach all payload\n",
    "    # If `False` - do not attach any payload\n",
    "    # If List of string - include only specified fields\n",
    "    # If `PayloadSelector` - use explicit rules\n",
    "    with_payload=True,\n",
    "    # If `True` - Attach stored vector to the search result.\n",
    "    # If `False` - Do not attach vector.\n",
    "    # If List of string - Attach only specified vectors.\n",
    "    with_vectors=True\n",
    ")"
   ]
  }
 ],
 "metadata": {
  "kernelspec": {
   "display_name": "development",
   "language": "python",
   "name": "python3"
  },
  "language_info": {
   "codemirror_mode": {
    "name": "ipython",
    "version": 3
   },
   "file_extension": ".py",
   "mimetype": "text/x-python",
   "name": "python",
   "nbconvert_exporter": "python",
   "pygments_lexer": "ipython3",
   "version": "3.10.12"
  }
 },
 "nbformat": 4,
 "nbformat_minor": 2
}
