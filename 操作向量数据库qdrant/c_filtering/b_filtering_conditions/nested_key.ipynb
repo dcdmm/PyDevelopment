{
 "cells": [
  {
   "cell_type": "code",
   "execution_count": 13,
   "metadata": {},
   "outputs": [],
   "source": [
    "from qdrant_client import QdrantClient, models"
   ]
  },
  {
   "cell_type": "code",
   "execution_count": 14,
   "metadata": {},
   "outputs": [],
   "source": [
    "client = QdrantClient(url=\"http://localhost:6333\")"
   ]
  },
  {
   "cell_type": "code",
   "execution_count": 15,
   "metadata": {},
   "outputs": [
    {
     "data": {
      "text/plain": [
       "UpdateResult(operation_id=0, status=<UpdateStatus.COMPLETED: 'completed'>)"
      ]
     },
     "execution_count": 15,
     "metadata": {},
     "output_type": "execute_result"
    }
   ],
   "source": [
    "if client.collection_exists(collection_name=\"collection0\"):\n",
    "    client.delete_collection(collection_name=\"collection0\")\n",
    "\n",
    "client.create_collection(\n",
    "    collection_name=\"collection0\",\n",
    "    vectors_config=models.VectorParams(size=3, distance=models.Distance.DOT),\n",
    ")\n",
    "\n",
    "client.upsert(\n",
    "    collection_name=\"collection0\",\n",
    "    points=models.Batch(\n",
    "        ids=[1, 2],\n",
    "        payloads=[\n",
    "            {\n",
    "                \"country\": {\n",
    "                    \"name\": \"Germany\",\n",
    "                    \"cities\": [\n",
    "                        {\n",
    "                            \"name\": \"Berlin\",\n",
    "                            \"population\": 3.7,\n",
    "                            \"sightseeing\": [\"Brandenburg Gate\", \"Reichstag\"]\n",
    "                        },\n",
    "                        {\n",
    "                            \"name\": \"Munich\",\n",
    "                            \"population\": 1.5,\n",
    "                            \"sightseeing\": [\"Marienplatz\", \"Olympiapark\"]\n",
    "                        }\n",
    "                    ]\n",
    "                }\n",
    "            },\n",
    "            {\n",
    "                \"country\": {\n",
    "                    \"name\": \"Japan\",\n",
    "                    \"cities\": [\n",
    "                        {\n",
    "                            \"name\": \"Tokyo\",\n",
    "                            \"population\": 9.3,\n",
    "                            \"sightseeing\": [\"Tokyo Tower\", \"Tokyo Skytree\"]\n",
    "                        },\n",
    "                        {\n",
    "                            \"name\": \"Osaka\",\n",
    "                            \"population\": 2.7,\n",
    "                            \"sightseeing\": [\"Osaka Castle\", \"Universal Studios Japan\"]\n",
    "                        }\n",
    "                    ]\n",
    "                }\n",
    "            }\n",
    "        ],\n",
    "        vectors=[\n",
    "            [0.1, 0.1, 0.1],\n",
    "            [0.2, 0.2, 0.2],\n",
    "        ],\n",
    "    ),\n",
    ")"
   ]
  },
  {
   "cell_type": "code",
   "execution_count": 16,
   "metadata": {},
   "outputs": [
    {
     "data": {
      "text/plain": [
       "([Record(id=1, payload={'country': {'cities': [{'name': 'Berlin', 'population': 3.7, 'sightseeing': ['Brandenburg Gate', 'Reichstag']}, {'name': 'Munich', 'population': 1.5, 'sightseeing': ['Marienplatz', 'Olympiapark']}], 'name': 'Germany'}}, vector=None, shard_key=None, order_value=None)],\n",
       " None)"
      ]
     },
     "execution_count": 16,
     "metadata": {},
     "output_type": "execute_result"
    }
   ],
   "source": [
    "client.scroll(\n",
    "    collection_name=\"collection0\",\n",
    "    scroll_filter=models.Filter(\n",
    "        should=[\n",
    "            models.FieldCondition(\n",
    "                # You can search on a nested field using a dot notation.\n",
    "                key=\"country.name\", match=models.MatchValue(value=\"Germany\")\n",
    "            ),\n",
    "        ],\n",
    "    ),\n",
    ")"
   ]
  },
  {
   "cell_type": "code",
   "execution_count": 17,
   "metadata": {},
   "outputs": [
    {
     "data": {
      "text/plain": [
       "([Record(id=2, payload={'country': {'cities': [{'name': 'Tokyo', 'population': 9.3, 'sightseeing': ['Tokyo Tower', 'Tokyo Skytree']}, {'name': 'Osaka', 'population': 2.7, 'sightseeing': ['Osaka Castle', 'Universal Studios Japan']}], 'name': 'Japan'}}, vector=None, shard_key=None, order_value=None)],\n",
       " None)"
      ]
     },
     "execution_count": 17,
     "metadata": {},
     "output_type": "execute_result"
    }
   ],
   "source": [
    "client.scroll(\n",
    "    collection_name=\"collection0\",\n",
    "    scroll_filter=models.Filter(\n",
    "        should=[\n",
    "            models.FieldCondition(\n",
    "                # You can also search through arrays by projecting inner values using the [] syntax.\n",
    "                key=\"country.cities[].population\",\n",
    "                range=models.Range(\n",
    "                    gt=None,\n",
    "                    gte=9.0,\n",
    "                    lt=None,\n",
    "                    lte=None,\n",
    "                ),\n",
    "            ),\n",
    "        ],\n",
    "    ),\n",
    ")"
   ]
  },
  {
   "cell_type": "code",
   "execution_count": 18,
   "metadata": {},
   "outputs": [
    {
     "data": {
      "text/plain": [
       "([Record(id=2, payload={'country': {'cities': [{'name': 'Tokyo', 'population': 9.3, 'sightseeing': ['Tokyo Tower', 'Tokyo Skytree']}, {'name': 'Osaka', 'population': 2.7, 'sightseeing': ['Osaka Castle', 'Universal Studios Japan']}], 'name': 'Japan'}}, vector=None, shard_key=None, order_value=None)],\n",
       " None)"
      ]
     },
     "execution_count": 18,
     "metadata": {},
     "output_type": "execute_result"
    }
   ],
   "source": [
    "client.scroll(\n",
    "    collection_name=\"collection0\",\n",
    "    scroll_filter=models.Filter(\n",
    "        should=[\n",
    "            models.FieldCondition(\n",
    "                key=\"country.cities[].sightseeing\",\n",
    "                match=models.MatchValue(value=\"Osaka Castle\"),\n",
    "            ),\n",
    "        ],\n",
    "    ),\n",
    ")"
   ]
  },
  {
   "cell_type": "code",
   "execution_count": null,
   "metadata": {},
   "outputs": [],
   "source": []
  }
 ],
 "metadata": {
  "kernelspec": {
   "display_name": "development",
   "language": "python",
   "name": "python3"
  },
  "language_info": {
   "codemirror_mode": {
    "name": "ipython",
    "version": 3
   },
   "file_extension": ".py",
   "mimetype": "text/x-python",
   "name": "python",
   "nbconvert_exporter": "python",
   "pygments_lexer": "ipython3",
   "version": "3.10.12"
  }
 },
 "nbformat": 4,
 "nbformat_minor": 2
}
