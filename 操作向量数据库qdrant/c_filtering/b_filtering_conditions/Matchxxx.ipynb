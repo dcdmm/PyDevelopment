{
 "cells": [
  {
   "cell_type": "code",
   "execution_count": 6,
   "metadata": {},
   "outputs": [],
   "source": [
    "from qdrant_client import QdrantClient, models"
   ]
  },
  {
   "cell_type": "code",
   "execution_count": 7,
   "metadata": {},
   "outputs": [],
   "source": [
    "client = QdrantClient(url=\"http://localhost:6333\")"
   ]
  },
  {
   "cell_type": "code",
   "execution_count": 8,
   "metadata": {},
   "outputs": [
    {
     "data": {
      "text/plain": [
       "UpdateResult(operation_id=0, status=<UpdateStatus.COMPLETED: 'completed'>)"
      ]
     },
     "execution_count": 8,
     "metadata": {},
     "output_type": "execute_result"
    }
   ],
   "source": [
    "if client.collection_exists(collection_name=\"collection0\"):\n",
    "    client.delete_collection(collection_name=\"collection0\")\n",
    "\n",
    "client.create_collection(\n",
    "    collection_name=\"collection0\",\n",
    "    vectors_config=models.VectorParams(size=3, distance=models.Distance.DOT),\n",
    ")\n",
    "\n",
    "client.upsert(\n",
    "    collection_name=\"collection0\",\n",
    "    points=models.Batch(\n",
    "        ids=[1, 2, 3, 4, 5, 6],\n",
    "        payloads=[\n",
    "            {\"color\": \"red\", \"city\": \"London\",},\n",
    "            {\"color\": \"green\", \"city\": \"Moscow\"},\n",
    "            {\"color\": \"blue\", \"city\": \"Moscow\"},\n",
    "            {\"color\": \"green\", \"city\": \"London\"},\n",
    "            {\"color\": \"red\", \"city\": \"Berlin\"},\n",
    "            {\"color\": \"blue\", \"city\": \"London\"},\n",
    "        ],\n",
    "        vectors=[\n",
    "            [0.1, 0.1, 0.1],\n",
    "            [0.2, 0.2, 0.2],\n",
    "            [0.3, 0.3, 0.3],\n",
    "            [0.4, 0.4, 0.4],\n",
    "            [0.5, 0.5, 0.5],\n",
    "            [0.6, 0.6, 0.6],\n",
    "        ],\n",
    "    ),\n",
    ")"
   ]
  },
  {
   "cell_type": "code",
   "execution_count": 9,
   "metadata": {},
   "outputs": [
    {
     "data": {
      "text/plain": [
       "([Record(id=1, payload={'city': 'London', 'color': 'red'}, vector=None, shard_key=None, order_value=None),\n",
       "  Record(id=5, payload={'city': 'Berlin', 'color': 'red'}, vector=None, shard_key=None, order_value=None)],\n",
       " None)"
      ]
     },
     "execution_count": 9,
     "metadata": {},
     "output_type": "execute_result"
    }
   ],
   "source": [
    "client.scroll(\n",
    "    collection_name=\"collection0\",\n",
    "    scroll_filter=models.Filter(\n",
    "        must=[\n",
    "            models.FieldCondition(\n",
    "                key=\"color\",\n",
    "                # exact match of the given value\n",
    "                match=models.MatchValue(value=\"red\"),  # 用于关键字、整数、布尔值\n",
    "            )\n",
    "        ]\n",
    "    ),\n",
    ")"
   ]
  },
  {
   "cell_type": "code",
   "execution_count": 11,
   "metadata": {},
   "outputs": [
    {
     "data": {
      "text/plain": [
       "([Record(id=1, payload={'city': 'London', 'color': 'red'}, vector=None, shard_key=None, order_value=None),\n",
       "  Record(id=3, payload={'city': 'Moscow', 'color': 'blue'}, vector=None, shard_key=None, order_value=None),\n",
       "  Record(id=5, payload={'city': 'Berlin', 'color': 'red'}, vector=None, shard_key=None, order_value=None),\n",
       "  Record(id=6, payload={'city': 'London', 'color': 'blue'}, vector=None, shard_key=None, order_value=None)],\n",
       " None)"
      ]
     },
     "execution_count": 11,
     "metadata": {},
     "output_type": "execute_result"
    }
   ],
   "source": [
    "client.scroll(\n",
    "    collection_name=\"collection0\",\n",
    "    scroll_filter=models.Filter(\n",
    "        must=[\n",
    "            models.FieldCondition(\n",
    "                key=\"color\",\n",
    "                # In case you want to check if the stored value is one of multiple values, you can use the Match Any condition. \n",
    "                match=models.MatchAny(any=[\"red\", \"blue\"]),  # 用于关键字、整数\n",
    "            )\n",
    "        ]\n",
    "    ),\n",
    ")"
   ]
  },
  {
   "cell_type": "code",
   "execution_count": 13,
   "metadata": {},
   "outputs": [
    {
     "data": {
      "text/plain": [
       "([Record(id=2, payload={'city': 'Moscow', 'color': 'green'}, vector=None, shard_key=None, order_value=None),\n",
       "  Record(id=3, payload={'city': 'Moscow', 'color': 'blue'}, vector=None, shard_key=None, order_value=None),\n",
       "  Record(id=4, payload={'city': 'London', 'color': 'green'}, vector=None, shard_key=None, order_value=None),\n",
       "  Record(id=6, payload={'city': 'London', 'color': 'blue'}, vector=None, shard_key=None, order_value=None)],\n",
       " None)"
      ]
     },
     "execution_count": 13,
     "metadata": {},
     "output_type": "execute_result"
    }
   ],
   "source": [
    "client.scroll(\n",
    "    collection_name=\"collection0\",\n",
    "    scroll_filter=models.Filter(\n",
    "        must=[\n",
    "            models.FieldCondition(\n",
    "                key=\"color\",\n",
    "                # In case you want to check if the stored value is not one of multiple values, you can use the Match Except condition. \n",
    "                match=models.MatchExcept(**{\"except\": [\"red\", \"black\"]}), # 用于关键字、整数\n",
    "            )\n",
    "        ]\n",
    "    ),\n",
    ")"
   ]
  }
 ],
 "metadata": {
  "kernelspec": {
   "display_name": "development",
   "language": "python",
   "name": "python3"
  },
  "language_info": {
   "codemirror_mode": {
    "name": "ipython",
    "version": 3
   },
   "file_extension": ".py",
   "mimetype": "text/x-python",
   "name": "python",
   "nbconvert_exporter": "python",
   "pygments_lexer": "ipython3",
   "version": "3.10.12"
  }
 },
 "nbformat": 4,
 "nbformat_minor": 2
}
