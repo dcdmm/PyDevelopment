{
 "cells": [
  {
   "cell_type": "code",
   "execution_count": 36,
   "metadata": {},
   "outputs": [],
   "source": [
    "from qdrant_client import QdrantClient, models"
   ]
  },
  {
   "cell_type": "code",
   "execution_count": 37,
   "metadata": {},
   "outputs": [],
   "source": [
    "client = QdrantClient(url=\"http://localhost:6333\")"
   ]
  },
  {
   "cell_type": "code",
   "execution_count": 38,
   "metadata": {},
   "outputs": [
    {
     "data": {
      "text/plain": [
       "UpdateResult(operation_id=0, status=<UpdateStatus.COMPLETED: 'completed'>)"
      ]
     },
     "execution_count": 38,
     "metadata": {},
     "output_type": "execute_result"
    }
   ],
   "source": [
    "if client.collection_exists(collection_name=\"collection0\"):\n",
    "    client.delete_collection(collection_name=\"collection0\")\n",
    "\n",
    "client.create_collection(\n",
    "    collection_name=\"collection0\",\n",
    "    vectors_config=models.VectorParams(size=3, distance=models.Distance.DOT),\n",
    ")\n",
    "\n",
    "client.upsert(\n",
    "    collection_name=\"collection0\",\n",
    "    points=models.Batch(\n",
    "        ids=[1, 2],\n",
    "        payloads=[\n",
    "            {\n",
    "                \"dinosaur\": \"t-rex\",\n",
    "                \"diet\": [\n",
    "                    {\"food\": \"leaves\", \"likes\": False},\n",
    "                    {\"food\": \"meat\", \"likes\": True}\n",
    "                ]\n",
    "            },\n",
    "            {\n",
    "                \"dinosaur\": \"diplodocus\",\n",
    "                \"diet\": [\n",
    "                    {\"food\": \"leaves\", \"likes\": True},\n",
    "                    {\"food\": \"meat\", \"likes\": False}\n",
    "                ]\n",
    "            }\n",
    "        ],\n",
    "        vectors=[\n",
    "            [0.1, 0.1, 0.1],\n",
    "            [0.2, 0.2, 0.2],\n",
    "        ],\n",
    "    ),\n",
    ")"
   ]
  },
  {
   "cell_type": "code",
   "execution_count": 39,
   "metadata": {},
   "outputs": [
    {
     "data": {
      "text/plain": [
       "([Record(id=1, payload={'diet': [{'food': 'leaves', 'likes': False}, {'food': 'meat', 'likes': True}], 'dinosaur': 't-rex'}, vector=None, shard_key=None, order_value=None),\n",
       "  Record(id=2, payload={'diet': [{'food': 'leaves', 'likes': True}, {'food': 'meat', 'likes': False}], 'dinosaur': 'diplodocus'}, vector=None, shard_key=None, order_value=None)],\n",
       " None)"
      ]
     },
     "execution_count": 39,
     "metadata": {},
     "output_type": "execute_result"
    }
   ],
   "source": [
    "\"\"\"\n",
    "目标:查询food = \"meat\" and likes = True的point\n",
    "\n",
    "分析:\n",
    "id=1满足条件\n",
    "    * diet[1]['food'] = 'meat' and diet[1]['likes'] = True\n",
    "id=2满足条件(与实际目标不符;多个值时,MatchValue只要有一个条件满足就匹配)\n",
    "    * diet[1]['food'] = 'meat' and diet[0]['likes'] = True\n",
    "\"\"\"\n",
    "client.scroll(\n",
    "    collection_name=\"collection0\",\n",
    "    scroll_filter=models.Filter(\n",
    "        must=[\n",
    "            models.FieldCondition(\n",
    "                key=\"diet[].food\", match=models.MatchValue(value=\"meat\")\n",
    "            ),\n",
    "            models.FieldCondition(\n",
    "                key=\"diet[].likes\", match=models.MatchValue(value=True)\n",
    "            ),\n",
    "        ],\n",
    "    ),\n",
    ")"
   ]
  },
  {
   "cell_type": "code",
   "execution_count": 40,
   "metadata": {},
   "outputs": [
    {
     "data": {
      "text/plain": [
       "([Record(id=1, payload={'diet': [{'food': 'leaves', 'likes': False}, {'food': 'meat', 'likes': True}], 'dinosaur': 't-rex'}, vector=None, shard_key=None, order_value=None),\n",
       "  Record(id=2, payload={'diet': [{'food': 'leaves', 'likes': True}, {'food': 'meat', 'likes': False}], 'dinosaur': 'diplodocus'}, vector=None, shard_key=None, order_value=None)],\n",
       " None)"
      ]
     },
     "execution_count": 40,
     "metadata": {},
     "output_type": "execute_result"
    }
   ],
   "source": [
    "\"\"\"\n",
    "目标:查询food = \"meat\" and likes = True的point\n",
    "\n",
    "分析:\n",
    "id=1满足条件\n",
    "    * diet[1]['food'] = 'meat' and diet[1]['likes'] = True\n",
    "id=2不满足条件(与实际相符)\n",
    "    * diet[0]['leaves'] = 'meat'不满足,diet[1]['likes'] = False不满足\n",
    "\"\"\"\n",
    "client.scroll(\n",
    "    collection_name=\"collection0\",\n",
    "    scroll_filter=models.Filter(\n",
    "        must=[\n",
    "            # Nested filters work in the same way as if the nested filter was applied to a single element of the array at a time. Parent document is considered to match the condition if at least one element of the array matches the nested filter.\n",
    "            models.NestedCondition(\n",
    "                nested=models.Nested(\n",
    "                    key=\"diet\",\n",
    "                    filter=models.Filter(\n",
    "                        must=[\n",
    "                            models.FieldCondition(\n",
    "                                key=\"food\", match=models.MatchValue(value=\"meat\")\n",
    "                            ),\n",
    "                            models.FieldCondition(\n",
    "                                key=\"likes\", match=models.MatchValue(value=True)\n",
    "                            ),\n",
    "                        ]\n",
    "                    ),\n",
    "                )\n",
    "            )\n",
    "        ],\n",
    "    ),\n",
    ")"
   ]
  }
 ],
 "metadata": {
  "kernelspec": {
   "display_name": "development",
   "language": "python",
   "name": "python3"
  },
  "language_info": {
   "codemirror_mode": {
    "name": "ipython",
    "version": 3
   },
   "file_extension": ".py",
   "mimetype": "text/x-python",
   "name": "python",
   "nbconvert_exporter": "python",
   "pygments_lexer": "ipython3",
   "version": "3.10.12"
  }
 },
 "nbformat": 4,
 "nbformat_minor": 2
}
