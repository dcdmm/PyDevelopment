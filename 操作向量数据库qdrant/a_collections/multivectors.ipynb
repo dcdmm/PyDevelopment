{
 "cells": [
  {
   "cell_type": "code",
   "execution_count": 19,
   "metadata": {},
   "outputs": [],
   "source": [
    "from qdrant_client import QdrantClient, models"
   ]
  },
  {
   "cell_type": "code",
   "execution_count": 20,
   "metadata": {},
   "outputs": [],
   "source": [
    "client = QdrantClient(url=\"http://localhost:6333\")"
   ]
  },
  {
   "cell_type": "markdown",
   "metadata": {},
   "source": [
    "Qdrant supports the storing of a variable amount of same-shaped dense vectors in a single point. That means that instead of a single dense vector, you can upload a matrix of dense vectors.\n",
    "\n",
    "In order to use multivectors, we need to specify a function that will be used to compare between matrices of vectors\n",
    "\n",
    "Currently, Qdrant supports max_sim function, which is defined as a sum of maximum similarities between each pair of vectors in the matrices.\n",
    "\n",
    "$$\n",
    "\\text { score }=\\sum_{i=1}^N \\max _{j=1}^M \\operatorname{Sim}\\left(\\text { vector } \\mathrm{A}_i, \\text { vectorB }_j\\right)\n",
    "$$\n",
    "\n",
    "Where $ N $ is the number of vectors in the first matrix, $ M $ is the number of vectors in the second matrix, and \n",
    " $\\operatorname{Sim}$ is a similarity functionc."
   ]
  },
  {
   "cell_type": "code",
   "execution_count": 21,
   "metadata": {},
   "outputs": [
    {
     "data": {
      "text/plain": [
       "True"
      ]
     },
     "execution_count": 21,
     "metadata": {},
     "output_type": "execute_result"
    }
   ],
   "source": [
    "if client.collection_exists(collection_name=\"collection0\"):\n",
    "    client.delete_collection(collection_name=\"collection0\")\n",
    "\n",
    "client.create_collection(\n",
    "    collection_name=\"collection0\",\n",
    "    vectors_config=models.VectorParams(\n",
    "        size=3,\n",
    "        distance=models.Distance.COSINE,\n",
    "        multivector_config=models.MultiVectorConfig(\n",
    "            comparator=models.MultiVectorComparator.MAX_SIM\n",
    "        ),\n",
    "    ),\n",
    ")"
   ]
  },
  {
   "cell_type": "code",
   "execution_count": 22,
   "metadata": {},
   "outputs": [
    {
     "data": {
      "text/plain": [
       "{'size': 3,\n",
       " 'distance': <Distance.COSINE: 'Cosine'>,\n",
       " 'hnsw_config': None,\n",
       " 'quantization_config': None,\n",
       " 'on_disk': None,\n",
       " 'datatype': None,\n",
       " 'multivector_config': MultiVectorConfig(comparator=<MultiVectorComparator.MAX_SIM: 'max_sim'>)}"
      ]
     },
     "execution_count": 22,
     "metadata": {},
     "output_type": "execute_result"
    }
   ],
   "source": [
    "dict(client.get_collection(\"collection0\").config.params.vectors)"
   ]
  }
 ],
 "metadata": {
  "kernelspec": {
   "display_name": "development",
   "language": "python",
   "name": "python3"
  },
  "language_info": {
   "codemirror_mode": {
    "name": "ipython",
    "version": 3
   },
   "file_extension": ".py",
   "mimetype": "text/x-python",
   "name": "python",
   "nbconvert_exporter": "python",
   "pygments_lexer": "ipython3",
   "version": "3.10.12"
  }
 },
 "nbformat": 4,
 "nbformat_minor": 2
}
