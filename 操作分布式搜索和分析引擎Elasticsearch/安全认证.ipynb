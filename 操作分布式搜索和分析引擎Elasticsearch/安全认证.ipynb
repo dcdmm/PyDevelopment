{
 "cells": [
  {
   "cell_type": "markdown",
   "metadata": {
    "collapsed": true,
    "pycharm": {
     "name": "#%% md\n"
    }
   },
   "source": [
    "[root@1428f0fc63ce elasticsearch]# pwd\n",
    "\n",
    "/usr/share/elasticsearch\n",
    "\n",
    "[root@1428f0fc63ce elasticsearch]# vi config/elasticsearch.yml\n",
    "\n",
    "<img src=\"img/es01.jpg\">\n",
    "\n",
    "*** \n",
    "\n",
    "重启elasticsearch容器\n",
    "\n",
    "*** \n",
    "\n",
    "设置密码:\n",
    "\n",
    "<img src=\"img/es02.jpg\">\n",
    "\n",
    "***\n",
    "\n",
    "重启容器"
   ]
  },
  {
   "cell_type": "markdown",
   "metadata": {},
   "source": [
    "bash-4.4$ pwd\n",
    "\n",
    "/usr/share/kibana/config\n",
    "\n",
    "bash-4.4$ ls    \n",
    "\n",
    "kibana.yml  node.options\n",
    "\n",
    "bash-4.4$ vi kibana.yml \n",
    "\n",
    "<img src=\"img/es03.jpg\">\n",
    "\n",
    "*** \n",
    "\n",
    "重启kibana容器\n",
    "\n",
    "***\n",
    "\n",
    "登录\n",
    "\n",
    "<img src=\"img/es04.jpg\">"
   ]
  },
  {
   "cell_type": "code",
   "execution_count": 1,
   "metadata": {
    "collapsed": false,
    "pycharm": {
     "name": "#%%\n"
    }
   },
   "outputs": [],
   "source": [
    "from elasticsearch import Elasticsearch"
   ]
  },
  {
   "cell_type": "code",
   "execution_count": 4,
   "metadata": {},
   "outputs": [],
   "source": [
    "es = Elasticsearch([{'host': 'localhost', 'port': 9200}],\n",
    "                   # 账号(默认为:elastic)与密码\n",
    "                   http_auth=('elastic', 'qwer123456'))\n"
   ]
  },
  {
   "cell_type": "code",
   "execution_count": 5,
   "metadata": {},
   "outputs": [
    {
     "data": {
      "text/plain": [
       "{'acknowledged': True, 'shards_acknowledged': True, 'index': 'es0'}"
      ]
     },
     "execution_count": 5,
     "metadata": {},
     "output_type": "execute_result"
    }
   ],
   "source": [
    "es.indices.create('es0')"
   ]
  },
  {
   "cell_type": "code",
   "execution_count": 6,
   "metadata": {},
   "outputs": [
    {
     "data": {
      "text/plain": [
       "{'acknowledged': True}"
      ]
     },
     "execution_count": 6,
     "metadata": {},
     "output_type": "execute_result"
    }
   ],
   "source": [
    "es.indices.delete('es0')"
   ]
  }
 ],
 "metadata": {
  "kernelspec": {
   "display_name": "Python 3.8.12 ('pytorch_env')",
   "language": "python",
   "name": "python3"
  },
  "language_info": {
   "codemirror_mode": {
    "name": "ipython",
    "version": 3
   },
   "file_extension": ".py",
   "mimetype": "text/x-python",
   "name": "python",
   "nbconvert_exporter": "python",
   "pygments_lexer": "ipython3",
   "version": "3.10.12"
  },
  "vscode": {
   "interpreter": {
    "hash": "0886a02735466d80c36da7d0d184a8055779d3e497a063b4720b0317b8699033"
   }
  }
 },
 "nbformat": 4,
 "nbformat_minor": 0
}
