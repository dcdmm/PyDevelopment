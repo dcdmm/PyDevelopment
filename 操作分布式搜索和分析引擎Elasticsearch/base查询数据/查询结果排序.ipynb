{
 "cells": [
  {
   "cell_type": "code",
   "execution_count": 5,
   "id": "f6ccbee2",
   "metadata": {},
   "outputs": [],
   "source": [
    "from elasticsearch import Elasticsearch"
   ]
  },
  {
   "cell_type": "code",
   "execution_count": 6,
   "id": "abb84ba1",
   "metadata": {},
   "outputs": [
    {
     "data": {
      "text/plain": [
       "{'acknowledged': True, 'shards_acknowledged': True, 'index': 'es0'}"
      ]
     },
     "execution_count": 6,
     "metadata": {},
     "output_type": "execute_result"
    }
   ],
   "source": [
    "es = Elasticsearch([{'host': 'localhost', 'port': 9200}])\n",
    "if es.indices.exists('es0'):\n",
    "    es.indices.delete('es0')\n",
    "es.indices.create('es0', body={\n",
    "    \"mappings\": {\n",
    "        \"properties\": {\n",
    "            \"name\": {\n",
    "                \"type\": \"keyword\"\n",
    "            },\n",
    "            \"age\": {\n",
    "                \"type\": \"integer\"\n",
    "                },\n",
    "            \"price\": {\n",
    "                \"type\": \"float\"\n",
    "            }\n",
    "        }\n",
    "    }\n",
    "})"
   ]
  },
  {
   "cell_type": "code",
   "execution_count": 7,
   "id": "4e084462",
   "metadata": {},
   "outputs": [
    {
     "data": {
      "text/plain": [
       "{'_index': 'es0',\n",
       " '_type': '_doc',\n",
       " '_id': '7',\n",
       " '_version': 1,\n",
       " 'result': 'created',\n",
       " '_shards': {'total': 2, 'successful': 1, 'failed': 0},\n",
       " '_seq_no': 7,\n",
       " '_primary_term': 1}"
      ]
     },
     "execution_count": 7,
     "metadata": {},
     "output_type": "execute_result"
    }
   ],
   "source": [
    "es.index(index='es0', id=0, body={\"name\": \"tom\", \"age\": 34, \"price\": [2, 8]})\n",
    "es.index(index='es0', id=1, body={\"name\": \"jack\", \"age\": 24, \"price\": [1, 9]})\n",
    "es.index(index='es0', id=2, body={\"name\": \"alias\", \"age\": 54, \"price\": 3})\n",
    "es.index(index='es0', id=3, body={\"name\": \"xiaohong\", \"age\": 32, \"price\": 4})\n",
    "es.index(index='es0', id=4, body={\"name\": \"xiaobai\", \"age\": 30, \"price\": 5})\n",
    "es.index(index='es0', id=5, body={\"name\": \"xiaohei\", \"age\": 14, \"price\": [3, 4]})\n",
    "es.index(index='es0', id=6, body={\"name\": \"xiaohei\", \"age\": 24, \"price\": [2, 6]})\n",
    "es.index(index='es0', id=7, body={\"name\": \"xiaohei\", \"age\": 34, \"price\": 3})"
   ]
  },
  {
   "cell_type": "code",
   "execution_count": null,
   "id": "975793ca",
   "metadata": {},
   "outputs": [
    {
     "data": {
      "text/plain": [
       "{'took': 1,\n",
       " 'timed_out': False,\n",
       " '_shards': {'total': 1, 'successful': 1, 'skipped': 0, 'failed': 0},\n",
       " 'hits': {'total': {'value': 8, 'relation': 'eq'},\n",
       "  'max_score': None,\n",
       "  'hits': [{'_index': 'es0',\n",
       "    '_type': '_doc',\n",
       "    '_id': '2',\n",
       "    '_score': None,\n",
       "    '_source': {'name': 'alias', 'age': 54, 'price': 3},\n",
       "    'sort': [54, 3.0]},\n",
       "   {'_index': 'es0',\n",
       "    '_type': '_doc',\n",
       "    '_id': '7',\n",
       "    '_score': None,\n",
       "    '_source': {'name': 'xiaohei', 'age': 34, 'price': 3},\n",
       "    'sort': [34, 3.0]},\n",
       "   {'_index': 'es0',\n",
       "    '_type': '_doc',\n",
       "    '_id': '0',\n",
       "    '_score': None,\n",
       "    '_source': {'name': 'tom', 'age': 34, 'price': [2, 8]},\n",
       "    'sort': [34, 5.0]},\n",
       "   {'_index': 'es0',\n",
       "    '_type': '_doc',\n",
       "    '_id': '3',\n",
       "    '_score': None,\n",
       "    '_source': {'name': 'xiaohong', 'age': 32, 'price': 4},\n",
       "    'sort': [32, 4.0]},\n",
       "   {'_index': 'es0',\n",
       "    '_type': '_doc',\n",
       "    '_id': '4',\n",
       "    '_score': None,\n",
       "    '_source': {'name': 'xiaobai', 'age': 30, 'price': 5},\n",
       "    'sort': [30, 5.0]},\n",
       "   {'_index': 'es0',\n",
       "    '_type': '_doc',\n",
       "    '_id': '6',\n",
       "    '_score': None,\n",
       "    '_source': {'name': 'xiaohei', 'age': 24, 'price': [2, 6]},\n",
       "    'sort': [24, 4.0]},\n",
       "   {'_index': 'es0',\n",
       "    '_type': '_doc',\n",
       "    '_id': '1',\n",
       "    '_score': None,\n",
       "    '_source': {'name': 'jack', 'age': 24, 'price': [1, 9]},\n",
       "    'sort': [24, 5.0]},\n",
       "   {'_index': 'es0',\n",
       "    '_type': '_doc',\n",
       "    '_id': '5',\n",
       "    '_score': None,\n",
       "    '_source': {'name': 'xiaohei', 'age': 14, 'price': [3, 4]},\n",
       "    'sort': [14, 3.5]}]}}"
      ]
     },
     "execution_count": 10,
     "metadata": {},
     "output_type": "execute_result"
    }
   ],
   "source": [
    "query = {\n",
    "    \"query\": {\n",
    "        \"match_all\": {}\n",
    "    },\n",
    "    \"sort\": [\n",
    "        # 首先使用字段`age`排序\n",
    "        {\"age\": \"desc\"}, \n",
    "        # 如果`age`值相同时,则使用字段`price`进行排序\n",
    "        {\"price\" : {\"order\" : \"asc\", \"mode\" : \"avg\"}}\n",
    "        # 以此类推\n",
    "        # ...\n",
    "    ],\n",
    "    \"size\": 50\n",
    "}\n",
    "# asc:升序\n",
    "# desc:降序 \n",
    "\n",
    "# 字段类型为数组时: \n",
    "# model: \"min\": 选择最小值进行排序\n",
    "# model: \"max\": 选择最大值进行排序\n",
    "# model: \"sum\": 选择总和进行排序(仅限数字类型字段)\n",
    "# model: \"avg\": 选择平均值进行排序(仅限数字类型字段)\n",
    "# model: \"median\": 选择中位数进行排序(仅限数字类型字段)\n",
    "es.search(index=\"es0\", body=query)  # avg(3) < avg([2, 8]) = 5"
   ]
  },
  {
   "cell_type": "code",
   "execution_count": null,
   "id": "337edc09",
   "metadata": {},
   "outputs": [
    {
     "data": {
      "text/plain": [
       "{'took': 2,\n",
       " 'timed_out': False,\n",
       " '_shards': {'total': 1, 'successful': 1, 'skipped': 0, 'failed': 0},\n",
       " 'hits': {'total': {'value': 8, 'relation': 'eq'},\n",
       "  'max_score': None,\n",
       "  'hits': [{'_index': 'es0',\n",
       "    '_type': '_doc',\n",
       "    '_id': '2',\n",
       "    '_score': None,\n",
       "    '_source': {'name': 'alias', 'age': 54, 'price': 3},\n",
       "    'sort': [54, 3.0]},\n",
       "   {'_index': 'es0',\n",
       "    '_type': '_doc',\n",
       "    '_id': '0',\n",
       "    '_score': None,\n",
       "    '_source': {'name': 'tom', 'age': 34, 'price': [2, 8]},\n",
       "    'sort': [34, 2.0]},\n",
       "   {'_index': 'es0',\n",
       "    '_type': '_doc',\n",
       "    '_id': '7',\n",
       "    '_score': None,\n",
       "    '_source': {'name': 'xiaohei', 'age': 34, 'price': 3},\n",
       "    'sort': [34, 3.0]},\n",
       "   {'_index': 'es0',\n",
       "    '_type': '_doc',\n",
       "    '_id': '3',\n",
       "    '_score': None,\n",
       "    '_source': {'name': 'xiaohong', 'age': 32, 'price': 4},\n",
       "    'sort': [32, 4.0]},\n",
       "   {'_index': 'es0',\n",
       "    '_type': '_doc',\n",
       "    '_id': '4',\n",
       "    '_score': None,\n",
       "    '_source': {'name': 'xiaobai', 'age': 30, 'price': 5},\n",
       "    'sort': [30, 5.0]},\n",
       "   {'_index': 'es0',\n",
       "    '_type': '_doc',\n",
       "    '_id': '1',\n",
       "    '_score': None,\n",
       "    '_source': {'name': 'jack', 'age': 24, 'price': [1, 9]},\n",
       "    'sort': [24, 1.0]},\n",
       "   {'_index': 'es0',\n",
       "    '_type': '_doc',\n",
       "    '_id': '6',\n",
       "    '_score': None,\n",
       "    '_source': {'name': 'xiaohei', 'age': 24, 'price': [2, 6]},\n",
       "    'sort': [24, 2.0]},\n",
       "   {'_index': 'es0',\n",
       "    '_type': '_doc',\n",
       "    '_id': '5',\n",
       "    '_score': None,\n",
       "    '_source': {'name': 'xiaohei', 'age': 14, 'price': [3, 4]},\n",
       "    'sort': [14, 3.0]}]}}"
      ]
     },
     "execution_count": 9,
     "metadata": {},
     "output_type": "execute_result"
    }
   ],
   "source": [
    "query = {\n",
    "    \"query\": {\n",
    "        \"match_all\": {}\n",
    "    },\n",
    "    \"sort\": [\n",
    "        {\"age\": \"desc\"}, \n",
    "        {\"price\" : {\"order\" : \"asc\", \"mode\" : \"min\"}}\n",
    "    ],\n",
    "    \"size\": 50\n",
    "}\n",
    "es.search(index=\"es0\", body=query)  # min([2, 8]) < min(3)"
   ]
  },
  {
   "cell_type": "code",
   "execution_count": null,
   "id": "c9474782",
   "metadata": {},
   "outputs": [
    {
     "data": {
      "text/plain": [
       "{'took': 2,\n",
       " 'timed_out': False,\n",
       " '_shards': {'total': 1, 'successful': 1, 'skipped': 0, 'failed': 0},\n",
       " 'hits': {'total': {'value': 8, 'relation': 'eq'},\n",
       "  'max_score': None,\n",
       "  'hits': [{'_index': 'es0',\n",
       "    '_type': '_doc',\n",
       "    '_id': '2',\n",
       "    '_score': None,\n",
       "    '_source': {'name': 'alias', 'age': 54, 'price': 3},\n",
       "    'sort': [54, 3.0]},\n",
       "   {'_index': 'es0',\n",
       "    '_type': '_doc',\n",
       "    '_id': '7',\n",
       "    '_score': None,\n",
       "    '_source': {'name': 'xiaohei', 'age': 34, 'price': 3},\n",
       "    'sort': [34, 3.0]},\n",
       "   {'_index': 'es0',\n",
       "    '_type': '_doc',\n",
       "    '_id': '0',\n",
       "    '_score': None,\n",
       "    '_source': {'name': 'tom', 'age': 34, 'price': [2, 8]},\n",
       "    'sort': [34, 10.0]},\n",
       "   {'_index': 'es0',\n",
       "    '_type': '_doc',\n",
       "    '_id': '3',\n",
       "    '_score': None,\n",
       "    '_source': {'name': 'xiaohong', 'age': 32, 'price': 4},\n",
       "    'sort': [32, 4.0]},\n",
       "   {'_index': 'es0',\n",
       "    '_type': '_doc',\n",
       "    '_id': '4',\n",
       "    '_score': None,\n",
       "    '_source': {'name': 'xiaobai', 'age': 30, 'price': 5},\n",
       "    'sort': [30, 5.0]},\n",
       "   {'_index': 'es0',\n",
       "    '_type': '_doc',\n",
       "    '_id': '6',\n",
       "    '_score': None,\n",
       "    '_source': {'name': 'xiaohei', 'age': 24, 'price': [2, 6]},\n",
       "    'sort': [24, 8.0]},\n",
       "   {'_index': 'es0',\n",
       "    '_type': '_doc',\n",
       "    '_id': '1',\n",
       "    '_score': None,\n",
       "    '_source': {'name': 'jack', 'age': 24, 'price': [1, 9]},\n",
       "    'sort': [24, 10.0]},\n",
       "   {'_index': 'es0',\n",
       "    '_type': '_doc',\n",
       "    '_id': '5',\n",
       "    '_score': None,\n",
       "    '_source': {'name': 'xiaohei', 'age': 14, 'price': [3, 4]},\n",
       "    'sort': [14, 7.0]}]}}"
      ]
     },
     "execution_count": 11,
     "metadata": {},
     "output_type": "execute_result"
    }
   ],
   "source": [
    "query = {\n",
    "    \"query\": {\n",
    "        \"match_all\": {}\n",
    "    },\n",
    "    \"sort\": [\n",
    "        {\"age\": \"desc\"}, \n",
    "        {\"price\" : {\"order\" : \"asc\", \"mode\" : \"sum\"}}\n",
    "    ],\n",
    "    \"size\": 50\n",
    "}\n",
    "es.search(index=\"es0\", body=query)  # sum([2, 6]) < sum([1, 9])"
   ]
  }
 ],
 "metadata": {
  "kernelspec": {
   "display_name": "development",
   "language": "python",
   "name": "python3"
  },
  "language_info": {
   "codemirror_mode": {
    "name": "ipython",
    "version": 3
   },
   "file_extension": ".py",
   "mimetype": "text/x-python",
   "name": "python",
   "nbconvert_exporter": "python",
   "pygments_lexer": "ipython3",
   "version": "3.10.12"
  }
 },
 "nbformat": 4,
 "nbformat_minor": 5
}
