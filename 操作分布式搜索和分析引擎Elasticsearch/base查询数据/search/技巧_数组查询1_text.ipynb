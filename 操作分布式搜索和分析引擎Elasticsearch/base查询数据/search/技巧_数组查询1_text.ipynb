{
 "cells": [
  {
   "cell_type": "code",
   "execution_count": 14,
   "metadata": {
    "collapsed": true
   },
   "outputs": [],
   "source": [
    "from elasticsearch import Elasticsearch"
   ]
  },
  {
   "cell_type": "code",
   "execution_count": 15,
   "outputs": [
    {
     "data": {
      "text/plain": "{'acknowledged': True, 'shards_acknowledged': True, 'index': 'es0'}"
     },
     "execution_count": 15,
     "metadata": {},
     "output_type": "execute_result"
    }
   ],
   "source": [
    "es = Elasticsearch([{'host': 'localhost', 'port': 9200}])\n",
    "if es.indices.exists('es0'):\n",
    "    es.indices.delete('es0')\n",
    "es.indices.create('es0', body={\n",
    "    \"mappings\": {\n",
    "        \"properties\": {\n",
    "            \"name\": {\n",
    "                \"type\": \"text\",\n",
    "                \"analyzer\": \"ik_max_word\",\n",
    "            }\n",
    "        }\n",
    "    }\n",
    "})"
   ],
   "metadata": {
    "collapsed": false,
    "pycharm": {
     "name": "#%%\n"
    }
   }
  },
  {
   "cell_type": "code",
   "execution_count": 16,
   "outputs": [
    {
     "data": {
      "text/plain": "{'_index': 'es0',\n '_type': '_doc',\n '_id': '5',\n '_version': 1,\n 'result': 'created',\n '_shards': {'total': 2, 'successful': 1, 'failed': 0},\n '_seq_no': 5,\n '_primary_term': 1}"
     },
     "execution_count": 16,
     "metadata": {},
     "output_type": "execute_result"
    }
   ],
   "source": [
    "es.index(index='es0', id=0, body={\"name\": [\"Java初级入门\", \"c++初级入门\", \"python初级入门\", \"rust初级入门\"]})\n",
    "es.index(index='es0', id=1, body={\"name\": [\"Java高手之路\", \"c++高手之路\", \"python高手之路\", \"rust高手之路\"]})\n",
    "es.index(index='es0', id=2, body={\"name\": [\"Java web开发\", \"达\", \"Java多线程开发\", \"财\", \"Java spring开发\"]})\n",
    "es.index(index='es0', id=3, body={\"name\": [\"c++游戏开发\", \"大神教你学c++\", \"游戏引擎开发:c++\"]})\n",
    "es.index(index='es0', id=4, body={\"name\": [\"python前端开发\", \"python后端开发\", \"自然语言处理:python\"]})\n",
    "es.index(index='es0', id=5, body={\"name\": [\"rust前端开发\", \"rust机器学习\", \"嵌入式:rust\"]})"
   ],
   "metadata": {
    "collapsed": false,
    "pycharm": {
     "name": "#%%\n"
    }
   }
  },
  {
   "cell_type": "code",
   "execution_count": 17,
   "outputs": [
    {
     "data": {
      "text/plain": "{'took': 0,\n 'timed_out': False,\n '_shards': {'total': 1, 'successful': 1, 'skipped': 0, 'failed': 0},\n 'hits': {'total': {'value': 3, 'relation': 'eq'},\n  'max_score': 1.0955763,\n  'hits': [{'_index': 'es0',\n    '_type': '_doc',\n    '_id': '2',\n    '_score': 1.0955763,\n    '_source': {'name': ['Java web开发',\n      '达',\n      'Java多线程开发',\n      '财',\n      'Java spring开发']}},\n   {'_index': 'es0',\n    '_type': '_doc',\n    '_id': '0',\n    '_score': 0.67815113,\n    '_source': {'name': ['Java初级入门', 'c++初级入门', 'python初级入门', 'rust初级入门']}},\n   {'_index': 'es0',\n    '_type': '_doc',\n    '_id': '1',\n    '_score': 0.67815113,\n    '_source': {'name': ['Java高手之路', 'c++高手之路', 'python高手之路', 'rust高手之路']}}]}}"
     },
     "execution_count": 17,
     "metadata": {},
     "output_type": "execute_result"
    }
   ],
   "source": [
    "es.search(index='es0', body={\n",
    "    \"query\": {\n",
    "        \"match\": {\n",
    "            # name字段类型为:text(分词)\n",
    "            # [\"Java web开发\", \"达\", \"Java多线程开发\", \"财\", \"Java spring开发\"]分词为:['java', 'web', '开发', \"达\", 'java', '多线程', '线程', '开发', \"财\", 'java', 'spring', '开发']\n",
    "            # 注意,不会跨元素分词,即Java web开发\", \"达\"不会分词为:[\"Java\", \"web\", \"开发\", \"发达\"]\n",
    "            \"name\": \"Java\"\n",
    "        }\n",
    "    }\n",
    "})"
   ],
   "metadata": {
    "collapsed": false,
    "pycharm": {
     "name": "#%%\n"
    }
   }
  },
  {
   "cell_type": "code",
   "execution_count": 18,
   "outputs": [
    {
     "data": {
      "text/plain": "{'_index': 'es0',\n '_type': '_doc',\n '_id': '2',\n '_version': 1,\n 'found': True,\n 'took': 0,\n 'term_vectors': {'name': {'field_statistics': {'sum_doc_freq': 47,\n    'doc_count': 6,\n    'sum_ttf': 74},\n   'terms': {'java': {'term_freq': 3,\n     'tokens': [{'position': 0, 'start_offset': 0, 'end_offset': 4},\n      {'position': 204, 'start_offset': 13, 'end_offset': 17},\n      {'position': 409, 'start_offset': 25, 'end_offset': 29}]},\n    'spring': {'term_freq': 1,\n     'tokens': [{'position': 410, 'start_offset': 30, 'end_offset': 36}]},\n    'web': {'term_freq': 1,\n     'tokens': [{'position': 1, 'start_offset': 5, 'end_offset': 8}]},\n    '多线程': {'term_freq': 1,\n     'tokens': [{'position': 205, 'start_offset': 17, 'end_offset': 20}]},\n    '开发': {'term_freq': 3,\n     'tokens': [{'position': 2, 'start_offset': 8, 'end_offset': 10},\n      {'position': 207, 'start_offset': 20, 'end_offset': 22},\n      {'position': 411, 'start_offset': 36, 'end_offset': 38}]},\n    '线程': {'term_freq': 1,\n     'tokens': [{'position': 206, 'start_offset': 18, 'end_offset': 20}]},\n    '财': {'term_freq': 1,\n     'tokens': [{'position': 308, 'start_offset': 23, 'end_offset': 24}]},\n    '达': {'term_freq': 1,\n     'tokens': [{'position': 103, 'start_offset': 11, 'end_offset': 12}]}}}}}"
     },
     "execution_count": 18,
     "metadata": {},
     "output_type": "execute_result"
    }
   ],
   "source": [
    "es.termvectors(index='es0', id=2, body= {\"fields\": [\"name\"]})"
   ],
   "metadata": {
    "collapsed": false,
    "pycharm": {
     "name": "#%%\n"
    }
   }
  },
  {
   "cell_type": "code",
   "execution_count": 19,
   "outputs": [
    {
     "data": {
      "text/plain": "{'took': 0,\n 'timed_out': False,\n '_shards': {'total': 1, 'successful': 1, 'skipped': 0, 'failed': 0},\n 'hits': {'total': {'value': 4, 'relation': 'eq'},\n  'max_score': 0.6983531,\n  'hits': [{'_index': 'es0',\n    '_type': '_doc',\n    '_id': '2',\n    '_score': 0.6983531,\n    '_source': {'name': ['Java web开发',\n      '达',\n      'Java多线程开发',\n      '财',\n      'Java spring开发']}},\n   {'_index': 'es0',\n    '_type': '_doc',\n    '_id': '4',\n    '_score': 0.6265712,\n    '_source': {'name': ['python前端开发', 'python后端开发', '自然语言处理:python']}},\n   {'_index': 'es0',\n    '_type': '_doc',\n    '_id': '3',\n    '_score': 0.57269406,\n    '_source': {'name': ['c++游戏开发', '大神教你学c++', '游戏引擎开发:c++']}},\n   {'_index': 'es0',\n    '_type': '_doc',\n    '_id': '5',\n    '_score': 0.4788973,\n    '_source': {'name': ['rust前端开发', 'rust机器学习', '嵌入式:rust']}}]}}"
     },
     "execution_count": 19,
     "metadata": {},
     "output_type": "execute_result"
    }
   ],
   "source": [
    "es.search(index='es0', body={\n",
    "    \"query\": {\n",
    "        \"term\": {\n",
    "            \"name\": {\n",
    "                \"value\": \"开发\"  # term查询内容不进行分词\n",
    "            }\n",
    "        }\n",
    "    }\n",
    "})"
   ],
   "metadata": {
    "collapsed": false,
    "pycharm": {
     "name": "#%%\n"
    }
   }
  },
  {
   "cell_type": "code",
   "execution_count": 12,
   "outputs": [],
   "source": [],
   "metadata": {
    "collapsed": false,
    "pycharm": {
     "name": "#%%\n"
    }
   }
  }
 ],
 "metadata": {
  "kernelspec": {
   "display_name": "Python 3",
   "language": "python",
   "name": "python3"
  },
  "language_info": {
   "codemirror_mode": {
    "name": "ipython",
    "version": 2
   },
   "file_extension": ".py",
   "mimetype": "text/x-python",
   "name": "python",
   "nbconvert_exporter": "python",
   "pygments_lexer": "ipython2",
   "version": "2.7.6"
  }
 },
 "nbformat": 4,
 "nbformat_minor": 0
}