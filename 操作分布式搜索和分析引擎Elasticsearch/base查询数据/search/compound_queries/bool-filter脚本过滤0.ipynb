{
 "cells": [
  {
   "cell_type": "code",
   "execution_count": 9,
   "metadata": {
    "collapsed": true
   },
   "outputs": [],
   "source": [
    "from elasticsearch import Elasticsearch\n",
    "\n",
    "# 数据来源:data/example_book_data.jsonl\n",
    "es = Elasticsearch([{'host': 'localhost', 'port': 9200}])"
   ]
  },
  {
   "cell_type": "markdown",
   "source": [
    "A query that matches documents matching boolean combinations of other queries. The bool query maps to Lucene BooleanQuery. It is built using one or more boolean clauses, each clause with a typed occurrence. The occurrence types are:\n",
    "\n",
    "| Occur      | Description                                                  |\n",
    "| ---------- | ------------------------------------------------------------ |\n",
    "| `must`     | The clause (query) must appear in matching documents and will contribute to the score. |\n",
    "| `filter`   | The clause (query) must appear in matching documents. However unlike `must` the score of the query will be ignored. Filter clauses are executed in [filter context](https://www.elastic.co/guide/en/elasticsearch/reference/7.11/query-filter-context.html), meaning that scoring is ignored and clauses are considered for caching. |\n",
    "| `should`   | The clause (query) should appear in the matching document.   |\n",
    "| `must_not` | The clause (query) must not appear in the matching documents. Clauses are executed in [filter context](https://www.elastic.co/guide/en/elasticsearch/reference/7.11/query-filter-context.html) meaning that scoring is ignored and clauses are considered for caching. Because scoring is ignored, a score of `0` for all documents is returned. |"
   ],
   "metadata": {
    "collapsed": false,
    "pycharm": {
     "name": "#%% md\n"
    }
   }
  },
  {
   "cell_type": "code",
   "execution_count": 10,
   "outputs": [
    {
     "data": {
      "text/plain": "{'took': 5,\n 'timed_out': False,\n '_shards': {'total': 1, 'successful': 1, 'skipped': 0, 'failed': 0},\n 'hits': {'total': {'value': 16, 'relation': 'eq'},\n  'max_score': 7.3981476,\n  'hits': [{'_index': 'test',\n    '_type': '_doc',\n    '_id': '322',\n    '_score': 7.3981476,\n    '_source': {'name': '普通高等教育十一五国家级规划教材・医学化学',\n     'publish': '高等教育出版社',\n     'type': '大学教材',\n     'author': ['徐春祥'],\n     'info': '《普通高等教育十一五国家级规划教材・医学化学》是普通高等教育“十一五”国家级规划教材。《普通高等教育十一五国家级规划教材・医学化学》包括无机化学、有机化学、定量分析化学的基本内容及实验。全书包括22章和20个实验，理论内容在前，实验内容在后。《普通高等教育十一五国家级规划教材・医学化学》既重视医学化学中的重要概念和基本知识，又吸收了国内外近几年出版的无机化学、有机化学和分析化学教材的新内容，同时也选择了一些与医学关系密切的相关内容。',\n     'price': 31}},\n   {'_index': 'test',\n    '_type': '_doc',\n    '_id': '52',\n    '_score': 7.25508,\n    '_source': {'name': '普通高等教育“十一五”国家级规划教材・医用高等数学（第2版）',\n     'publish': '高等教育出版社',\n     'type': '大学教材',\n     'author': ['乐经良', '祝国强'],\n     'info': '《普通高等教育“十一五”国家级规划教材・医用高等数学（第2版）》包括函数与极限，导数与微分，不定积分，定积分及其应用，微分方程，多元函数微积分，概率论初步及线性代数基础等共八章。本版是在教材第一版的基础上，按照教育部非数学类专业数学基础课程教学指导分委员会制定的“医科类本科数学基础课程教学基本要求”（讨论稿），并根据第一版在使用过程中的反馈意见修订而成的。《医用高等数学》内容涵盖广泛，理论深入浅出，概念准确，脉络清楚，简明实用，便于教学。强调数学基本素质、技能和知识的培养及数学在医药学中的应用。《医用高等数学》注意突出数学课程循序渐进、由浅入深的特点；同时也考虑到医科数学的特点，叙述与论证力求浅显易懂，并适当淡化了一些繁难的理论推导，《医用高等数学》保持了第一版的这些特点。《医用高等数学》可供高等医科类院校各本科专业作教材使用，也可供从事医学及卫生工作的科技人员作学习参考。',\n     'price': 26}},\n   {'_index': 'test',\n    '_type': '_doc',\n    '_id': '424',\n    '_score': 6.9526687,\n    '_source': {'name': '普通高等教育十一五国家级规划教材：高等数学（第3版）（上册）',\n     'publish': '高等教育出版社',\n     'type': '大学教材',\n     'author': ['童裕孙', '於崇华'],\n     'info': '本书在第二版的基础上修改而成，根据大量的教学反馈信息和更加深刻的教学体会，对原书作了大量的修改，并增删了部分内容，其目的是使本书更适用于大学数学基础课的实际教学过程，符合实际需要，并且使教学内容更易于学生理解和接受。本书的主要特色是科学组织并简清处理相对成熟的素材，对分析、代数、几何等方面作了统一的综合处理，揭示数学的本质、联系和发展规律；注重数学概念的实际背景和几何直观的引入，强调数学建模的思想和方法；在适度运用严格数学语言的同时，注意论述方式的自然朴素、易于理解；配有丰富多样的例题和习题，便于学生理解和训练。全书的深度和广度能适应多数专业的数学基础教学需要。全书分上、下两册。上册包括一元微积分、线性代数、空间解析几何；下册包括多元微积分、级数、常微分方程、概率论与数理统计。本书可作为高等学校理科、工科和技术学科等非数学类专业的教材，也可供经济、管理等有关专业使用，并可作为上述各专业的教学参考书。',\n     'price': 27}},\n   {'_index': 'test',\n    '_type': '_doc',\n    '_id': '191',\n    '_score': 6.8861094,\n    '_source': {'name': '普通高等教育“十一五”国家级规划教材・国家精品课程主讲教材：离散数学',\n     'publish': '高等教育出版社',\n     'type': '大学教材',\n     'author': ['屈婉玲', '耿素云', '张立昂'],\n     'info': '《离散数学》起源于高等教育出版社1998年出版的《离散数学》，是教育部高等学校“九五”规划教材，2004年作为“十五”规划教材出版了修订版。作为“十一五”规划教材，根据教育部计算机科学与技术专业教学指导委员会提出的《计算机科学与技术专业规范》（CCC2005）的教学要求，本教材对内容进行了较多的调整与更新。《离散数学》分为数理逻辑、集合论、代数结构、组合数学、图论、初等数论等六个部分。全书既有严谨的、系统的理论阐述，也有丰富的、面向计算机科学技术发展的应用实例，同时选配了大量的典型例题与练习。各章内容按照模块化组织，可以适应不同的教学要求。与《离散数学》配套的电子教案和习题辅导用书随后将陆续推出。《离散数学》可以作为普通高等学校计算机科学与技术专业不同方向的本科生的离散数学教材，也可以供其他专业学生和科技人员阅读参考。',\n     'price': 31}},\n   {'_index': 'test',\n    '_type': '_doc',\n    '_id': '126',\n    '_score': 5.826221,\n    '_source': {'name': '普通高等教育“十一五”国家级规划教材・全国高等学校医学规划教材：病理学（第2版）',\n     'publish': '高等教育出版社',\n     'type': '大学教材',\n     'author': ['王恩华'],\n     'info': '《病理学（第2版）》是普通高等教育“十一五”国家级规划教材、全国高等学校医学规划教材。《病理学（第2版）》在第一版的基础上，增加了部分病理学的新进展、新知识；更换了部分图片，使图更精美、更典型、更适合教学需要；增加了“易混概念”的数量，使教材更加紧贴研究生入学考试和国家执业医师资格考试。《病理学（第2版）》适用于高等学校医学各专业学生使用，也可供临床医务工作者和生命科学研究人员参考使用，同时也适应国家执业医师资格考试和研究生入学考试的需要。',\n     'price': 68}},\n   {'_index': 'test',\n    '_type': '_doc',\n    '_id': '421',\n    '_score': 5.322071,\n    '_source': {'name': '普通高等教育十一五国家级规划教材：高等代数与解析几何（上）',\n     'publish': '高等教育出版社',\n     'type': '大学教材',\n     'author': ['陈志杰'],\n     'info': '《高等代数与解析几何（上）》是《高等代数与解析几何》的修订版，主要有两大基本特色，一是把几何的观念和代数的方法结合起来组织教与学，二是引入相关数学软件来实践代数与几何中的一些基本问题，并提供网上互动式多功能服务站。修订主要有以下几个方面：1．为了降低学习难度，根据第一版使用的经验和反馈，把第一章里有关线性流形和子空间的内容删除，这些概念放到第三章中出现。2．将第一版使用的有向体积定义作为几何意义放在评注中，把几何空间的直线与平面的内容集中放到新设的第四章。3．考虑到计算多重积分的需要，在第六章第8节补充了有关空间区域到坐标平面投影的求法，并给出了例题和习题。4．对习题的顺序和配备也作了调整，增加了部分入门级的基本题，较难的题排在后面打上星号，可以根据不同的教学需求进行选择。《高等代数与解析几何（上第2版）》分上、下两册。上册包括：向量代数、行列式、线性方程组与线性子空间、几何空问中的平面与直线、矩阵的秩与矩阵的运算、线性空间与欧几里得空间，以及附录（Ma的基本知识、Maaca的基本知识、如何利用WIMS辅助教学、各类名词索引）。《高等代数与解析几何（上第2版）》可作为高等学校数学类专业高等代数与解析几何课程的教材，也可以作其他相关专业的教学参考书。',\n     'price': 31}},\n   {'_index': 'test',\n    '_type': '_doc',\n    '_id': '61',\n    '_score': 5.2126813,\n    '_source': {'name': '普通高等教育十一五国家级规划教材：英语报刊选读',\n     'publish': '高等教育出版社',\n     'type': '大学英语',\n     'author': [],\n     'info': '《英语报刊选读》从语篇的结构和意义两个层面出发，对英语报刊新闻作了既全面又深入的解读。其理论基础源于当代系统功能语言学的评价理论和格律理论等。本书在解读过程中遵循这些理论的精髓，力避艰涩术语，使读者能够在理论的指导下全面、透彻地解读英语报刊新闻。该书特色如下：1．解读视角独特、易操作，突破了以前各类英语报刊选读／阅读的传统。2．语料选自世界著名大报，内容涉及时下热门话题，难易适中，激发学生对新闻文本分析的兴趣和好奇心。3．既将新闻分类讨论，一步一步加深学生对新闻文本形式和意义的理解，便于学生对分析法的掌握；又对相关理论进行梳理和整合，有利于学生总结和巩固新闻语篇分析方法。',\n     'price': 27}},\n   {'_index': 'test',\n    '_type': '_doc',\n    '_id': '422',\n    '_score': 5.2086716,\n    '_source': {'name': '普通高等教育十一五国家级规划教材：高等代数与解析几何（下）（第2版）',\n     'publish': '高等教育出版社',\n     'type': '大学教材',\n     'author': ['陈志杰'],\n     'info': '《高等代数与解析几何（下）（第2版）》是《高等代数与解析几何》的修订版，主要有两大基本特色，一是把几何的观念和代数的方法结合起来组织教与学，二是引入相关数学软件来实践代数与几何中的一些基本问题，并提供网上互动式多功能服务站。修订主要有以下几个方面：1．为了降低学习难度，根据第一版使用的经验和反馈，把第一章里有关线性流形和子空间的内容删除，这些概念放到第三章中出现。2．将第一版使用的有向体积定义作为几何意义放在评注中，把几何空间的直线与平面的内容集中放到新设的第四章。3．考虑到计算多重积分的需要，在第六章第8节补充了有关空间区域到坐标平面投影的求法，并给出了例题和习题。4．对习题的顺序和配备也作了调整，增加了部分入门级的基本题，较难的题排在后面打上星号，可以根据不同的教学需求进行选择。《高等代数与解析几何（下第2版）》分上、下两册。下册包括：几何空间的常见曲面、线性变换、线性空间上的函数、坐标变换与点变换、一元多项式的因式分解、多元多项式、多项式矩阵与若尔当典范形、若尔当典范形的讨论与应用。《高等代数与解析几何（下第2版）》可作为高等学校数学类专业高等代数与解析几何课程的教材，也可以作其他相关专业的教学参考书。',\n     'price': 30}},\n   {'_index': 'test',\n    '_type': '_doc',\n    '_id': '423',\n    '_score': 5.0207925,\n    '_source': {'name': '大学英语选修课・学科课程系列教材・普通高等教育“十一五”国家级规划教材：英语公共演讲教程',\n     'publish': '高等教育出版社',\n     'type': '大学英语',\n     'author': ['赵永青', '李文萍'],\n     'info': '《英语公共演讲教程》系统地介绍了英语演讲的技能和训练方法，并对国内外大量的优秀英语演讲范例进行了讲解和分析。全书共由十八章组成。第一章介绍了演讲的概念和相关的基本理论。着重区分了演讲与日常交谈的不同之处。第二章集中处理了演讲中的怯场及紧张现象。第三章到第六章介绍了演讲的准备：包括第三章确定演讲主题，第四章确立演讲目的，第五章对听众群体的分析，第六章论据的分类和选用。第七章到第十一章着重阐述了演讲稿的写作和处理方法。第七章介绍了如何使用不同的方式对演讲稿的内容进行合理组织及如何进行过渡。第八、九章分别介绍了演讲稿开头和结尾的写作方法。第十章讲解了如何整理、准备演讲提纲。第十一章介绍了演讲写作中的语言文字处理。第十二章、第十三章分别介绍了演讲的正确方式和演讲可视辅助物的设计和利用。第十四章到第十七章介绍了演讲的几种主要类型：如第十四章的告知型演讲，第十五章的说服型演讲，第十六章的特殊场合中的演讲和第十七章的即兴演讲。第十八章甄选了十一篇中国学生在各种演讲赛事中的演讲和九篇经典的名人英语演讲并由编者进行了细致独到的点评分析。',\n     'price': 27}},\n   {'_index': 'test',\n    '_type': '_doc',\n    '_id': '38',\n    '_score': 4.807638,\n    '_source': {'name': '普通高等教育“十一五”国家级规划教材：新编实用英语综合教程2',\n     'publish': '高等教育出版社',\n     'type': '大学英语',\n     'author': [],\n     'info': '《新编实用英语综合教程2（第2版）》是由教育部“高职高专教育英语课程教学指导委员会”根据《高职高等教育英语课程教学基本要求（试行）》组织编写的。《新编实用英语》（第二版）系列教材是存《新编实用英语》第一版的基础上修订而成。本套教材认真贯彻了“学一点、会一点、用一点”、“听、说、读、写、译并重”和“边学边用、学用结合”的原则。注重听说技能训练，注重对实用文体阅读能力的培养，将应用讲言基本功的能力与实际涉外交际相结合。本套教材还注重“教、学、考”相互照应。学完第2册可参加“高等学校英语应用能力考试”的B级考试，学完第4册可参加A级考试。《新编实用英语综合教程2（第2版）》为《综合教程》（第二版）第2册，共8个单元，每个单元都由“说”、“听”、“读”和“写”4部分组成，另有一个“趣味阅读”部分。《新编实用英语综合教程2（第2版）》为4色印刷，版式精美，并配有录音带。',\n     'price': 27}}]}}"
     },
     "execution_count": 10,
     "metadata": {},
     "output_type": "execute_result"
    }
   ],
   "source": [
    "body = {\n",
    "    \"query\": {\n",
    "        \"bool\": {\n",
    "            \"must\": [\n",
    "                {\"term\":\n",
    "                    {\"name\": {\n",
    "                        \"value\": \"十一五\"\n",
    "                    }\n",
    "                    }\n",
    "                },\n",
    "                {\"term\":\n",
    "                    {\"type\":\n",
    "                        {\n",
    "                            \"value\": \"大学\"\n",
    "                        }\n",
    "                    }\n",
    "                }\n",
    "            ],\n",
    "            \"filter\": [\n",
    "                # 也可以使用脚本进行过滤\n",
    "                {\n",
    "                    \"match\": {\n",
    "                        \"name\": {\n",
    "                            \"query\": \"国家级\"\n",
    "                        }\n",
    "                    }\n",
    "                }\n",
    "            ],\n",
    "            \"must_not\": [\n",
    "                {\n",
    "                    \"range\": {\n",
    "                        \"price\": {\n",
    "                            \"gte\": 0,\n",
    "                            \"lte\": 25\n",
    "                        }\n",
    "                    }\n",
    "                }],\n",
    "            \"should\": [\n",
    "                {\"term\":\n",
    "                    {\"name\":\n",
    "                        {\n",
    "                            \"value\": \"英语\"\n",
    "                        }\n",
    "                    }\n",
    "                },\n",
    "                {\"term\":\n",
    "                    {\"name\":\n",
    "                        {\n",
    "                            \"value\": \"医学\"\n",
    "                        }\n",
    "                    }\n",
    "                },\n",
    "                {\"match\":\n",
    "                    {\"info\":\n",
    "                        {\n",
    "                            \"query\": \"数学\"\n",
    "                        }\n",
    "                    }\n",
    "                }\n",
    "            ],\n",
    "            \"minimum_should_match\": 1\n",
    "        }\n",
    "    }\n",
    "}\n",
    "\n",
    "'''\n",
    "Using minimum_should_match\n",
    "You can use the minimum_should_match parameter to specify the number or percentage of should clauses returned documents must match.\n",
    "\n",
    "If the bool query includes at least one should clause and no must or filter clauses, the default value is 1. Otherwise, the default value is 0.\n",
    "'''\n",
    "'''\n",
    "GET test/_search\n",
    "`body`\n",
    "'''\n",
    "es.search(index='test', body=body)"
   ],
   "metadata": {
    "collapsed": false,
    "pycharm": {
     "name": "#%%\n"
    }
   }
  },
  {
   "cell_type": "code",
   "execution_count": 10,
   "outputs": [],
   "source": [],
   "metadata": {
    "collapsed": false,
    "pycharm": {
     "name": "#%%\n"
    }
   }
  }
 ],
 "metadata": {
  "kernelspec": {
   "display_name": "Python 3",
   "language": "python",
   "name": "python3"
  },
  "language_info": {
   "codemirror_mode": {
    "name": "ipython",
    "version": 2
   },
   "file_extension": ".py",
   "mimetype": "text/x-python",
   "name": "python",
   "nbconvert_exporter": "python",
   "pygments_lexer": "ipython2",
   "version": "2.7.6"
  }
 },
 "nbformat": 4,
 "nbformat_minor": 0
}