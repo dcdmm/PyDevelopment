{
 "cells": [
  {
   "cell_type": "code",
   "execution_count": 23,
   "metadata": {
    "collapsed": true
   },
   "outputs": [],
   "source": [
    "from elasticsearch import Elasticsearch"
   ]
  },
  {
   "cell_type": "code",
   "execution_count": 24,
   "outputs": [
    {
     "data": {
      "text/plain": "{'acknowledged': True, 'shards_acknowledged': True, 'index': 'es0'}"
     },
     "execution_count": 24,
     "metadata": {},
     "output_type": "execute_result"
    }
   ],
   "source": [
    "es = Elasticsearch([{'host': 'localhost', 'port': 9200}])\n",
    "es.indices.create('es0', body={\n",
    "    \"mappings\": {\n",
    "        \"properties\": {\n",
    "            \"content\": {\n",
    "                \"type\": \"text\",\n",
    "                \"fields\": {\n",
    "                    \"raw\": {\n",
    "                        \"type\": \"keyword\"\n",
    "                    }\n",
    "                }\n",
    "            }\n",
    "        }\n",
    "    }\n",
    "})"
   ],
   "metadata": {
    "collapsed": false,
    "pycharm": {
     "name": "#%%\n"
    }
   }
  },
  {
   "cell_type": "code",
   "execution_count": 25,
   "outputs": [
    {
     "data": {
      "text/plain": "{'_index': 'es0',\n '_type': '_doc',\n '_id': '3',\n '_version': 1,\n 'result': 'created',\n '_shards': {'total': 2, 'successful': 1, 'failed': 0},\n '_seq_no': 3,\n '_primary_term': 1}"
     },
     "execution_count": 25,
     "metadata": {},
     "output_type": "execute_result"
    }
   ],
   "source": [
    "es.index('es0', id=0, body={\"content\": \"Apple Mac\"})\n",
    "es.index('es0', id=1, body={\"content\": \"Apple iPad\"})\n",
    "es.index('es0', id=2, body={\"content\": \"Apple employee like Apple Pie and Apple juice\"})\n",
    "es.index('es0', id=3, body={\"content\": \"Apple employee like Apple Pie and Apple juice and Apple snack\"})"
   ],
   "metadata": {
    "collapsed": false,
    "pycharm": {
     "name": "#%%\n"
    }
   }
  },
  {
   "cell_type": "code",
   "execution_count": 29,
   "outputs": [
    {
     "data": {
      "text/plain": "{'took': 2,\n 'timed_out': False,\n '_shards': {'total': 1, 'successful': 1, 'skipped': 0, 'failed': 0},\n 'hits': {'total': {'value': 3, 'relation': 'eq'},\n  'max_score': 0.14369924,\n  'hits': [{'_index': 'es0',\n    '_type': '_doc',\n    '_id': '0',\n    '_score': 0.14369924,\n    '_source': {'content': 'Apple Mac'}},\n   {'_index': 'es0',\n    '_type': '_doc',\n    '_id': '1',\n    '_score': 0.14369924,\n    '_source': {'content': 'Apple iPad'}},\n   {'_index': 'es0',\n    '_type': '_doc',\n    '_id': '2',\n    '_score': 0.07637882,\n    '_source': {'content': 'Apple employee like Apple Pie and Apple juice'}}]}}"
     },
     "execution_count": 29,
     "metadata": {},
     "output_type": "execute_result"
    }
   ],
   "source": [
    "es.search(index='es0', body={\n",
    "    \"query\": {\n",
    "        \"bool\": {\n",
    "            \"must\": [\n",
    "                {\n",
    "                    \"boosting\": {\n",
    "                        \"positive\": {\n",
    "                            \"match\": {\n",
    "                                \"content\": {\n",
    "                                    \"query\": \"apple\"\n",
    "                                }\n",
    "                            }\n",
    "                        },\n",
    "                        \"negative\": {\n",
    "                            \"match\": {\n",
    "                                \"content\": {\n",
    "                                    \"query\": \"pie\"\n",
    "                                }\n",
    "                            }\n",
    "                        },\n",
    "                        \"negative_boost\": 0.5\n",
    "                    }\n",
    "                }\n",
    "            ],\n",
    "            \"must_not\": [\n",
    "                {\n",
    "                    \"match\": {\n",
    "                        \"content\": {\n",
    "                            \"query\": \"snack\"\n",
    "                        }\n",
    "                    }\n",
    "                }\n",
    "            ]\n",
    "        }\n",
    "    }\n",
    "})"
   ],
   "metadata": {
    "collapsed": false,
    "pycharm": {
     "name": "#%%\n"
    }
   }
  },
  {
   "cell_type": "code",
   "execution_count": 27,
   "outputs": [
    {
     "data": {
      "text/plain": "{'took': 1,\n 'timed_out': False,\n '_shards': {'total': 1, 'successful': 1, 'skipped': 0, 'failed': 0},\n 'hits': {'total': {'value': 3, 'relation': 'eq'},\n  'max_score': 1.4369924,\n  'hits': [{'_index': 'es0',\n    '_type': '_doc',\n    '_id': '0',\n    '_score': 1.4369924,\n    '_source': {'content': 'Apple Mac'}},\n   {'_index': 'es0',\n    '_type': '_doc',\n    '_id': '1',\n    '_score': 1.4369924,\n    '_source': {'content': 'Apple iPad'}},\n   {'_index': 'es0',\n    '_type': '_doc',\n    '_id': '2',\n    '_score': 0.0015275765,\n    '_source': {'content': 'Apple employee like Apple Pie and Apple juice'}}]}}"
     },
     "execution_count": 27,
     "metadata": {},
     "output_type": "execute_result"
    }
   ],
   "source": [
    "es.search(index='es0', body={\n",
    "    \"query\": {\n",
    "        \"bool\": {\n",
    "            \"must\": [\n",
    "                {\n",
    "                    \"function_score\": {\n",
    "                        \"query\": {\n",
    "                            \"match\": {\n",
    "                                \"content\": {\n",
    "                                    \"query\": \"apple\"\n",
    "                                }\n",
    "                            }\n",
    "                        },\n",
    "                        \"script_score\": {\n",
    "                            \"script\": {\n",
    "                                \"params\": {\n",
    "                                    \"a\": 100,\n",
    "                                    \"b\": 0.1\n",
    "                                },\n",
    "                                \"source\": \"\"\"\n",
    "                                boolean contains_pie = doc['content.raw'].value.contains(\"Pie\");\n",
    "                                if (contains_pie) {\n",
    "                                  return _score / params.a\n",
    "                                } else {\n",
    "                                  return _score / params.b\n",
    "                                }\n",
    "                                \"\"\"\n",
    "                            }\n",
    "                        },\n",
    "                        \"boost_mode\": \"replace\"\n",
    "                    }\n",
    "                }\n",
    "            ],\n",
    "            \"must_not\": [\n",
    "                {\n",
    "                    \"match\": {\n",
    "                        \"content\": {\n",
    "                            \"query\": \"snack\"\n",
    "                        }\n",
    "                    }\n",
    "                }\n",
    "            ]\n",
    "        }\n",
    "    }\n",
    "})"
   ],
   "metadata": {
    "collapsed": false,
    "pycharm": {
     "name": "#%%\n"
    }
   }
  },
  {
   "cell_type": "code",
   "execution_count": 22,
   "outputs": [
    {
     "data": {
      "text/plain": "{'acknowledged': True}"
     },
     "execution_count": 22,
     "metadata": {},
     "output_type": "execute_result"
    }
   ],
   "source": [
    "es.indices.delete('es0')"
   ],
   "metadata": {
    "collapsed": false,
    "pycharm": {
     "name": "#%%\n"
    }
   }
  },
  {
   "cell_type": "code",
   "execution_count": null,
   "outputs": [],
   "source": [],
   "metadata": {
    "collapsed": false,
    "pycharm": {
     "name": "#%%\n"
    }
   }
  }
 ],
 "metadata": {
  "kernelspec": {
   "display_name": "Python 3",
   "language": "python",
   "name": "python3"
  },
  "language_info": {
   "codemirror_mode": {
    "name": "ipython",
    "version": 2
   },
   "file_extension": ".py",
   "mimetype": "text/x-python",
   "name": "python",
   "nbconvert_exporter": "python",
   "pygments_lexer": "ipython2",
   "version": "2.7.6"
  }
 },
 "nbformat": 4,
 "nbformat_minor": 0
}