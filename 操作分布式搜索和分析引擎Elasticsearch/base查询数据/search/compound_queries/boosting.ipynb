{
 "cells": [
  {
   "cell_type": "code",
   "execution_count": 1,
   "metadata": {
    "collapsed": true,
    "metadata": {}
   },
   "outputs": [],
   "source": [
    "from elasticsearch import Elasticsearch"
   ]
  },
  {
   "cell_type": "code",
   "execution_count": 2,
   "metadata": {
    "collapsed": false,
    "metadata": {},
    "pycharm": {
     "name": "#%%\n"
    }
   },
   "outputs": [
    {
     "data": {
      "text/plain": [
       "{'acknowledged': True, 'shards_acknowledged': True, 'index': 'es0'}"
      ]
     },
     "execution_count": 2,
     "metadata": {},
     "output_type": "execute_result"
    }
   ],
   "source": [
    "es = Elasticsearch([{'host': 'localhost', 'port': 9200}])\n",
    "es.indices.create('es0')"
   ]
  },
  {
   "cell_type": "code",
   "execution_count": 3,
   "metadata": {
    "collapsed": false,
    "metadata": {},
    "pycharm": {
     "name": "#%%\n"
    }
   },
   "outputs": [
    {
     "data": {
      "text/plain": [
       "{'_index': 'es0',\n",
       " '_type': '_doc',\n",
       " '_id': '2',\n",
       " '_version': 1,\n",
       " 'result': 'created',\n",
       " '_shards': {'total': 2, 'successful': 1, 'failed': 0},\n",
       " '_seq_no': 2,\n",
       " '_primary_term': 1}"
      ]
     },
     "execution_count": 3,
     "metadata": {},
     "output_type": "execute_result"
    }
   ],
   "source": [
    "# 案例:查询苹果公司的产品\n",
    "es.index('es0', id=0, body={\"content\": \"Apple Mac\"})\n",
    "es.index('es0', id=1, body={\"content\": \"Apple iPad\"})\n",
    "es.index('es0', id=2, body={\"content\": \"Apple employee like Apple Pie and Apple juice\"})"
   ]
  },
  {
   "cell_type": "code",
   "execution_count": 16,
   "metadata": {
    "collapsed": false,
    "metadata": {},
    "pycharm": {
     "name": "#%%\n"
    }
   },
   "outputs": [
    {
     "data": {
      "text/plain": [
       "{'took': 0,\n",
       " 'timed_out': False,\n",
       " '_shards': {'total': 1, 'successful': 1, 'skipped': 0, 'failed': 0},\n",
       " 'hits': {'total': {'value': 2, 'relation': 'eq'},\n",
       "  'max_score': 0.16786805,\n",
       "  'hits': [{'_index': 'es0',\n",
       "    '_type': '_doc',\n",
       "    '_id': '0',\n",
       "    '_score': 0.16786805,\n",
       "    '_source': {'content': 'Apple Mac'}},\n",
       "   {'_index': 'es0',\n",
       "    '_type': '_doc',\n",
       "    '_id': '1',\n",
       "    '_score': 0.16786805,\n",
       "    '_source': {'content': 'Apple iPad'}}]}}"
      ]
     },
     "execution_count": 16,
     "metadata": {},
     "output_type": "execute_result"
    }
   ],
   "source": [
    "# 方式一:\n",
    "es.search(index='es0', body={\n",
    "    \"query\": {\n",
    "        \"bool\": {\n",
    "            \"must\":\n",
    "                [\n",
    "                    {\n",
    "                        \"match\":\n",
    "                            {\n",
    "                                \"content\":\n",
    "                                    {\n",
    "                                        \"query\": \"apple\"\n",
    "                                    }\n",
    "                            }\n",
    "                    }\n",
    "                ],\n",
    "            \"must_not\": [\n",
    "                {\n",
    "                    \"match\": {\n",
    "                        \"content\": {\n",
    "                            \"query\": \"pie\"\n",
    "                        }\n",
    "                    }\n",
    "                }\n",
    "            ]\n",
    "        }\n",
    "    }\n",
    "})"
   ]
  },
  {
   "cell_type": "code",
   "execution_count": 24,
   "metadata": {
    "collapsed": false,
    "metadata": {},
    "pycharm": {
     "name": "#%%\n"
    }
   },
   "outputs": [
    {
     "data": {
      "text/plain": [
       "{'took': 0,\n",
       " 'timed_out': False,\n",
       " '_shards': {'total': 1, 'successful': 1, 'skipped': 0, 'failed': 0},\n",
       " 'hits': {'total': {'value': 3, 'relation': 'eq'},\n",
       "  'max_score': 0.17280531,\n",
       "  'hits': [{'_index': 'es0',\n",
       "    '_type': '_doc',\n",
       "    '_id': '2',\n",
       "    '_score': 0.17280531,\n",
       "    '_source': {'content': 'Apple employee like Apple Pie and Apple juice'}},\n",
       "   {'_index': 'es0',\n",
       "    '_type': '_doc',\n",
       "    '_id': '0',\n",
       "    '_score': 0.16786805,\n",
       "    '_source': {'content': 'Apple Mac'}},\n",
       "   {'_index': 'es0',\n",
       "    '_type': '_doc',\n",
       "    '_id': '1',\n",
       "    '_score': 0.16786805,\n",
       "    '_source': {'content': 'Apple iPad'}}]}}"
      ]
     },
     "execution_count": 24,
     "metadata": {},
     "output_type": "execute_result"
    }
   ],
   "source": [
    "body = {\"query\": {\n",
    "    \"boosting\": {\n",
    "        # 单一查询条件({查询条件})\n",
    "        # \n",
    "        # 多组查询条件([{查询条件1}, {查询条件2}, ...])\n",
    "        # positive: 所有列出的查询条件都必须匹配\n",
    "        # negative: 所有列出的查询条件都必须匹配\n",
    "        \"positive\": [\n",
    "            {\n",
    "                \"match\": {\n",
    "                    \"content\": {\n",
    "                        \"query\": \"apple\"\n",
    "                    }\n",
    "                }\n",
    "            }\n",
    "        ],\n",
    "        \"negative\": {\n",
    "            \"match\": {\n",
    "                \"content\": {\n",
    "                    \"query\": \"pie\"\n",
    "                }\n",
    "            }\n",
    "        },\n",
    "        # negative_boost:\n",
    "        # (Required, float) Floating point number between 0 and 1.0 used to decrease the relevance scores of documents matching the negative query.\n",
    "        \"negative_boost\": 0.5\n",
    "    }\n",
    "}\n",
    "}\n",
    "\n",
    "# 方法二:\n",
    "'''\n",
    "GET es0/_search\n",
    "`body`\n",
    "'''\n",
    "es.search(index='es0', body=body)"
   ]
  },
  {
   "cell_type": "code",
   "execution_count": 33,
   "metadata": {
    "collapsed": false,
    "metadata": {},
    "pycharm": {
     "name": "#%%\n"
    }
   },
   "outputs": [
    {
     "data": {
      "text/plain": [
       "{'acknowledged': True}"
      ]
     },
     "execution_count": 33,
     "metadata": {},
     "output_type": "execute_result"
    }
   ],
   "source": [
    "es.indices.delete('es0')"
   ]
  }
 ],
 "metadata": {
  "kernelspec": {
   "display_name": "Python 3",
   "language": "python",
   "name": "python3"
  },
  "language_info": {
   "codemirror_mode": {
    "name": "ipython",
    "version": 3
   },
   "file_extension": ".py",
   "mimetype": "text/x-python",
   "name": "python",
   "nbconvert_exporter": "python",
   "pygments_lexer": "ipython3",
   "version": "3.10.12"
  }
 },
 "nbformat": 4,
 "nbformat_minor": 0
}
