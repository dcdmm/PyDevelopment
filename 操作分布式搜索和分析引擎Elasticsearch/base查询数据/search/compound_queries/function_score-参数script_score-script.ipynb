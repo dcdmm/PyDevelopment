{
 "cells": [
  {
   "cell_type": "code",
   "execution_count": 2,
   "metadata": {
    "ExecuteTime": {
     "end_time": "2024-04-30T09:43:28.698933Z",
     "start_time": "2024-04-30T09:43:28.690343Z"
    },
    "collapsed": true,
    "metadata": {},
    "pycharm": {
     "name": "#%%\n"
    }
   },
   "outputs": [],
   "source": [
    "from elasticsearch import Elasticsearch"
   ]
  },
  {
   "cell_type": "code",
   "execution_count": 3,
   "metadata": {
    "ExecuteTime": {
     "end_time": "2024-04-30T09:43:38.900974Z",
     "start_time": "2024-04-30T09:43:28.699937Z"
    },
    "collapsed": false,
    "metadata": {},
    "pycharm": {
     "name": "#%%\n"
    }
   },
   "outputs": [
    {
     "data": {
      "text/plain": [
       "{'acknowledged': True, 'shards_acknowledged': True, 'index': 'es0'}"
      ]
     },
     "execution_count": 3,
     "metadata": {},
     "output_type": "execute_result"
    }
   ],
   "source": [
    "es = Elasticsearch([{'host': 'localhost', 'port': 9200}])\n",
    "es.indices.create('es0', body={\n",
    "    \"mappings\": {\n",
    "        \"properties\": {\n",
    "            \"name\": {\n",
    "                \"type\": \"text\",\n",
    "                \"analyzer\": \"ik_max_word\",\n",
    "                \"fields\": {\n",
    "                    \"raw\": {\n",
    "                        \"type\": \"keyword\"\n",
    "                    }\n",
    "                }\n",
    "            },\n",
    "            \"vote\": {\n",
    "                \"type\": \"long\",\n",
    "            }\n",
    "        }\n",
    "    }\n",
    "})"
   ]
  },
  {
   "cell_type": "code",
   "execution_count": 4,
   "metadata": {
    "collapsed": false,
    "metadata": {},
    "pycharm": {
     "name": "#%%\n"
    }
   },
   "outputs": [
    {
     "data": {
      "text/plain": [
       "{'_index': 'es0',\n",
       " '_type': '_doc',\n",
       " '_id': '1',\n",
       " '_version': 1,\n",
       " 'result': 'created',\n",
       " '_shards': {'total': 2, 'successful': 1, 'failed': 0},\n",
       " '_seq_no': 1,\n",
       " '_primary_term': 1}"
      ]
     },
     "execution_count": 4,
     "metadata": {},
     "output_type": "execute_result"
    }
   ],
   "source": [
    "es.index('es0', id=0, body={\"name\": \"Java集合详解\",\n",
    "                            \"vote\": 100})\n",
    "es.index('es0', id=1, body={\"name\": \"Java多线程详解,Java锁详解\",\n",
    "                            \"vote\": 30})"
   ]
  },
  {
   "cell_type": "markdown",
   "metadata": {
    "collapsed": false,
    "pycharm": {
     "name": "#%% md\n"
    }
   },
   "source": [
    "The newly computed score is combined with the score of the query. The parameter boost_mode defines how:\n",
    "\n",
    "| `multiply` | query score and function score is multiplied (default)  |\n",
    "| ---------- | ------------------------------------------------------- |\n",
    "| `replace`  | only function score is used, the query score is ignored |\n",
    "| `sum`      | query score and function score are added                |\n",
    "| `avg`      | average                                                 |\n",
    "| `max`      | max of query score and function score                   |\n",
    "| `min`      | min of query score and function score                   |"
   ]
  },
  {
   "cell_type": "code",
   "execution_count": 5,
   "metadata": {
    "collapsed": false,
    "metadata": {},
    "pycharm": {
     "name": "#%%\n"
    }
   },
   "outputs": [
    {
     "data": {
      "text/plain": [
       "{'took': 9,\n",
       " 'timed_out': False,\n",
       " '_shards': {'total': 1, 'successful': 1, 'skipped': 0, 'failed': 0},\n",
       " 'hits': {'total': {'value': 2, 'relation': 'eq'},\n",
       "  'max_score': 100.0,\n",
       "  'hits': [{'_index': 'es0',\n",
       "    '_type': '_doc',\n",
       "    '_id': '0',\n",
       "    '_score': 100.0,\n",
       "    '_source': {'name': 'Java集合详解', 'vote': 100}},\n",
       "   {'_index': 'es0',\n",
       "    '_type': '_doc',\n",
       "    '_id': '1',\n",
       "    '_score': 30.0,\n",
       "    '_source': {'name': 'Java多线程详解,Java锁详解', 'vote': 30}}]}}"
      ]
     },
     "execution_count": 5,
     "metadata": {},
     "output_type": "execute_result"
    }
   ],
   "source": [
    "body = {\n",
    "    \"query\": {\n",
    "        # The function_score allows you to modify the score of documents that are retrieved by a query.\n",
    "        \"function_score\": {\n",
    "            \"query\": {\n",
    "                \"match\": {\n",
    "                    \"name\": {\n",
    "                        \"query\": \"java\"\n",
    "                    }\n",
    "                }\n",
    "            },\n",
    "            \"script_score\": {\n",
    "                \"script\": {\n",
    "                    \"source\": \"\"\"\n",
    "                    String way1 = doc['name.raw'].value;\n",
    "                    String way2 = params._source.name;\n",
    "                    \n",
    "                    return doc['vote'].value\n",
    "                    \"\"\"\"\"\n",
    "                }\n",
    "            },\n",
    "            \"boost_mode\": \"replace\"\n",
    "        }\n",
    "    }\n",
    "}\n",
    "'''\n",
    "GET es0/_search\n",
    "`body`\n",
    "'''\n",
    "es.search(index='es0', body=body)"
   ]
  },
  {
   "cell_type": "code",
   "execution_count": 6,
   "metadata": {
    "collapsed": false,
    "metadata": {},
    "pycharm": {
     "name": "#%%\n"
    }
   },
   "outputs": [
    {
     "data": {
      "text/plain": [
       "{'took': 8,\n",
       " 'timed_out': False,\n",
       " '_shards': {'total': 1, 'successful': 1, 'skipped': 0, 'failed': 0},\n",
       " 'hits': {'total': {'value': 2, 'relation': 'eq'},\n",
       "  'max_score': 0.0047464985,\n",
       "  'hits': [{'_index': 'es0',\n",
       "    '_type': '_doc',\n",
       "    '_id': '1',\n",
       "    '_score': 0.0047464985,\n",
       "    '_source': {'name': 'Java多线程详解,Java锁详解', 'vote': 30}},\n",
       "   {'_index': 'es0',\n",
       "    '_type': '_doc',\n",
       "    '_id': '0',\n",
       "    '_score': 1.31609825e-08,\n",
       "    '_source': {'name': 'Java集合详解', 'vote': 100}}]}}"
      ]
     },
     "execution_count": 6,
     "metadata": {},
     "output_type": "execute_result"
    }
   ],
   "source": [
    "es.search(index='es0', body=\n",
    "{\n",
    "    \"query\": {\n",
    "        \"function_score\": {\n",
    "            \"query\": {\n",
    "                \"match\": {\n",
    "                    \"name\": {\n",
    "                        \"query\": \"java\"\n",
    "                    }\n",
    "                }\n",
    "            },\n",
    "            \"script_score\": {\n",
    "                \"script\": {\n",
    "                    \"params\": {\n",
    "                        \"a\": 5,\n",
    "                        \"b\": 1.2\n",
    "                    },\n",
    "                    \"source\": \"params.a / Math.pow(params.b, doc['vote'].value)\"\n",
    "                }\n",
    "            }\n",
    "        }\n",
    "    }\n",
    "}\n",
    "          )"
   ]
  },
  {
   "cell_type": "code",
   "execution_count": 7,
   "metadata": {
    "collapsed": false,
    "metadata": {},
    "pycharm": {
     "name": "#%%\n"
    }
   },
   "outputs": [
    {
     "data": {
      "text/plain": [
       "{'acknowledged': True}"
      ]
     },
     "execution_count": 7,
     "metadata": {},
     "output_type": "execute_result"
    }
   ],
   "source": [
    "es.indices.delete('es0')"
   ]
  }
 ],
 "metadata": {
  "kernelspec": {
   "display_name": "Python 3",
   "language": "python",
   "name": "python3"
  },
  "language_info": {
   "codemirror_mode": {
    "name": "ipython",
    "version": 3
   },
   "file_extension": ".py",
   "mimetype": "text/x-python",
   "name": "python",
   "nbconvert_exporter": "python",
   "pygments_lexer": "ipython3",
   "version": "3.10.12"
  }
 },
 "nbformat": 4,
 "nbformat_minor": 0
}
