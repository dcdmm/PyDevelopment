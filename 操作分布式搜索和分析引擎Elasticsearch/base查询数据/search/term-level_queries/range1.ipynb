{
 "cells": [
  {
   "cell_type": "code",
   "execution_count": 1,
   "metadata": {
    "collapsed": true
   },
   "outputs": [
    {
     "data": {
      "text/plain": "{'acknowledged': True, 'shards_acknowledged': True, 'index': 'es0'}"
     },
     "execution_count": 1,
     "metadata": {},
     "output_type": "execute_result"
    }
   ],
   "source": [
    "from elasticsearch import Elasticsearch\n",
    "\n",
    "es = Elasticsearch([{'host': 'localhost', 'port': 9200}])\n",
    "es.indices.create(\"es0\")"
   ]
  },
  {
   "cell_type": "code",
   "execution_count": 9,
   "outputs": [
    {
     "data": {
      "text/plain": "{'_index': 'es0',\n '_type': '_doc',\n '_id': '2',\n '_version': 2,\n 'result': 'updated',\n '_shards': {'total': 2, 'successful': 1, 'failed': 0},\n '_seq_no': 5,\n '_primary_term': 1}"
     },
     "execution_count": 9,
     "metadata": {},
     "output_type": "execute_result"
    }
   ],
   "source": [
    "es.index(index='es0', id=0,\n",
    "         body={\"name\": \"xiaoming\", \"date\": \"2023-02-09\"})\n",
    "es.index(index='es0', id=1,\n",
    "         body={\"name\": \"xiaoli\", \"date\": \"2022-02-09\"})\n",
    "es.index(index='es0', id=2,\n",
    "         body={\"name\": \"xiaobai\", \"date\": \"2021-02-09\"})"
   ],
   "metadata": {
    "collapsed": false,
    "pycharm": {
     "name": "#%%\n"
    }
   }
  },
  {
   "cell_type": "code",
   "execution_count": 11,
   "outputs": [
    {
     "data": {
      "text/plain": "{'took': 317,\n 'timed_out': False,\n '_shards': {'total': 1, 'successful': 1, 'skipped': 0, 'failed': 0},\n 'hits': {'total': {'value': 1, 'relation': 'eq'},\n  'max_score': 1.0,\n  'hits': [{'_index': 'es0',\n    '_type': '_doc',\n    '_id': '1',\n    '_score': 1.0,\n    '_source': {'name': 'xiaoli', 'date': '2022-02-09'}}]}}"
     },
     "execution_count": 11,
     "metadata": {},
     "output_type": "execute_result"
    }
   ],
   "source": [
    "'''\n",
    "y   Years\n",
    "M   Months\n",
    "w   Weeks\n",
    "d   Days\n",
    "h   Hours\n",
    "H   Hours\n",
    "m   Minutes\n",
    "s   Seconds\n",
    "\n",
    "Assuming now(系统当前时间) is 2001-01-01 12:00:00, some examples are:\n",
    "now+1h              now in milliseconds plus one hour. Resolves to: 2001-01-01 13:00:00\n",
    "now-1h              now in milliseconds minus one hour. Resolves to: 2001-01-01 11:00:00\n",
    "now-1h/d            now in milliseconds minus one hour, rounded down to UTC 00:00. Resolves to: 2001-01-01 00:00:00\n",
    "2001.02.01\\|\\|+1M/d 2001-02-01 in milliseconds plus one month. Resolves to: 2001-03-01 00:00:00\n",
    "'''\n",
    "\n",
    "'''\n",
    "Elasticsearch rounds date math values in parameters as follows:\n",
    "gt\n",
    "    Rounds up to the first millisecond not covered by the rounded date.\n",
    "    For example, 2014-11-18||/M rounds up to 2014-12-01T00:00:00.000, excluding the entire month of November.\n",
    "\n",
    "gte\n",
    "    Rounds down to the first millisecond.\n",
    "    For example, 2014-11-18||/M rounds down to 2014-11-01T00:00:00.000, including the entire month.\n",
    "\n",
    "lt\n",
    "    Rounds down to the last millisecond before the rounded value.\n",
    "    For example, 2014-11-18||/M rounds down to 2014-10-31T23:59:59.999, excluding the entire month of November.\n",
    "\n",
    "lte\n",
    "    Rounds up to the latest millisecond in the rounding interval.\n",
    "    For example, 2014-11-18||/M rounds up to 2014-11-30T23:59:59.999, including the entire month.\n",
    "'''\n",
    "es.search(index='es0', body={\n",
    "    \"query\": {\n",
    "        \"range\": {\n",
    "            \"date\": {\n",
    "                \"gte\": \"now-2y\",\n",
    "                \"lt\": \"2023-02-09\"\n",
    "            }\n",
    "        }\n",
    "    }\n",
    "})"
   ],
   "metadata": {
    "collapsed": false,
    "pycharm": {
     "name": "#%%\n"
    }
   }
  },
  {
   "cell_type": "code",
   "execution_count": null,
   "outputs": [],
   "source": [],
   "metadata": {
    "collapsed": false,
    "pycharm": {
     "name": "#%%\n"
    }
   }
  }
 ],
 "metadata": {
  "kernelspec": {
   "display_name": "Python 3",
   "language": "python",
   "name": "python3"
  },
  "language_info": {
   "codemirror_mode": {
    "name": "ipython",
    "version": 2
   },
   "file_extension": ".py",
   "mimetype": "text/x-python",
   "name": "python",
   "nbconvert_exporter": "python",
   "pygments_lexer": "ipython2",
   "version": "2.7.6"
  }
 },
 "nbformat": 4,
 "nbformat_minor": 0
}