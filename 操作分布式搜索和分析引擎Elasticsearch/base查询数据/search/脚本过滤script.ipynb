{
 "cells": [
  {
   "cell_type": "code",
   "execution_count": 3,
   "metadata": {
    "collapsed": true
   },
   "outputs": [],
   "source": [
    "from elasticsearch import Elasticsearch\n",
    "\n",
    "# 数据来源:data/example_book_data.jsonl\n",
    "es = Elasticsearch([{'host': 'localhost', 'port': 9200}])"
   ]
  },
  {
   "cell_type": "code",
   "execution_count": 7,
   "outputs": [
    {
     "data": {
      "text/plain": "{'took': 8,\n 'timed_out': False,\n '_shards': {'total': 1, 'successful': 1, 'skipped': 0, 'failed': 0},\n 'hits': {'total': {'value': 2, 'relation': 'eq'},\n  'max_score': 0.0,\n  'hits': [{'_index': 'test',\n    '_type': '_doc',\n    '_id': '123',\n    '_score': 0.0,\n    '_source': {'name': '高等学校教材：高等电磁理论（（修订版）',\n     'publish': '高等教育出版社',\n     'type': '大学教材',\n     'author': ['张世昌', '金建铭', '卢才成', '等', '杨儒贵'],\n     'info': '《高等电磁理论》主要介绍电磁波辐射、散射和传输的理论及其分析方法。全书共分12章，包括：基本电磁理论，平面波，辅助函数，电磁定理和原理，电磁辐射，电磁散射，导波理论，谐振腔，近似解析方法，矩量法，时域有限差分法和有限元法。书中附有大量习题和文献，以便读者提高分析和解决电磁问题的能力，进一步开阔视野。《高等电磁理论》的特色是：①专章论述电磁理论中常用的辅助函数；②全面介绍电磁理论中常用的定理、原理及其应用；③不仅论述经典解析方法，同时还介绍当前流行的重要数值方法；④《高等电磁理论》的作者不仅是国内长期从事电磁理论教学和科研的教授，同时还邀请了海外学者加盟。《高等电磁理论》可以作为电子信息类和电子科学与技术类专业高年级本科生及研究生教材，也可供有关科技人员阅读。',\n     'price': 41}},\n   {'_index': 'test',\n    '_type': '_doc',\n    '_id': '283',\n    '_score': 0.0,\n    '_source': {'name': '高校数字校园建设指南',\n     'publish': '高等教育出版社',\n     'type': '教学理论',\n     'author': ['刘启新', '沈立强', '吴海燕', '蒋东兴', '付小龙'],\n     'info': '《高校数字校园建设指南》主要面向高校负责信息化的学校领导、信息化管理部门领导、信息化技术部门领导以及信息化建设骨干。建议学校领导阅读第1、2、9章；建议管理部门领导阅读第1、2、7、8、9章；建议技术部门领导重点阅读第1、2、7、8、9章，并关注第3～6章；建议技术骨干根据业务方向阅读第2～8章相关部分。高校管理信息系统专业的本科生和研究生也可以选择《高校数字校园建设指南》作为课外阅读资料，它将有助于毕业生走人工作之前提前了解一个方面的实务。我国高校信息化经过20多年的发展，现在已经开始进入信息集成的新一代数字校园建设阶段。《高校数字校园建设指南》全面介绍了清华大学在高校数字校园建设方面的经验体会与最新理论研究成果，包括大学资源计划理论、顶层设计方法、基础设施、数据环境、基础中间件、信息系统、信息安全体系、标准体系、保障机制等。',\n     'price': 20}}]}}"
     },
     "execution_count": 7,
     "metadata": {},
     "output_type": "execute_result"
    }
   ],
   "source": [
    "body = {\n",
    "    \"query\": {\n",
    "        \"bool\": {\n",
    "            \"filter\": {\n",
    "                \"script\": {\n",
    "                    \"script\": {\n",
    "                        \"source\": \"doc['author'].length > 4\",\n",
    "                        \"lang\": \"painless\"\n",
    "                    }\n",
    "                }\n",
    "            }\n",
    "        }\n",
    "    }\n",
    "}\n",
    "# Filters documents based on a provided script. The script query is typically used in a filter context.\n",
    "'''\n",
    "GET /test/_search\n",
    "`body`\n",
    "'''\n",
    "es.search(index='test', body=body)"
   ],
   "metadata": {
    "collapsed": false,
    "pycharm": {
     "name": "#%%\n"
    }
   }
  },
  {
   "cell_type": "code",
   "execution_count": null,
   "outputs": [],
   "source": [],
   "metadata": {
    "collapsed": false,
    "pycharm": {
     "name": "#%%\n"
    }
   }
  }
 ],
 "metadata": {
  "kernelspec": {
   "display_name": "Python 3",
   "language": "python",
   "name": "python3"
  },
  "language_info": {
   "codemirror_mode": {
    "name": "ipython",
    "version": 2
   },
   "file_extension": ".py",
   "mimetype": "text/x-python",
   "name": "python",
   "nbconvert_exporter": "python",
   "pygments_lexer": "ipython2",
   "version": "2.7.6"
  }
 },
 "nbformat": 4,
 "nbformat_minor": 0
}