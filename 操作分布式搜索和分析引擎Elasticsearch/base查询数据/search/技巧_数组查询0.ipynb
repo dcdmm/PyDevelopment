{
 "cells": [
  {
   "cell_type": "code",
   "execution_count": 26,
   "metadata": {
    "collapsed": true
   },
   "outputs": [],
   "source": [
    "from elasticsearch import Elasticsearch\n",
    "\n",
    "# 数据来源:data/example_book_data.jsonl\n",
    "es = Elasticsearch([{'host': 'localhost', 'port': 9200}])"
   ]
  },
  {
   "cell_type": "code",
   "execution_count": 27,
   "outputs": [
    {
     "data": {
      "text/plain": "{'took': 1,\n 'timed_out': False,\n '_shards': {'total': 1, 'successful': 1, 'skipped': 0, 'failed': 0},\n 'hits': {'total': {'value': 2, 'relation': 'eq'},\n  'max_score': 6.3925157,\n  'hits': [{'_index': 'test',\n    '_type': '_doc',\n    '_id': '121',\n    '_score': 6.3925157,\n    '_source': {'name': '金融衍生产品定价的数学模型与案例分析',\n     'publish': '高等教育出版社',\n     'type': '金融理论',\n     'author': ['姜礼尚', '徐承龙', '任学敏'],\n     'info': '《金融衍生产品定价的数学模型与案例分析》可以看作是《期权定价的数学模型和方法》（第二版）的应用卷，全书分为理论篇和案例篇。理论篇进一步展示了偏微分方程方法在期权定价理论中的应用，集中阐明随机分析中鞅方法与偏微分方程方法之间的相互联系，以及Back-Scs模型的后续发展等：案例篇着重研究在已有定价模型和方法的基础上，针对各种金融和保险创新产品的具体实施条款，建立数学模型(即建立偏微分方程定解问题',\n     'price': 0}},\n   {'_index': 'test',\n    '_type': '_doc',\n    '_id': '301',\n    '_score': 6.3925157,\n    '_source': {'name': '金融数学丛书：期权定价的数学模型和方法（第2版）',\n     'publish': '高等教育出版社',\n     'type': '期货',\n     'author': ['姜礼尚'],\n     'info': '期权是风险管理的核心工具，对期权定价理论作出杰出贡献的Scs和Mn曾因此荣获1997年诺贝尔经济学奖。本书从偏微分方程的观点和方法，对Back－Scs－Mn的期权定价理论作了系统深入的阐述，一方面，从多个角度、多个层面阐明期权定价理论的基本思路：基于市场无套利假设，通过△－对冲原理，把人们引入一个风险中性世界，从而对期权给出一个独立于每个投资人偏好的“公平价格”；另一方面，充分利用偏微分方程理论和方法对期权理论作深入的定性和定量分析，其中特别对美式期权，与路径有关期权以及隐含波动率等重要问题，展开了深入的讨论，另外，本书对所涉及的现代数学内容，都有专节介绍，尽可能作到内容是自封的。本书可用作应用数学、金融、保险、管理等专业研究生教材，也可供有关领域的研究人员和工作人员参考。',\n     'price': 39}}]}}"
     },
     "execution_count": 27,
     "metadata": {},
     "output_type": "execute_result"
    }
   ],
   "source": [
    "es.search(index='test', body={\n",
    "    \"query\": {\n",
    "        \"match\": {\n",
    "            # author字段类型为:keyword(不分词)\n",
    "            \"author\": \"姜礼尚\"\n",
    "        }\n",
    "    }\n",
    "})"
   ],
   "metadata": {
    "collapsed": false,
    "pycharm": {
     "name": "#%%\n"
    }
   }
  },
  {
   "cell_type": "code",
   "execution_count": 28,
   "outputs": [
    {
     "data": {
      "text/plain": "{'took': 1,\n 'timed_out': False,\n '_shards': {'total': 1, 'successful': 1, 'skipped': 0, 'failed': 0},\n 'hits': {'total': {'value': 1, 'relation': 'eq'},\n  'max_score': 13.374247,\n  'hits': [{'_index': 'test',\n    '_type': '_doc',\n    '_id': '121',\n    '_score': 13.374247,\n    '_source': {'name': '金融衍生产品定价的数学模型与案例分析',\n     'publish': '高等教育出版社',\n     'type': '金融理论',\n     'author': ['姜礼尚', '徐承龙', '任学敏'],\n     'info': '《金融衍生产品定价的数学模型与案例分析》可以看作是《期权定价的数学模型和方法》（第二版）的应用卷，全书分为理论篇和案例篇。理论篇进一步展示了偏微分方程方法在期权定价理论中的应用，集中阐明随机分析中鞅方法与偏微分方程方法之间的相互联系，以及Back-Scs模型的后续发展等：案例篇着重研究在已有定价模型和方法的基础上，针对各种金融和保险创新产品的具体实施条款，建立数学模型(即建立偏微分方程定解问题',\n     'price': 0}}]}}"
     },
     "execution_count": 28,
     "metadata": {},
     "output_type": "execute_result"
    }
   ],
   "source": [
    "es.search(index='test', body={\n",
    "    \"query\": {\n",
    "        \"bool\": {\n",
    "            \"must\": [\n",
    "                {\"match\":\n",
    "                    {\"author\":\n",
    "                        {\n",
    "                            \"query\": \"姜礼尚\"\n",
    "                        }\n",
    "                    }\n",
    "                },\n",
    "                {\"match\":\n",
    "                    {\"author\":\n",
    "                        {\n",
    "                            \"query\": \"徐承龙\"\n",
    "                        }\n",
    "                    }\n",
    "                }\n",
    "            ]\n",
    "        }\n",
    "    }\n",
    "}\n",
    "          )"
   ],
   "metadata": {
    "collapsed": false,
    "pycharm": {
     "name": "#%%\n"
    }
   }
  },
  {
   "cell_type": "code",
   "execution_count": null,
   "outputs": [],
   "source": [],
   "metadata": {
    "collapsed": false,
    "pycharm": {
     "name": "#%%\n"
    }
   }
  }
 ],
 "metadata": {
  "kernelspec": {
   "display_name": "Python 3",
   "language": "python",
   "name": "python3"
  },
  "language_info": {
   "codemirror_mode": {
    "name": "ipython",
    "version": 2
   },
   "file_extension": ".py",
   "mimetype": "text/x-python",
   "name": "python",
   "nbconvert_exporter": "python",
   "pygments_lexer": "ipython2",
   "version": "2.7.6"
  }
 },
 "nbformat": 4,
 "nbformat_minor": 0
}