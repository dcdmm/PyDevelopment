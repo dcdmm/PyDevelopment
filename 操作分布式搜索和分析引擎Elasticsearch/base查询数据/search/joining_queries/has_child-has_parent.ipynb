{
 "cells": [
  {
   "cell_type": "code",
   "execution_count": 11,
   "metadata": {
    "collapsed": true
   },
   "outputs": [],
   "source": [
    "from elasticsearch import Elasticsearch"
   ]
  },
  {
   "cell_type": "code",
   "execution_count": 12,
   "outputs": [
    {
     "data": {
      "text/plain": "{'acknowledged': True, 'shards_acknowledged': True, 'index': 'es0'}"
     },
     "execution_count": 12,
     "metadata": {},
     "output_type": "execute_result"
    }
   ],
   "source": [
    "'''\n",
    "Parent-join restrictions\n",
    "    Only one join field mapping is allowed per index.\n",
    "    Parent and child documents must be indexed on the same shard. This means that the same routing value needs to be provided when getting, deleting, or updating a child document.\n",
    "    An element can have multiple children but only one parent.\n",
    "    It is possible to add a new relation to an existing join field.\n",
    "    It is also possible to add a child to an existing element but only if the element is already a parent.\n",
    "'''\n",
    "es = Elasticsearch([{'host': 'localhost', 'port': 9200}])\n",
    "body = {\n",
    "    \"mappings\": {\n",
    "        \"properties\": {\n",
    "            \"name\": {\n",
    "                \"type\": \"keyword\"\n",
    "            },\n",
    "            \"my-join-field\": {  # 字段名称\n",
    "                \"type\": \"join\",\n",
    "                \"relations\": {\n",
    "                    \"class\": \"student\" # Defines a single relation where class is parent of class.\n",
    "                    # it is also possible to define multiple children for a single parent:\n",
    "                    # \"class\": [\"student\", \"teacher\"]\n",
    "                }\n",
    "            }\n",
    "        }\n",
    "    }\n",
    "}\n",
    "es.indices.create(index='es0', body=body)"
   ],
   "metadata": {
    "collapsed": false,
    "pycharm": {
     "name": "#%%\n"
    }
   }
  },
  {
   "cell_type": "code",
   "execution_count": 13,
   "outputs": [
    {
     "data": {
      "text/plain": "{'_index': 'es0',\n '_type': '_doc',\n '_id': '4',\n '_version': 1,\n 'result': 'created',\n '_shards': {'total': 2, 'successful': 1, 'failed': 0},\n '_seq_no': 4,\n '_primary_term': 1}"
     },
     "execution_count": 13,
     "metadata": {},
     "output_type": "execute_result"
    }
   ],
   "source": [
    "es.index(index='es0', id=0, body={\n",
    "    \"name\": \"一班\",\n",
    "    \"my-join-field\": {\n",
    "        \"name\": \"class\"  # 父文档\n",
    "    }\n",
    "})\n",
    "es.index(index='es0', id=1, body={\n",
    "    \"name\": \"二班\",\n",
    "    \"my-join-field\": {\n",
    "        \"name\": \"class\"\n",
    "    }\n",
    "})\n",
    "es.index(index='es0', id=2, body={\n",
    "    \"name\": \"xiaoming\",\n",
    "    \"my-join-field\": {\n",
    "        \"name\": \"student\",  # 子文档\n",
    "        \"parent\": 0  # The parent id of this child document\n",
    "    }\n",
    "},\n",
    "         # The routing value is mandatory because parent and child documents must be indexed on the same shard\n",
    "         routing=0)\n",
    "\n",
    "es.index(index='es0', id=3, body={\n",
    "    \"name\": \"xiaoli\",\n",
    "    \"my-join-field\": {\n",
    "        \"name\": \"student\",\n",
    "        \"parent\": 0\n",
    "    }\n",
    "},\n",
    "         routing=0)\n",
    "\n",
    "es.index(index='es0', id=4, body={\n",
    "    \"name\": \"xiahei\",\n",
    "    \"my-join-field\": {\n",
    "        \"name\": \"student\",\n",
    "        \"parent\": 1\n",
    "    }\n",
    "},\n",
    "         routing=1)"
   ],
   "metadata": {
    "collapsed": false,
    "pycharm": {
     "name": "#%%\n"
    }
   }
  },
  {
   "cell_type": "code",
   "execution_count": 14,
   "outputs": [
    {
     "data": {
      "text/plain": "{'took': 21,\n 'timed_out': False,\n '_shards': {'total': 1, 'successful': 1, 'skipped': 0, 'failed': 0},\n 'hits': {'total': {'value': 1, 'relation': 'eq'},\n  'max_score': 1.0,\n  'hits': [{'_index': 'es0',\n    '_type': '_doc',\n    '_id': '0',\n    '_score': 1.0,\n    '_source': {'name': '一班', 'my-join-field': {'name': 'class'}}}]}}"
     },
     "execution_count": 14,
     "metadata": {},
     "output_type": "execute_result"
    }
   ],
   "source": [
    "body = {\n",
    "    \"query\": {\n",
    "        \"has_child\": {\n",
    "            \"type\": \"student\",\n",
    "            \"query\": {\n",
    "                \"match\": {\n",
    "                    \"name\": \"xiaoli\"\n",
    "                }\n",
    "            }\n",
    "        }\n",
    "    }\n",
    "}\n",
    "'''\n",
    "GET test/_search\n",
    "`body`\n",
    "'''\n",
    "# Returns parent documents whose joined child documents match a provided query.\n",
    "es.search(index='es0', body=body)"
   ],
   "metadata": {
    "collapsed": false,
    "pycharm": {
     "name": "#%%\n"
    }
   }
  },
  {
   "cell_type": "code",
   "execution_count": 15,
   "outputs": [
    {
     "data": {
      "text/plain": "{'took': 4,\n 'timed_out': False,\n '_shards': {'total': 1, 'successful': 1, 'skipped': 0, 'failed': 0},\n 'hits': {'total': {'value': 2, 'relation': 'eq'},\n  'max_score': 1.0,\n  'hits': [{'_index': 'es0',\n    '_type': '_doc',\n    '_id': '2',\n    '_score': 1.0,\n    '_routing': '0',\n    '_source': {'name': 'xiaoming',\n     'my-join-field': {'name': 'student', 'parent': 0}}},\n   {'_index': 'es0',\n    '_type': '_doc',\n    '_id': '3',\n    '_score': 1.0,\n    '_routing': '0',\n    '_source': {'name': 'xiaoli',\n     'my-join-field': {'name': 'student', 'parent': 0}}}]}}"
     },
     "execution_count": 15,
     "metadata": {},
     "output_type": "execute_result"
    }
   ],
   "source": [
    "# Returns child documents whose joined parent document matches a provided query.\n",
    "es.search(index='es0', body={\n",
    "    \"query\": {\n",
    "        \"has_parent\": {\n",
    "            \"parent_type\": \"class\",\n",
    "            \"query\": {\n",
    "                \"match\": {\n",
    "                    \"name\": \"一班\"\n",
    "                }\n",
    "            }\n",
    "        }\n",
    "    }\n",
    "})"
   ],
   "metadata": {
    "collapsed": false,
    "pycharm": {
     "name": "#%%\n"
    }
   }
  },
  {
   "cell_type": "code",
   "execution_count": 10,
   "outputs": [
    {
     "data": {
      "text/plain": "{'acknowledged': True}"
     },
     "execution_count": 10,
     "metadata": {},
     "output_type": "execute_result"
    }
   ],
   "source": [
    "es.indices.delete('es0')"
   ],
   "metadata": {
    "collapsed": false,
    "pycharm": {
     "name": "#%%\n"
    }
   }
  },
  {
   "cell_type": "code",
   "execution_count": null,
   "outputs": [],
   "source": [],
   "metadata": {
    "collapsed": false,
    "pycharm": {
     "name": "#%%\n"
    }
   }
  }
 ],
 "metadata": {
  "kernelspec": {
   "display_name": "Python 3",
   "language": "python",
   "name": "python3"
  },
  "language_info": {
   "codemirror_mode": {
    "name": "ipython",
    "version": 2
   },
   "file_extension": ".py",
   "mimetype": "text/x-python",
   "name": "python",
   "nbconvert_exporter": "python",
   "pygments_lexer": "ipython2",
   "version": "2.7.6"
  }
 },
 "nbformat": 4,
 "nbformat_minor": 0
}