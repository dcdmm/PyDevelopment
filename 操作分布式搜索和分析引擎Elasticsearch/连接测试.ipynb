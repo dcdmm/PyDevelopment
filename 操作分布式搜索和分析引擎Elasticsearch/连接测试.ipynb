{
 "cells": [
  {
   "cell_type": "code",
   "id": "initial_id",
   "metadata": {
    "collapsed": true,
    "ExecuteTime": {
     "end_time": "2024-06-19T01:36:58.395484Z",
     "start_time": "2024-06-19T01:36:57.967844Z"
    }
   },
   "source": "from elasticsearch import Elasticsearch",
   "outputs": [],
   "execution_count": 1
  },
  {
   "metadata": {
    "ExecuteTime": {
     "end_time": "2024-06-19T01:37:14.397607Z",
     "start_time": "2024-06-19T01:37:14.353820Z"
    }
   },
   "cell_type": "code",
   "source": [
    "es_right = Elasticsearch([{'host': 'localhost', 'port': 9200}])\n",
    "\n",
    "# Returns whether the cluster is running.\n",
    "if es_right.ping():\n",
    "    print(\"Connected!\")  # print->Connected\n",
    "else:\n",
    "    print(\"Connection failed!\")"
   ],
   "id": "76cf396f773fb18b",
   "outputs": [
    {
     "name": "stdout",
     "output_type": "stream",
     "text": [
      "Connected!\n"
     ]
    }
   ],
   "execution_count": 2
  },
  {
   "metadata": {
    "ExecuteTime": {
     "end_time": "2024-06-19T01:37:56.431850Z",
     "start_time": "2024-06-19T01:37:45.640828Z"
    }
   },
   "cell_type": "code",
   "source": [
    "es_error = Elasticsearch([{'host': 'dcdmm', 'port': 9200}])\n",
    "\n",
    "if es_error.ping():\n",
    "    print(\"Connected!\")\n",
    "else:\n",
    "    print(\"Connection failed!\")  # print->Connection failed!"
   ],
   "id": "73c598bb58ee0dda",
   "outputs": [
    {
     "name": "stdout",
     "output_type": "stream",
     "text": [
      "Connection failed!\n"
     ]
    }
   ],
   "execution_count": 3
  },
  {
   "metadata": {},
   "cell_type": "code",
   "outputs": [],
   "execution_count": null,
   "source": "",
   "id": "ff82244aea728abf"
  }
 ],
 "metadata": {
  "kernelspec": {
   "display_name": "Python 3",
   "language": "python",
   "name": "python3"
  },
  "language_info": {
   "codemirror_mode": {
    "name": "ipython",
    "version": 2
   },
   "file_extension": ".py",
   "mimetype": "text/x-python",
   "name": "python",
   "nbconvert_exporter": "python",
   "pygments_lexer": "ipython2",
   "version": "2.7.6"
  }
 },
 "nbformat": 4,
 "nbformat_minor": 5
}
