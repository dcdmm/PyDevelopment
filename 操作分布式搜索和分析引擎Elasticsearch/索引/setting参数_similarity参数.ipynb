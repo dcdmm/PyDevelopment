{
 "cells": [
  {
   "cell_type": "code",
   "execution_count": 13,
   "metadata": {},
   "outputs": [],
   "source": [
    "from elasticsearch import Elasticsearch"
   ]
  },
  {
   "cell_type": "code",
   "execution_count": 14,
   "metadata": {},
   "outputs": [],
   "source": [
    "es = Elasticsearch([{'host': 'localhost', 'port': 9200}])"
   ]
  },
  {
   "cell_type": "code",
   "execution_count": 15,
   "metadata": {},
   "outputs": [
    {
     "data": {
      "text/plain": [
       "{'acknowledged': True, 'shards_acknowledged': True, 'index': 'es0'}"
      ]
     },
     "execution_count": 15,
     "metadata": {},
     "output_type": "execute_result"
    }
   ],
   "source": [
    "# 参考:GitHubProjects\\MLBase\\H_BasicTheory\\机器学习\\NLP\\bm25\n",
    "body = {\n",
    "    \"settings\": {\n",
    "        \"similarity\": {\n",
    "            \"custom_similarity\": {\n",
    "                \"type\": \"BM25\",  # 默认为Okapi_BM25 \n",
    "                \"k1\": 0.1,  # 默认1.2\n",
    "                \"b\": 0.1  # 默认0.75\n",
    "            }\n",
    "        }\n",
    "    },\n",
    "    \"mappings\": {\n",
    "        \"properties\": {\n",
    "            \"information\": {\n",
    "                \"type\": \"text\",\n",
    "                \"similarity\": \"custom_similarity\"\n",
    "            }\n",
    "        }\n",
    "    }\n",
    "}\n",
    "\n",
    "if es.indices.exists('es0'):\n",
    "    es.indices.delete('es0')\n",
    "es.indices.create('es0', body=body)"
   ]
  },
  {
   "cell_type": "code",
   "execution_count": 16,
   "metadata": {},
   "outputs": [
    {
     "data": {
      "text/plain": [
       "{'_index': 'es0',\n",
       " '_type': '_doc',\n",
       " '_id': '7',\n",
       " '_version': 1,\n",
       " 'result': 'created',\n",
       " '_shards': {'total': 2, 'successful': 1, 'failed': 0},\n",
       " '_seq_no': 7,\n",
       " '_primary_term': 1}"
      ]
     },
     "execution_count": 16,
     "metadata": {},
     "output_type": "execute_result"
    }
   ],
   "source": [
    "es.index(index='es0', id=0, body={\"information\": \"屈光不正\"})\n",
    "es.index(index='es0', id=1, body={\"information\": \"左眼屈光不正\"})\n",
    "es.index(index='es0', id=2, body={\"information\": \"左眼屈光不正、右眼屈光不正、双眼屈光不正\"})\n",
    "es.index(index='es0', id=3, body={\"information\": \"脾全切术后\"})\n",
    "es.index(index='es0', id=4, body={\"information\": \"阑尾切除术后\"})\n",
    "es.index(index='es0', id=5, body={\"information\": \"宫颈切除术后\"})\n",
    "es.index(index='es0', id=6, body={\"information\": \"甲状腺切除术后\"})\n",
    "es.index(index='es0', id=7, body={\"information\": \"屈光参差\"})"
   ]
  },
  {
   "cell_type": "code",
   "execution_count": 18,
   "metadata": {},
   "outputs": [
    {
     "data": {
      "text/plain": [
       "{'took': 0,\n",
       " 'timed_out': False,\n",
       " '_shards': {'total': 1, 'successful': 1, 'skipped': 0, 'failed': 0},\n",
       " 'hits': {'total': {'value': 4, 'relation': 'eq'},\n",
       "  'max_score': 3.4689374,\n",
       "  'hits': [{'_index': 'es0',\n",
       "    '_type': '_doc',\n",
       "    '_id': '2',\n",
       "    '_score': 3.4689374,\n",
       "    '_source': {'information': '左眼屈光不正、右眼屈光不正、双眼屈光不正'}},\n",
       "   {'_index': 'es0',\n",
       "    '_type': '_doc',\n",
       "    '_id': '0',\n",
       "    '_score': 3.288028,\n",
       "    '_source': {'information': '屈光不正'}},\n",
       "   {'_index': 'es0',\n",
       "    '_type': '_doc',\n",
       "    '_id': '1',\n",
       "    '_score': 3.2794766,\n",
       "    '_source': {'information': '左眼屈光不正'}},\n",
       "   {'_index': 'es0',\n",
       "    '_type': '_doc',\n",
       "    '_id': '7',\n",
       "    '_score': 1.3917166,\n",
       "    '_source': {'information': '屈光参差'}}]}}"
      ]
     },
     "execution_count": 18,
     "metadata": {},
     "output_type": "execute_result"
    }
   ],
   "source": [
    "es.search(index='es0', body={\n",
    "    \"query\": {\n",
    "        \"match\": {\n",
    "            \"information\": {\n",
    "                \"query\": \"屈光不正\"\n",
    "            }\n",
    "        }\n",
    "    }\n",
    "})"
   ]
  },
  {
   "cell_type": "markdown",
   "metadata": {},
   "source": [
    "### query=\"屈光不正\"时不同参数_score测试结果\n",
    "\n",
    "|               | 屈光不正  | 左眼屈光不正 | 左眼屈光不正、右眼屈光不正、双眼屈光不正 | 屈光参差  |\n",
    "| ------------- | --------- | ------------ | ---------------------------------------- | --------- |\n",
    "| k1=1.2,b=0.75 | 3.9715233 | 3.478507     | 3.8502555                                | 1.6810182 |\n",
    "| k1=1.2,b=1    | 4.274436  | 3.5519967    | 3.5519962                                | 1.8092315 |\n",
    "| k1=1.2,b=0    | 3.2752175 | 3.2752175    | 5.1467705                                | 1.3862942 |\n",
    "| k1=3,b=0.75   | 4.315581  | 3.5614014    | 4.121621                                 | 1.8266468 |\n",
    "| k1=0,b=0.75   | 3.2752175 | 3.2752175    | 3.2752175                                | 1.3862944 |\n",
    "| k1=3,b=0      | 3.2752175 | 3.2752175    | 6.550435                                 | 1.3862944 |\n",
    "| k1=0,b=1      | 3.2752175 | 3.2752175    | 3.2752175                                | 1.3862944 |"
   ]
  }
 ],
 "metadata": {
  "kernelspec": {
   "display_name": "base",
   "language": "python",
   "name": "python3"
  },
  "language_info": {
   "codemirror_mode": {
    "name": "ipython",
    "version": 3
   },
   "file_extension": ".py",
   "mimetype": "text/x-python",
   "name": "python",
   "nbconvert_exporter": "python",
   "pygments_lexer": "ipython3",
   "version": "3.10.12"
  }
 },
 "nbformat": 4,
 "nbformat_minor": 2
}
