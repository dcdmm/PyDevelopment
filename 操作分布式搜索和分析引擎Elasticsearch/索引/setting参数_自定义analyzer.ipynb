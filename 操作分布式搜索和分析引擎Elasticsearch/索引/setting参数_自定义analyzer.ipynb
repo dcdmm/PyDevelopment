{
 "cells": [
  {
   "cell_type": "code",
   "execution_count": 20,
   "metadata": {
    "collapsed": true
   },
   "outputs": [],
   "source": [
    "from elasticsearch import Elasticsearch\n",
    "# 参考:https://www.elastic.co/guide/en/elasticsearch/reference/7.11/analysis-custom-analyzer.html"
   ]
  },
  {
   "cell_type": "code",
   "execution_count": 21,
   "outputs": [
    {
     "data": {
      "text/plain": "{'acknowledged': True, 'shards_acknowledged': True, 'index': 'es0'}"
     },
     "execution_count": 21,
     "metadata": {},
     "output_type": "execute_result"
    }
   ],
   "source": [
    "es = Elasticsearch([{'host': 'localhost', 'port': 9200}])\n",
    "\n",
    "body = {\n",
    "    \"settings\": {\n",
    "        \"analysis\": {\n",
    "            \"analyzer\": {\n",
    "                \"my_custom_analyzer\": {\n",
    "                    \"type\": \"custom\",\n",
    "                    # A built-in or customised tokenizer. (Required)\n",
    "                    \"tokenizer\": \"standard\",\n",
    "                    # Character filters are used to preprocess the stream of characters before it is passed to the tokenizer.\n",
    "                    # 参考:https://www.elastic.co/guide/en/elasticsearch/reference/7.11/analysis-charfilters.html\n",
    "                    \"char_filter\": [\n",
    "                        \"html_strip\"\n",
    "                    ],\n",
    "                    # Token filters accept a stream of tokens from a tokenizer and can modify tokens (eg lowercasing), delete tokens (eg remove stopwords) or add tokens (eg synonyms).\n",
    "                    # 参考:https://www.elastic.co/guide/en/elasticsearch/reference/7.11/analysis-tokenfilters.html\n",
    "                    \"filter\": [\n",
    "                        \"lowercase\",\n",
    "                        \"english_stop\"\n",
    "                    ]\n",
    "                }\n",
    "            },\n",
    "            \"filter\": {\n",
    "                \"english_stop\": {\n",
    "                    \"type\": \"stop\",\n",
    "                    \"stopwords\": \"_english_\"\n",
    "                }\n",
    "            }\n",
    "        }\n",
    "    },\n",
    "    \"mappings\": {\n",
    "        \"properties\": {\n",
    "            \"information\": {\n",
    "                \"type\": \"text\"\n",
    "            },\n",
    "            \"say\": {\n",
    "                \"type\": \"text\",\n",
    "                # Only text fields support the analyzer mapping parameter.\n",
    "                # 可作用于:text,token-count\n",
    "                \"analyzer\": \"my_custom_analyzer\"\n",
    "            }\n",
    "        }\n",
    "    }\n",
    "}\n",
    "\n",
    "if es.indices.exists('es0'):\n",
    "    es.indices.delete('es0')\n",
    "es.indices.create('es0', body=body)"
   ],
   "metadata": {
    "collapsed": false,
    "pycharm": {
     "name": "#%%\n"
    }
   }
  },
  {
   "cell_type": "code",
   "execution_count": 22,
   "outputs": [
    {
     "data": {
      "text/plain": "{'es0': {'aliases': {},\n  'mappings': {'properties': {'information': {'type': 'text'},\n    'say': {'type': 'text', 'analyzer': 'my_custom_analyzer'}}},\n  'settings': {'index': {'routing': {'allocation': {'include': {'_tier_preference': 'data_content'}}},\n    'number_of_shards': '1',\n    'provided_name': 'es0',\n    'creation_date': '1693382944259',\n    'analysis': {'filter': {'english_stop': {'type': 'stop',\n       'stopwords': '_english_'}},\n     'analyzer': {'my_custom_analyzer': {'filter': ['lowercase',\n        'english_stop'],\n       'char_filter': ['html_strip'],\n       'type': 'custom',\n       'tokenizer': 'standard'}}},\n    'number_of_replicas': '1',\n    'uuid': 'CH92wqqOTmaWYqhqkX04jg',\n    'version': {'created': '7110299'}}}}}"
     },
     "execution_count": 22,
     "metadata": {},
     "output_type": "execute_result"
    }
   ],
   "source": [
    "es.indices.get('es0')"
   ],
   "metadata": {
    "collapsed": false,
    "pycharm": {
     "name": "#%%\n"
    }
   }
  },
  {
   "cell_type": "code",
   "execution_count": 23,
   "outputs": [
    {
     "data": {
      "text/plain": "{'acknowledged': True}"
     },
     "execution_count": 23,
     "metadata": {},
     "output_type": "execute_result"
    }
   ],
   "source": [
    "es.indices.delete('es0')"
   ],
   "metadata": {
    "collapsed": false,
    "pycharm": {
     "name": "#%%\n"
    }
   }
  }
 ],
 "metadata": {
  "kernelspec": {
   "display_name": "Python 3",
   "language": "python",
   "name": "python3"
  },
  "language_info": {
   "codemirror_mode": {
    "name": "ipython",
    "version": 2
   },
   "file_extension": ".py",
   "mimetype": "text/x-python",
   "name": "python",
   "nbconvert_exporter": "python",
   "pygments_lexer": "ipython2",
   "version": "2.7.6"
  }
 },
 "nbformat": 4,
 "nbformat_minor": 0
}