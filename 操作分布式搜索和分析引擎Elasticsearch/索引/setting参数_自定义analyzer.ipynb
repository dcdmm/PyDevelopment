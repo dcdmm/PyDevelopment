{
 "cells": [
  {
   "cell_type": "code",
   "execution_count": 287,
   "metadata": {
    "collapsed": true
   },
   "outputs": [],
   "source": [
    "from elasticsearch import Elasticsearch\n",
    "# 参考:https://www.elastic.co/guide/en/elasticsearch/reference/7.11/analysis-custom-analyzer.html"
   ]
  },
  {
   "cell_type": "code",
   "execution_count": 288,
   "outputs": [
    {
     "data": {
      "text/plain": "{'acknowledged': True, 'shards_acknowledged': True, 'index': 'es0'}"
     },
     "execution_count": 288,
     "metadata": {},
     "output_type": "execute_result"
    }
   ],
   "source": [
    "es = Elasticsearch([{'host': 'localhost', 'port': 9200}])\n",
    "\n",
    "body = {\n",
    "    \"settings\": {\n",
    "        \"analysis\": {\n",
    "            \"analyzer\": {\n",
    "                \"my_custom_analyzer\": {\n",
    "                    # Setting type to custom tells Elasticsearch that we are defining a custom analyzer.\n",
    "                    \"type\": \"custom\",\n",
    "                    # A built-in or customised tokenizer. (Required)\n",
    "                    \"tokenizer\": \"ik_max_word\",\n",
    "                    # Character filters are used to preprocess the stream of characters before it is passed to the tokenizer.\n",
    "                    # 参考:https://www.elastic.co/guide/en/elasticsearch/reference/7.11/analysis-charfilters.html\n",
    "                    \"char_filter\": [\n",
    "                        \"emoticons\"  # 自定义\n",
    "                    ],\n",
    "                    # Token filters accept a stream of tokens from a tokenizer and can modify tokens (eg lowercasing), delete tokens (eg remove stopwords) or add tokens (eg synonyms).\n",
    "                    # 参考:https://www.elastic.co/guide/en/elasticsearch/reference/7.11/analysis-tokenfilters.html\n",
    "                    \"filter\": [\n",
    "                        \"lowercase\",  # 内置\n",
    "                        \"english_stop\"  # 自定义\n",
    "                    ]\n",
    "                }\n",
    "            },\n",
    "            \"char_filter\": {\n",
    "                \"emoticons\": {\n",
    "                    \"type\": \"mapping\",\n",
    "                    \"mappings\": [\n",
    "                        \"II => 2\",\n",
    "                        \"ii => 2\",\n",
    "                        \"Ⅱ => 2\"\n",
    "                        \"III => 3\",\n",
    "                        \"iii => 3\",\n",
    "                        \"Ⅲ => 3\"\n",
    "                    ]\n",
    "                }\n",
    "            },\n",
    "            \"filter\": {\n",
    "                \"english_stop\": {\n",
    "                    \"type\": \"stop\",\n",
    "                    \"stopwords\": \"_english_\"\n",
    "                }\n",
    "            }\n",
    "        }\n",
    "    },\n",
    "    \"mappings\": {\n",
    "        \"properties\": {\n",
    "            \"information\": {\n",
    "                \"type\": \"text\",\n",
    "                # Only text fields support the analyzer mapping parameter.\n",
    "                # 可作用于:text,token-count\n",
    "                \"analyzer\": \"my_custom_analyzer\"\n",
    "            }\n",
    "        }\n",
    "    }\n",
    "}\n",
    "\n",
    "if es.indices.exists('es0'):\n",
    "    es.indices.delete('es0')\n",
    "es.indices.create('es0', body=body)"
   ],
   "metadata": {
    "collapsed": false,
    "pycharm": {
     "name": "#%%\n"
    }
   }
  },
  {
   "cell_type": "code",
   "execution_count": 289,
   "outputs": [
    {
     "data": {
      "text/plain": "{'es0': {'aliases': {},\n  'mappings': {'properties': {'information': {'type': 'text',\n     'analyzer': 'my_custom_analyzer'}}},\n  'settings': {'index': {'routing': {'allocation': {'include': {'_tier_preference': 'data_content'}}},\n    'number_of_shards': '1',\n    'provided_name': 'es0',\n    'creation_date': '1697448196171',\n    'analysis': {'filter': {'english_stop': {'type': 'stop',\n       'stopwords': '_english_'}},\n     'analyzer': {'my_custom_analyzer': {'filter': ['lowercase',\n        'english_stop'],\n       'char_filter': ['emoticons'],\n       'type': 'custom',\n       'tokenizer': 'ik_max_word'}},\n     'char_filter': {'emoticons': {'type': 'mapping',\n       'mappings': ['II => 2',\n        'ii => 2',\n        'Ⅱ => 2III => 3',\n        'iii => 3',\n        'Ⅲ => 3']}}},\n    'number_of_replicas': '1',\n    'uuid': 'l2hyad0DROSKJDB1_FezKg',\n    'version': {'created': '7110299'}}}}}"
     },
     "execution_count": 289,
     "metadata": {},
     "output_type": "execute_result"
    }
   ],
   "source": [
    "es.indices.get('es0')"
   ],
   "metadata": {
    "collapsed": false,
    "pycharm": {
     "name": "#%%\n"
    }
   }
  },
  {
   "cell_type": "code",
   "execution_count": 293,
   "outputs": [
    {
     "data": {
      "text/plain": "{'_index': 'es0',\n '_type': '_doc',\n '_id': '0',\n '_version': 2,\n 'result': 'updated',\n '_shards': {'total': 2, 'successful': 1, 'failed': 0},\n '_seq_no': 3,\n '_primary_term': 1}"
     },
     "execution_count": 293,
     "metadata": {},
     "output_type": "execute_result"
    }
   ],
   "source": [
    "es.index(index='es0',\n",
    "         id=0,\n",
    "         body={\"information\": \"乳腺BI-RADS2\"})"
   ],
   "metadata": {
    "collapsed": false,
    "pycharm": {
     "name": "#%%\n"
    }
   }
  },
  {
   "cell_type": "code",
   "execution_count": 294,
   "outputs": [
    {
     "data": {
      "text/plain": "{'_index': 'es0',\n '_type': '_doc',\n '_id': '1',\n '_version': 3,\n 'result': 'updated',\n '_shards': {'total': 2, 'successful': 1, 'failed': 0},\n '_seq_no': 4,\n '_primary_term': 1}"
     },
     "execution_count": 294,
     "metadata": {},
     "output_type": "execute_result"
    }
   ],
   "source": [
    "es.index(index='es0',\n",
    "         id=1,\n",
    "         body={\"information\": \"乳腺BI-RADSii\"})"
   ],
   "metadata": {
    "collapsed": false,
    "pycharm": {
     "name": "#%%\n"
    }
   }
  },
  {
   "cell_type": "code",
   "execution_count": 295,
   "outputs": [
    {
     "data": {
      "text/plain": "{'_index': 'es0',\n '_type': '_doc',\n '_id': '2',\n '_version': 1,\n 'result': 'created',\n '_shards': {'total': 2, 'successful': 1, 'failed': 0},\n '_seq_no': 5,\n '_primary_term': 1}"
     },
     "execution_count": 295,
     "metadata": {},
     "output_type": "execute_result"
    }
   ],
   "source": [
    "es.index(index='es0',\n",
    "         id=2,\n",
    "         body={\"information\": \"乳腺BI-RADS3\"})"
   ],
   "metadata": {
    "collapsed": false,
    "pycharm": {
     "name": "#%%\n"
    }
   }
  },
  {
   "cell_type": "code",
   "execution_count": 296,
   "outputs": [
    {
     "data": {
      "text/plain": "{'_index': 'es0',\n '_type': '_doc',\n '_id': '3',\n '_version': 1,\n 'result': 'created',\n '_shards': {'total': 2, 'successful': 1, 'failed': 0},\n '_seq_no': 6,\n '_primary_term': 1}"
     },
     "execution_count": 296,
     "metadata": {},
     "output_type": "execute_result"
    }
   ],
   "source": [
    "es.index(index='es0',\n",
    "         id=3,\n",
    "         body={\"information\": \"乳腺BI-RADSⅢ\"})"
   ],
   "metadata": {
    "collapsed": false,
    "pycharm": {
     "name": "#%%\n"
    }
   }
  },
  {
   "cell_type": "code",
   "execution_count": 298,
   "outputs": [
    {
     "data": {
      "text/plain": "{'took': 2,\n 'timed_out': False,\n '_shards': {'total': 1, 'successful': 1, 'skipped': 0, 'failed': 0},\n 'hits': {'total': {'value': 4, 'relation': 'eq'},\n  'max_score': 1.8469727,\n  'hits': [{'_index': 'es0',\n    '_type': '_doc',\n    '_id': '2',\n    '_score': 1.8469727,\n    '_source': {'information': '乳腺BI-RADS3'}},\n   {'_index': 'es0',\n    '_type': '_doc',\n    '_id': '3',\n    '_score': 1.8469727,\n    '_source': {'information': '乳腺BI-RADSⅢ'}},\n   {'_index': 'es0',\n    '_type': '_doc',\n    '_id': '0',\n    '_score': 0.19361557,\n    '_source': {'information': '乳腺BI-RADS2'}},\n   {'_index': 'es0',\n    '_type': '_doc',\n    '_id': '1',\n    '_score': 0.19361557,\n    '_source': {'information': '乳腺BI-RADSii'}}]}}"
     },
     "execution_count": 298,
     "metadata": {},
     "output_type": "execute_result"
    }
   ],
   "source": [
    "es.search(index='es0', body={\n",
    "    \"query\": {\n",
    "        \"match\": {\n",
    "            \"information\": {\n",
    "                \"query\": \"乳腺BI-RADSiii\"\n",
    "            }\n",
    "        }\n",
    "    }\n",
    "})"
   ],
   "metadata": {
    "collapsed": false,
    "pycharm": {
     "name": "#%%\n"
    }
   }
  },
  {
   "cell_type": "code",
   "execution_count": 299,
   "outputs": [
    {
     "data": {
      "text/plain": "{'took': 2,\n 'timed_out': False,\n '_shards': {'total': 1, 'successful': 1, 'skipped': 0, 'failed': 0},\n 'hits': {'total': {'value': 4, 'relation': 'eq'},\n  'max_score': 1.3443439,\n  'hits': [{'_index': 'es0',\n    '_type': '_doc',\n    '_id': '0',\n    '_score': 1.3443439,\n    '_source': {'information': '乳腺BI-RADS2'}},\n   {'_index': 'es0',\n    '_type': '_doc',\n    '_id': '1',\n    '_score': 1.3443439,\n    '_source': {'information': '乳腺BI-RADSii'}},\n   {'_index': 'es0',\n    '_type': '_doc',\n    '_id': '2',\n    '_score': 0.19361557,\n    '_source': {'information': '乳腺BI-RADS3'}},\n   {'_index': 'es0',\n    '_type': '_doc',\n    '_id': '3',\n    '_score': 0.19361557,\n    '_source': {'information': '乳腺BI-RADSⅢ'}}]}}"
     },
     "execution_count": 299,
     "metadata": {},
     "output_type": "execute_result"
    }
   ],
   "source": [
    "es.search(index='es0', body={\n",
    "    \"query\": {\n",
    "        \"match\": {\n",
    "            \"information\": {\n",
    "                \"query\": \"乳腺BI-RADSii\"\n",
    "            }\n",
    "        }\n",
    "    }\n",
    "})"
   ],
   "metadata": {
    "collapsed": false,
    "pycharm": {
     "name": "#%%\n"
    }
   }
  },
  {
   "cell_type": "code",
   "execution_count": 300,
   "outputs": [
    {
     "data": {
      "text/plain": "{'took': 3,\n 'timed_out': False,\n '_shards': {'total': 1, 'successful': 1, 'skipped': 0, 'failed': 0},\n 'hits': {'total': {'value': 4, 'relation': 'eq'},\n  'max_score': 1.8469727,\n  'hits': [{'_index': 'es0',\n    '_type': '_doc',\n    '_id': '2',\n    '_score': 1.8469727,\n    '_source': {'information': '乳腺BI-RADS3'}},\n   {'_index': 'es0',\n    '_type': '_doc',\n    '_id': '3',\n    '_score': 1.8469727,\n    '_source': {'information': '乳腺BI-RADSⅢ'}},\n   {'_index': 'es0',\n    '_type': '_doc',\n    '_id': '0',\n    '_score': 0.19361557,\n    '_source': {'information': '乳腺BI-RADS2'}},\n   {'_index': 'es0',\n    '_type': '_doc',\n    '_id': '1',\n    '_score': 0.19361557,\n    '_source': {'information': '乳腺BI-RADSii'}}]}}"
     },
     "execution_count": 300,
     "metadata": {},
     "output_type": "execute_result"
    }
   ],
   "source": [
    "es.search(index='es0', body={\n",
    "    \"query\": {\n",
    "        \"match\": {\n",
    "            \"information\": {\n",
    "                \"query\": \"乳腺BI-RADS3\"\n",
    "            }\n",
    "        }\n",
    "    }\n",
    "})"
   ],
   "metadata": {
    "collapsed": false,
    "pycharm": {
     "name": "#%%\n"
    }
   }
  },
  {
   "cell_type": "code",
   "execution_count": 301,
   "outputs": [
    {
     "data": {
      "text/plain": "['乳腺', 'bi-rads3', 'bi', 'rads', '3']"
     },
     "execution_count": 301,
     "metadata": {},
     "output_type": "execute_result"
    }
   ],
   "source": [
    "analysis = es.indices.analyze(index=\"es0\", body={\n",
    "    \"analyzer\": \"my_custom_analyzer\",\n",
    "    \"text\": \"乳腺BI-RADSiii\"\n",
    "})\n",
    "\n",
    "# 查看分词结果\n",
    "tokens = [token_info['token'] for token_info in analysis['tokens']]\n",
    "tokens"
   ],
   "metadata": {
    "collapsed": false,
    "pycharm": {
     "name": "#%%\n"
    }
   }
  },
  {
   "cell_type": "code",
   "execution_count": 302,
   "outputs": [
    {
     "data": {
      "text/plain": "{'acknowledged': True}"
     },
     "execution_count": 302,
     "metadata": {},
     "output_type": "execute_result"
    }
   ],
   "source": [
    "es.indices.delete('es0')"
   ],
   "metadata": {
    "collapsed": false,
    "pycharm": {
     "name": "#%%\n"
    }
   }
  },
  {
   "cell_type": "code",
   "execution_count": null,
   "outputs": [],
   "source": [],
   "metadata": {
    "collapsed": false,
    "pycharm": {
     "name": "#%%\n"
    }
   }
  }
 ],
 "metadata": {
  "kernelspec": {
   "display_name": "Python 3",
   "language": "python",
   "name": "python3"
  },
  "language_info": {
   "codemirror_mode": {
    "name": "ipython",
    "version": 2
   },
   "file_extension": ".py",
   "mimetype": "text/x-python",
   "name": "python",
   "nbconvert_exporter": "python",
   "pygments_lexer": "ipython2",
   "version": "2.7.6"
  }
 },
 "nbformat": 4,
 "nbformat_minor": 0
}
