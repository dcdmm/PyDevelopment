{
 "cells": [
  {
   "cell_type": "code",
   "execution_count": 4,
   "id": "initial_id",
   "metadata": {
    "collapsed": true
   },
   "outputs": [],
   "source": [
    "from elasticsearch import Elasticsearch\n",
    "\n",
    "es = Elasticsearch([{'host': 'localhost', 'port': 9200}])"
   ]
  },
  {
   "cell_type": "code",
   "execution_count": 5,
   "id": "2f10671c",
   "metadata": {},
   "outputs": [
    {
     "data": {
      "text/plain": [
       "{'acknowledged': True, 'shards_acknowledged': True, 'index': 'es0'}"
      ]
     },
     "execution_count": 5,
     "metadata": {},
     "output_type": "execute_result"
    }
   ],
   "source": [
    "body = {\n",
    "    \"settings\": {\n",
    "        \"analysis\": {\n",
    "            \"analyzer\": {\n",
    "                \"analyzer_index\": {\n",
    "                    \"tokenizer\": \"ik_max_word\",\n",
    "                    \"char_filter\": [\"emoticons\"],\n",
    "                    \"filter\": [\"english_stop\"]\n",
    "                },\n",
    "                \"analyzer_search\": {\n",
    "                    \"tokenizer\": \"ik_max_word\",\n",
    "                    \"char_filter\": [\"emoticons\"],\n",
    "                    \"filter\": [\n",
    "                        \"my_synonyms\",  # 推荐搜索时使用\n",
    "                        \"english_stop\"\n",
    "                    ]\n",
    "                }\n",
    "            },\n",
    "            \"filter\": {\n",
    "                \"my_synonyms\": {\n",
    "                    \"type\": \"synonym\",\n",
    "                    \"synonyms\": [\n",
    "                        \"母亲 , 妈妈 , mother\",\n",
    "                        \"父亲 , 爸爸 , father\",\n",
    "                        \"老虎 , 狮子 => 动物\",\n",
    "                        \"西红柿 , 黄瓜, 香蕉 => 水果, 蔬菜\"\n",
    "                    ],\n",
    "                    \"updateable\": True\n",
    "                },\n",
    "                \"english_stop\": {\n",
    "                    \"type\": \"stop\",\n",
    "                    \"stopwords\": \"_english_\"\n",
    "                }\n",
    "            },\n",
    "            \"char_filter\": {\n",
    "                \"emoticons\": {\n",
    "                    \"type\": \"mapping\",\n",
    "                    \"mappings\": [\n",
    "                        \"II => 2\",\n",
    "                        \"ii => 2\",\n",
    "                        \"Ⅱ => 2\"\n",
    "                        \"III => 3\",\n",
    "                        \"iii => 3\",\n",
    "                        \"Ⅲ => 3\"\n",
    "                    ]\n",
    "                }\n",
    "            }\n",
    "        }\n",
    "    },\n",
    "    \"mappings\": {\n",
    "        \"properties\": {\n",
    "            \"information\": {\n",
    "                \"type\": \"text\",\n",
    "                \"analyzer\": \"analyzer_index\",\n",
    "                \"search_analyzer\": \"analyzer_search\"   # ★★★★★仅会作用于full_text_queries\n",
    "            }\n",
    "        }\n",
    "    }\n",
    "}\n",
    "\n",
    "if es.indices.exists('es0'):\n",
    "    es.indices.delete('es0')\n",
    "es.indices.create('es0', body=body)"
   ]
  },
  {
   "cell_type": "code",
   "execution_count": 6,
   "id": "595ee6ed",
   "metadata": {},
   "outputs": [
    {
     "data": {
      "text/plain": [
       "{'_index': 'es0',\n",
       " '_type': '_doc',\n",
       " '_id': '7',\n",
       " '_version': 1,\n",
       " 'result': 'created',\n",
       " '_shards': {'total': 2, 'successful': 1, 'failed': 0},\n",
       " '_seq_no': 7,\n",
       " '_primary_term': 1}"
      ]
     },
     "execution_count": 6,
     "metadata": {},
     "output_type": "execute_result"
    }
   ],
   "source": [
    "es.index(index='es0', id=0, body={\"information\": \"我爱妈妈\"})\n",
    "es.index(index='es0', id=1, body={\"information\": \"我爱mother\"})\n",
    "es.index(index='es0', id=2, body={\"information\": \"我爱father\"})\n",
    "es.index(index='es0', id=3, body={\"information\": \"动物很可爱\"})\n",
    "es.index(index='es0', id=4, body={\"information\": \"小孩很可爱\"})\n",
    "es.index(index='es0', id=5, body={\"information\": \"蔬菜有利于健康\"})\n",
    "es.index(index='es0', id=6, body={\"information\": \"香蕉很好吃\"})\n",
    "es.index(index='es0', id=7, body={\"information\": \"水果很好吃\"})"
   ]
  },
  {
   "cell_type": "code",
   "execution_count": 7,
   "id": "52bb08c0",
   "metadata": {},
   "outputs": [
    {
     "data": {
      "text/plain": [
       "{'took': 1,\n",
       " 'timed_out': False,\n",
       " '_shards': {'total': 1, 'successful': 1, 'skipped': 0, 'failed': 0},\n",
       " 'hits': {'total': {'value': 3, 'relation': 'eq'},\n",
       "  'max_score': 2.8251233,\n",
       "  'hits': [{'_index': 'es0',\n",
       "    '_type': '_doc',\n",
       "    '_id': '0',\n",
       "    '_score': 2.8251233,\n",
       "    '_source': {'information': '我爱妈妈'}},\n",
       "   {'_index': 'es0',\n",
       "    '_type': '_doc',\n",
       "    '_id': '1',\n",
       "    '_score': 2.8251233,\n",
       "    '_source': {'information': '我爱mother'}},\n",
       "   {'_index': 'es0',\n",
       "    '_type': '_doc',\n",
       "    '_id': '2',\n",
       "    '_score': 0.9751481,\n",
       "    '_source': {'information': '我爱father'}}]}}"
      ]
     },
     "execution_count": 7,
     "metadata": {},
     "output_type": "execute_result"
    }
   ],
   "source": [
    "# 查询内容与setting参数_同近义词过滤_搜索时指定analyzer_demo.ipynb相同\n",
    "es.search(index='es0', body={\n",
    "    \"query\": {\n",
    "        \"match\": {\n",
    "            \"information\": {\n",
    "                \"query\": \"我爱我的母亲\"\n",
    "            }\n",
    "        }\n",
    "    }\n",
    "})"
   ]
  },
  {
   "cell_type": "code",
   "execution_count": 8,
   "id": "4509ae30",
   "metadata": {},
   "outputs": [
    {
     "data": {
      "text/plain": [
       "{'took': 1,\n",
       " 'timed_out': False,\n",
       " '_shards': {'total': 1, 'successful': 1, 'skipped': 0, 'failed': 0},\n",
       " 'hits': {'total': {'value': 2, 'relation': 'eq'},\n",
       "  'max_score': 4.4950805,\n",
       "  'hits': [{'_index': 'es0',\n",
       "    '_type': '_doc',\n",
       "    '_id': '3',\n",
       "    '_score': 4.4950805,\n",
       "    '_source': {'information': '动物很可爱'}},\n",
       "   {'_index': 'es0',\n",
       "    '_type': '_doc',\n",
       "    '_id': '4',\n",
       "    '_score': 2.6451051,\n",
       "    '_source': {'information': '小孩很可爱'}}]}}"
      ]
     },
     "execution_count": 8,
     "metadata": {},
     "output_type": "execute_result"
    }
   ],
   "source": [
    "es.search(index='es0', body={\n",
    "    \"query\": {\n",
    "        \"match\": {\n",
    "            \"information\": {\n",
    "                \"query\": \"老虎很可爱\"\n",
    "            }\n",
    "        }\n",
    "    }\n",
    "})"
   ]
  },
  {
   "cell_type": "code",
   "execution_count": 9,
   "id": "70a624a6",
   "metadata": {},
   "outputs": [
    {
     "data": {
      "text/plain": [
       "{'took': 1,\n",
       " 'timed_out': False,\n",
       " '_shards': {'total': 1, 'successful': 1, 'skipped': 0, 'failed': 0},\n",
       " 'hits': {'total': {'value': 3, 'relation': 'eq'},\n",
       "  'max_score': 4.4950805,\n",
       "  'hits': [{'_index': 'es0',\n",
       "    '_type': '_doc',\n",
       "    '_id': '7',\n",
       "    '_score': 4.4950805,\n",
       "    '_source': {'information': '水果很好吃'}},\n",
       "   {'_index': 'es0',\n",
       "    '_type': '_doc',\n",
       "    '_id': '6',\n",
       "    '_score': 2.6451051,\n",
       "    '_source': {'information': '香蕉很好吃'}},\n",
       "   {'_index': 'es0',\n",
       "    '_type': '_doc',\n",
       "    '_id': '5',\n",
       "    '_score': 1.4683185,\n",
       "    '_source': {'information': '蔬菜有利于健康'}}]}}"
      ]
     },
     "execution_count": 9,
     "metadata": {},
     "output_type": "execute_result"
    }
   ],
   "source": [
    "es.search(index='es0', body={\n",
    "    \"query\": {\n",
    "        \"match\": {\n",
    "            \"information\": {\n",
    "                \"query\": \"香蕉很好吃\"  # 香蕉被转换为水果(单向同义词),故水果很好吃_score更高\n",
    "            }\n",
    "        }\n",
    "    }\n",
    "})"
   ]
  },
  {
   "cell_type": "code",
   "execution_count": 10,
   "id": "5a9f7f3b",
   "metadata": {},
   "outputs": [
    {
     "data": {
      "text/plain": [
       "{'took': 0,\n",
       " 'timed_out': False,\n",
       " '_shards': {'total': 1, 'successful': 1, 'skipped': 0, 'failed': 0},\n",
       " 'hits': {'total': {'value': 1, 'relation': 'eq'},\n",
       "  'max_score': 1.8499753,\n",
       "  'hits': [{'_index': 'es0',\n",
       "    '_type': '_doc',\n",
       "    '_id': '0',\n",
       "    '_score': 1.8499753,\n",
       "    '_source': {'information': '我爱妈妈'}}]}}"
      ]
     },
     "execution_count": 10,
     "metadata": {},
     "output_type": "execute_result"
    }
   ],
   "source": [
    "es.search(index='es0', body=\n",
    "{\n",
    "    \"query\": {\n",
    "        \"term\": {\n",
    "            \"information\": {\n",
    "                \"value\": \"妈妈\",\n",
    "            }\n",
    "        }\n",
    "    }\n",
    "})"
   ]
  },
  {
   "cell_type": "code",
   "execution_count": 11,
   "id": "7ae33579",
   "metadata": {},
   "outputs": [
    {
     "data": {
      "text/plain": [
       "{'took': 0,\n",
       " 'timed_out': False,\n",
       " '_shards': {'total': 1, 'successful': 1, 'skipped': 0, 'failed': 0},\n",
       " 'hits': {'total': {'value': 0, 'relation': 'eq'},\n",
       "  'max_score': None,\n",
       "  'hits': []}}"
      ]
     },
     "execution_count": 11,
     "metadata": {},
     "output_type": "execute_result"
    }
   ],
   "source": [
    "# term-level_queries时analyzer仍使用该字段的analyzer进行搜索\n",
    "es.search(index='es0', body=\n",
    "{\n",
    "    \"query\": {\n",
    "        \"term\": {\n",
    "            \"information\": {\n",
    "                \"value\": \"母亲\"\n",
    "            }\n",
    "        }\n",
    "    }\n",
    "})"
   ]
  },
  {
   "cell_type": "code",
   "execution_count": null,
   "id": "f96be929",
   "metadata": {},
   "outputs": [],
   "source": [
    "# Reloads an index’s search analyzers and their resource\n",
    "# 参考:https://www.elastic.co/guide/en/elasticsearch/reference/7.11/indices-reload-analyzers.html\n",
    "# 参考:setting参数_同近义词过滤0.ipynb updateable字段\n",
    "es.indices.reload_search_analyzers('es0')"
   ]
  },
  {
   "cell_type": "code",
   "execution_count": null,
   "id": "0458c5e7",
   "metadata": {},
   "outputs": [],
   "source": []
  }
 ],
 "metadata": {
  "kernelspec": {
   "display_name": "Python 3",
   "language": "python",
   "name": "python3"
  },
  "language_info": {
   "codemirror_mode": {
    "name": "ipython",
    "version": 3
   },
   "file_extension": ".py",
   "mimetype": "text/x-python",
   "name": "python",
   "nbconvert_exporter": "python",
   "pygments_lexer": "ipython3",
   "version": "3.10.12"
  }
 },
 "nbformat": 4,
 "nbformat_minor": 5
}
