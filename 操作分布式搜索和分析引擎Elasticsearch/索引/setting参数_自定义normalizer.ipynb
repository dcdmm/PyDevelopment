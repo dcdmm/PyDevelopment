{
 "cells": [
  {
   "cell_type": "code",
   "execution_count": 1,
   "metadata": {
    "collapsed": true
   },
   "outputs": [],
   "source": [
    "from elasticsearch import Elasticsearch\n",
    "\n",
    "# 参考:https://www.elastic.co/guide/en/elasticsearch/reference/7.11/analysis-normalizers.html"
   ]
  },
  {
   "cell_type": "code",
   "execution_count": 2,
   "outputs": [],
   "source": [
    "es = Elasticsearch([{'host': 'localhost', 'port': 9200}])"
   ],
   "metadata": {
    "collapsed": false,
    "pycharm": {
     "name": "#%%\n"
    }
   }
  },
  {
   "cell_type": "code",
   "execution_count": 3,
   "outputs": [
    {
     "data": {
      "text/plain": "{'acknowledged': True, 'shards_acknowledged': True, 'index': 'es0'}"
     },
     "execution_count": 3,
     "metadata": {},
     "output_type": "execute_result"
    }
   ],
   "source": [
    "body = {\n",
    "    \"settings\": {\n",
    "        \"analysis\": {\n",
    "            # 参考:https://www.elastic.co/guide/en/elasticsearch/reference/7.11/analysis-charfilters.html\n",
    "            \"char_filter\": {\n",
    "                \"quote\": {\n",
    "                    \"type\": \"mapping\",\n",
    "                    \"mappings\": [\n",
    "                        \"( => \",  # 替换为空白字符\n",
    "                        \") => \",\n",
    "                        \"（ => \",\n",
    "                        \"） => \",\n",
    "                        \"- => \",\n",
    "                    ]\n",
    "                }\n",
    "            },\n",
    "            \"normalizer\": {\n",
    "                \"my_normalizer\": {\n",
    "                    \"type\": \"custom\",\n",
    "                    \"char_filter\": [\n",
    "                        \"quote\"  # 自定义\n",
    "                    ],\n",
    "                    # 参考:https://www.elastic.co/guide/en/elasticsearch/reference/7.11/analysis-tokenfilters.html\n",
    "                    \"filter\": [\n",
    "                        \"lowercase\",  # 内置\n",
    "                        \"cjk_width\"  # 内置\n",
    "                    ]\n",
    "                }\n",
    "            }\n",
    "        }\n",
    "    },\n",
    "    \"mappings\": {\n",
    "        \"properties\": {\n",
    "            \"foo\": {\n",
    "                \"type\": \"keyword\",\n",
    "                # 可作用于:keyword\n",
    "                \"normalizer\": \"my_normalizer\"  # 文本数据进行规范化操作(不进行分词)\n",
    "            }\n",
    "        }\n",
    "    }\n",
    "}\n",
    "\n",
    "if es.indices.exists('es0'):\n",
    "    es.indices.delete('es0')\n",
    "es.indices.create('es0', body=body)"
   ],
   "metadata": {
    "collapsed": false,
    "pycharm": {
     "name": "#%%\n"
    }
   }
  },
  {
   "cell_type": "code",
   "execution_count": 4,
   "outputs": [
    {
     "data": {
      "text/plain": "{'_index': 'es0',\n '_type': '_doc',\n '_id': '0',\n '_version': 1,\n 'result': 'created',\n '_shards': {'total': 2, 'successful': 1, 'failed': 0},\n '_seq_no': 0,\n '_primary_term': 1}"
     },
     "execution_count": 4,
     "metadata": {},
     "output_type": "execute_result"
    }
   ],
   "source": [
    "es.index(index='es0',\n",
    "         id=0,\n",
    "         body={\"foo\": \"HPV42型低危型(定量)\"})"
   ],
   "metadata": {
    "collapsed": false,
    "pycharm": {
     "name": "#%%\n"
    }
   }
  },
  {
   "cell_type": "code",
   "execution_count": 8,
   "outputs": [
    {
     "data": {
      "text/plain": "{'took': 1,\n 'timed_out': False,\n '_shards': {'total': 1, 'successful': 1, 'skipped': 0, 'failed': 0},\n 'hits': {'total': {'value': 1, 'relation': 'eq'},\n  'max_score': 0.2876821,\n  'hits': [{'_index': 'es0',\n    '_type': '_doc',\n    '_id': '0',\n    '_score': 0.2876821,\n    '_source': {'foo': 'HPV42型低危型(定量)'}}]}}"
     },
     "execution_count": 8,
     "metadata": {},
     "output_type": "execute_result"
    }
   ],
   "source": [
    "es.search(index='es0', body={\n",
    "    \"query\": {\n",
    "        \"term\": {\n",
    "            \"foo\": \"HPV-42型低危型定量\"  # 查询内容不进行分词\n",
    "        }\n",
    "    }\n",
    "})"
   ],
   "metadata": {
    "collapsed": false,
    "pycharm": {
     "name": "#%%\n"
    }
   }
  },
  {
   "cell_type": "code",
   "execution_count": 6,
   "outputs": [
    {
     "data": {
      "text/plain": "{'took': 0,\n 'timed_out': False,\n '_shards': {'total': 1, 'successful': 1, 'skipped': 0, 'failed': 0},\n 'hits': {'total': {'value': 0, 'relation': 'eq'},\n  'max_score': None,\n  'hits': []}}"
     },
     "execution_count": 6,
     "metadata": {},
     "output_type": "execute_result"
    }
   ],
   "source": [
    "es.search(index='es0', body={\n",
    "    \"query\": {\n",
    "        \"term\": {\n",
    "            \"foo\": \"HPV-42型低危型（定量）\"  # 查询内容不进行分词\n",
    "        }\n",
    "    }\n",
    "})"
   ],
   "metadata": {
    "collapsed": false,
    "pycharm": {
     "name": "#%%\n"
    }
   }
  },
  {
   "cell_type": "code",
   "execution_count": 7,
   "outputs": [
    {
     "data": {
      "text/plain": "['hpv42型低危型定量']"
     },
     "execution_count": 7,
     "metadata": {},
     "output_type": "execute_result"
    }
   ],
   "source": [
    "analysis = es.indices.analyze(index=\"es0\", body={\n",
    "    \"normalizer\": \"my_normalizer\",\n",
    "    \"text\": \"HPV-42型低危型（定量）\"\n",
    "})\n",
    "\n",
    "# 查看过滤后结果\n",
    "tokens = [token_info['token'] for token_info in analysis['tokens']]\n",
    "tokens"
   ],
   "metadata": {
    "collapsed": false,
    "pycharm": {
     "name": "#%%\n"
    }
   }
  },
  {
   "cell_type": "code",
   "execution_count": null,
   "outputs": [],
   "source": [
    "es.indices.delete('es0')"
   ],
   "metadata": {
    "collapsed": false,
    "pycharm": {
     "name": "#%%\n"
    }
   }
  }
 ],
 "metadata": {
  "kernelspec": {
   "display_name": "Python 3",
   "language": "python",
   "name": "python3"
  },
  "language_info": {
   "codemirror_mode": {
    "name": "ipython",
    "version": 2
   },
   "file_extension": ".py",
   "mimetype": "text/x-python",
   "name": "python",
   "nbconvert_exporter": "python",
   "pygments_lexer": "ipython2",
   "version": "2.7.6"
  }
 },
 "nbformat": 4,
 "nbformat_minor": 0
}
