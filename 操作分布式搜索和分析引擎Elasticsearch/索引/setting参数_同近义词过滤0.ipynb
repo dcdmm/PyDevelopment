{
 "cells": [
  {
   "cell_type": "code",
   "execution_count": 11,
   "id": "initial_id",
   "metadata": {
    "ExecuteTime": {
     "end_time": "2023-12-19T03:28:17.942266600Z",
     "start_time": "2023-12-19T03:28:17.928193Z"
    },
    "collapsed": true
   },
   "outputs": [],
   "source": [
    "from elasticsearch import Elasticsearch"
   ]
  },
  {
   "cell_type": "code",
   "execution_count": 12,
   "id": "355aaf6837ff94a4",
   "metadata": {
    "ExecuteTime": {
     "end_time": "2023-12-19T03:28:17.962011900Z",
     "start_time": "2023-12-19T03:28:17.935730600Z"
    },
    "collapsed": false
   },
   "outputs": [],
   "source": [
    "es = Elasticsearch([{'host': 'localhost', 'port': 9200}])"
   ]
  },
  {
   "cell_type": "markdown",
   "id": "bd96f962c153ea4f",
   "metadata": {
    "collapsed": false
   },
   "source": [
    "### 同义词配置文件参考\n",
    "```text\n",
    "母亲 , 妈妈 , mother\n",
    "父亲 , 爸爸 , father\n",
    "老虎 , 狮子 => 动物\n",
    "西红柿 , 黄瓜, 香蕉 => 水果, 蔬菜\n",
    "```"
   ]
  },
  {
   "cell_type": "code",
   "execution_count": 13,
   "id": "38978ba3390d198d",
   "metadata": {
    "ExecuteTime": {
     "end_time": "2023-12-19T03:28:18.169893Z",
     "start_time": "2023-12-19T03:28:17.952710200Z"
    },
    "collapsed": false
   },
   "outputs": [
    {
     "data": {
      "text/plain": [
       "{'acknowledged': True, 'shards_acknowledged': True, 'index': 'es0'}"
      ]
     },
     "execution_count": 13,
     "metadata": {},
     "output_type": "execute_result"
    }
   ],
   "source": [
    "body = {\n",
    "    \"settings\": {\n",
    "            \"analysis\": {\n",
    "                \"analyzer\": {\n",
    "                    \"synonym_analyzer\": {\n",
    "                        \"tokenizer\": \"ik_max_word\",\n",
    "                        \"filter\": [\"my_synonyms\"]\n",
    "                    }\n",
    "                },\n",
    "                \"filter\": {\n",
    "                    \"my_synonyms\": {\n",
    "                        \"type\": \"synonym\",\n",
    "                        # 逗号分隔\n",
    "                        \"synonyms\": [\n",
    "                            # 等价同义词,词汇之间是彼此的同义词词 \n",
    "                            # 母亲是妈妈的同义词词,妈妈也是母亲的同义词\n",
    "                            \"母亲 , 妈妈 , mother\",\n",
    "                            \"父亲 , 爸爸 , father\",\n",
    "                            \n",
    "                            # 单向同义词\n",
    "                            # 动物是老虎的同近义词,老虎不是动物的同义词\n",
    "                            \"老虎 , 狮子 => 动物\",\n",
    "                            \"西红柿 , 黄瓜, 香蕉 => 水果, 蔬菜\"\n",
    "                        ],\n",
    "                        # 同义词配置文件(容器内elasticsearch config目录中,即xxx/elasticsearch/config/synonyms/synonym0.txt)\n",
    "                        \n",
    "                        # You can use the reload search analyzers API to pick up changes to synonym files used in the synonym_graph or synonym token filter of a search analyzer. \n",
    "                        # To be eligible, the token filter must have an updateable flag of true and only be used in search analyzers.\n",
    "                        # 参考:setting参数_同近义词过滤_search_analyzer_demo.ipynb\n",
    "                        \"updateable\": True  # 索引时使用同义词不能指定updatealbe为True,仅用于搜索时使用同义词\n",
    "                    }\n",
    "                }\n",
    "            }\n",
    "    }\n",
    "}\n",
    "\n",
    "if es.indices.exists('es0'):\n",
    "    es.indices.delete('es0')\n",
    "es.indices.create('es0', body=body)"
   ]
  },
  {
   "cell_type": "code",
   "execution_count": 14,
   "id": "e9a21b82a28d94d6",
   "metadata": {
    "ExecuteTime": {
     "end_time": "2023-12-19T03:28:18.248589700Z",
     "start_time": "2023-12-19T03:28:18.163532100Z"
    },
    "collapsed": false
   },
   "outputs": [
    {
     "name": "stdout",
     "output_type": "stream",
     "text": [
      "{'tokens': [{'token': '我', 'start_offset': 0, 'end_offset': 1, 'type': 'CN_CHAR', 'position': 0}, {'token': '爱', 'start_offset': 1, 'end_offset': 2, 'type': 'CN_CHAR', 'position': 1}, {'token': '妈妈', 'start_offset': 2, 'end_offset': 4, 'type': 'CN_WORD', 'position': 2}, {'token': '母亲', 'start_offset': 2, 'end_offset': 4, 'type': 'SYNONYM', 'position': 2}, {'token': 'mother', 'start_offset': 2, 'end_offset': 4, 'type': 'SYNONYM', 'position': 2}]}\n",
      "\n",
      "{'tokens': [{'token': '我', 'start_offset': 0, 'end_offset': 1, 'type': 'CN_CHAR', 'position': 0}, {'token': '爱', 'start_offset': 1, 'end_offset': 2, 'type': 'CN_CHAR', 'position': 1}, {'token': 'mother', 'start_offset': 2, 'end_offset': 8, 'type': 'ENGLISH', 'position': 2}, {'token': '母亲', 'start_offset': 2, 'end_offset': 8, 'type': 'SYNONYM', 'position': 2}, {'token': '妈妈', 'start_offset': 2, 'end_offset': 8, 'type': 'SYNONYM', 'position': 2}]}\n",
      "\n"
     ]
    }
   ],
   "source": [
    "# 同近义词占据相同的位置\n",
    "print(es.indices.analyze(index=\"es0\", body={\n",
    "    \"analyzer\": \"synonym_analyzer\",\n",
    "    \"text\": \"我爱妈妈\"}), end='\\n\\n')  # 母亲,mother也被查询\n",
    "\n",
    "print(es.indices.analyze(index=\"es0\", body={\n",
    "    \"analyzer\": \"synonym_analyzer\",\n",
    "    \"text\": \"我爱mother\"}), end='\\n\\n')  # 母亲,妈妈也被查询"
   ]
  },
  {
   "cell_type": "code",
   "execution_count": 15,
   "id": "4606ef66af15ef9b",
   "metadata": {
    "ExecuteTime": {
     "end_time": "2023-12-19T03:28:18.335476400Z",
     "start_time": "2023-12-19T03:28:18.226418100Z"
    },
    "collapsed": false
   },
   "outputs": [
    {
     "name": "stdout",
     "output_type": "stream",
     "text": [
      "{'tokens': [{'token': '我', 'start_offset': 0, 'end_offset': 1, 'type': 'CN_CHAR', 'position': 0}, {'token': '喜欢', 'start_offset': 1, 'end_offset': 3, 'type': 'CN_WORD', 'position': 1}, {'token': '动物', 'start_offset': 3, 'end_offset': 5, 'type': 'SYNONYM', 'position': 2}]}\n",
      "\n",
      "{'tokens': [{'token': '我', 'start_offset': 0, 'end_offset': 1, 'type': 'CN_CHAR', 'position': 0}, {'token': '喜欢', 'start_offset': 1, 'end_offset': 3, 'type': 'CN_WORD', 'position': 1}, {'token': '动物', 'start_offset': 3, 'end_offset': 5, 'type': 'CN_WORD', 'position': 2}]}\n",
      "\n",
      "{'tokens': [{'token': '我', 'start_offset': 0, 'end_offset': 1, 'type': 'CN_CHAR', 'position': 0}, {'token': '喜欢', 'start_offset': 1, 'end_offset': 3, 'type': 'CN_WORD', 'position': 1}, {'token': '水果', 'start_offset': 3, 'end_offset': 6, 'type': 'SYNONYM', 'position': 2}, {'token': '蔬菜', 'start_offset': 3, 'end_offset': 6, 'type': 'SYNONYM', 'position': 2}]}\n",
      "\n",
      "{'tokens': [{'token': '我', 'start_offset': 0, 'end_offset': 1, 'type': 'CN_CHAR', 'position': 0}, {'token': '喜欢', 'start_offset': 1, 'end_offset': 3, 'type': 'CN_WORD', 'position': 1}, {'token': '水果', 'start_offset': 3, 'end_offset': 5, 'type': 'CN_WORD', 'position': 2}]}\n",
      "\n"
     ]
    }
   ],
   "source": [
    "print(es.indices.analyze(index=\"es0\", body={\n",
    "    \"analyzer\": \"synonym_analyzer\",\n",
    "    \"text\": \"我喜欢老虎\"}), end='\\n\\n')  # 动物被查询\n",
    "\n",
    "print(es.indices.analyze(index=\"es0\", body={\n",
    "    \"analyzer\": \"synonym_analyzer\",\n",
    "    \"text\": \"我喜欢动物\"}), end='\\n\\n')  # 老虎,狮子不被查询(单向)\n",
    "\n",
    "print(es.indices.analyze(index=\"es0\", body={\n",
    "    \"analyzer\": \"synonym_analyzer\",\n",
    "    \"text\": \"我喜欢西红柿\"}), end='\\n\\n')  # 水果,蔬菜被查询\n",
    "\n",
    "print(es.indices.analyze(index=\"es0\", body={\n",
    "    \"analyzer\": \"synonym_analyzer\",\n",
    "    \"text\": \"我喜欢水果\"}), end='\\n\\n')  # 西红柿,黄瓜,香蕉不被查询"
   ]
  }
 ],
 "metadata": {
  "kernelspec": {
   "display_name": "Python 3",
   "language": "python",
   "name": "python3"
  },
  "language_info": {
   "codemirror_mode": {
    "name": "ipython",
    "version": 3
   },
   "file_extension": ".py",
   "mimetype": "text/x-python",
   "name": "python",
   "nbconvert_exporter": "python",
   "pygments_lexer": "ipython3",
   "version": "3.10.12"
  }
 },
 "nbformat": 4,
 "nbformat_minor": 5
}
