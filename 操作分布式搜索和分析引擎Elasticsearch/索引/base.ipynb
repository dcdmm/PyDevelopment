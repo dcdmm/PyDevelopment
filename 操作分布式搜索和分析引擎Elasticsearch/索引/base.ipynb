{
 "cells": [
  {
   "cell_type": "code",
   "execution_count": 27,
   "metadata": {
    "collapsed": true
   },
   "outputs": [],
   "source": [
    "from elasticsearch import Elasticsearch"
   ]
  },
  {
   "cell_type": "code",
   "execution_count": 28,
   "outputs": [],
   "source": [
    "es = Elasticsearch([{'host': 'localhost', 'port': 9200}])"
   ],
   "metadata": {
    "collapsed": false,
    "pycharm": {
     "name": "#%%\n"
    }
   }
  },
  {
   "cell_type": "code",
   "execution_count": 29,
   "outputs": [
    {
     "data": {
      "text/plain": "{'acknowledged': True, 'shards_acknowledged': True, 'index': 'es0'}"
     },
     "execution_count": 29,
     "metadata": {},
     "output_type": "execute_result"
    }
   ],
   "source": [
    "# Creates an index with optional settings and mappings.\n",
    "'''\n",
    "# 索引名必须为小写\n",
    "PUT es0\n",
    "'''\n",
    "es.indices.create('es0')"
   ],
   "metadata": {
    "collapsed": false,
    "pycharm": {
     "name": "#%%\n"
    }
   }
  },
  {
   "cell_type": "code",
   "execution_count": 30,
   "outputs": [
    {
     "data": {
      "text/plain": "{'es0': {'aliases': {},\n  'mappings': {},\n  'settings': {'index': {'routing': {'allocation': {'include': {'_tier_preference': 'data_content'}}},\n    'number_of_shards': '1',\n    'provided_name': 'es0',\n    'creation_date': '1690423666830',\n    'number_of_replicas': '1',\n    'uuid': '2UzQC2_LR_2kPZmyU8zkoA',\n    'version': {'created': '7110299'}}}}}"
     },
     "execution_count": 30,
     "metadata": {},
     "output_type": "execute_result"
    }
   ],
   "source": [
    "# Returns information about one or more indices.\n",
    "'''\n",
    "GET es0\n",
    "'''\n",
    "es.indices.get('es0')"
   ],
   "metadata": {
    "collapsed": false,
    "pycharm": {
     "name": "#%%\n"
    }
   }
  },
  {
   "cell_type": "code",
   "execution_count": 31,
   "outputs": [
    {
     "data": {
      "text/plain": "True"
     },
     "execution_count": 31,
     "metadata": {},
     "output_type": "execute_result"
    }
   ],
   "source": [
    "# Returns information about whether a particular index exists.\n",
    "'''\n",
    "HEAD es0\n",
    "'''\n",
    "es.indices.exists('es0')"
   ],
   "metadata": {
    "collapsed": false,
    "pycharm": {
     "name": "#%%\n"
    }
   }
  },
  {
   "cell_type": "code",
   "execution_count": 32,
   "outputs": [
    {
     "name": "stdout",
     "output_type": "stream",
     "text": [
      "yellow open search_data_check               8rqQXwuiRl-2IpEbpne6Zg 1 1 7284   0   333kb   333kb\n",
      "yellow open es0                             2UzQC2_LR_2kPZmyU8zkoA 1 1    0   0    208b    208b\n",
      "green  open .apm-custom-link                PJykTA2lS_Oc8pzoPiqaDQ 1 0    0   0    208b    208b\n",
      "green  open .kibana_task_manager_1          1nbC0Vr9Tq65ClIGyFXSNA 1 0    8 126 187.1kb 187.1kb\n",
      "green  open .kibana-event-log-7.11.2-000001 JtjB-7pBR3i8ou6r3CeZ8g 1 0   37   0  59.2kb  59.2kb\n",
      "green  open .apm-agent-configuration        NvUqDt6nSGqEr9hXG7J18w 1 0    0   0    208b    208b\n",
      "yellow open snap_result                     i_MTCAkAR_i9XWN-A-uR-g 1 1    0   0    208b    208b\n",
      "green  open .kibana_1                       zvsAuCopQQ26TgoVTZFqYg 1 0   20   2   2.1mb   2.1mb\n",
      "yellow open snap_entry                      lmmSktpWQpmIetRzxdLE1A 1 1    0   0    208b    208b\n",
      "yellow open search_data_ds                  xrCRCkTMTWK0Y1MiDuxkvw 1 1 9211   0   2.5mb   2.5mb\n",
      "\n"
     ]
    }
   ],
   "source": [
    "# Returns information about indices: number of primaries and replicas, document counts, disk size, ...\n",
    "'''\n",
    "GET _cat/indices\n",
    "'''\n",
    "print(es.cat.indices())"
   ],
   "metadata": {
    "collapsed": false,
    "pycharm": {
     "name": "#%%\n"
    }
   }
  },
  {
   "cell_type": "code",
   "execution_count": 33,
   "outputs": [
    {
     "name": "stdout",
     "output_type": "stream",
     "text": [
      "{'count': 0, '_shards': {'total': 1, 'successful': 1, 'skipped': 0, 'failed': 0}}\n"
     ]
    }
   ],
   "source": [
    "# Returns number of documents matching a query.\n",
    "'''\n",
    "GET /es0/_count\n",
    "'''\n",
    "print(es.count(index='es0'))"
   ],
   "metadata": {
    "collapsed": false,
    "pycharm": {
     "name": "#%%\n"
    }
   }
  },
  {
   "cell_type": "code",
   "execution_count": 34,
   "outputs": [
    {
     "data": {
      "text/plain": "'\\nDELETE es0\\n'"
     },
     "execution_count": 34,
     "metadata": {},
     "output_type": "execute_result"
    }
   ],
   "source": [
    "# Deletes an index.\n",
    "'''\n",
    "DELETE es0\n",
    "'''\n",
    "es.indices.delete('es0')"
   ],
   "metadata": {
    "collapsed": false,
    "pycharm": {
     "name": "#%%\n"
    }
   }
  },
  {
   "cell_type": "code",
   "execution_count": 34,
   "outputs": [],
   "source": [],
   "metadata": {
    "collapsed": false,
    "pycharm": {
     "name": "#%%\n"
    }
   }
  }
 ],
 "metadata": {
  "kernelspec": {
   "display_name": "Python 3",
   "language": "python",
   "name": "python3"
  },
  "language_info": {
   "codemirror_mode": {
    "name": "ipython",
    "version": 2
   },
   "file_extension": ".py",
   "mimetype": "text/x-python",
   "name": "python",
   "nbconvert_exporter": "python",
   "pygments_lexer": "ipython2",
   "version": "2.7.6"
  }
 },
 "nbformat": 4,
 "nbformat_minor": 0
}