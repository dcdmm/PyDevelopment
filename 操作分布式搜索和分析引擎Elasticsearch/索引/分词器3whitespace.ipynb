{
 "cells": [
  {
   "cell_type": "code",
   "execution_count": 1,
   "id": "initial_id",
   "metadata": {
    "ExecuteTime": {
     "end_time": "2023-12-19T03:28:17.942266600Z",
     "start_time": "2023-12-19T03:28:17.928193Z"
    },
    "collapsed": true
   },
   "outputs": [],
   "source": [
    "from elasticsearch import Elasticsearch"
   ]
  },
  {
   "cell_type": "code",
   "execution_count": 2,
   "id": "355aaf6837ff94a4",
   "metadata": {
    "ExecuteTime": {
     "end_time": "2023-12-19T03:28:17.962011900Z",
     "start_time": "2023-12-19T03:28:17.935730600Z"
    },
    "collapsed": false
   },
   "outputs": [],
   "source": [
    "es = Elasticsearch([{'host': 'localhost', 'port': 9200}])"
   ]
  },
  {
   "cell_type": "code",
   "execution_count": 3,
   "id": "38978ba3390d198d",
   "metadata": {
    "ExecuteTime": {
     "end_time": "2023-12-19T03:28:18.169893Z",
     "start_time": "2023-12-19T03:28:17.952710200Z"
    },
    "collapsed": false
   },
   "outputs": [
    {
     "data": {
      "text/plain": [
       "{'acknowledged': True, 'shards_acknowledged': True, 'index': 'es0'}"
      ]
     },
     "execution_count": 3,
     "metadata": {},
     "output_type": "execute_result"
    }
   ],
   "source": [
    "body = {\n",
    "    \"settings\": {\n",
    "            \"analysis\": {\n",
    "                \"analyzer\": {\n",
    "                    \"synonym_analyzer\": {\n",
    "                        # The whitespace tokenizer breaks text into terms whenever it encounters a whitespace character.\n",
    "                        \"tokenizer\": \"whitespace\",\n",
    "                        \"filter\": [\"my_synonyms\"]\n",
    "                    }\n",
    "                },\n",
    "                \"filter\": {\n",
    "                    \"my_synonyms\": {\n",
    "                        \"type\": \"synonym\",\n",
    "                        \"synonyms\": [\n",
    "                            \"母亲 , 妈妈 , mother\",\n",
    "                            \"父亲 , 爸爸 , father\",\n",
    "                            \"老虎 , 狮子 => 动物\",\n",
    "                            \"西红柿 , 黄瓜, 香蕉 => 水果, 蔬菜\"\n",
    "                        ],\n",
    "                        \"updateable\": True \n",
    "                    }\n",
    "                }\n",
    "            }\n",
    "    }\n",
    "}\n",
    "\n",
    "if es.indices.exists('es0'):\n",
    "    es.indices.delete('es0')\n",
    "es.indices.create('es0', body=body)"
   ]
  },
  {
   "cell_type": "code",
   "execution_count": 4,
   "id": "e9a21b82a28d94d6",
   "metadata": {
    "ExecuteTime": {
     "end_time": "2023-12-19T03:28:18.248589700Z",
     "start_time": "2023-12-19T03:28:18.163532100Z"
    },
    "collapsed": false
   },
   "outputs": [
    {
     "name": "stdout",
     "output_type": "stream",
     "text": [
      "{'tokens': [{'token': '我', 'start_offset': 0, 'end_offset': 1, 'type': 'word', 'position': 0}, {'token': '爱', 'start_offset': 2, 'end_offset': 3, 'type': 'word', 'position': 1}, {'token': '妈妈', 'start_offset': 4, 'end_offset': 6, 'type': 'word', 'position': 2}, {'token': '母亲', 'start_offset': 4, 'end_offset': 6, 'type': 'SYNONYM', 'position': 2}, {'token': 'mother', 'start_offset': 4, 'end_offset': 6, 'type': 'SYNONYM', 'position': 2}]}\n",
      "\n",
      "{'tokens': [{'token': '我', 'start_offset': 0, 'end_offset': 1, 'type': 'word', 'position': 0}, {'token': '爱', 'start_offset': 2, 'end_offset': 3, 'type': 'word', 'position': 1}, {'token': 'mother', 'start_offset': 4, 'end_offset': 10, 'type': 'word', 'position': 2}, {'token': '母亲', 'start_offset': 4, 'end_offset': 10, 'type': 'SYNONYM', 'position': 2}, {'token': '妈妈', 'start_offset': 4, 'end_offset': 10, 'type': 'SYNONYM', 'position': 2}]}\n",
      "\n"
     ]
    }
   ],
   "source": [
    "print(es.indices.analyze(index=\"es0\", body={\n",
    "    \"analyzer\": \"synonym_analyzer\",\n",
    "    \"text\": \"我 爱 妈妈\"}), end='\\n\\n')  # 母亲,mother也被查询\n",
    "\n",
    "print(es.indices.analyze(index=\"es0\", body={\n",
    "    \"analyzer\": \"synonym_analyzer\",\n",
    "    \"text\": \"我 爱 mother\"}), end='\\n\\n')  # 母亲,妈妈也被查询"
   ]
  }
 ],
 "metadata": {
  "kernelspec": {
   "display_name": "Python 3",
   "language": "python",
   "name": "python3"
  },
  "language_info": {
   "codemirror_mode": {
    "name": "ipython",
    "version": 3
   },
   "file_extension": ".py",
   "mimetype": "text/x-python",
   "name": "python",
   "nbconvert_exporter": "python",
   "pygments_lexer": "ipython3",
   "version": "3.10.12"
  }
 },
 "nbformat": 4,
 "nbformat_minor": 5
}
