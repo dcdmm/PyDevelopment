{
 "cells": [
  {
   "cell_type": "code",
   "execution_count": 96,
   "id": "initial_id",
   "metadata": {
    "ExecuteTime": {
     "end_time": "2023-12-19T06:43:57.762654Z",
     "start_time": "2023-12-19T06:43:57.586543Z"
    },
    "collapsed": true
   },
   "outputs": [],
   "source": [
    "from elasticsearch import Elasticsearch\n",
    "\n",
    "es = Elasticsearch([{'host': 'localhost', 'port': 9200}])"
   ]
  },
  {
   "cell_type": "code",
   "execution_count": 97,
   "id": "36d2a61e",
   "metadata": {
    "ExecuteTime": {
     "end_time": "2023-12-19T06:43:58.056882200Z",
     "start_time": "2023-12-19T06:43:57.763677300Z"
    },
    "collapsed": false
   },
   "outputs": [
    {
     "data": {
      "text/plain": [
       "{'acknowledged': True, 'shards_acknowledged': True, 'index': 'es0'}"
      ]
     },
     "execution_count": 97,
     "metadata": {},
     "output_type": "execute_result"
    }
   ],
   "source": [
    "body = {\n",
    "    \"settings\": {\n",
    "        \"analysis\": {\n",
    "            \"analyzer\": {\n",
    "                \"analyzer_index\": {\n",
    "                    \"tokenizer\": \"ik_max_word\",\n",
    "                    \"char_filter\": [\"emoticons\"],\n",
    "                    \"filter\": [\"english_stop\"]\n",
    "                },\n",
    "                \"analyzer_search\": {\n",
    "                    \"tokenizer\": \"ik_max_word\",\n",
    "                    \"char_filter\": [\"emoticons\"],\n",
    "                    \"filter\": [\n",
    "                        \"my_synonyms\",  # 推荐搜索时使用\n",
    "                        \"english_stop\"\n",
    "                    ]\n",
    "                }\n",
    "            },\n",
    "            \"filter\": {\n",
    "                \"my_synonyms\": {\n",
    "                    \"type\": \"synonym\",\n",
    "                    \"synonyms\": [\n",
    "                        \"母亲 , 妈妈 , mother\",\n",
    "                        \"父亲 , 爸爸 , father\",\n",
    "                        \"老虎 , 狮子 => 动物\",\n",
    "                        \"西红柿 , 黄瓜, 香蕉 => 水果, 蔬菜\"\n",
    "                    ],\n",
    "                    \"updateable\": True\n",
    "                },\n",
    "                \"english_stop\": {\n",
    "                    \"type\": \"stop\",\n",
    "                    \"stopwords\": \"_english_\"\n",
    "                }\n",
    "            },\n",
    "            \"char_filter\": {\n",
    "                \"emoticons\": {\n",
    "                    \"type\": \"mapping\",\n",
    "                    \"mappings\": [\n",
    "                        \"II => 2\",\n",
    "                        \"ii => 2\",\n",
    "                        \"Ⅱ => 2\"\n",
    "                        \"III => 3\",\n",
    "                        \"iii => 3\",\n",
    "                        \"Ⅲ => 3\"\n",
    "                    ]\n",
    "                }\n",
    "            }\n",
    "        }\n",
    "    },\n",
    "    \"mappings\": {\n",
    "        \"properties\": {\n",
    "            \"information\": {\n",
    "                \"type\": \"text\",\n",
    "                \"analyzer\": \"analyzer_index\"\n",
    "            }\n",
    "        }\n",
    "    }\n",
    "}\n",
    "\n",
    "if es.indices.exists('es0'):\n",
    "    es.indices.delete('es0')\n",
    "es.indices.create('es0', body=body)"
   ]
  },
  {
   "cell_type": "code",
   "execution_count": 98,
   "id": "9523dd41",
   "metadata": {},
   "outputs": [
    {
     "data": {
      "text/plain": [
       "{'_index': 'es0',\n",
       " '_type': '_doc',\n",
       " '_id': '7',\n",
       " '_version': 1,\n",
       " 'result': 'created',\n",
       " '_shards': {'total': 2, 'successful': 1, 'failed': 0},\n",
       " '_seq_no': 7,\n",
       " '_primary_term': 1}"
      ]
     },
     "execution_count": 98,
     "metadata": {},
     "output_type": "execute_result"
    }
   ],
   "source": [
    "es.index(index='es0', id=0, body={\"information\": \"我爱妈妈\"})\n",
    "es.index(index='es0', id=1, body={\"information\": \"我爱mother\"})\n",
    "es.index(index='es0', id=2, body={\"information\": \"我爱father\"})\n",
    "es.index(index='es0', id=3, body={\"information\": \"动物很可爱\"})\n",
    "es.index(index='es0', id=4, body={\"information\": \"小孩很可爱\"})\n",
    "es.index(index='es0', id=5, body={\"information\": \"蔬菜有利于健康\"})\n",
    "es.index(index='es0', id=6, body={\"information\": \"香蕉很好吃\"})\n",
    "es.index(index='es0', id=7, body={\"information\": \"水果很好吃\"})"
   ]
  },
  {
   "cell_type": "code",
   "execution_count": 99,
   "id": "7b1f3aa1",
   "metadata": {},
   "outputs": [
    {
     "data": {
      "text/plain": [
       "{'took': 1,\n",
       " 'timed_out': False,\n",
       " '_shards': {'total': 1, 'successful': 1, 'skipped': 0, 'failed': 0},\n",
       " 'hits': {'total': {'value': 3, 'relation': 'eq'},\n",
       "  'max_score': 2.8251233,\n",
       "  'hits': [{'_index': 'es0',\n",
       "    '_type': '_doc',\n",
       "    '_id': '0',\n",
       "    '_score': 2.8251233,\n",
       "    '_source': {'information': '我爱妈妈'}},\n",
       "   {'_index': 'es0',\n",
       "    '_type': '_doc',\n",
       "    '_id': '1',\n",
       "    '_score': 2.8251233,\n",
       "    '_source': {'information': '我爱mother'}},\n",
       "   {'_index': 'es0',\n",
       "    '_type': '_doc',\n",
       "    '_id': '2',\n",
       "    '_score': 0.9751481,\n",
       "    '_source': {'information': '我爱father'}}]}}"
      ]
     },
     "execution_count": 99,
     "metadata": {},
     "output_type": "execute_result"
    }
   ],
   "source": [
    "es.search(index='es0', body={\n",
    "    \"query\": {\n",
    "        \"match\": {\n",
    "            \"information\": {\n",
    "                \"query\": \"我爱我的母亲\",\n",
    "                # 使用自定义analyzer(默认使用索引时该字段analyzer,本例中为analyzer_index)\n",
    "                \"analyzer\": \"analyzer_search\"  # ★★★★★仅full_text_queries可以指定该字段\n",
    "            }\n",
    "        }\n",
    "    }\n",
    "})"
   ]
  },
  {
   "cell_type": "code",
   "execution_count": 100,
   "id": "1ad203f0",
   "metadata": {},
   "outputs": [
    {
     "data": {
      "text/plain": [
       "{'took': 0,\n",
       " 'timed_out': False,\n",
       " '_shards': {'total': 1, 'successful': 1, 'skipped': 0, 'failed': 0},\n",
       " 'hits': {'total': {'value': 2, 'relation': 'eq'},\n",
       "  'max_score': 4.4950805,\n",
       "  'hits': [{'_index': 'es0',\n",
       "    '_type': '_doc',\n",
       "    '_id': '3',\n",
       "    '_score': 4.4950805,\n",
       "    '_source': {'information': '动物很可爱'}},\n",
       "   {'_index': 'es0',\n",
       "    '_type': '_doc',\n",
       "    '_id': '4',\n",
       "    '_score': 2.6451051,\n",
       "    '_source': {'information': '小孩很可爱'}}]}}"
      ]
     },
     "execution_count": 100,
     "metadata": {},
     "output_type": "execute_result"
    }
   ],
   "source": [
    "es.search(index='es0', body={\n",
    "    \"query\": {\n",
    "        \"match\": {\n",
    "            \"information\": {\n",
    "                \"query\": \"老虎很可爱\",\n",
    "                \"analyzer\": \"analyzer_search\" \n",
    "            }\n",
    "        }\n",
    "    }\n",
    "})"
   ]
  },
  {
   "cell_type": "code",
   "execution_count": 101,
   "id": "65b39e3e",
   "metadata": {},
   "outputs": [
    {
     "data": {
      "text/plain": [
       "{'took': 1,\n",
       " 'timed_out': False,\n",
       " '_shards': {'total': 1, 'successful': 1, 'skipped': 0, 'failed': 0},\n",
       " 'hits': {'total': {'value': 3, 'relation': 'eq'},\n",
       "  'max_score': 4.4950805,\n",
       "  'hits': [{'_index': 'es0',\n",
       "    '_type': '_doc',\n",
       "    '_id': '7',\n",
       "    '_score': 4.4950805,\n",
       "    '_source': {'information': '水果很好吃'}},\n",
       "   {'_index': 'es0',\n",
       "    '_type': '_doc',\n",
       "    '_id': '6',\n",
       "    '_score': 2.6451051,\n",
       "    '_source': {'information': '香蕉很好吃'}},\n",
       "   {'_index': 'es0',\n",
       "    '_type': '_doc',\n",
       "    '_id': '5',\n",
       "    '_score': 1.4683185,\n",
       "    '_source': {'information': '蔬菜有利于健康'}}]}}"
      ]
     },
     "execution_count": 101,
     "metadata": {},
     "output_type": "execute_result"
    }
   ],
   "source": [
    "es.search(index='es0', body={\n",
    "    \"query\": {\n",
    "        \"match\": {\n",
    "            \"information\": {\n",
    "                \"query\": \"香蕉很好吃\",  # 香蕉被转换为水果(单向同义词),故水果很好吃_score更高\n",
    "                \"analyzer\": \"analyzer_search\" \n",
    "            }\n",
    "        }\n",
    "    }\n",
    "})"
   ]
  },
  {
   "cell_type": "code",
   "execution_count": null,
   "id": "dec1a159",
   "metadata": {},
   "outputs": [],
   "source": []
  }
 ],
 "metadata": {
  "kernelspec": {
   "display_name": "Python 3",
   "language": "python",
   "name": "python3"
  },
  "language_info": {
   "codemirror_mode": {
    "name": "ipython",
    "version": 3
   },
   "file_extension": ".py",
   "mimetype": "text/x-python",
   "name": "python",
   "nbconvert_exporter": "python",
   "pygments_lexer": "ipython3",
   "version": "3.10.12"
  }
 },
 "nbformat": 4,
 "nbformat_minor": 5
}
