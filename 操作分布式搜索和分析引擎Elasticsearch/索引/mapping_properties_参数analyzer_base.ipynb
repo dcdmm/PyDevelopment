{
 "cells": [
  {
   "cell_type": "code",
   "execution_count": 18,
   "metadata": {
    "collapsed": true
   },
   "outputs": [],
   "source": [
    "from elasticsearch import Elasticsearch"
   ]
  },
  {
   "cell_type": "code",
   "execution_count": 19,
   "outputs": [
    {
     "data": {
      "text/plain": "{'acknowledged': True, 'shards_acknowledged': True, 'index': 'es0'}"
     },
     "execution_count": 19,
     "metadata": {},
     "output_type": "execute_result"
    }
   ],
   "source": [
    "es = Elasticsearch([{'host': 'localhost', 'port': 9200}])\n",
    "body = {\n",
    "    \"mappings\": {\n",
    "        \"properties\": {\n",
    "            \"information\": {\n",
    "                \"type\": \"text\"\n",
    "            },\n",
    "            \"say\": {\n",
    "                \"type\": \"text\",\n",
    "                # Only text fields support the analyzer mapping parameter.\n",
    "                # 可作用于:text,token-count\n",
    "                \"analyzer\": \"ik_smart\"\n",
    "            }\n",
    "        }\n",
    "    }\n",
    "}\n",
    "'''\n",
    "PUT es0\n",
    "`body`\n",
    "'''\n",
    "es.indices.create('es0', body=body)"
   ],
   "metadata": {
    "collapsed": false,
    "pycharm": {
     "name": "#%%\n"
    }
   }
  },
  {
   "cell_type": "code",
   "execution_count": 20,
   "outputs": [
    {
     "data": {
      "text/plain": "{'_index': 'es0',\n '_type': '_doc',\n '_id': '0',\n '_version': 1,\n 'result': 'created',\n '_shards': {'total': 2, 'successful': 1, 'failed': 0},\n '_seq_no': 0,\n '_primary_term': 1}"
     },
     "execution_count": 20,
     "metadata": {},
     "output_type": "execute_result"
    }
   ],
   "source": [
    "es.index(index='es0',\n",
    "         id=0,\n",
    "         body={\n",
    "             \"information\": \"我正在学习知识图谱和es\",\n",
    "             \"say\": \"我正在学习知识图谱和es\",\n",
    "         })"
   ],
   "metadata": {
    "collapsed": false,
    "pycharm": {
     "name": "#%%\n"
    }
   }
  },
  {
   "cell_type": "code",
   "execution_count": 21,
   "outputs": [
    {
     "data": {
      "text/plain": "{'_index': 'es0',\n '_type': '_doc',\n '_id': '0',\n '_version': 1,\n 'found': True,\n 'took': 15,\n 'term_vectors': {'information': {'field_statistics': {'sum_doc_freq': 11,\n    'doc_count': 1,\n    'sum_ttf': 11},\n   'terms': {'es': {'term_freq': 1,\n     'tokens': [{'position': 10, 'start_offset': 10, 'end_offset': 12}]},\n    '习': {'term_freq': 1,\n     'tokens': [{'position': 4, 'start_offset': 4, 'end_offset': 5}]},\n    '和': {'term_freq': 1,\n     'tokens': [{'position': 9, 'start_offset': 9, 'end_offset': 10}]},\n    '图': {'term_freq': 1,\n     'tokens': [{'position': 7, 'start_offset': 7, 'end_offset': 8}]},\n    '在': {'term_freq': 1,\n     'tokens': [{'position': 2, 'start_offset': 2, 'end_offset': 3}]},\n    '学': {'term_freq': 1,\n     'tokens': [{'position': 3, 'start_offset': 3, 'end_offset': 4}]},\n    '我': {'term_freq': 1,\n     'tokens': [{'position': 0, 'start_offset': 0, 'end_offset': 1}]},\n    '正': {'term_freq': 1,\n     'tokens': [{'position': 1, 'start_offset': 1, 'end_offset': 2}]},\n    '知': {'term_freq': 1,\n     'tokens': [{'position': 5, 'start_offset': 5, 'end_offset': 6}]},\n    '识': {'term_freq': 1,\n     'tokens': [{'position': 6, 'start_offset': 6, 'end_offset': 7}]},\n    '谱': {'term_freq': 1,\n     'tokens': [{'position': 8, 'start_offset': 8, 'end_offset': 9}]}}},\n  'say': {'field_statistics': {'sum_doc_freq': 7,\n    'doc_count': 1,\n    'sum_ttf': 7},\n   'terms': {'es': {'term_freq': 1,\n     'tokens': [{'position': 6, 'start_offset': 10, 'end_offset': 12}]},\n    '和': {'term_freq': 1,\n     'tokens': [{'position': 5, 'start_offset': 9, 'end_offset': 10}]},\n    '图谱': {'term_freq': 1,\n     'tokens': [{'position': 4, 'start_offset': 7, 'end_offset': 9}]},\n    '学习': {'term_freq': 1,\n     'tokens': [{'position': 2, 'start_offset': 3, 'end_offset': 5}]},\n    '我': {'term_freq': 1,\n     'tokens': [{'position': 0, 'start_offset': 0, 'end_offset': 1}]},\n    '正在': {'term_freq': 1,\n     'tokens': [{'position': 1, 'start_offset': 1, 'end_offset': 3}]},\n    '知识': {'term_freq': 1,\n     'tokens': [{'position': 3, 'start_offset': 5, 'end_offset': 7}]}}}}}"
     },
     "execution_count": 21,
     "metadata": {},
     "output_type": "execute_result"
    }
   ],
   "source": [
    "es.termvectors(index='es0', id=0, body={\"fields\": [\"information\", \"say\"]})"
   ],
   "metadata": {
    "collapsed": false,
    "pycharm": {
     "name": "#%%\n"
    }
   }
  },
  {
   "cell_type": "code",
   "execution_count": 22,
   "outputs": [
    {
     "data": {
      "text/plain": "{'acknowledged': True}"
     },
     "execution_count": 22,
     "metadata": {},
     "output_type": "execute_result"
    }
   ],
   "source": [
    "es.indices.delete('es0')"
   ],
   "metadata": {
    "collapsed": false,
    "pycharm": {
     "name": "#%%\n"
    }
   }
  },
  {
   "cell_type": "code",
   "execution_count": 22,
   "outputs": [],
   "source": [
    "\n"
   ],
   "metadata": {
    "collapsed": false,
    "pycharm": {
     "name": "#%%\n"
    }
   }
  }
 ],
 "metadata": {
  "kernelspec": {
   "display_name": "Python 3",
   "language": "python",
   "name": "python3"
  },
  "language_info": {
   "codemirror_mode": {
    "name": "ipython",
    "version": 2
   },
   "file_extension": ".py",
   "mimetype": "text/x-python",
   "name": "python",
   "nbconvert_exporter": "python",
   "pygments_lexer": "ipython2",
   "version": "2.7.6"
  }
 },
 "nbformat": 4,
 "nbformat_minor": 0
}