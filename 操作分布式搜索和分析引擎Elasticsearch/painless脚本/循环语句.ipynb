{
 "cells": [
  {
   "cell_type": "code",
   "execution_count": 1,
   "metadata": {
    "collapsed": true
   },
   "outputs": [],
   "source": [
    "from elasticsearch import Elasticsearch"
   ]
  },
  {
   "cell_type": "code",
   "execution_count": 2,
   "outputs": [],
   "source": [
    "es = Elasticsearch([{'host': 'localhost', 'port': 9200}])"
   ],
   "metadata": {
    "collapsed": false,
    "pycharm": {
     "name": "#%%\n"
    }
   }
  },
  {
   "cell_type": "code",
   "execution_count": 3,
   "outputs": [
    {
     "data": {
      "text/plain": "{'result': '[2, 3, 4]'}"
     },
     "execution_count": 3,
     "metadata": {},
     "output_type": "execute_result"
    }
   ],
   "source": [
    "body0 = {\n",
    "    \"script\": {\n",
    "        \"source\": \"\"\"\n",
    "        List a = [1, 2, 3];\n",
    "        List b = [];\n",
    "        // for循环(支持break和continue)\n",
    "        for (def i=0; i < a.length; i++) {\n",
    "            b.add(a[i] + 1)\n",
    "        }\n",
    "        return b;\n",
    "        \"\"\"\n",
    "    }\n",
    "}\n",
    "\n",
    "es.scripts_painless_execute(body0)"
   ],
   "metadata": {
    "collapsed": false,
    "pycharm": {
     "name": "#%%\n"
    }
   }
  },
  {
   "cell_type": "code",
   "execution_count": 4,
   "outputs": [
    {
     "data": {
      "text/plain": "{'result': '[2, 3, 4]'}"
     },
     "execution_count": 4,
     "metadata": {},
     "output_type": "execute_result"
    }
   ],
   "source": [
    "body0 = {\n",
    "    \"script\": {\n",
    "        \"source\": \"\"\"\n",
    "        List a = [1, 2, 3];\n",
    "        List b = [];\n",
    "        int i = 0;\n",
    "        // while循环(支持break和continue)\n",
    "        while (i < a.length) {\n",
    "            b.add(a[i] + 1);\n",
    "            i++;\n",
    "        }\n",
    "        return b;\n",
    "        \"\"\"\n",
    "    }\n",
    "}\n",
    "\n",
    "es.scripts_painless_execute(body0)"
   ],
   "metadata": {
    "collapsed": false,
    "pycharm": {
     "name": "#%%\n"
    }
   }
  }
 ],
 "metadata": {
  "kernelspec": {
   "display_name": "Python 3",
   "language": "python",
   "name": "python3"
  },
  "language_info": {
   "codemirror_mode": {
    "name": "ipython",
    "version": 2
   },
   "file_extension": ".py",
   "mimetype": "text/x-python",
   "name": "python",
   "nbconvert_exporter": "python",
   "pygments_lexer": "ipython2",
   "version": "2.7.6"
  }
 },
 "nbformat": 4,
 "nbformat_minor": 0
}