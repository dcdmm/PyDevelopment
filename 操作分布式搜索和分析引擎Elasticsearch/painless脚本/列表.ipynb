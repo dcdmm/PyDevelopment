{
 "cells": [
  {
   "cell_type": "code",
   "execution_count": 1,
   "metadata": {
    "collapsed": true,
    "metadata": {}
   },
   "outputs": [],
   "source": [
    "from elasticsearch import Elasticsearch"
   ]
  },
  {
   "cell_type": "code",
   "execution_count": 2,
   "metadata": {
    "collapsed": false,
    "metadata": {},
    "pycharm": {
     "name": "#%%\n"
    }
   },
   "outputs": [],
   "source": [
    "es = Elasticsearch([{'host': 'localhost', 'port': 9200}])"
   ]
  },
  {
   "cell_type": "code",
   "execution_count": 3,
   "metadata": {
    "collapsed": false,
    "metadata": {},
    "pycharm": {
     "name": "#%%\n"
    }
   },
   "outputs": [
    {
     "data": {
      "text/plain": [
       "{'result': '[1, 4]'}"
      ]
     },
     "execution_count": 3,
     "metadata": {},
     "output_type": "execute_result"
    }
   ],
   "source": [
    "body = {\n",
    "    \"script\": {\n",
    "        \"source\": \"\"\"\n",
    "        List a_java = new ArrayList();  // 初始化方法一(创建一个空Map)\n",
    "        List a = [1, 2, \"java\", 3, 4, \"java\"]; // 初始化方法二\n",
    "\n",
    "        int a_length = a.length; // 列表长度: 5\n",
    "        int one = a[0]; // 索引\n",
    "        a.add(5); // 增\n",
    "        a.remove(0); // 删(根据索引位置)\n",
    "        int first = a.indexOf(\"java\"); // 元素第一次出现的索引位置\n",
    "        int last = a.lastIndexOf(\"java\"); // 元素最后一次出现的索引位置\n",
    "        \n",
    "        // 遍历\n",
    "        for (int i = 0; i < a.length; i++) {\n",
    "        }\n",
    "        return [first, last]\n",
    "        \"\"\"\n",
    "    }\n",
    "}\n",
    "es.scripts_painless_execute(body=body)"
   ]
  }
 ],
 "metadata": {
  "kernelspec": {
   "display_name": "Python 3",
   "language": "python",
   "name": "python3"
  },
  "language_info": {
   "codemirror_mode": {
    "name": "ipython",
    "version": 3
   },
   "file_extension": ".py",
   "mimetype": "text/x-python",
   "name": "python",
   "nbconvert_exporter": "python",
   "pygments_lexer": "ipython3",
   "version": "3.10.12"
  }
 },
 "nbformat": 4,
 "nbformat_minor": 0
}
