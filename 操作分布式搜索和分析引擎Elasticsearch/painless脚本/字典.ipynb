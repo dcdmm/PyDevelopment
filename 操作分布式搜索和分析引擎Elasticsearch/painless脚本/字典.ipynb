{
 "cells": [
  {
   "cell_type": "code",
   "execution_count": 22,
   "metadata": {
    "metadata": {}
   },
   "outputs": [],
   "source": [
    "from elasticsearch import Elasticsearch"
   ]
  },
  {
   "cell_type": "code",
   "execution_count": 23,
   "metadata": {
    "metadata": {}
   },
   "outputs": [],
   "source": [
    "es = Elasticsearch([{'host': 'localhost', 'port': 9200}])"
   ]
  },
  {
   "cell_type": "code",
   "execution_count": 24,
   "metadata": {
    "metadata": {}
   },
   "outputs": [
    {
     "data": {
      "text/plain": [
       "{'result': '{}'}"
      ]
     },
     "execution_count": 24,
     "metadata": {},
     "output_type": "execute_result"
    }
   ],
   "source": [
    "es.scripts_painless_execute(body={\n",
    "    \"script\": {\n",
    "        \"source\": \"\"\"\n",
    "        Map map = new HashMap(); // 初始化方法一(创建一个空Map)\n",
    "        return map;\n",
    "        \"\"\"\n",
    "    }\n",
    "})"
   ]
  },
  {
   "cell_type": "code",
   "execution_count": 25,
   "metadata": {
    "metadata": {}
   },
   "outputs": [
    {
     "data": {
      "text/plain": [
       "{'result': '{a=-1, b=2, c=3, d=4}'}"
      ]
     },
     "execution_count": 25,
     "metadata": {},
     "output_type": "execute_result"
    }
   ],
   "source": [
    "es.scripts_painless_execute(body={\n",
    "    \"script\": {\n",
    "        \"source\": \"\"\"\n",
    "        Map map = [\"a\": 1, \"b\": 2, \"c\": 3]; // 初始化方式二\n",
    "        map[\"a\"] = -1; // 键\"a\"存在,改写键对应的值\n",
    "        map[\"d\"] = 4; // 键\"d\"不存在,创建一个新的键并赋值\n",
    "        return map;\n",
    "        \"\"\"\n",
    "    }\n",
    "})"
   ]
  },
  {
   "cell_type": "code",
   "execution_count": 26,
   "metadata": {
    "metadata": {}
   },
   "outputs": [
    {
     "name": "stdout",
     "output_type": "stream",
     "text": [
      "{'result': '3'}\n",
      "{'result': '{a=1, b=2, c=3, d=4}'}\n",
      "{'result': '{b=2, c=3}'}\n",
      "{'result': 'true'}\n",
      "{'result': '[a, b, c]'}\n"
     ]
    }
   ],
   "source": [
    "print(es.scripts_painless_execute(body={\n",
    "    \"script\": {\n",
    "        \"source\": \"\"\"\n",
    "        Map map = [\"a\": 1, \"b\": 2, \"c\": 3];\n",
    "        int map_size = map.size(); // java map接口size()方法\n",
    "        return map_size;\n",
    "        \"\"\"\n",
    "    }\n",
    "}))\n",
    "\n",
    "print(es.scripts_painless_execute(body={\n",
    "    \"script\": {\n",
    "        \"source\": \"\"\"\n",
    "        Map map = [\"a\": 1, \"b\": 2, \"c\": 3];\n",
    "        map.put(\"d\", 4); // java map接口put方法\n",
    "        return map;\n",
    "        \"\"\"\n",
    "    }\n",
    "}))\n",
    "\n",
    "print(es.scripts_painless_execute(body={\n",
    "    \"script\": {\n",
    "        \"source\": \"\"\"\n",
    "        Map map = [\"a\": 1, \"b\": 2, \"c\": 3];\n",
    "        map.remove(\"a\"); // java map接口remove方法\n",
    "        return map;\n",
    "        \"\"\"\n",
    "    }\n",
    "}))\n",
    "\n",
    "print(es.scripts_painless_execute(body={\n",
    "    \"script\": {\n",
    "        \"source\": \"\"\"\n",
    "        Map map = [\"a\": 1, \"b\": 2, \"c\": 3];\n",
    "        boolean map_b = map.containsKey(\"a\"); // java map接口containsKey方法\n",
    "        return map_b;\n",
    "        \"\"\"\n",
    "    }\n",
    "}))\n",
    "\n",
    "print(es.scripts_painless_execute(body={\n",
    "    \"script\": {\n",
    "        \"source\": \"\"\"\n",
    "        Map map = [\"a\": 1, \"b\": 2, \"c\": 3];\n",
    "        List map_key = new ArrayList(map.keySet()); \n",
    "\n",
    "        // 遍历\n",
    "        for (int i = 0; i < map_key.length; i++) {\n",
    "            String temp_s = map_key[i];\n",
    "            int temp = map[map_key[i]];\n",
    "        }\n",
    "        return map_key;\n",
    "        \"\"\"\n",
    "    }\n",
    "}))"
   ]
  },
  {
   "cell_type": "code",
   "execution_count": null,
   "metadata": {},
   "outputs": [],
   "source": []
  }
 ],
 "metadata": {
  "kernelspec": {
   "display_name": "development_env",
   "language": "python",
   "name": "python3"
  },
  "language_info": {
   "codemirror_mode": {
    "name": "ipython",
    "version": 3
   },
   "file_extension": ".py",
   "mimetype": "text/x-python",
   "name": "python",
   "nbconvert_exporter": "python",
   "pygments_lexer": "ipython3",
   "version": "3.10.12"
  }
 },
 "nbformat": 4,
 "nbformat_minor": 2
}
