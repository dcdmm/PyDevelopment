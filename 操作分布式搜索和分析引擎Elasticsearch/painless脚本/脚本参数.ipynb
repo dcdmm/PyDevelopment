{
 "cells": [
  {
   "cell_type": "code",
   "execution_count": 1,
   "metadata": {
    "collapsed": true,
    "metadata": {}
   },
   "outputs": [],
   "source": [
    "from elasticsearch import Elasticsearch"
   ]
  },
  {
   "cell_type": "code",
   "execution_count": 2,
   "metadata": {
    "collapsed": false,
    "metadata": {},
    "pycharm": {
     "name": "#%%\n"
    }
   },
   "outputs": [],
   "source": [
    "es = Elasticsearch([{'host': 'localhost', 'port': 9200}])"
   ]
  },
  {
   "cell_type": "code",
   "execution_count": 3,
   "metadata": {
    "collapsed": false,
    "metadata": {},
    "pycharm": {
     "name": "#%%\n"
    }
   },
   "outputs": [
    {
     "data": {
      "text/plain": [
       "{'result': '0.5'}"
      ]
     },
     "execution_count": 3,
     "metadata": {},
     "output_type": "execute_result"
    }
   ],
   "source": [
    "a = 100.5\n",
    "\n",
    "def exp(x):\n",
    "    return x + x\n",
    "\n",
    "es.scripts_painless_execute(body={\n",
    "    \"script\": {\n",
    "        \"source\": \"params.count / params.total\",\n",
    "        # Specifies any named parameters that are passed into the script as variables.\n",
    "        # Use parameters instead of hard-coded values to decrease compile time.\n",
    "        \"params\": {\n",
    "            \"count\": a,\n",
    "            \"total\": exp(a)\n",
    "        }\n",
    "    }\n",
    "})"
   ]
  },
  {
   "cell_type": "code",
   "execution_count": 4,
   "metadata": {
    "metadata": {}
   },
   "outputs": [
    {
     "data": {
      "text/plain": [
       "{'result': '{a=0.5, b=1.5, c=2.5}'}"
      ]
     },
     "execution_count": 4,
     "metadata": {},
     "output_type": "execute_result"
    }
   ],
   "source": [
    "weight_adjust = {\n",
    "    \"a\": 0.5,\n",
    "    \"b\": 1.5,\n",
    "    \"c\": 2.5\n",
    "}\n",
    "\n",
    "es.scripts_painless_execute(body={\n",
    "    \"script\": {\n",
    "        \"source\": \n",
    "        \"\"\"\n",
    "        Map weight = params.weight_adjust;\n",
    "        return weight;\n",
    "        \"\"\",\n",
    "        \"params\": {\n",
    "            \"weight_adjust\": weight_adjust\n",
    "        }\n",
    "    }\n",
    "})"
   ]
  }
 ],
 "metadata": {
  "kernelspec": {
   "display_name": "Python 3",
   "language": "python",
   "name": "python3"
  },
  "language_info": {
   "codemirror_mode": {
    "name": "ipython",
    "version": 3
   },
   "file_extension": ".py",
   "mimetype": "text/x-python",
   "name": "python",
   "nbconvert_exporter": "python",
   "pygments_lexer": "ipython3",
   "version": "3.10.12"
  }
 },
 "nbformat": 4,
 "nbformat_minor": 0
}
