{
 "cells": [
  {
   "cell_type": "code",
   "execution_count": 23,
   "outputs": [],
   "source": [
    "from elasticsearch import Elasticsearch"
   ],
   "metadata": {
    "collapsed": false,
    "pycharm": {
     "name": "#%%\n"
    }
   }
  },
  {
   "cell_type": "code",
   "execution_count": 24,
   "outputs": [
    {
     "data": {
      "text/plain": "{'acknowledged': True, 'shards_acknowledged': True, 'index': 'es0'}"
     },
     "execution_count": 24,
     "metadata": {},
     "output_type": "execute_result"
    }
   ],
   "source": [
    "es = Elasticsearch([{'host': 'localhost', 'port': 9200}])\n",
    "es.indices.create('es0')"
   ],
   "metadata": {
    "collapsed": false,
    "pycharm": {
     "name": "#%%\n"
    }
   }
  },
  {
   "cell_type": "code",
   "execution_count": 25,
   "outputs": [
    {
     "data": {
      "text/plain": "{'_index': 'es0',\n '_type': '_doc',\n '_id': '3',\n '_version': 1,\n 'result': 'created',\n '_shards': {'total': 2, 'successful': 1, 'failed': 0},\n '_seq_no': 3,\n '_primary_term': 1}"
     },
     "execution_count": 25,
     "metadata": {},
     "output_type": "execute_result"
    }
   ],
   "source": [
    "es.index('es0', id=0, body={\"name\": \"xiaoming\",\n",
    "                            \"age\": 23,\n",
    "                            \"love\": \"java\"})\n",
    "es.index('es0', id=1, body={\"name\": \"xiaohong\",\n",
    "                            \"age\": 25,\n",
    "                            \"love\": \"c++\"})\n",
    "es.index('es0', id=2, body={\"name\": \"xiaobai\",\n",
    "                            \"age\": 23,\n",
    "                            \"love\": \"rust\"})\n",
    "es.index('es0', id=3, body={\"name\": \"xiaobai\",\n",
    "                            \"age\": 23,\n",
    "                            \"love\": \"java\"})"
   ],
   "metadata": {
    "collapsed": false,
    "pycharm": {
     "name": "#%%\n"
    }
   }
  },
  {
   "cell_type": "code",
   "execution_count": 26,
   "outputs": [
    {
     "data": {
      "text/plain": "{'docs': [{'_index': 'es0',\n   '_type': '_doc',\n   '_id': '0',\n   '_version': 1,\n   '_seq_no': 0,\n   '_primary_term': 1,\n   'found': True,\n   '_source': {'name': 'xiaoming', 'age': 23, 'love': 'java'}},\n  {'_index': 'es0',\n   '_type': '_doc',\n   '_id': '1',\n   '_version': 1,\n   '_seq_no': 1,\n   '_primary_term': 1,\n   'found': True,\n   '_source': {'name': 'xiaohong', 'age': 25, 'love': 'c++'}},\n  {'_index': 'es0',\n   '_type': '_doc',\n   '_id': '2',\n   '_version': 1,\n   '_seq_no': 2,\n   '_primary_term': 1,\n   'found': True,\n   '_source': {'name': 'xiaobai', 'age': 23, 'love': 'rust'}},\n  {'_index': 'es0',\n   '_type': '_doc',\n   '_id': '3',\n   '_version': 1,\n   '_seq_no': 3,\n   '_primary_term': 1,\n   'found': True,\n   '_source': {'name': 'xiaobai', 'age': 23, 'love': 'java'}}]}"
     },
     "execution_count": 26,
     "metadata": {},
     "output_type": "execute_result"
    }
   ],
   "source": [
    "es.mget(index='es0', body={\n",
    "    \"ids\": [0, 1, 2, 3]\n",
    "})"
   ],
   "metadata": {
    "collapsed": false,
    "pycharm": {
     "name": "#%%\n"
    }
   }
  },
  {
   "cell_type": "code",
   "execution_count": 27,
   "outputs": [
    {
     "data": {
      "text/plain": "{'took': 3,\n 'timed_out': False,\n 'total': 0,\n 'updated': 0,\n 'deleted': 0,\n 'batches': 0,\n 'version_conflicts': 0,\n 'noops': 0,\n 'retries': {'bulk': 0, 'search': 0},\n 'throttled_millis': 0,\n 'requests_per_second': -1.0,\n 'throttled_until_millis': 0,\n 'failures': []}"
     },
     "execution_count": 27,
     "metadata": {},
     "output_type": "execute_result"
    }
   ],
   "source": [
    "body = {\n",
    "    \"script\": {\n",
    "        \"source\": \"\"\"\n",
    "        ctx._source.love=\"JAVA\";\n",
    "        ctx._source.remove(\"age\");\n",
    "        \"\"\"\n",
    "    },\n",
    "    \"query\": {\n",
    "        \"match\": {\n",
    "            \"love\": \"java\"\n",
    "        }\n",
    "    }\n",
    "}\n",
    "# Performs an update on every document in the index without changing the source, for example to pick up a mapping change.\n",
    "'''\n",
    "POST /es0/_update_by_query\n",
    "`body`\n",
    "'''\n",
    "es.update_by_query(index='es0', body=body)"
   ],
   "metadata": {
    "collapsed": false,
    "pycharm": {
     "name": "#%%\n"
    }
   }
  },
  {
   "cell_type": "code",
   "execution_count": 28,
   "outputs": [
    {
     "data": {
      "text/plain": "{'docs': [{'_index': 'es0',\n   '_type': '_doc',\n   '_id': '0',\n   '_version': 1,\n   '_seq_no': 0,\n   '_primary_term': 1,\n   'found': True,\n   '_source': {'name': 'xiaoming', 'age': 23, 'love': 'java'}},\n  {'_index': 'es0',\n   '_type': '_doc',\n   '_id': '1',\n   '_version': 1,\n   '_seq_no': 1,\n   '_primary_term': 1,\n   'found': True,\n   '_source': {'name': 'xiaohong', 'age': 25, 'love': 'c++'}},\n  {'_index': 'es0',\n   '_type': '_doc',\n   '_id': '2',\n   '_version': 1,\n   '_seq_no': 2,\n   '_primary_term': 1,\n   'found': True,\n   '_source': {'name': 'xiaobai', 'age': 23, 'love': 'rust'}},\n  {'_index': 'es0',\n   '_type': '_doc',\n   '_id': '3',\n   '_version': 1,\n   '_seq_no': 3,\n   '_primary_term': 1,\n   'found': True,\n   '_source': {'name': 'xiaobai', 'age': 23, 'love': 'java'}}]}"
     },
     "execution_count": 28,
     "metadata": {},
     "output_type": "execute_result"
    }
   ],
   "source": [
    "es.mget(index='es0', body={\n",
    "    \"ids\": [0, 1, 2, 3]\n",
    "})"
   ],
   "metadata": {
    "collapsed": false,
    "pycharm": {
     "name": "#%%\n"
    }
   }
  },
  {
   "cell_type": "code",
   "execution_count": 29,
   "outputs": [
    {
     "data": {
      "text/plain": "{'acknowledged': True}"
     },
     "execution_count": 29,
     "metadata": {},
     "output_type": "execute_result"
    }
   ],
   "source": [
    "es.indices.delete('es0')"
   ],
   "metadata": {
    "collapsed": false,
    "pycharm": {
     "name": "#%%\n"
    }
   }
  }
 ],
 "metadata": {
  "kernelspec": {
   "display_name": "Python 3",
   "language": "python",
   "name": "python3"
  },
  "language_info": {
   "codemirror_mode": {
    "name": "ipython",
    "version": 2
   },
   "file_extension": ".py",
   "mimetype": "text/x-python",
   "name": "python",
   "nbconvert_exporter": "python",
   "pygments_lexer": "ipython2",
   "version": "2.7.6"
  }
 },
 "nbformat": 4,
 "nbformat_minor": 0
}