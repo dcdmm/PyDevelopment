{
 "cells": [
  {
   "cell_type": "code",
   "execution_count": 115,
   "metadata": {
    "collapsed": true
   },
   "outputs": [],
   "source": [
    "from elasticsearch import Elasticsearch"
   ]
  },
  {
   "cell_type": "code",
   "execution_count": 116,
   "outputs": [
    {
     "data": {
      "text/plain": "{'acknowledged': True, 'shards_acknowledged': True, 'index': 'es0'}"
     },
     "execution_count": 116,
     "metadata": {},
     "output_type": "execute_result"
    }
   ],
   "source": [
    "es = Elasticsearch([{'host': 'localhost', 'port': 9200}])\n",
    "es.indices.create('es0')"
   ],
   "metadata": {
    "collapsed": false,
    "pycharm": {
     "name": "#%%\n"
    }
   }
  },
  {
   "cell_type": "code",
   "execution_count": 117,
   "outputs": [
    {
     "data": {
      "text/plain": "{'_index': 'es0',\n '_type': '_doc',\n '_id': '0',\n '_version': 1,\n '_seq_no': 0,\n '_primary_term': 1,\n 'found': True,\n '_source': {'name': 'dmm', 'title': 'girl', 'age': 18, 'learn': True}}"
     },
     "execution_count": 117,
     "metadata": {},
     "output_type": "execute_result"
    }
   ],
   "source": [
    "es.index(index='es0', id=0, body={\n",
    "    \"name\": \"dmm\",\n",
    "    \"title\": \"girl\",\n",
    "    \"age\": 18,\n",
    "    \"learn\": True\n",
    "})\n",
    "\n",
    "es.get('es0', 0)"
   ],
   "metadata": {
    "collapsed": false,
    "pycharm": {
     "name": "#%%\n"
    }
   }
  },
  {
   "cell_type": "code",
   "execution_count": 118,
   "outputs": [
    {
     "data": {
      "text/plain": "{'_index': 'es0',\n '_type': '_doc',\n '_id': '0',\n '_version': 2,\n 'result': 'updated',\n '_shards': {'total': 2, 'successful': 1, 'failed': 0},\n '_seq_no': 1,\n '_primary_term': 1}"
     },
     "execution_count": 118,
     "metadata": {},
     "output_type": "execute_result"
    }
   ],
   "source": [
    "'''\n",
    "ctx._source(数据类型参考java.util.Map):Contains extracted JSON in a Map and List structure for the fields existing in a stored document.\n",
    "'''\n",
    "# 修改字段\n",
    "es.update(index='es0', id=0,\n",
    "          body={\n",
    "              \"script\": {\n",
    "                  # \"source\": \"ctx._source.title=params.title\",\n",
    "                  \"source\": \"ctx._source.put(\\\"title\\\", params.title)\",  # 与上等价\n",
    "                  \"params\": {\"title\": \"child\"}\n",
    "              }\n",
    "          })"
   ],
   "metadata": {
    "collapsed": false,
    "pycharm": {
     "name": "#%%\n"
    }
   }
  },
  {
   "cell_type": "code",
   "execution_count": 119,
   "outputs": [
    {
     "data": {
      "text/plain": "{'_index': 'es0',\n '_type': '_doc',\n '_id': '0',\n '_version': 2,\n '_seq_no': 1,\n '_primary_term': 1,\n 'found': True,\n '_source': {'name': 'dmm', 'title': 'child', 'age': 18, 'learn': True}}"
     },
     "execution_count": 119,
     "metadata": {},
     "output_type": "execute_result"
    }
   ],
   "source": [
    "es.get('es0', 0)"
   ],
   "metadata": {
    "collapsed": false,
    "pycharm": {
     "name": "#%%\n"
    }
   }
  },
  {
   "cell_type": "code",
   "execution_count": 120,
   "outputs": [
    {
     "data": {
      "text/plain": "{'_index': 'es0',\n '_type': '_doc',\n '_id': '0',\n '_version': 3,\n 'result': 'updated',\n '_shards': {'total': 2, 'successful': 1, 'failed': 0},\n '_seq_no': 2,\n '_primary_term': 1}"
     },
     "execution_count": 120,
     "metadata": {},
     "output_type": "execute_result"
    }
   ],
   "source": [
    "# 添加字段\n",
    "es.update(index='es0', id=0,\n",
    "          body={\n",
    "              \"script\": {\n",
    "                  \"source\": \"ctx._source.put(\\\"love\\\", [\\\"java\\\", \\\"rust\\\", \\\"python\\\"])\",\n",
    "                  # \"source\": \"ctx._source.love=[\\\"java\\\", \\\"rust\\\", \\\"python\\\"]\"  # 与上等价\n",
    "              }\n",
    "          })"
   ],
   "metadata": {
    "collapsed": false,
    "pycharm": {
     "name": "#%%\n"
    }
   }
  },
  {
   "cell_type": "code",
   "execution_count": 121,
   "outputs": [
    {
     "data": {
      "text/plain": "{'_index': 'es0',\n '_type': '_doc',\n '_id': '0',\n '_version': 3,\n '_seq_no': 2,\n '_primary_term': 1,\n 'found': True,\n '_source': {'name': 'dmm',\n  'title': 'child',\n  'age': 18,\n  'learn': True,\n  'love': ['java', 'rust', 'python']}}"
     },
     "execution_count": 121,
     "metadata": {},
     "output_type": "execute_result"
    }
   ],
   "source": [
    "es.get('es0', 0)"
   ],
   "metadata": {
    "collapsed": false,
    "pycharm": {
     "name": "#%%\n"
    }
   }
  },
  {
   "cell_type": "code",
   "execution_count": 122,
   "outputs": [
    {
     "data": {
      "text/plain": "{'_index': 'es0',\n '_type': '_doc',\n '_id': '0',\n '_version': 4,\n 'result': 'updated',\n '_shards': {'total': 2, 'successful': 1, 'failed': 0},\n '_seq_no': 3,\n '_primary_term': 1}"
     },
     "execution_count": 122,
     "metadata": {},
     "output_type": "execute_result"
    }
   ],
   "source": [
    "# 修改字段\n",
    "es.update(index='es0', id=0,\n",
    "          body={\n",
    "              \"script\": {\n",
    "                  \"source\": \"ctx._source.love.add(\\\"c++\\\")\",\n",
    "              }\n",
    "          })"
   ],
   "metadata": {
    "collapsed": false,
    "pycharm": {
     "name": "#%%\n"
    }
   }
  },
  {
   "cell_type": "code",
   "execution_count": 123,
   "outputs": [
    {
     "data": {
      "text/plain": "{'_index': 'es0',\n '_type': '_doc',\n '_id': '0',\n '_version': 4,\n '_seq_no': 3,\n '_primary_term': 1,\n 'found': True,\n '_source': {'name': 'dmm',\n  'title': 'child',\n  'age': 18,\n  'learn': True,\n  'love': ['java', 'rust', 'python', 'c++']}}"
     },
     "execution_count": 123,
     "metadata": {},
     "output_type": "execute_result"
    }
   ],
   "source": [
    "es.get('es0', 0)"
   ],
   "metadata": {
    "collapsed": false,
    "pycharm": {
     "name": "#%%\n"
    }
   }
  },
  {
   "cell_type": "code",
   "execution_count": 124,
   "outputs": [
    {
     "data": {
      "text/plain": "{'_index': 'es0',\n '_type': '_doc',\n '_id': '0',\n '_version': 5,\n 'result': 'updated',\n '_shards': {'total': 2, 'successful': 1, 'failed': 0},\n '_seq_no': 4,\n '_primary_term': 1}"
     },
     "execution_count": 124,
     "metadata": {},
     "output_type": "execute_result"
    }
   ],
   "source": [
    "# 删除字段\n",
    "es.update(index='es0', id=0,\n",
    "          body={\n",
    "              \"script\": {\n",
    "                  \"source\": \"ctx._source.remove(\\\"learn\\\")\",\n",
    "              }\n",
    "          })"
   ],
   "metadata": {
    "collapsed": false,
    "pycharm": {
     "name": "#%%\n"
    }
   }
  },
  {
   "cell_type": "code",
   "execution_count": 125,
   "outputs": [
    {
     "data": {
      "text/plain": "{'_index': 'es0',\n '_type': '_doc',\n '_id': '0',\n '_version': 5,\n '_seq_no': 4,\n '_primary_term': 1,\n 'found': True,\n '_source': {'name': 'dmm',\n  'title': 'child',\n  'age': 18,\n  'love': ['java', 'rust', 'python', 'c++']}}"
     },
     "execution_count": 125,
     "metadata": {},
     "output_type": "execute_result"
    }
   ],
   "source": [
    "es.get('es0', 0)"
   ],
   "metadata": {
    "collapsed": false,
    "pycharm": {
     "name": "#%%\n"
    }
   }
  },
  {
   "cell_type": "code",
   "execution_count": 126,
   "outputs": [
    {
     "data": {
      "text/plain": "{'acknowledged': True}"
     },
     "execution_count": 126,
     "metadata": {},
     "output_type": "execute_result"
    }
   ],
   "source": [
    "es.indices.delete('es0')"
   ],
   "metadata": {
    "collapsed": false,
    "pycharm": {
     "name": "#%%\n"
    }
   }
  },
  {
   "cell_type": "code",
   "execution_count": 126,
   "outputs": [],
   "source": [],
   "metadata": {
    "collapsed": false,
    "pycharm": {
     "name": "#%%\n"
    }
   }
  }
 ],
 "metadata": {
  "kernelspec": {
   "display_name": "Python 3",
   "language": "python",
   "name": "python3"
  },
  "language_info": {
   "codemirror_mode": {
    "name": "ipython",
    "version": 2
   },
   "file_extension": ".py",
   "mimetype": "text/x-python",
   "name": "python",
   "nbconvert_exporter": "python",
   "pygments_lexer": "ipython2",
   "version": "2.7.6"
  }
 },
 "nbformat": 4,
 "nbformat_minor": 0
}