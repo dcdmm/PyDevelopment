{
 "cells": [
  {
   "cell_type": "code",
   "execution_count": 7,
   "metadata": {
    "collapsed": true
   },
   "outputs": [],
   "source": [
    "from elasticsearch import Elasticsearch"
   ]
  },
  {
   "cell_type": "code",
   "execution_count": 8,
   "outputs": [
    {
     "data": {
      "text/plain": "{'acknowledged': True, 'shards_acknowledged': True, 'index': 'es0'}"
     },
     "execution_count": 8,
     "metadata": {},
     "output_type": "execute_result"
    }
   ],
   "source": [
    "es = Elasticsearch([{'host': 'localhost', 'port': 9200}])\n",
    "es.indices.create('es0')"
   ],
   "metadata": {
    "collapsed": false,
    "pycharm": {
     "name": "#%%\n"
    }
   }
  },
  {
   "cell_type": "code",
   "execution_count": 9,
   "outputs": [
    {
     "data": {
      "text/plain": "{'_index': 'es0',\n '_type': '_doc',\n '_id': '0',\n '_version': 1,\n '_seq_no': 0,\n '_primary_term': 1,\n 'found': True,\n '_source': {'name': '小昭',\n  'age': '15',\n  'sex': 'f',\n  'address': '中原',\n  'sect': '天鹰教',\n  'skill': '无',\n  'power': '50',\n  'create_time': '2022-4-18 14:44:47',\n  'modify_time': '2022-4-18 14:44:52'}}"
     },
     "execution_count": 9,
     "metadata": {},
     "output_type": "execute_result"
    }
   ],
   "source": [
    "es.index(index='es0', id=0, body={\n",
    "    \"name\": \"小昭\",\n",
    "    \"age\": \"15\",\n",
    "    \"sex\": \"f\",\n",
    "    \"address\": \"中原\",\n",
    "    \"sect\": \"天鹰教\",\n",
    "    \"skill\": \"无\",\n",
    "    \"power\": \"50\",\n",
    "    \"create_time\": \"2022-4-18 14:44:47\",\n",
    "    \"modify_time\": \"2022-4-18 14:44:52\"\n",
    "})\n",
    "\n",
    "es.get('es0', 0)"
   ],
   "metadata": {
    "collapsed": false,
    "pycharm": {
     "name": "#%%\n"
    }
   }
  },
  {
   "cell_type": "code",
   "execution_count": 10,
   "outputs": [
    {
     "data": {
      "text/plain": "{'_index': 'es0',\n '_type': '_doc',\n '_id': '0',\n '_version': 2,\n 'result': 'updated',\n '_shards': {'total': 2, 'successful': 1, 'failed': 0},\n '_seq_no': 1,\n '_primary_term': 1}"
     },
     "execution_count": 10,
     "metadata": {},
     "output_type": "execute_result"
    }
   ],
   "source": [
    "es.index(index='es0', id=0, body={\n",
    "             \"name\": \"小昭\",\n",
    "             \"age\": \"15\",\n",
    "             \"sex\": \"f\",\n",
    "             \"skill\": \"无\",\n",
    "             \"power\": \"500\",\n",
    "             \"create_time\": \"2022-4-18 14:44:47\",\n",
    "             \"modify_time\": \"2022-4-18 14:44:52\"\n",
    "         })"
   ],
   "metadata": {
    "collapsed": false,
    "pycharm": {
     "name": "#%%\n"
    }
   }
  },
  {
   "cell_type": "code",
   "execution_count": 11,
   "outputs": [
    {
     "data": {
      "text/plain": "{'_index': 'es0',\n '_type': '_doc',\n '_id': '0',\n '_version': 2,\n '_seq_no': 1,\n '_primary_term': 1,\n 'found': True,\n '_source': {'name': '小昭',\n  'age': '15',\n  'sex': 'f',\n  'skill': '无',\n  'power': '500',\n  'create_time': '2022-4-18 14:44:47',\n  'modify_time': '2022-4-18 14:44:52'}}"
     },
     "execution_count": 11,
     "metadata": {},
     "output_type": "execute_result"
    }
   ],
   "source": [
    "es.get(index='es0', id=0)  # 覆盖原有数据"
   ],
   "metadata": {
    "collapsed": false,
    "pycharm": {
     "name": "#%%\n"
    }
   }
  },
  {
   "cell_type": "code",
   "execution_count": 12,
   "outputs": [
    {
     "data": {
      "text/plain": "{'acknowledged': True}"
     },
     "execution_count": 12,
     "metadata": {},
     "output_type": "execute_result"
    }
   ],
   "source": [
    "es.indices.delete('es0')"
   ],
   "metadata": {
    "collapsed": false,
    "pycharm": {
     "name": "#%%\n"
    }
   }
  }
 ],
 "metadata": {
  "kernelspec": {
   "display_name": "Python 3",
   "language": "python",
   "name": "python3"
  },
  "language_info": {
   "codemirror_mode": {
    "name": "ipython",
    "version": 2
   },
   "file_extension": ".py",
   "mimetype": "text/x-python",
   "name": "python",
   "nbconvert_exporter": "python",
   "pygments_lexer": "ipython2",
   "version": "2.7.6"
  }
 },
 "nbformat": 4,
 "nbformat_minor": 0
}