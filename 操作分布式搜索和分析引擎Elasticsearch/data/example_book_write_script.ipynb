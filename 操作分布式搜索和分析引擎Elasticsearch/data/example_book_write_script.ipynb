{
 "cells": [
  {
   "cell_type": "code",
   "execution_count": 1,
   "metadata": {
    "collapsed": false,
    "pycharm": {
     "name": "#%%\n"
    }
   },
   "outputs": [],
   "source": [
    "from elasticsearch import helpers\n",
    "from elasticsearch import Elasticsearch\n",
    "import jsonlines"
   ]
  },
  {
   "cell_type": "code",
   "execution_count": 2,
   "metadata": {
    "collapsed": false,
    "pycharm": {
     "name": "#%%\n"
    }
   },
   "outputs": [],
   "source": [
    "es = Elasticsearch([{'host': 'localhost', 'port': 9200}])"
   ]
  },
  {
   "cell_type": "code",
   "execution_count": 3,
   "metadata": {
    "collapsed": false,
    "metadata": {},
    "pycharm": {
     "name": "#%%\n"
    }
   },
   "outputs": [
    {
     "data": {
      "text/plain": [
       "{'acknowledged': True, 'shards_acknowledged': True, 'index': 'test'}"
      ]
     },
     "execution_count": 3,
     "metadata": {},
     "output_type": "execute_result"
    }
   ],
   "source": [
    "es.indices.create('test', body={\n",
    "    \"mappings\": {\n",
    "        \"properties\": {\n",
    "            \"name\": {\n",
    "                \"type\": \"text\",\n",
    "                \"analyzer\": \"ik_max_word\"\n",
    "            },\n",
    "            \"publish\": {\n",
    "                \"type\": \"text\",\n",
    "                \"analyzer\": \"ik_max_word\"\n",
    "            },\n",
    "            \"type\": {\n",
    "                \"type\": \"text\",\n",
    "                \"analyzer\": \"ik_max_word\"\n",
    "            },\n",
    "            \"text\": {\n",
    "                \"type\": \"text\",\n",
    "                \"analyzer\": \"ik_max_word\"\n",
    "            },\n",
    "            \"author\": {\n",
    "                \"type\": \"keyword\"\n",
    "            },\n",
    "            \"info\": {\n",
    "                \"type\": \"text\",\n",
    "                \"analyzer\": \"ik_max_word\"\n",
    "            },\n",
    "            \"price\": {\n",
    "                \"type\": \"double\"\n",
    "            }\n",
    "        }\n",
    "    }\n",
    "})"
   ]
  },
  {
   "cell_type": "code",
   "execution_count": 4,
   "metadata": {
    "collapsed": false,
    "metadata": {},
    "pycharm": {
     "name": "#%%\n"
    }
   },
   "outputs": [
    {
     "data": {
      "text/plain": [
       "(888, [])"
      ]
     },
     "execution_count": 4,
     "metadata": {},
     "output_type": "execute_result"
    }
   ],
   "source": [
    "json_data = []\n",
    "\n",
    "with open('example_book_data.jsonl', encoding='utf-8') as fp:\n",
    "    for item in jsonlines.Reader(fp):\n",
    "        json_data.append(item)\n",
    "\n",
    "\n",
    "def gendata():\n",
    "    for word in json_data:\n",
    "        yield word\n",
    "\n",
    "\n",
    "helpers.bulk(es, gendata())"
   ]
  },
  {
   "cell_type": "code",
   "execution_count": 5,
   "metadata": {
    "collapsed": false,
    "pycharm": {
     "name": "#%%\n"
    }
   },
   "outputs": [],
   "source": [
    "# es.indices.delete('test')"
   ]
  },
  {
   "cell_type": "code",
   "execution_count": null,
   "metadata": {
    "collapsed": false,
    "pycharm": {
     "name": "#%%\n"
    }
   },
   "outputs": [],
   "source": []
  }
 ],
 "metadata": {
  "kernelspec": {
   "display_name": "Python 3",
   "language": "python",
   "name": "python3"
  },
  "language_info": {
   "codemirror_mode": {
    "name": "ipython",
    "version": 3
   },
   "file_extension": ".py",
   "mimetype": "text/x-python",
   "name": "python",
   "nbconvert_exporter": "python",
   "pygments_lexer": "ipython3",
   "version": "3.10.12"
  }
 },
 "nbformat": 4,
 "nbformat_minor": 0
}
