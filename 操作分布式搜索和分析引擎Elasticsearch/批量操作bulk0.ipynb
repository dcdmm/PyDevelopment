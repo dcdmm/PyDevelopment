{
 "cells": [
  {
   "cell_type": "code",
   "execution_count": 31,
   "metadata": {
    "collapsed": true
   },
   "outputs": [],
   "source": [
    "from elasticsearch import helpers\n",
    "from elasticsearch import Elasticsearch"
   ]
  },
  {
   "cell_type": "code",
   "execution_count": 32,
   "outputs": [
    {
     "data": {
      "text/plain": "{'acknowledged': True, 'shards_acknowledged': True, 'index': 'es0'}"
     },
     "execution_count": 32,
     "metadata": {},
     "output_type": "execute_result"
    }
   ],
   "source": [
    "es = Elasticsearch([{'host': 'localhost', 'port': 9200}])\n",
    "es.indices.create('es0')"
   ],
   "metadata": {
    "collapsed": false,
    "pycharm": {
     "name": "#%%\n"
    }
   }
  },
  {
   "cell_type": "code",
   "execution_count": 33,
   "outputs": [
    {
     "data": {
      "text/plain": "(4, [])"
     },
     "execution_count": 33,
     "metadata": {},
     "output_type": "execute_result"
    }
   ],
   "source": [
    "'''\n",
    "POST _bulk\n",
    "{\"index\":{\"_index\":\"books\",\"_id\":\"1\"}}\n",
    "{\"name\":\"西游记\",\"author\":\"吴承恩\",\"price\":\"40\"}\n",
    "{\"index\":{\"_index\":\"books\", \"_id\":\"2\"}}\n",
    "{\"name\":\"三国演义\",\"author\":\"罗贯中\",\"price\":\"41\"}\n",
    "{\"index\":{\"_index\":\"books\",\"_id\":\"3\"}}\n",
    "{\"name\":\"水浒传\",\"author\":\"施耐庵\",\"price\":\"42\"}\n",
    "{\"index\":{\"_index\":\"books\",\"_id\":\"4\"}}\n",
    "{\"name\":\"红楼梦\",\"author\":\"曹雪芹\",\"price\":\"43\"}\n",
    "'''\n",
    "def gendata():\n",
    "    mywords = [{\"_op_type\": \"index\", \"_index\": \"es0\", \"_id\": \"1\", \"_source\": {\"name\": \"西游记\", \"author\": \"吴承恩\", \"price\": \"40\"}},\n",
    "               {\"_index\": \"es0\", \"_id\": \"2\", \"_source\": {\"name\": \"三国演义\", \"author\": \"罗贯中\", \"price\": \"41\"}},\n",
    "               {\"_index\": \"es0\", \"_id\": \"3\", \"_source\": {\"name\": \"水浒传\", \"author\": \"施耐庵\", \"price\": \"42\"}},\n",
    "               {\"_index\": \"es0\", \"_id\": \"4\", \"_source\": {\"name\": \"红楼梦\", \"author\": \"曹雪芹\", \"price\": \"43\"}}]\n",
    "    for word in mywords:\n",
    "        yield word\n",
    "\n",
    "'''\n",
    "The bulk() api accepts index(必须指明`_index`,`_id`), create(必须指明`_index`,`_id`), delete(必须指明`_index`,`_id`), and update(必须指明`_index`,`_id`) actions.\n",
    "Use the _op_type field to specify an action (_op_type defaults to index)\n",
    "\n",
    "The update action payload supports the following options: doc (partial document), upsert, doc_as_upsert, script, params (for script), lang (for script), and _source.\n",
    "'''\n",
    "helpers.bulk(es, gendata())"
   ],
   "metadata": {
    "collapsed": false,
    "pycharm": {
     "name": "#%%\n"
    }
   }
  },
  {
   "cell_type": "code",
   "execution_count": 34,
   "outputs": [
    {
     "data": {
      "text/plain": "{'acknowledged': True}"
     },
     "execution_count": 34,
     "metadata": {},
     "output_type": "execute_result"
    }
   ],
   "source": [
    "es.indices.delete('es0')"
   ],
   "metadata": {
    "collapsed": false,
    "pycharm": {
     "name": "#%%\n"
    }
   }
  }
 ],
 "metadata": {
  "kernelspec": {
   "display_name": "Python 3",
   "language": "python",
   "name": "python3"
  },
  "language_info": {
   "codemirror_mode": {
    "name": "ipython",
    "version": 2
   },
   "file_extension": ".py",
   "mimetype": "text/x-python",
   "name": "python",
   "nbconvert_exporter": "python",
   "pygments_lexer": "ipython2",
   "version": "2.7.6"
  }
 },
 "nbformat": 4,
 "nbformat_minor": 0
}