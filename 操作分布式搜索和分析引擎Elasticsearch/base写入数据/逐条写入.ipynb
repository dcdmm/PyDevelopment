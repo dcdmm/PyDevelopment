{
 "cells": [
  {
   "cell_type": "code",
   "execution_count": 90,
   "metadata": {
    "collapsed": true
   },
   "outputs": [],
   "source": [
    "from elasticsearch import Elasticsearch"
   ]
  },
  {
   "cell_type": "code",
   "execution_count": 91,
   "outputs": [
    {
     "data": {
      "text/plain": "{'acknowledged': True, 'shards_acknowledged': True, 'index': 'es0'}"
     },
     "execution_count": 91,
     "metadata": {},
     "output_type": "execute_result"
    }
   ],
   "source": [
    "es = Elasticsearch([{'host': 'localhost', 'port': 9200}])\n",
    "es.indices.create('es0')"
   ],
   "metadata": {
    "collapsed": false,
    "pycharm": {
     "name": "#%%\n"
    }
   }
  },
  {
   "cell_type": "code",
   "execution_count": 92,
   "outputs": [
    {
     "data": {
      "text/plain": "{'_index': 'es0',\n '_type': '_doc',\n '_id': 'H_3wEoYBXaQAg-JsJ-dq',\n '_version': 1,\n 'result': 'created',\n '_shards': {'total': 2, 'successful': 1, 'failed': 0},\n '_seq_no': 0,\n '_primary_term': 1}"
     },
     "execution_count": 92,
     "metadata": {},
     "output_type": "execute_result"
    }
   ],
   "source": [
    "# Creates or updates a document in an index.\n",
    "'''\n",
    "# POST可以不指明id(es自动生成)\n",
    "POST /es0/_doc/\n",
    "{\n",
    "    \"name\": \"赵敏\",\n",
    "    \"age\": \"16\",\n",
    "    \"sex\": \"f\",\n",
    "    \"address\": \"大都\",\n",
    "    \"sect\": \"朝廷\",\n",
    "    \"skill\": \"无\",\n",
    "    \"power\": \"40\",\n",
    "    \"create_time\": \"2022-4-18 14:34:47\",\n",
    "    \"modify_time\": \"2022-4-18 14:34:52\"\n",
    "}\n",
    "'''\n",
    "es.index(index='es0',\n",
    "         body={\n",
    "             \"name\": \"赵敏\",\n",
    "             \"age\": \"16\",\n",
    "             \"sex\": \"f\",\n",
    "             \"address\": \"大都\",\n",
    "             \"sect\": \"朝廷\",\n",
    "             \"skill\": \"无\",\n",
    "             \"power\": \"40\",\n",
    "             \"create_time\": \"2022-4-18 14:34:47\",\n",
    "             \"modify_time\": \"2022-4-18 14:34:52\"\n",
    "         })"
   ],
   "metadata": {
    "collapsed": false,
    "pycharm": {
     "name": "#%%\n"
    }
   }
  },
  {
   "cell_type": "code",
   "execution_count": 93,
   "outputs": [
    {
     "data": {
      "text/plain": "{'_index': 'es0',\n '_type': '_doc',\n '_id': 'H_3wEoYBXaQAg-JsJ-dq',\n '_version': 1,\n '_seq_no': 0,\n '_primary_term': 1,\n 'found': True,\n '_source': {'name': '赵敏',\n  'age': '16',\n  'sex': 'f',\n  'address': '大都',\n  'sect': '朝廷',\n  'skill': '无',\n  'power': '40',\n  'create_time': '2022-4-18 14:34:47',\n  'modify_time': '2022-4-18 14:34:52'}}"
     },
     "execution_count": 93,
     "metadata": {},
     "output_type": "execute_result"
    }
   ],
   "source": [
    "es.get(index='es0', id='H_3wEoYBXaQAg-JsJ-dq')"
   ],
   "metadata": {
    "collapsed": false,
    "pycharm": {
     "name": "#%%\n"
    }
   }
  },
  {
   "cell_type": "code",
   "execution_count": 94,
   "outputs": [
    {
     "data": {
      "text/plain": "{'_index': 'es0',\n '_type': '_doc',\n '_id': '0',\n '_version': 1,\n 'result': 'created',\n '_shards': {'total': 2, 'successful': 1, 'failed': 0},\n '_seq_no': 1,\n '_primary_term': 1}"
     },
     "execution_count": 94,
     "metadata": {},
     "output_type": "execute_result"
    }
   ],
   "source": [
    "''''\n",
    "# 指定id为0\n",
    "[PUT | POST] /es0/_doc/0\n",
    "{\n",
    "    \"name\": \"小昭\",\n",
    "    \"age\": \"15\",\n",
    "    \"sex\": \"f\",\n",
    "    \"address\": \"中原\",\n",
    "    \"sect\": \"天鹰教\",\n",
    "    \"skill\": \"无\",\n",
    "    \"power\": \"50\",\n",
    "    \"create_time\": \"2022-4-18 14:44:47\",\n",
    "    \"modify_time\": \"2022-4-18 14:44:52\"\n",
    "}\n",
    "'''\n",
    "es.index(index='es0',\n",
    "         id=0,\n",
    "         body={\n",
    "             \"name\": \"小昭\",\n",
    "             \"age\": \"15\",\n",
    "             \"sex\": \"f\",\n",
    "             \"address\": \"中原\",\n",
    "             \"sect\": \"天鹰教\",\n",
    "             \"skill\": \"无\",\n",
    "             \"power\": \"50\",\n",
    "             \"create_time\": \"2022-4-18 14:44:47\",\n",
    "             \"modify_time\": \"2022-4-18 14:44:52\"\n",
    "         })"
   ],
   "metadata": {
    "collapsed": false,
    "pycharm": {
     "name": "#%%\n"
    }
   }
  },
  {
   "cell_type": "code",
   "execution_count": 95,
   "outputs": [
    {
     "data": {
      "text/plain": "{'_index': 'es0',\n '_type': '_doc',\n '_id': '0',\n '_version': 1,\n '_seq_no': 1,\n '_primary_term': 1,\n 'found': True,\n '_source': {'name': '小昭',\n  'age': '15',\n  'sex': 'f',\n  'address': '中原',\n  'sect': '天鹰教',\n  'skill': '无',\n  'power': '50',\n  'create_time': '2022-4-18 14:44:47',\n  'modify_time': '2022-4-18 14:44:52'}}"
     },
     "execution_count": 95,
     "metadata": {},
     "output_type": "execute_result"
    }
   ],
   "source": [
    "es.get(index='es0', id=0)"
   ],
   "metadata": {
    "collapsed": false,
    "pycharm": {
     "name": "#%%\n"
    }
   }
  },
  {
   "cell_type": "code",
   "execution_count": 96,
   "outputs": [
    {
     "data": {
      "text/plain": "{'acknowledged': True}"
     },
     "execution_count": 96,
     "metadata": {},
     "output_type": "execute_result"
    }
   ],
   "source": [
    "es.indices.delete('es0')"
   ],
   "metadata": {
    "collapsed": false,
    "pycharm": {
     "name": "#%%\n"
    }
   }
  },
  {
   "cell_type": "code",
   "execution_count": null,
   "outputs": [],
   "source": [],
   "metadata": {
    "collapsed": false,
    "pycharm": {
     "name": "#%%\n"
    }
   }
  }
 ],
 "metadata": {
  "kernelspec": {
   "display_name": "Python 3",
   "language": "python",
   "name": "python3"
  },
  "language_info": {
   "codemirror_mode": {
    "name": "ipython",
    "version": 2
   },
   "file_extension": ".py",
   "mimetype": "text/x-python",
   "name": "python",
   "nbconvert_exporter": "python",
   "pygments_lexer": "ipython2",
   "version": "2.7.6"
  }
 },
 "nbformat": 4,
 "nbformat_minor": 0
}