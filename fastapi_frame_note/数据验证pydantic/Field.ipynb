{
 "cells": [
  {
   "cell_type": "code",
   "id": "initial_id",
   "metadata": {
    "collapsed": true,
    "ExecuteTime": {
     "end_time": "2024-07-30T19:05:13.199884Z",
     "start_time": "2024-07-30T19:05:13.183881Z"
    }
   },
   "source": "from pydantic import BaseModel, Field, ValidationError",
   "outputs": [],
   "execution_count": 131
  },
  {
   "metadata": {
    "ExecuteTime": {
     "end_time": "2024-07-30T19:05:13.215884Z",
     "start_time": "2024-07-30T19:05:13.199884Z"
    }
   },
   "cell_type": "code",
   "source": [
    "class User(BaseModel):\n",
    "    # The default parameter is used to define a default value for a field.\n",
    "    name: str = Field(default='John Doe')  # 默认为:\"Jane Doe\"\n",
    "\n",
    "\n",
    "user = User()\n",
    "print(user)"
   ],
   "id": "5d478f86482421c",
   "outputs": [
    {
     "name": "stdout",
     "output_type": "stream",
     "text": [
      "name='John Doe'\n"
     ]
    }
   ],
   "execution_count": 132
  },
  {
   "metadata": {
    "ExecuteTime": {
     "end_time": "2024-07-30T19:05:13.227882Z",
     "start_time": "2024-07-30T19:05:13.215884Z"
    }
   },
   "cell_type": "code",
   "source": [
    "\"\"\"\n",
    "Numeric Constraints\n",
    "\n",
    "There are some keyword arguments that can be used to constrain numeric values:\n",
    "    * gt - greater than\n",
    "    * lt - less than\n",
    "    * ge - greater than or equal to\n",
    "    * le - less than or equal to\n",
    "    * multiple_of - a multiple of the given number\n",
    "    * allow_inf_nan - allow 'inf', '-inf', 'nan' values\n",
    "\"\"\"\n",
    "\n",
    "\n",
    "class Foo(BaseModel):\n",
    "    positive: int = Field(gt=0)  # 整型且必须>0\n",
    "    non_negative: int = Field(ge=0)\n",
    "    negative: int = Field(lt=0)  # 整型且必须小于0\n",
    "    non_positive: int = Field(le=0)\n",
    "    even: int = Field(multiple_of=2)  # 必须是2的倍数\n",
    "    love_for_pydantic: float = Field(allow_inf_nan=True)\n",
    "\n",
    "\n",
    "try:\n",
    "    foo = Foo(\n",
    "        positive=-1,\n",
    "        non_negative=0,\n",
    "        negative=-1,\n",
    "        non_positive=0,\n",
    "        even=-3,\n",
    "        love_for_pydantic=float('inf'),\n",
    "    )\n",
    "    print(foo)\n",
    "except ValidationError as e:\n",
    "    print(e)"
   ],
   "id": "3528a5b616ba7006",
   "outputs": [
    {
     "name": "stdout",
     "output_type": "stream",
     "text": [
      "2 validation errors for Foo\n",
      "positive\n",
      "  Input should be greater than 0 [type=greater_than, input_value=-1, input_type=int]\n",
      "    For further information visit https://errors.pydantic.dev/2.5/v/greater_than\n",
      "even\n",
      "  Input should be a multiple of 2 [type=multiple_of, input_value=-3, input_type=int]\n",
      "    For further information visit https://errors.pydantic.dev/2.5/v/multiple_of\n"
     ]
    }
   ],
   "execution_count": 133
  },
  {
   "metadata": {
    "ExecuteTime": {
     "end_time": "2024-07-30T19:05:13.243984Z",
     "start_time": "2024-07-30T19:05:13.228470Z"
    }
   },
   "cell_type": "code",
   "source": [
    "class Foo(BaseModel):\n",
    "    # min_length: Minimum length of the string.\n",
    "    short: str = Field(min_length=3)\n",
    "    # max_length: Maximum length of the string.\n",
    "    long: str = Field(max_length=5)\n",
    "    # pattern: A regular expression that the string must match.\n",
    "    regex: str = Field(pattern=r'^\\d*$')\n",
    "\n",
    "\n",
    "try:\n",
    "    foo = Foo(short='a', long='foobarbaz', regex='123')\n",
    "    print(foo)\n",
    "except ValidationError as e:\n",
    "    print(e)"
   ],
   "id": "75c87cbfe4e571ef",
   "outputs": [
    {
     "name": "stdout",
     "output_type": "stream",
     "text": [
      "2 validation errors for Foo\n",
      "short\n",
      "  String should have at least 3 characters [type=string_too_short, input_value='a', input_type=str]\n",
      "    For further information visit https://errors.pydantic.dev/2.5/v/string_too_short\n",
      "long\n",
      "  String should have at most 5 characters [type=string_too_long, input_value='foobarbaz', input_type=str]\n",
      "    For further information visit https://errors.pydantic.dev/2.5/v/string_too_long\n"
     ]
    }
   ],
   "execution_count": 134
  }
 ],
 "metadata": {
  "kernelspec": {
   "display_name": "Python 3",
   "language": "python",
   "name": "python3"
  },
  "language_info": {
   "codemirror_mode": {
    "name": "ipython",
    "version": 2
   },
   "file_extension": ".py",
   "mimetype": "text/x-python",
   "name": "python",
   "nbconvert_exporter": "python",
   "pygments_lexer": "ipython2",
   "version": "2.7.6"
  }
 },
 "nbformat": 4,
 "nbformat_minor": 5
}
