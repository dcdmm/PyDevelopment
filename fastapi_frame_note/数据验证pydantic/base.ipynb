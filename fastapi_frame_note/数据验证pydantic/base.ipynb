{
 "cells": [
  {
   "metadata": {
    "ExecuteTime": {
     "end_time": "2024-07-30T19:05:09.315913Z",
     "start_time": "2024-07-30T19:05:09.303911Z"
    }
   },
   "cell_type": "code",
   "source": [
    "from pydantic import BaseModel, ValidationError\n",
    "from typing import List, Optional, Set"
   ],
   "id": "9ddaa704b4dffac6",
   "outputs": [],
   "execution_count": 95
  },
  {
   "metadata": {
    "ExecuteTime": {
     "end_time": "2024-07-30T19:05:09.331908Z",
     "start_time": "2024-07-30T19:05:09.315913Z"
    }
   },
   "cell_type": "code",
   "source": [
    "class User(BaseModel):\n",
    "    id: int  # 要求为整型或可以转换为整型的字符串\n",
    "    name: str = 'Jane Doe'  # 要求为字符串(默认为:\"Jane Doe\")\n",
    "    size: Optional[float] = None  # 要求为浮点型或可以转换为浮点型的字符串或None(默认为None)\n",
    "    like: Set[str]  # 要求元素类型为字符串的集合\n",
    "\n",
    "\n",
    "user = User(id=\"1\", like={\"football\", \"game\"})\n",
    "print(user)\n",
    "print(user.id, user.name)\n",
    "# Generate a dictionary representation of the model, optionally specifying which fields to include or exclude.\n",
    "print(user.model_dump(), type(user.model_dump()))\n",
    "# Generates a JSON representation of the model using Pydantic's `to_json` method.\n",
    "print(user.model_dump_json(), type(user.model_dump_json()))\n",
    "\n",
    "try:\n",
    "    user1 = User(id=1.2, size=\"f\", like={1, 2, 3})\n",
    "except ValidationError as e:\n",
    "    print(e)"
   ],
   "id": "9ae20aeb93cbf92f",
   "outputs": [
    {
     "name": "stdout",
     "output_type": "stream",
     "text": [
      "id=1 name='Jane Doe' size=None like={'game', 'football'}\n",
      "1 Jane Doe\n",
      "{'id': 1, 'name': 'Jane Doe', 'size': None, 'like': {'game', 'football'}} <class 'dict'>\n",
      "{\"id\":1,\"name\":\"Jane Doe\",\"size\":null,\"like\":[\"game\",\"football\"]} <class 'str'>\n",
      "5 validation errors for User\n",
      "id\n",
      "  Input should be a valid integer, got a number with a fractional part [type=int_from_float, input_value=1.2, input_type=float]\n",
      "    For further information visit https://errors.pydantic.dev/2.5/v/int_from_float\n",
      "size\n",
      "  Input should be a valid number, unable to parse string as a number [type=float_parsing, input_value='f', input_type=str]\n",
      "    For further information visit https://errors.pydantic.dev/2.5/v/float_parsing\n",
      "like.0\n",
      "  Input should be a valid string [type=string_type, input_value=1, input_type=int]\n",
      "    For further information visit https://errors.pydantic.dev/2.5/v/string_type\n",
      "like.1\n",
      "  Input should be a valid string [type=string_type, input_value=2, input_type=int]\n",
      "    For further information visit https://errors.pydantic.dev/2.5/v/string_type\n",
      "like.2\n",
      "  Input should be a valid string [type=string_type, input_value=3, input_type=int]\n",
      "    For further information visit https://errors.pydantic.dev/2.5/v/string_type\n"
     ]
    }
   ],
   "execution_count": 96
  },
  {
   "metadata": {
    "ExecuteTime": {
     "end_time": "2024-07-30T19:05:09.347919Z",
     "start_time": "2024-07-30T19:05:09.331908Z"
    }
   },
   "cell_type": "code",
   "source": [
    "class Foo(BaseModel):\n",
    "    count: int\n",
    "    size: Optional[float] = None\n",
    "\n",
    "\n",
    "class Bar(BaseModel):\n",
    "    apple: str = 'x'\n",
    "    banana: str = 'y'\n",
    "\n",
    "\n",
    "# Nested models\n",
    "class Spam(BaseModel):\n",
    "    foo: Foo\n",
    "    bars: List[Bar]\n",
    "\n",
    "\n",
    "m = Spam(foo={'count': 4}, bars=[{'apple': 'x1'}, {'apple': 'x2'}])\n",
    "print(m.model_dump())"
   ],
   "id": "c66b32f9843eaf7f",
   "outputs": [
    {
     "name": "stdout",
     "output_type": "stream",
     "text": [
      "{'foo': {'count': 4, 'size': None}, 'bars': [{'apple': 'x1', 'banana': 'y'}, {'apple': 'x2', 'banana': 'y'}]}\n"
     ]
    }
   ],
   "execution_count": 97
  }
 ],
 "metadata": {
  "kernelspec": {
   "display_name": "Python 3",
   "language": "python",
   "name": "python3"
  },
  "language_info": {
   "codemirror_mode": {
    "name": "ipython",
    "version": 2
   },
   "file_extension": ".py",
   "mimetype": "text/x-python",
   "name": "python",
   "nbconvert_exporter": "python",
   "pygments_lexer": "ipython2",
   "version": "2.7.6"
  }
 },
 "nbformat": 4,
 "nbformat_minor": 5
}
