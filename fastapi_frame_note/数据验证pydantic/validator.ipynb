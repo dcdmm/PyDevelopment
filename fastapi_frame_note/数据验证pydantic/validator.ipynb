{
 "cells": [
  {
   "cell_type": "code",
   "id": "initial_id",
   "metadata": {
    "collapsed": true,
    "ExecuteTime": {
     "end_time": "2024-07-30T19:05:18.408801Z",
     "start_time": "2024-07-30T19:05:18.392805Z"
    }
   },
   "source": "from pydantic import BaseModel, ValidationError, field_validator",
   "outputs": [],
   "execution_count": 24
  },
  {
   "metadata": {
    "ExecuteTime": {
     "end_time": "2024-07-30T19:05:18.420803Z",
     "start_time": "2024-07-30T19:05:18.408801Z"
    }
   },
   "cell_type": "code",
   "source": [
    "class UserModel(BaseModel):\n",
    "    name: str\n",
    "    id: int\n",
    "\n",
    "    # Field validators\n",
    "    @field_validator('name')  # 验证`name`字段\n",
    "    @classmethod  # 必须为类方法\n",
    "    def name_must_contain_space(cls, v: str) -> str:\n",
    "        if ' ' not in v:\n",
    "            raise ValueError('name字段必须包含空格')\n",
    "        return v\n",
    "\n",
    "\n",
    "print(UserModel(name='John Doe', id=1))\n",
    "\n",
    "try:\n",
    "    UserModel(name='samuel', id=1)\n",
    "except ValidationError as e:\n",
    "    print(e)\n"
   ],
   "id": "790a0ee598481f1a",
   "outputs": [
    {
     "name": "stdout",
     "output_type": "stream",
     "text": [
      "name='John Doe' id=1\n",
      "1 validation error for UserModel\n",
      "name\n",
      "  Value error, name字段必须包含空格 [type=value_error, input_value='samuel', input_type=str]\n",
      "    For further information visit https://errors.pydantic.dev/2.5/v/value_error\n"
     ]
    }
   ],
   "execution_count": 25
  }
 ],
 "metadata": {
  "kernelspec": {
   "display_name": "Python 3",
   "language": "python",
   "name": "python3"
  },
  "language_info": {
   "codemirror_mode": {
    "name": "ipython",
    "version": 2
   },
   "file_extension": ".py",
   "mimetype": "text/x-python",
   "name": "python",
   "nbconvert_exporter": "python",
   "pygments_lexer": "ipython2",
   "version": "2.7.6"
  }
 },
 "nbformat": 4,
 "nbformat_minor": 5
}
