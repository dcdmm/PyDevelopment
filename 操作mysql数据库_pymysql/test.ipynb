{
 "cells": [
  {
   "cell_type": "code",
   "execution_count": 11,
   "metadata": {
    "collapsed": true,
    "pycharm": {
     "name": "#%%\n"
    }
   },
   "outputs": [],
   "source": [
    "from MySQL_model import MysqlDB\n",
    "import pandas as pd\n",
    "import pymysql"
   ]
  },
  {
   "cell_type": "code",
   "execution_count": 12,
   "outputs": [],
   "source": [
    "# 连接MySQL数据库\n",
    "mysqldb = MysqlDB('localhost', 'qwer123456', 'myemployees')"
   ],
   "metadata": {
    "collapsed": false,
    "pycharm": {
     "name": "#%%\n"
    }
   }
  },
  {
   "cell_type": "code",
   "execution_count": 13,
   "outputs": [
    {
     "name": "stdout",
     "output_type": "stream",
     "text": [
      "106  of affected rows!\n"
     ]
    }
   ],
   "source": [
    "sql_select = \"\"\"\n",
    "select e.employee_id,\n",
    "       e.last_name,\n",
    "       m.employee_id,\n",
    "       m.last_name\n",
    "from employees e,\n",
    "     employees m\n",
    "where e.`manager_id` = m.`employee_id`;\"\"\"\n",
    "\n",
    "data, columns = (), []\n",
    "try:\n",
    "    data, columns = mysqldb.fetch_data(sql_select)\n",
    "except pymysql.Error as e:\n",
    "    print(\"数据查询失败: \" + str(e))\n",
    "finally:\n",
    "    # 关闭数据库连接\n",
    "    mysqldb.close_con()"
   ],
   "metadata": {
    "collapsed": false,
    "pycharm": {
     "name": "#%%\n"
    }
   }
  },
  {
   "cell_type": "code",
   "execution_count": 14,
   "outputs": [
    {
     "data": {
      "text/plain": "((101, 'Kochhar', 100, 'K_ing'),\n (102, 'De Haan', 100, 'K_ing'),\n (103, 'Hunold', 102, 'De Haan'),\n (104, 'Ernst', 103, 'Hunold'),\n (105, 'Austin', 103, 'Hunold'),\n (106, 'Pataballa', 103, 'Hunold'),\n (107, 'Lorentz', 103, 'Hunold'),\n (108, 'Greenberg', 101, 'Kochhar'),\n (109, 'Faviet', 108, 'Greenberg'),\n (110, 'Chen', 108, 'Greenberg'),\n (111, 'Sciarra', 108, 'Greenberg'),\n (112, 'Urman', 108, 'Greenberg'),\n (113, 'Popp', 108, 'Greenberg'),\n (114, 'Raphaely', 100, 'K_ing'),\n (115, 'Khoo', 114, 'Raphaely'),\n (116, 'Baida', 114, 'Raphaely'),\n (117, 'Tobias', 114, 'Raphaely'),\n (118, 'Himuro', 114, 'Raphaely'),\n (119, 'Colmenares', 114, 'Raphaely'),\n (120, 'Weiss', 100, 'K_ing'),\n (121, 'Fripp', 100, 'K_ing'),\n (122, 'Kaufling', 100, 'K_ing'),\n (123, 'Vollman', 100, 'K_ing'),\n (124, 'Mourgos', 100, 'K_ing'),\n (125, 'Nayer', 120, 'Weiss'),\n (126, 'Mikkilineni', 120, 'Weiss'),\n (127, 'Landry', 120, 'Weiss'),\n (128, 'Markle', 120, 'Weiss'),\n (129, 'Bissot', 121, 'Fripp'),\n (130, 'Atkinson', 121, 'Fripp'),\n (131, 'Marlow', 121, 'Fripp'),\n (132, 'Olson', 121, 'Fripp'),\n (133, 'Mallin', 122, 'Kaufling'),\n (134, 'Rogers', 122, 'Kaufling'),\n (135, 'Gee', 122, 'Kaufling'),\n (136, 'Philtanker', 122, 'Kaufling'),\n (137, 'Ladwig', 123, 'Vollman'),\n (138, 'Stiles', 123, 'Vollman'),\n (139, 'Seo', 123, 'Vollman'),\n (140, 'Patel', 123, 'Vollman'),\n (141, 'Rajs', 124, 'Mourgos'),\n (142, 'Davies', 124, 'Mourgos'),\n (143, 'Matos', 124, 'Mourgos'),\n (144, 'Vargas', 124, 'Mourgos'),\n (145, 'Russell', 100, 'K_ing'),\n (146, 'Partners', 100, 'K_ing'),\n (147, 'Errazuriz', 100, 'K_ing'),\n (148, 'Cambrault', 100, 'K_ing'),\n (149, 'Zlotkey', 100, 'K_ing'),\n (150, 'Tucker', 145, 'Russell'),\n (151, 'Bernstein', 145, 'Russell'),\n (152, 'Hall', 145, 'Russell'),\n (153, 'Olsen', 145, 'Russell'),\n (154, 'Cambrault', 145, 'Russell'),\n (155, 'Tuvault', 145, 'Russell'),\n (156, 'K_ing', 146, 'Partners'),\n (157, 'Sully', 146, 'Partners'),\n (158, 'McEwen', 146, 'Partners'),\n (159, 'Smith', 146, 'Partners'),\n (160, 'Doran', 146, 'Partners'),\n (161, 'Sewall', 146, 'Partners'),\n (162, 'Vishney', 147, 'Errazuriz'),\n (163, 'Greene', 147, 'Errazuriz'),\n (164, 'Marvins', 147, 'Errazuriz'),\n (165, 'Lee', 147, 'Errazuriz'),\n (166, 'Ande', 147, 'Errazuriz'),\n (167, 'Banda', 147, 'Errazuriz'),\n (168, 'Ozer', 148, 'Cambrault'),\n (169, 'Bloom', 148, 'Cambrault'),\n (170, 'Fox', 148, 'Cambrault'),\n (171, 'Smith', 148, 'Cambrault'),\n (172, 'Bates', 148, 'Cambrault'),\n (173, 'Kumar', 148, 'Cambrault'),\n (174, 'Abel', 149, 'Zlotkey'),\n (175, 'Hutton', 149, 'Zlotkey'),\n (176, 'Taylor', 149, 'Zlotkey'),\n (177, 'Livingston', 149, 'Zlotkey'),\n (178, 'Grant', 149, 'Zlotkey'),\n (179, 'Johnson', 149, 'Zlotkey'),\n (180, 'Taylor', 120, 'Weiss'),\n (181, 'Fleaur', 120, 'Weiss'),\n (182, 'Sullivan', 120, 'Weiss'),\n (183, 'Geoni', 120, 'Weiss'),\n (184, 'Sarchand', 121, 'Fripp'),\n (185, 'Bull', 121, 'Fripp'),\n (186, 'Dellinger', 121, 'Fripp'),\n (187, 'Cabrio', 121, 'Fripp'),\n (188, 'Chung', 122, 'Kaufling'),\n (189, 'Dilly', 122, 'Kaufling'),\n (190, 'Gates', 122, 'Kaufling'),\n (191, 'Perkins', 122, 'Kaufling'),\n (192, 'Bell', 123, 'Vollman'),\n (193, 'Everett', 123, 'Vollman'),\n (194, 'McCain', 123, 'Vollman'),\n (195, 'Jones', 123, 'Vollman'),\n (196, 'Walsh', 124, 'Mourgos'),\n (197, 'Feeney', 124, 'Mourgos'),\n (198, 'OConnell', 124, 'Mourgos'),\n (199, 'Grant', 124, 'Mourgos'),\n (200, 'Whalen', 101, 'Kochhar'),\n (201, 'Hartstein', 100, 'K_ing'),\n (202, 'Fay', 201, 'Hartstein'),\n (203, 'Mavris', 101, 'Kochhar'),\n (204, 'Baer', 101, 'Kochhar'),\n (205, 'Higgins', 101, 'Kochhar'),\n (206, 'Gietz', 205, 'Higgins'))"
     },
     "execution_count": 14,
     "metadata": {},
     "output_type": "execute_result"
    }
   ],
   "source": [
    "# 元组\n",
    "data"
   ],
   "metadata": {
    "collapsed": false,
    "pycharm": {
     "name": "#%%\n"
    }
   }
  },
  {
   "cell_type": "code",
   "execution_count": 15,
   "outputs": [
    {
     "data": {
      "text/plain": "['employee_id', 'last_name', 'employee_id', 'last_name']"
     },
     "execution_count": 15,
     "metadata": {},
     "output_type": "execute_result"
    }
   ],
   "source": [
    "# 列表\n",
    "columns"
   ],
   "metadata": {
    "collapsed": false,
    "pycharm": {
     "name": "#%%\n"
    }
   }
  },
  {
   "cell_type": "code",
   "execution_count": 16,
   "outputs": [
    {
     "data": {
      "text/plain": "     employee_id last_name  employee_id  last_name\n0            101   Kochhar          100      K_ing\n1            102   De Haan          100      K_ing\n2            103    Hunold          102    De Haan\n3            104     Ernst          103     Hunold\n4            105    Austin          103     Hunold\n..           ...       ...          ...        ...\n101          202       Fay          201  Hartstein\n102          203    Mavris          101    Kochhar\n103          204      Baer          101    Kochhar\n104          205   Higgins          101    Kochhar\n105          206     Gietz          205    Higgins\n\n[106 rows x 4 columns]",
      "text/html": "<div>\n<style scoped>\n    .dataframe tbody tr th:only-of-type {\n        vertical-align: middle;\n    }\n\n    .dataframe tbody tr th {\n        vertical-align: top;\n    }\n\n    .dataframe thead th {\n        text-align: right;\n    }\n</style>\n<table border=\"1\" class=\"dataframe\">\n  <thead>\n    <tr style=\"text-align: right;\">\n      <th></th>\n      <th>employee_id</th>\n      <th>last_name</th>\n      <th>employee_id</th>\n      <th>last_name</th>\n    </tr>\n  </thead>\n  <tbody>\n    <tr>\n      <th>0</th>\n      <td>101</td>\n      <td>Kochhar</td>\n      <td>100</td>\n      <td>K_ing</td>\n    </tr>\n    <tr>\n      <th>1</th>\n      <td>102</td>\n      <td>De Haan</td>\n      <td>100</td>\n      <td>K_ing</td>\n    </tr>\n    <tr>\n      <th>2</th>\n      <td>103</td>\n      <td>Hunold</td>\n      <td>102</td>\n      <td>De Haan</td>\n    </tr>\n    <tr>\n      <th>3</th>\n      <td>104</td>\n      <td>Ernst</td>\n      <td>103</td>\n      <td>Hunold</td>\n    </tr>\n    <tr>\n      <th>4</th>\n      <td>105</td>\n      <td>Austin</td>\n      <td>103</td>\n      <td>Hunold</td>\n    </tr>\n    <tr>\n      <th>...</th>\n      <td>...</td>\n      <td>...</td>\n      <td>...</td>\n      <td>...</td>\n    </tr>\n    <tr>\n      <th>101</th>\n      <td>202</td>\n      <td>Fay</td>\n      <td>201</td>\n      <td>Hartstein</td>\n    </tr>\n    <tr>\n      <th>102</th>\n      <td>203</td>\n      <td>Mavris</td>\n      <td>101</td>\n      <td>Kochhar</td>\n    </tr>\n    <tr>\n      <th>103</th>\n      <td>204</td>\n      <td>Baer</td>\n      <td>101</td>\n      <td>Kochhar</td>\n    </tr>\n    <tr>\n      <th>104</th>\n      <td>205</td>\n      <td>Higgins</td>\n      <td>101</td>\n      <td>Kochhar</td>\n    </tr>\n    <tr>\n      <th>105</th>\n      <td>206</td>\n      <td>Gietz</td>\n      <td>205</td>\n      <td>Higgins</td>\n    </tr>\n  </tbody>\n</table>\n<p>106 rows × 4 columns</p>\n</div>"
     },
     "execution_count": 16,
     "metadata": {},
     "output_type": "execute_result"
    }
   ],
   "source": [
    "pd.DataFrame(data, columns=columns)"
   ],
   "metadata": {
    "collapsed": false,
    "pycharm": {
     "name": "#%%\n"
    }
   }
  },
  {
   "cell_type": "code",
   "execution_count": 17,
   "outputs": [
    {
     "name": "stdout",
     "output_type": "stream",
     "text": [
      "数据更新失败: (1146, \"Table 'myemployees.book' doesn't exist\")\n"
     ]
    }
   ],
   "source": [
    "sql_insert = \"\"\"\n",
    "insert into book\n",
    "select 7, 'go', 50;\n",
    "\"\"\"\n",
    "\n",
    "try:\n",
    "    mysqldb.change_data(sql_insert)\n",
    "except pymysql.Error as e:\n",
    "    print(\"数据更新失败: \" + str(e))\n",
    "    # 发生错误时回滚\n",
    "    mysqldb.rollback()\n",
    "finally:\n",
    "    # 关闭数据库连接\n",
    "    mysqldb.close_con()"
   ],
   "metadata": {
    "collapsed": false,
    "pycharm": {
     "name": "#%%\n"
    }
   }
  }
 ],
 "metadata": {
  "kernelspec": {
   "display_name": "Python 3",
   "language": "python",
   "name": "python3"
  },
  "language_info": {
   "codemirror_mode": {
    "name": "ipython",
    "version": 2
   },
   "file_extension": ".py",
   "mimetype": "text/x-python",
   "name": "python",
   "nbconvert_exporter": "python",
   "pygments_lexer": "ipython2",
   "version": "2.7.6"
  }
 },
 "nbformat": 4,
 "nbformat_minor": 0
}