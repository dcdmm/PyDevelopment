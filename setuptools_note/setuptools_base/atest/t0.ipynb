{
 "cells": [
  {
   "cell_type": "code",
   "execution_count": 12,
   "metadata": {
    "collapsed": false,
    "ExecuteTime": {
     "end_time": "2023-12-11T03:10:20.227924400Z",
     "start_time": "2023-12-11T03:10:19.350643900Z"
    }
   },
   "outputs": [
    {
     "name": "stdout",
     "output_type": "stream",
     "text": [
      "Package                   Version\n",
      "------------------------- ------------\n",
      "anyio                     3.5.0\n",
      "argon2-cffi               21.3.0\n",
      "argon2-cffi-bindings      21.2.0\n",
      "arrow                     1.2.3\n",
      "asttokens                 2.0.5\n",
      "async-lru                 2.0.3\n",
      "attrs                     22.1.0\n",
      "Babel                     2.12.1\n",
      "backcall                  0.2.0\n",
      "beautifulsoup4            4.12.2\n",
      "bleach                    4.1.0\n",
      "blinker                   1.6.2\n",
      "build                     1.0.3\n",
      "certifi                   2023.7.22\n",
      "cffi                      1.15.1\n",
      "charset-normalizer        3.2.0\n",
      "click                     8.1.6\n",
      "colorama                  0.4.6\n",
      "comm                      0.1.2\n",
      "debugpy                   1.5.1\n",
      "decorator                 5.1.1\n",
      "defusedxml                0.7.1\n",
      "elasticsearch             7.11.0\n",
      "entrypoints               0.4\n",
      "exceptiongroup            1.1.2\n",
      "executing                 0.8.3\n",
      "fastjsonschema            2.16.2\n",
      "Flask                     2.3.2\n",
      "fqdn                      1.5.1\n",
      "idna                      3.4\n",
      "ipykernel                 6.19.2\n",
      "ipython                   8.12.0\n",
      "ipython-genutils          0.2.0\n",
      "ipywidgets                8.0.7\n",
      "isoduration               20.11.0\n",
      "itsdangerous              2.1.2\n",
      "jedi                      0.18.1\n",
      "Jinja2                    3.1.2\n",
      "joblib                    1.3.2\n",
      "json5                     0.9.14\n",
      "jsonlines                 3.1.0\n",
      "jsonpointer               2.4\n",
      "jsonschema                4.17.3\n",
      "jsonschema-specifications 2023.7.1\n",
      "jupyter                   1.0.0\n",
      "jupyter_client            8.1.0\n",
      "jupyter-console           6.6.3\n",
      "jupyter_core              5.3.0\n",
      "jupyter-events            0.6.3\n",
      "jupyter-lsp               2.2.0\n",
      "jupyter_server            2.5.0\n",
      "jupyter_server_terminals  0.4.4\n",
      "jupyterlab                4.0.3\n",
      "jupyterlab-pygments       0.1.2\n",
      "jupyterlab_server         2.24.0\n",
      "jupyterlab-widgets        3.0.8\n",
      "lxml                      4.9.2\n",
      "MarkupSafe                2.1.1\n",
      "matplotlib-inline         0.1.6\n",
      "mistune                   0.8.4\n",
      "nb-conda-kernels          2.3.1\n",
      "nbclassic                 0.5.5\n",
      "nbclient                  0.5.13\n",
      "nbconvert                 6.5.4\n",
      "nbformat                  5.7.0\n",
      "neo4j                     5.13.0\n",
      "nest-asyncio              1.5.6\n",
      "notebook                  6.5.4\n",
      "notebook_shim             0.2.2\n",
      "numpy                     1.26.2\n",
      "overrides                 7.3.1\n",
      "packaging                 23.0\n",
      "pandocfilters             1.5.0\n",
      "parso                     0.8.3\n",
      "pickleshare               0.7.5\n",
      "pip                       23.1.2\n",
      "platformdirs              2.5.2\n",
      "prometheus-client         0.14.1\n",
      "prompt-toolkit            3.0.36\n",
      "psutil                    5.9.0\n",
      "pure-eval                 0.2.2\n",
      "pycparser                 2.21\n",
      "Pygments                  2.15.1\n",
      "pyproject_hooks           1.0.0\n",
      "pyrsistent                0.18.0\n",
      "python-dateutil           2.8.2\n",
      "python-json-logger        2.0.7\n",
      "pytz                      2023.3.post1\n",
      "pywin32                   305.1\n",
      "pywinpty                  2.0.10\n",
      "PyYAML                    6.0.1\n",
      "pyzmq                     25.1.0\n",
      "qtconsole                 5.4.3\n",
      "QtPy                      2.3.1\n",
      "referencing               0.30.0\n",
      "requests                  2.31.0\n",
      "rfc3339-validator         0.1.4\n",
      "rfc3986-validator         0.1.1\n",
      "rpds-py                   0.9.2\n",
      "scikit-learn              1.3.2\n",
      "scipy                     1.11.4\n",
      "Send2Trash                1.8.0\n",
      "setuptools                69.0.2\n",
      "six                       1.16.0\n",
      "sniffio                   1.2.0\n",
      "soupsieve                 2.4.1\n",
      "stack-data                0.2.0\n",
      "terminado                 0.17.1\n",
      "threadpoolctl             3.2.0\n",
      "tinycss2                  1.2.1\n",
      "tomli                     2.0.1\n",
      "tornado                   6.2\n",
      "tqdm                      4.66.1\n",
      "traitlets                 5.7.1\n",
      "typing_extensions         4.6.3\n",
      "uri-template              1.3.0\n",
      "urllib3                   1.26.16\n",
      "wcwidth                   0.2.5\n",
      "webcolors                 1.13\n",
      "webencodings              0.5.1\n",
      "websocket-client          0.58.0\n",
      "Werkzeug                  2.3.6\n",
      "wheel                     0.38.4\n",
      "widgetsnbextension        4.0.8\n",
      "xyzqwer                   0.0.1\n"
     ]
    }
   ],
   "source": [
    "!pip list"
   ]
  },
  {
   "cell_type": "code",
   "execution_count": 13,
   "metadata": {
    "ExecuteTime": {
     "end_time": "2023-12-11T03:10:20.259325300Z",
     "start_time": "2023-12-11T03:10:20.227924400Z"
    }
   },
   "outputs": [
    {
     "name": "stdout",
     "output_type": "stream",
     "text": [
      "hello\n",
      "dcdmm\n"
     ]
    }
   ],
   "source": [
    "from mypackage.example_print import print_a_b  # mypackage包\n",
    "\n",
    "# test:ok\n",
    "print_a_b(\"hello\", \"dcdmm\")"
   ]
  },
  {
   "cell_type": "code",
   "execution_count": 14,
   "metadata": {
    "ExecuteTime": {
     "end_time": "2023-12-11T03:10:20.259325300Z",
     "start_time": "2023-12-11T03:10:20.244798700Z"
    }
   },
   "outputs": [
    {
     "name": "stdout",
     "output_type": "stream",
     "text": [
      "鱼的位置是 8 8\n",
      "🐟移动后的位置是 7 8\n",
      "金鱼的位置是 9 6\n",
      "🐟移动后的位置是 8 6\n",
      "鲨鱼0,hangry? True\n",
      "鲨鱼0: 9 1\n",
      "鲨鱼1,hangry? True\n",
      "鲨鱼1: 7 3\n",
      "鲨鱼2,hangry? True\n",
      "鲨鱼2: 7 4\n"
     ]
    }
   ],
   "source": [
    "from mypackage.fish import *  # mypackage包\n",
    "\n",
    "# test:ok\n",
    "\n",
    "fish = Fish()\n",
    "print('鱼的位置是', fish.x, fish.y)\n",
    "fish.move()\n",
    "\n",
    "goldfish = Goldfish()\n",
    "print('金鱼的位置是', goldfish.x, goldfish.y)\n",
    "goldfish.move()\n",
    "\n",
    "shark0 = Shark0()\n",
    "print('鲨鱼0,hangry?', shark0.hungry)\n",
    "# print('鲨鱼0', shark0.x,shark0.y) # 报错,'Shark0' object has no attribute 'x'\n",
    "\n",
    "Fish.__init__(shark0)\n",
    "print('鲨鱼0:', shark0.x, shark0.y)  # 通过这种方式shark拥有属性x,y\n",
    "\n",
    "shark1 = Shark1()\n",
    "print('鲨鱼1,hangry?', shark0.hungry)\n",
    "print('鲨鱼1:', shark1.x, shark1.y)  # shark1拥有属性x,y(与上本质上相同)\n",
    "\n",
    "shark2 = Shark2()\n",
    "print('鲨鱼2,hangry?', shark0.hungry)\n",
    "print('鲨鱼2:', shark2.x, shark2.y)  # shark2拥有属性x,y"
   ]
  },
  {
   "cell_type": "code",
   "execution_count": 15,
   "metadata": {
    "ExecuteTime": {
     "end_time": "2023-12-11T03:10:20.330843800Z",
     "start_time": "2023-12-11T03:10:20.260326600Z"
    }
   },
   "outputs": [
    {
     "data": {
      "text/plain": "3"
     },
     "execution_count": 15,
     "metadata": {},
     "output_type": "execute_result"
    }
   ],
   "source": [
    "from mypackage.mp0.custom_ao import c_add  # mypackage目录下的mp0包\n",
    "\n",
    "c_add(1, 2)"
   ]
  },
  {
   "cell_type": "code",
   "execution_count": 16,
   "metadata": {
    "ExecuteTime": {
     "end_time": "2023-12-11T03:10:20.331887700Z",
     "start_time": "2023-12-11T03:10:20.274957600Z"
    }
   },
   "outputs": [
    {
     "ename": "ModuleNotFoundError",
     "evalue": "No module named 'mypackage.my1'",
     "output_type": "error",
     "traceback": [
      "\u001B[1;31m---------------------------------------------------------------------------\u001B[0m",
      "\u001B[1;31mModuleNotFoundError\u001B[0m                       Traceback (most recent call last)",
      "Cell \u001B[1;32mIn[16], line 1\u001B[0m\n\u001B[1;32m----> 1\u001B[0m \u001B[38;5;28;01mfrom\u001B[39;00m \u001B[38;5;21;01mmypackage\u001B[39;00m\u001B[38;5;21;01m.\u001B[39;00m\u001B[38;5;21;01mmy1\u001B[39;00m\u001B[38;5;21;01m.\u001B[39;00m\u001B[38;5;21;01mcustom_ao\u001B[39;00m \u001B[38;5;28;01mimport\u001B[39;00m c_multi  \u001B[38;5;66;03m# mypackage目录下的my1包未安装\u001B[39;00m\n\u001B[0;32m      3\u001B[0m c_multi(\u001B[38;5;241m2\u001B[39m, \u001B[38;5;241m3\u001B[39m)\n",
      "\u001B[1;31mModuleNotFoundError\u001B[0m: No module named 'mypackage.my1'"
     ]
    }
   ],
   "source": [
    "from mypackage.my1.custom_ao import c_multi  # mypackage目录下的my1包未安装\n",
    "\n",
    "c_multi(2, 3)"
   ]
  },
  {
   "cell_type": "code",
   "execution_count": 17,
   "metadata": {
    "ExecuteTime": {
     "end_time": "2023-12-11T03:10:33.484354400Z",
     "start_time": "2023-12-11T03:10:33.477178700Z"
    }
   },
   "outputs": [
    {
     "name": "stdout",
     "output_type": "stream",
     "text": [
      "hello python\n",
      "hello c++\n",
      "hello rust\n"
     ]
    }
   ],
   "source": [
    "from mypackage1.hello import ph  # mypackage1包\n",
    "\n",
    "ph()"
   ]
  },
  {
   "cell_type": "code",
   "execution_count": null,
   "outputs": [],
   "source": [],
   "metadata": {
    "collapsed": false,
    "ExecuteTime": {
     "start_time": "2023-12-11T03:10:20.291414700Z"
    }
   }
  }
 ],
 "metadata": {
  "kernelspec": {
   "display_name": "Python 3.9.7 ('base')",
   "language": "python",
   "name": "python3"
  },
  "language_info": {
   "codemirror_mode": {
    "name": "ipython",
    "version": 3
   },
   "file_extension": ".py",
   "mimetype": "text/x-python",
   "name": "python",
   "nbconvert_exporter": "python",
   "pygments_lexer": "ipython3",
   "version": "3.10.12"
  },
  "orig_nbformat": 4,
  "vscode": {
   "interpreter": {
    "hash": "f0f00f8362c5a3720da2ab726d268bea0510b30405e73c37028dca2c1c343753"
   }
  }
 },
 "nbformat": 4,
 "nbformat_minor": 2
}
